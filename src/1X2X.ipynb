{
 "cells": [
  {
   "cell_type": "code",
   "execution_count": 1,
   "metadata": {
    "collapsed": true
   },
   "outputs": [],
   "source": [
    "%matplotlib inline"
   ]
  },
  {
   "cell_type": "code",
   "execution_count": 61,
   "metadata": {
    "collapsed": true
   },
   "outputs": [],
   "source": [
    "import numpy as np\n",
    "import matplotlib.pyplot as plt\n",
    "import sympy as sym"
   ]
  },
  {
   "cell_type": "code",
   "execution_count": 3,
   "metadata": {
    "collapsed": false
   },
   "outputs": [],
   "source": [
    "class S(sym.Function):\n",
    "    \"\"\"Matching function\"\"\"\n",
    "    \n",
    "    is_real = True\n",
    "    \n",
    "    @classmethod\n",
    "    def eval(cls, x):\n",
    "        \"\"\"We require the S(0)=0 and S(1)=1\"\"\"\n",
    "        if x.is_Number and x is sym.S.Zero:\n",
    "            return sym.S.Zero\n",
    "        elif x.is_Number and x is sym.S.One:\n",
    "            return sym.S.One\n"
   ]
  },
  {
   "cell_type": "markdown",
   "metadata": {},
   "source": [
    "\\begin{align}\n",
    "    E \\equiv& \\frac{1}{2}\\Pi_{aa}^2 - \\frac{1}{4}\\Pi_{Aa}\\Pi_{aa}S'(f) - \\frac{1}{4}\\Pi_{aA}\\Pi_{aa}S'(f) > 0\\\\\n",
    "    &\\iff 2\\Pi_{aa}^2 - \\Pi_{aa}\\big(\\Pi_{Aa} + \\Pi_{aA}\\big)S'(f) > 0 \\\\\n",
    "    &\\iff 2\\Pi_{aa} - \\big(\\Pi_{Aa} + \\Pi_{aA}\\big)S'(f) > 0 \\\\\n",
    "    &\\iff S'(f) < \\frac{2\\Pi_{aa}}{\\Pi_{Aa} + \\Pi_{aA}}\n",
    "\\end{align}"
   ]
  },
  {
   "cell_type": "markdown",
   "metadata": {},
   "source": [
    "# 1X1X model"
   ]
  },
  {
   "cell_type": "code",
   "execution_count": 12,
   "metadata": {
    "collapsed": false
   },
   "outputs": [],
   "source": [
    "x = sym.symbols('x')\n",
    "\n",
    "rhs = f_dot(x, x, S, PiaA, PiAA, Piaa, PiAa)"
   ]
  },
  {
   "cell_type": "markdown",
   "metadata": {},
   "source": [
    "### Characterizing equilibria\n",
    "\n",
    "First, note that both $x^*=0$ and $x^*=1$ are equilibria..."
   ]
  },
  {
   "cell_type": "code",
   "execution_count": 46,
   "metadata": {
    "collapsed": false
   },
   "outputs": [
    {
     "data": {
      "text/plain": [
       "0"
      ]
     },
     "execution_count": 46,
     "metadata": {},
     "output_type": "execute_result"
    }
   ],
   "source": [
    "rhs.subs({x: 0})"
   ]
  },
  {
   "cell_type": "code",
   "execution_count": 47,
   "metadata": {
    "collapsed": false
   },
   "outputs": [
    {
     "data": {
      "text/plain": [
       "0"
      ]
     },
     "execution_count": 47,
     "metadata": {},
     "output_type": "execute_result"
    }
   ],
   "source": [
    "rhs.subs({x: 1})"
   ]
  },
  {
   "cell_type": "markdown",
   "metadata": {},
   "source": [
    "...what about the possibility of interior equilibria? Well any equilibria $x^*$ solves..."
   ]
  },
  {
   "cell_type": "code",
   "execution_count": 48,
   "metadata": {
    "collapsed": false
   },
   "outputs": [
    {
     "data": {
      "text/plain": [
       "-x + (0.5*PiAa*S(x) + 0.5*PiaA*x + x*(PiAA - 0.5*PiAa - 0.5*PiaA)*S(x))/(Piaa + x*(PiaA - Piaa) + x*(PiAA - PiAa - PiaA + Piaa)*S(x) + (PiAa - Piaa)*S(x))"
      ]
     },
     "execution_count": 48,
     "metadata": {},
     "output_type": "execute_result"
    }
   ],
   "source": [
    "rhs"
   ]
  },
  {
   "cell_type": "code",
   "execution_count": 50,
   "metadata": {
    "collapsed": true
   },
   "outputs": [],
   "source": [
    "# can divide rhs into numerator and denominator...\n",
    "numer, denom = sym.fraction(rhs.simplify())"
   ]
  },
  {
   "cell_type": "code",
   "execution_count": 51,
   "metadata": {
    "collapsed": false
   },
   "outputs": [
    {
     "data": {
      "text/plain": [
       "-1.0*(1.0*PiAA*x**2*S(x) - 1.0*PiAA*x*S(x) - 1.0*PiAa*x**2*S(x) + 1.5*PiAa*x*S(x) - 0.5*PiAa*S(x) - 1.0*PiaA*x**2*S(x) + 1.0*PiaA*x**2 + 0.5*PiaA*x*S(x) - 0.5*PiaA*x + 1.0*Piaa*x**2*S(x) - 1.0*Piaa*x**2 - 1.0*Piaa*x*S(x) + 1.0*Piaa*x)"
      ]
     },
     "execution_count": 51,
     "metadata": {},
     "output_type": "execute_result"
    }
   ],
   "source": [
    "# ...equilibria must solve numerator of rhs\n",
    "numer.factor()"
   ]
  },
  {
   "cell_type": "markdown",
   "metadata": {},
   "source": [
    "### Characterizing stability"
   ]
  },
  {
   "cell_type": "code",
   "execution_count": 28,
   "metadata": {
    "collapsed": true
   },
   "outputs": [],
   "source": [
    "rhs_jac = rhs.diff(x)"
   ]
  },
  {
   "cell_type": "markdown",
   "metadata": {},
   "source": [
    "First, decompose jacobian into numerator and denominator..."
   ]
  },
  {
   "cell_type": "code",
   "execution_count": 31,
   "metadata": {
    "collapsed": false
   },
   "outputs": [],
   "source": [
    "numer, denom = sym.fraction(rhs_jac.simplify())"
   ]
  },
  {
   "cell_type": "markdown",
   "metadata": {},
   "source": [
    "...note that denominator is always positive..."
   ]
  },
  {
   "cell_type": "code",
   "execution_count": 33,
   "metadata": {
    "collapsed": false
   },
   "outputs": [
    {
     "data": {
      "text/plain": [
       "(Piaa + x*(PiaA - Piaa) + x*(PiAA - PiAa - PiaA + Piaa)*S(x) + (PiAa - Piaa)*S(x))**2"
      ]
     },
     "execution_count": 33,
     "metadata": {},
     "output_type": "execute_result"
    }
   ],
   "source": [
    "denom"
   ]
  },
  {
   "cell_type": "markdown",
   "metadata": {},
   "source": [
    "...and therefore sign of Jacobian is entirely determined by the sign of the numerator..."
   ]
  },
  {
   "cell_type": "code",
   "execution_count": 43,
   "metadata": {
    "collapsed": false
   },
   "outputs": [
    {
     "data": {
      "text/plain": [
       "-(0.5*PiAa*S(x) + 0.5*PiaA*x - x*(-PiAA + 0.5*PiAa + 0.5*PiaA)*S(x))*(PiaA - Piaa + x*(PiAA - PiAa - PiaA + Piaa)*Derivative(S(x), x) + (PiAa - Piaa)*Derivative(S(x), x) + (PiAA - PiAa - PiaA + Piaa)*S(x)) - (Piaa + x*(PiaA - Piaa) + x*(PiAA - PiAa - PiaA + Piaa)*S(x) + (PiAa - Piaa)*S(x))**2 + (Piaa + x*(PiaA - Piaa) + x*(PiAA - PiAa - PiaA + Piaa)*S(x) + (PiAa - Piaa)*S(x))*(0.5*PiAa*Derivative(S(x), x) + 0.5*PiaA - x*(-PiAA + 0.5*PiAa + 0.5*PiaA)*Derivative(S(x), x) - (-PiAA + 0.5*PiAa + 0.5*PiaA)*S(x))"
      ]
     },
     "execution_count": 43,
     "metadata": {},
     "output_type": "execute_result"
    }
   ],
   "source": [
    "numer"
   ]
  },
  {
   "cell_type": "code",
   "execution_count": 41,
   "metadata": {
    "collapsed": false
   },
   "outputs": [
    {
     "ename": "PolynomialError",
     "evalue": "S(x) contains an element of the generators set",
     "output_type": "error",
     "traceback": [
      "\u001b[0;31m---------------------------------------------------------------------------\u001b[0m",
      "\u001b[0;31mKeyError\u001b[0m                                  Traceback (most recent call last)",
      "\u001b[0;32m/Users/drpugh/anaconda/lib/python3.4/site-packages/sympy/polys/polyutils.py\u001b[0m in \u001b[0;36m_parallel_dict_from_expr_if_gens\u001b[0;34m(exprs, opt)\u001b[0m\n\u001b[1;32m    170\u001b[0m \u001b[0;34m\u001b[0m\u001b[0m\n\u001b[0;32m--> 171\u001b[0;31m                         \u001b[0mmonom\u001b[0m\u001b[0;34m[\u001b[0m\u001b[0mindices\u001b[0m\u001b[0;34m[\u001b[0m\u001b[0mbase\u001b[0m\u001b[0;34m]\u001b[0m\u001b[0;34m]\u001b[0m \u001b[0;34m=\u001b[0m \u001b[0mexp\u001b[0m\u001b[0;34m\u001b[0m\u001b[0m\n\u001b[0m\u001b[1;32m    172\u001b[0m                     \u001b[0;32mexcept\u001b[0m \u001b[0mKeyError\u001b[0m\u001b[0;34m:\u001b[0m\u001b[0;34m\u001b[0m\u001b[0m\n",
      "\u001b[0;31mKeyError\u001b[0m: S(x)",
      "\nDuring handling of the above exception, another exception occurred:\n",
      "\u001b[0;31mPolynomialError\u001b[0m                           Traceback (most recent call last)",
      "\u001b[0;32m<ipython-input-41-231ea37981d8>\u001b[0m in \u001b[0;36m<module>\u001b[0;34m()\u001b[0m\n\u001b[0;32m----> 1\u001b[0;31m \u001b[0msym\u001b[0m\u001b[0;34m.\u001b[0m\u001b[0mpoly\u001b[0m\u001b[0;34m(\u001b[0m\u001b[0mnumer\u001b[0m\u001b[0;34m.\u001b[0m\u001b[0mfactor\u001b[0m\u001b[0;34m(\u001b[0m\u001b[0;34m)\u001b[0m\u001b[0;34m,\u001b[0m \u001b[0mx\u001b[0m\u001b[0;34m)\u001b[0m\u001b[0;34m.\u001b[0m\u001b[0mall_coeffs\u001b[0m\u001b[0;34m(\u001b[0m\u001b[0;34m)\u001b[0m\u001b[0;34m\u001b[0m\u001b[0m\n\u001b[0m",
      "\u001b[0;32m/Users/drpugh/anaconda/lib/python3.4/site-packages/sympy/polys/polytools.py\u001b[0m in \u001b[0;36mpoly\u001b[0;34m(expr, *gens, **args)\u001b[0m\n\u001b[1;32m   6752\u001b[0m     \u001b[0mopt\u001b[0m \u001b[0;34m=\u001b[0m \u001b[0moptions\u001b[0m\u001b[0;34m.\u001b[0m\u001b[0mbuild_options\u001b[0m\u001b[0;34m(\u001b[0m\u001b[0mgens\u001b[0m\u001b[0;34m,\u001b[0m \u001b[0margs\u001b[0m\u001b[0;34m)\u001b[0m\u001b[0;34m\u001b[0m\u001b[0m\n\u001b[1;32m   6753\u001b[0m \u001b[0;34m\u001b[0m\u001b[0m\n\u001b[0;32m-> 6754\u001b[0;31m     \u001b[0;32mreturn\u001b[0m \u001b[0m_poly\u001b[0m\u001b[0;34m(\u001b[0m\u001b[0mexpr\u001b[0m\u001b[0;34m,\u001b[0m \u001b[0mopt\u001b[0m\u001b[0;34m)\u001b[0m\u001b[0;34m\u001b[0m\u001b[0m\n\u001b[0m\u001b[1;32m   6755\u001b[0m \u001b[0;34m\u001b[0m\u001b[0m\n\u001b[1;32m   6756\u001b[0m \u001b[0;32mfrom\u001b[0m \u001b[0msympy\u001b[0m\u001b[0;34m.\u001b[0m\u001b[0mfunctions\u001b[0m \u001b[0;32mimport\u001b[0m \u001b[0mPiecewise\u001b[0m\u001b[0;34m\u001b[0m\u001b[0m\n",
      "\u001b[0;32m/Users/drpugh/anaconda/lib/python3.4/site-packages/sympy/polys/polytools.py\u001b[0m in \u001b[0;36m_poly\u001b[0;34m(expr, opt)\u001b[0m\n\u001b[1;32m   6699\u001b[0m             \u001b[0;32mfor\u001b[0m \u001b[0mfactor\u001b[0m \u001b[0;32min\u001b[0m \u001b[0mMul\u001b[0m\u001b[0;34m.\u001b[0m\u001b[0mmake_args\u001b[0m\u001b[0;34m(\u001b[0m\u001b[0mterm\u001b[0m\u001b[0;34m)\u001b[0m\u001b[0;34m:\u001b[0m\u001b[0;34m\u001b[0m\u001b[0m\n\u001b[1;32m   6700\u001b[0m                 \u001b[0;32mif\u001b[0m \u001b[0mfactor\u001b[0m\u001b[0;34m.\u001b[0m\u001b[0mis_Add\u001b[0m\u001b[0;34m:\u001b[0m\u001b[0;34m\u001b[0m\u001b[0m\n\u001b[0;32m-> 6701\u001b[0;31m                     \u001b[0mpoly_factors\u001b[0m\u001b[0;34m.\u001b[0m\u001b[0mappend\u001b[0m\u001b[0;34m(\u001b[0m\u001b[0m_poly\u001b[0m\u001b[0;34m(\u001b[0m\u001b[0mfactor\u001b[0m\u001b[0;34m,\u001b[0m \u001b[0mopt\u001b[0m\u001b[0;34m)\u001b[0m\u001b[0;34m)\u001b[0m\u001b[0;34m\u001b[0m\u001b[0m\n\u001b[0m\u001b[1;32m   6702\u001b[0m                 \u001b[0;32melif\u001b[0m \u001b[0mfactor\u001b[0m\u001b[0;34m.\u001b[0m\u001b[0mis_Pow\u001b[0m \u001b[0;32mand\u001b[0m \u001b[0mfactor\u001b[0m\u001b[0;34m.\u001b[0m\u001b[0mbase\u001b[0m\u001b[0;34m.\u001b[0m\u001b[0mis_Add\u001b[0m \u001b[0;32mand\u001b[0m \u001b[0mfactor\u001b[0m\u001b[0;34m.\u001b[0m\u001b[0mexp\u001b[0m\u001b[0;34m.\u001b[0m\u001b[0mis_Integer\u001b[0m\u001b[0;34m:\u001b[0m\u001b[0;34m\u001b[0m\u001b[0m\n\u001b[1;32m   6703\u001b[0m                     poly_factors.append(\n",
      "\u001b[0;32m/Users/drpugh/anaconda/lib/python3.4/site-packages/sympy/polys/polytools.py\u001b[0m in \u001b[0;36m_poly\u001b[0;34m(expr, opt)\u001b[0m\n\u001b[1;32m   6725\u001b[0m \u001b[0;34m\u001b[0m\u001b[0m\n\u001b[1;32m   6726\u001b[0m         \u001b[0;32mif\u001b[0m \u001b[0;32mnot\u001b[0m \u001b[0mpoly_terms\u001b[0m\u001b[0;34m:\u001b[0m\u001b[0;34m\u001b[0m\u001b[0m\n\u001b[0;32m-> 6727\u001b[0;31m             \u001b[0mresult\u001b[0m \u001b[0;34m=\u001b[0m \u001b[0mPoly\u001b[0m\u001b[0;34m.\u001b[0m\u001b[0m_from_expr\u001b[0m\u001b[0;34m(\u001b[0m\u001b[0mexpr\u001b[0m\u001b[0;34m,\u001b[0m \u001b[0mopt\u001b[0m\u001b[0;34m)\u001b[0m\u001b[0;34m\u001b[0m\u001b[0m\n\u001b[0m\u001b[1;32m   6728\u001b[0m         \u001b[0;32melse\u001b[0m\u001b[0;34m:\u001b[0m\u001b[0;34m\u001b[0m\u001b[0m\n\u001b[1;32m   6729\u001b[0m             \u001b[0mresult\u001b[0m \u001b[0;34m=\u001b[0m \u001b[0mpoly_terms\u001b[0m\u001b[0;34m[\u001b[0m\u001b[0;36m0\u001b[0m\u001b[0;34m]\u001b[0m\u001b[0;34m\u001b[0m\u001b[0m\n",
      "\u001b[0;32m/Users/drpugh/anaconda/lib/python3.4/site-packages/sympy/polys/polytools.py\u001b[0m in \u001b[0;36m_from_expr\u001b[0;34m(cls, rep, opt)\u001b[0m\n\u001b[1;32m    196\u001b[0m     \u001b[0;32mdef\u001b[0m \u001b[0m_from_expr\u001b[0m\u001b[0;34m(\u001b[0m\u001b[0mcls\u001b[0m\u001b[0;34m,\u001b[0m \u001b[0mrep\u001b[0m\u001b[0;34m,\u001b[0m \u001b[0mopt\u001b[0m\u001b[0;34m)\u001b[0m\u001b[0;34m:\u001b[0m\u001b[0;34m\u001b[0m\u001b[0m\n\u001b[1;32m    197\u001b[0m         \u001b[0;34m\"\"\"Construct a polynomial from an expression. \"\"\"\u001b[0m\u001b[0;34m\u001b[0m\u001b[0m\n\u001b[0;32m--> 198\u001b[0;31m         \u001b[0mrep\u001b[0m\u001b[0;34m,\u001b[0m \u001b[0mopt\u001b[0m \u001b[0;34m=\u001b[0m \u001b[0m_dict_from_expr\u001b[0m\u001b[0;34m(\u001b[0m\u001b[0mrep\u001b[0m\u001b[0;34m,\u001b[0m \u001b[0mopt\u001b[0m\u001b[0;34m)\u001b[0m\u001b[0;34m\u001b[0m\u001b[0m\n\u001b[0m\u001b[1;32m    199\u001b[0m         \u001b[0;32mreturn\u001b[0m \u001b[0mcls\u001b[0m\u001b[0;34m.\u001b[0m\u001b[0m_from_dict\u001b[0m\u001b[0;34m(\u001b[0m\u001b[0mrep\u001b[0m\u001b[0;34m,\u001b[0m \u001b[0mopt\u001b[0m\u001b[0;34m)\u001b[0m\u001b[0;34m\u001b[0m\u001b[0m\n\u001b[1;32m    200\u001b[0m \u001b[0;34m\u001b[0m\u001b[0m\n",
      "\u001b[0;32m/Users/drpugh/anaconda/lib/python3.4/site-packages/sympy/polys/polyutils.py\u001b[0m in \u001b[0;36m_dict_from_expr\u001b[0;34m(expr, opt)\u001b[0m\n\u001b[1;32m    328\u001b[0m \u001b[0;34m\u001b[0m\u001b[0m\n\u001b[1;32m    329\u001b[0m     \u001b[0;32mif\u001b[0m \u001b[0mopt\u001b[0m\u001b[0;34m.\u001b[0m\u001b[0mgens\u001b[0m\u001b[0;34m:\u001b[0m\u001b[0;34m\u001b[0m\u001b[0m\n\u001b[0;32m--> 330\u001b[0;31m         \u001b[0mrep\u001b[0m\u001b[0;34m,\u001b[0m \u001b[0mgens\u001b[0m \u001b[0;34m=\u001b[0m \u001b[0m_dict_from_expr_if_gens\u001b[0m\u001b[0;34m(\u001b[0m\u001b[0mexpr\u001b[0m\u001b[0;34m,\u001b[0m \u001b[0mopt\u001b[0m\u001b[0;34m)\u001b[0m\u001b[0;34m\u001b[0m\u001b[0m\n\u001b[0m\u001b[1;32m    331\u001b[0m     \u001b[0;32melse\u001b[0m\u001b[0;34m:\u001b[0m\u001b[0;34m\u001b[0m\u001b[0m\n\u001b[1;32m    332\u001b[0m         \u001b[0mrep\u001b[0m\u001b[0;34m,\u001b[0m \u001b[0mgens\u001b[0m \u001b[0;34m=\u001b[0m \u001b[0m_dict_from_expr_no_gens\u001b[0m\u001b[0;34m(\u001b[0m\u001b[0mexpr\u001b[0m\u001b[0;34m,\u001b[0m \u001b[0mopt\u001b[0m\u001b[0;34m)\u001b[0m\u001b[0;34m\u001b[0m\u001b[0m\n",
      "\u001b[0;32m/Users/drpugh/anaconda/lib/python3.4/site-packages/sympy/polys/polyutils.py\u001b[0m in \u001b[0;36m_dict_from_expr_if_gens\u001b[0;34m(expr, opt)\u001b[0m\n\u001b[1;32m    269\u001b[0m \u001b[0;32mdef\u001b[0m \u001b[0m_dict_from_expr_if_gens\u001b[0m\u001b[0;34m(\u001b[0m\u001b[0mexpr\u001b[0m\u001b[0;34m,\u001b[0m \u001b[0mopt\u001b[0m\u001b[0;34m)\u001b[0m\u001b[0;34m:\u001b[0m\u001b[0;34m\u001b[0m\u001b[0m\n\u001b[1;32m    270\u001b[0m     \u001b[0;34m\"\"\"Transform an expression into a multinomial form given generators. \"\"\"\u001b[0m\u001b[0;34m\u001b[0m\u001b[0m\n\u001b[0;32m--> 271\u001b[0;31m     \u001b[0;34m(\u001b[0m\u001b[0mpoly\u001b[0m\u001b[0;34m,\u001b[0m\u001b[0;34m)\u001b[0m\u001b[0;34m,\u001b[0m \u001b[0mgens\u001b[0m \u001b[0;34m=\u001b[0m \u001b[0m_parallel_dict_from_expr_if_gens\u001b[0m\u001b[0;34m(\u001b[0m\u001b[0;34m(\u001b[0m\u001b[0mexpr\u001b[0m\u001b[0;34m,\u001b[0m\u001b[0;34m)\u001b[0m\u001b[0;34m,\u001b[0m \u001b[0mopt\u001b[0m\u001b[0;34m)\u001b[0m\u001b[0;34m\u001b[0m\u001b[0m\n\u001b[0m\u001b[1;32m    272\u001b[0m     \u001b[0;32mreturn\u001b[0m \u001b[0mpoly\u001b[0m\u001b[0;34m,\u001b[0m \u001b[0mgens\u001b[0m\u001b[0;34m\u001b[0m\u001b[0m\n\u001b[1;32m    273\u001b[0m \u001b[0;34m\u001b[0m\u001b[0m\n",
      "\u001b[0;32m/Users/drpugh/anaconda/lib/python3.4/site-packages/sympy/polys/polyutils.py\u001b[0m in \u001b[0;36m_parallel_dict_from_expr_if_gens\u001b[0;34m(exprs, opt)\u001b[0m\n\u001b[1;32m    174\u001b[0m                             \u001b[0mcoeff\u001b[0m\u001b[0;34m.\u001b[0m\u001b[0mappend\u001b[0m\u001b[0;34m(\u001b[0m\u001b[0mfactor\u001b[0m\u001b[0;34m)\u001b[0m\u001b[0;34m\u001b[0m\u001b[0m\n\u001b[1;32m    175\u001b[0m                         \u001b[0;32melse\u001b[0m\u001b[0;34m:\u001b[0m\u001b[0;34m\u001b[0m\u001b[0m\n\u001b[0;32m--> 176\u001b[0;31m                             \u001b[0;32mraise\u001b[0m \u001b[0mPolynomialError\u001b[0m\u001b[0;34m(\u001b[0m\u001b[0;34m\"%s contains an element of the generators set\"\u001b[0m \u001b[0;34m%\u001b[0m \u001b[0mfactor\u001b[0m\u001b[0;34m)\u001b[0m\u001b[0;34m\u001b[0m\u001b[0m\n\u001b[0m\u001b[1;32m    177\u001b[0m \u001b[0;34m\u001b[0m\u001b[0m\n\u001b[1;32m    178\u001b[0m             \u001b[0mmonom\u001b[0m \u001b[0;34m=\u001b[0m \u001b[0mtuple\u001b[0m\u001b[0;34m(\u001b[0m\u001b[0mmonom\u001b[0m\u001b[0;34m)\u001b[0m\u001b[0;34m\u001b[0m\u001b[0m\n",
      "\u001b[0;31mPolynomialError\u001b[0m: S(x) contains an element of the generators set"
     ]
    }
   ],
   "source": [
    "sym.poly(numer.factor(), x).all_coeffs()"
   ]
  },
  {
   "cell_type": "code",
   "execution_count": null,
   "metadata": {
    "collapsed": true
   },
   "outputs": [],
   "source": []
  },
  {
   "cell_type": "code",
   "execution_count": 44,
   "metadata": {
    "collapsed": false
   },
   "outputs": [
    {
     "data": {
      "text/plain": [
       "-1 + (0.5*PiAa*Subs(Derivative(S(x), x), (x,), (0,)) + 0.5*PiaA)/Piaa"
      ]
     },
     "execution_count": 44,
     "metadata": {},
     "output_type": "execute_result"
    }
   ],
   "source": [
    "rhs_jac.subs({x: 0})"
   ]
  },
  {
   "cell_type": "markdown",
   "metadata": {},
   "source": [
    "Stability of the $x^*=0$ equilibrium requires that...\n",
    "\n",
    "$$ \\frac{\\partial \\dot{x}}{\\partial x}\\bigg|_{x=0} < 0$$\n",
    "\n",
    "..taking the derivative yields...\n",
    "\n",
    "\\begin{align}\n",
    "    \\frac{\\partial \\dot{x}}{\\partial x}\\bigg|_{x=0} \\equiv& -1 + \\frac{0.5\\Pi_{Aa}S'(0) + 0.5\\Pi_{aA}}{\\Pi_{aa}} < 0 \\\\\n",
    "    &\\frac{\\Pi_{Aa}S'(0) + \\Pi_{aA}}{2\\Pi_{aa}} < 1 \\\\\n",
    "    &\\Pi_{Aa}S'(0) + \\Pi_{aA} < 2\\Pi_{aa} \\\\\n",
    "    &\\Pi_{Aa}S'(0) < 2\\Pi_{aa} - \\Pi_{aA} \\\\\n",
    "    &S'(0) < \\frac{2\\Pi_{aa} - \\Pi_{aA}}{\\Pi_{Aa}} \\\\\n",
    "\\end{align}"
   ]
  },
  {
   "cell_type": "code",
   "execution_count": 45,
   "metadata": {
    "collapsed": false
   },
   "outputs": [
    {
     "data": {
      "text/plain": [
       "-1 + (-PiAA + PiAa - (PiAa - Piaa)*Subs(Derivative(S(x), x), (x,), (1,)) - (PiAA - PiAa - PiaA + Piaa)*Subs(Derivative(S(x), x), (x,), (1,)))/PiAA + (PiAA + 0.5*PiAa*Subs(Derivative(S(x), x), (x,), (1,)) - 0.5*PiAa + (PiAA - 0.5*PiAa - 0.5*PiaA)*Subs(Derivative(S(x), x), (x,), (1,)))/PiAA"
      ]
     },
     "execution_count": 45,
     "metadata": {},
     "output_type": "execute_result"
    }
   ],
   "source": [
    "rhs_jac.subs({x: 1})"
   ]
  },
  {
   "cell_type": "markdown",
   "metadata": {},
   "source": [
    "Stability of the $x^*=1$ equilibrium requires that...\n",
    "\n",
    "$$ \\frac{\\partial \\dot{x}}{\\partial x}\\bigg|_{x=1} < 0$$\n",
    "\n",
    "...taking the derivative yields...\n",
    "\n",
    "\\begin{align}\n",
    "    \\frac{\\partial \\dot{x}}{\\partial x}\\bigg|_{x=1} \\equiv& -1 + \\frac{-\\Pi_{AA} + \\Pi_{Aa} - (\\Pi_{Aa} - \\Pi_{aa})S'(1) - (\\Pi_{AA} - \\Pi_{Aa} - \\Pi_{aA} + \\Pi_{aa})S'(1)}{\\Pi_{AA}} + \\frac{\\Pi_{AA} + 0.5\\Pi_{Aa}S'(1) - 0.5\\Pi_{Aa} + (\\Pi_{AA} - 0.5\\Pi_{Aa} - 0.5\\Pi_{aA})S'(1)}{\\Pi_{AA}} < 0 \\\\\n",
    "    &\\frac{-\\Pi_{AA} + \\Pi_{Aa} - (\\Pi_{AA} - \\Pi_{aA})S'(1)}{\\Pi_{AA}} + \\frac{\\Pi_{AA}  - 0.5\\Pi_{Aa} + (\\Pi_{AA} - 0.5\\Pi_{aA})S'(1)}{\\Pi_{AA}} < 1 \\\\\n",
    "    &\\frac{\\Pi_{Aa} + \\Pi_{aA}S'(1)}{2\\Pi_{AA}} < 1 \\\\\n",
    "    &S'(1) < \\frac{2\\Pi_{AA} - \\Pi_{Aa}}{\\Pi_{aA}}\n",
    "\\end{align}"
   ]
  },
  {
   "cell_type": "markdown",
   "metadata": {},
   "source": [
    "# 1X2X model"
   ]
  },
  {
   "cell_type": "code",
   "execution_count": 4,
   "metadata": {
    "collapsed": true
   },
   "outputs": [],
   "source": [
    "def total_surviving_altruists(x, S, PiaA, PiAA, Piaa, PiAa):\n",
    "    num_survivors = (2 * PiAA * x * S(x)**2 +\n",
    "                     Piaa * x * (1 - S(x))**2 + \n",
    "                     (2 * PiAa + PiaA) * x * S(x) * (1 - S(x)) +\n",
    "                     PiAA * (1 - x) * S(x)**2 + \n",
    "                     PiAa * (1 - x) * S(x) * (1 - S(x)))\n",
    "    return num_survivors\n",
    "\n",
    "\n",
    "def total_altruists(x, S, PiaA, PiAA, Piaa, PiAa):\n",
    "    num_total = (2 * (PiAA * S(x)**2 + Piaa * (1 - S(x))**2 +\n",
    "                     (PiAa + PiaA) * S(x) * (1 - S(x))))\n",
    "    return num_total\n"
   ]
  },
  {
   "cell_type": "code",
   "execution_count": 5,
   "metadata": {
    "collapsed": true
   },
   "outputs": [],
   "source": [
    "def share_altruists(t, x, S, PiaA, PiAA, Piaa, PiAa):\n",
    "    x_dot = ((total_surviving_altruists(x, S, PiaA, PiAA, Piaa, PiAa) /\n",
    "              total_altruists(x, S, PiaA, PiAA, Piaa, PiAa)) - x)\n",
    "    return x_dot"
   ]
  },
  {
   "cell_type": "code",
   "execution_count": 6,
   "metadata": {
    "collapsed": false
   },
   "outputs": [
    {
     "data": {
      "text/plain": [
       "-x + (2*PiAA*x*S(x)**2 + PiAA*(-x + 1)*S(x)**2 + PiAa*(-x + 1)*(-S(x) + 1)*S(x) + Piaa*x*(-S(x) + 1)**2 + x*(2*PiAa + PiaA)*(-S(x) + 1)*S(x))/(2*PiAA*S(x)**2 + 2*Piaa*(-S(x) + 1)**2 + 2*(PiAa + PiaA)*(-S(x) + 1)*S(x))"
      ]
     },
     "execution_count": 6,
     "metadata": {},
     "output_type": "execute_result"
    }
   ],
   "source": [
    "t, x = sym.symbols('t, x')\n",
    "PiaA, PiAA, Piaa, PiAa = sym.symbols('PiaA, PiAA, Piaa, PiAa')\n",
    "\n",
    "share_altruists(t, x, S, PiaA, PiAA, Piaa, PiAa)"
   ]
  },
  {
   "cell_type": "code",
   "execution_count": 45,
   "metadata": {
    "collapsed": true
   },
   "outputs": [],
   "source": [
    "# unless I screwed up, x=0, 1 should both be fixed points!\n",
    "assert share_altruists(0, 0, S, PiaA, PiAA, Piaa, PiAa) == 0\n",
    "assert share_altruists(0, 1, S, PiaA, PiAA, Piaa, PiAa) == 0"
   ]
  },
  {
   "cell_type": "code",
   "execution_count": 23,
   "metadata": {
    "collapsed": false
   },
   "outputs": [],
   "source": [
    "x_star, S_star = sym.symbols('x_star, S_star')\n",
    "x_tilde, = sym.solve(share_altruists(t, x, S, PiaA, PiAA, Piaa, PiAa).subs({S(x): S_star}), x)"
   ]
  },
  {
   "cell_type": "code",
   "execution_count": 24,
   "metadata": {
    "collapsed": false
   },
   "outputs": [
    {
     "data": {
      "text/plain": [
       "S_star*(PiAA*S_star - PiAa*S_star + PiAa)/(PiAA*S_star**2 - PiAa*S_star**2 + PiAa*S_star - PiaA*S_star**2 + PiaA*S_star + Piaa*(S_star - 1)**2)"
      ]
     },
     "execution_count": 24,
     "metadata": {},
     "output_type": "execute_result"
    }
   ],
   "source": [
    "x_tilde"
   ]
  },
  {
   "cell_type": "code",
   "execution_count": 27,
   "metadata": {
    "collapsed": false
   },
   "outputs": [],
   "source": [
    "S_tilde, _ = sym.solve(x_star - x_tilde, S_star)"
   ]
  },
  {
   "cell_type": "code",
   "execution_count": 28,
   "metadata": {
    "collapsed": false
   },
   "outputs": [
    {
     "data": {
      "text/plain": [
       "(-PiAa*x_star/2 + PiAa/2 - PiaA*x_star/2 + Piaa*x_star - sqrt(-4*PiAA*Piaa*x_star**2 + 4*PiAA*Piaa*x_star + PiAa**2*x_star**2 - 2*PiAa**2*x_star + PiAa**2 + 2*PiAa*PiaA*x_star**2 - 2*PiAa*PiaA*x_star + PiaA**2*x_star**2)/2)/(PiAA*x_star - PiAA - PiAa*x_star + PiAa - PiaA*x_star + Piaa*x_star)"
      ]
     },
     "execution_count": 28,
     "metadata": {},
     "output_type": "execute_result"
    }
   ],
   "source": [
    "S_tilde.simplify()"
   ]
  },
  {
   "cell_type": "code",
   "execution_count": 30,
   "metadata": {
    "collapsed": false
   },
   "outputs": [
    {
     "data": {
      "text/plain": [
       "0.500000000000000"
      ]
     },
     "execution_count": 30,
     "metadata": {},
     "output_type": "execute_result"
    }
   ],
   "source": [
    "S_tilde.subs({PiaA: 4, PiAA: 3, Piaa: 2, PiAa: 1, x_star: 0.4})"
   ]
  },
  {
   "cell_type": "markdown",
   "metadata": {},
   "source": [
    "## Stability"
   ]
  },
  {
   "cell_type": "code",
   "execution_count": 31,
   "metadata": {
    "collapsed": false
   },
   "outputs": [],
   "source": [
    "rhs_jac = share_altruists(t, x, S, PiaA, PiAA, Piaa, PiAa).diff(x, 1)"
   ]
  },
  {
   "cell_type": "code",
   "execution_count": 32,
   "metadata": {
    "collapsed": false
   },
   "outputs": [
    {
     "data": {
      "text/plain": [
       "-1 + (4*PiAA*x*S(x)*Derivative(S(x), x) + 2*PiAA*(-x + 1)*S(x)*Derivative(S(x), x) + PiAA*S(x)**2 + PiAa*(-x + 1)*(-S(x) + 1)*Derivative(S(x), x) - PiAa*(-x + 1)*S(x)*Derivative(S(x), x) - PiAa*(-S(x) + 1)*S(x) - 2*Piaa*x*(-S(x) + 1)*Derivative(S(x), x) + Piaa*(-S(x) + 1)**2 + x*(2*PiAa + PiaA)*(-S(x) + 1)*Derivative(S(x), x) - x*(2*PiAa + PiaA)*S(x)*Derivative(S(x), x) + (2*PiAa + PiaA)*(-S(x) + 1)*S(x))/(2*PiAA*S(x)**2 + 2*Piaa*(-S(x) + 1)**2 + 2*(PiAa + PiaA)*(-S(x) + 1)*S(x)) + (-4*PiAA*S(x)*Derivative(S(x), x) + 4*Piaa*(-S(x) + 1)*Derivative(S(x), x) - 2*(PiAa + PiaA)*(-S(x) + 1)*Derivative(S(x), x) + 2*(PiAa + PiaA)*S(x)*Derivative(S(x), x))*(2*PiAA*x*S(x)**2 + PiAA*(-x + 1)*S(x)**2 + PiAa*(-x + 1)*(-S(x) + 1)*S(x) + Piaa*x*(-S(x) + 1)**2 + x*(2*PiAa + PiaA)*(-S(x) + 1)*S(x))/(2*PiAA*S(x)**2 + 2*Piaa*(-S(x) + 1)**2 + 2*(PiAa + PiaA)*(-S(x) + 1)*S(x))**2"
      ]
     },
     "execution_count": 32,
     "metadata": {},
     "output_type": "execute_result"
    }
   ],
   "source": [
    "rhs_jac"
   ]
  },
  {
   "cell_type": "code",
   "execution_count": 58,
   "metadata": {
    "collapsed": false
   },
   "outputs": [
    {
     "data": {
      "text/plain": [
       "(4*PiAA*x*S(x)*Derivative(S(x), x) + 2*PiAA*(-x + 1)*S(x)*Derivative(S(x), x) + PiAA*S(x)**2 + PiAa*(-x + 1)*(-S(x) + 1)*Derivative(S(x), x) - PiAa*(-x + 1)*S(x)*Derivative(S(x), x) - PiAa*(-S(x) + 1)*S(x) - 2*Piaa*x*(-S(x) + 1)*Derivative(S(x), x) + Piaa*(-S(x) + 1)**2 + x*(2*PiAa + PiaA)*(-S(x) + 1)*Derivative(S(x), x) - x*(2*PiAa + PiaA)*S(x)*Derivative(S(x), x) + (2*PiAa + PiaA)*(-S(x) + 1)*S(x))/(2*PiAA*S(x)**2 + 2*Piaa*(-S(x) + 1)**2 + 2*(PiAa + PiaA)*(-S(x) + 1)*S(x)) + (-4*PiAA*S(x)*Derivative(S(x), x) + 4*Piaa*(-S(x) + 1)*Derivative(S(x), x) - 2*(PiAa + PiaA)*(-S(x) + 1)*Derivative(S(x), x) + 2*(PiAa + PiaA)*S(x)*Derivative(S(x), x))*(2*PiAA*x*S(x)**2 + PiAA*(-x + 1)*S(x)**2 + PiAa*(-x + 1)*(-S(x) + 1)*S(x) + Piaa*x*(-S(x) + 1)**2 + x*(2*PiAa + PiaA)*(-S(x) + 1)*S(x))/(2*PiAA*S(x)**2 + 2*Piaa*(-S(x) + 1)**2 + 2*(PiAa + PiaA)*(-S(x) + 1)*S(x))**2"
      ]
     },
     "execution_count": 58,
     "metadata": {},
     "output_type": "execute_result"
    }
   ],
   "source": [
    "rhs_jac + 1"
   ]
  },
  {
   "cell_type": "code",
   "execution_count": 55,
   "metadata": {
    "collapsed": false
   },
   "outputs": [
    {
     "data": {
      "text/plain": [
       "((PiAA*S(x)**2 + Piaa*(S(x) - 1)**2 - (PiAa + PiaA)*(S(x) - 1)*S(x))*(4*PiAA*x*S(x)*Derivative(S(x), x) - 2*PiAA*(x - 1)*S(x)*Derivative(S(x), x) + PiAA*S(x)**2 + PiAa*(x - 1)*(S(x) - 1)*Derivative(S(x), x) + PiAa*(x - 1)*S(x)*Derivative(S(x), x) + PiAa*(S(x) - 1)*S(x) + 2*Piaa*x*(S(x) - 1)*Derivative(S(x), x) + Piaa*(S(x) - 1)**2 - x*(2*PiAa + PiaA)*(S(x) - 1)*Derivative(S(x), x) - x*(2*PiAa + PiaA)*S(x)*Derivative(S(x), x) - (2*PiAa + PiaA)*(S(x) - 1)*S(x)) - (2*PiAA*S(x) + 2*Piaa*(S(x) - 1) - (PiAa + PiaA)*(S(x) - 1) - (PiAa + PiaA)*S(x))*(2*PiAA*x*S(x)**2 - PiAA*(x - 1)*S(x)**2 + PiAa*(x - 1)*(S(x) - 1)*S(x) + Piaa*x*(S(x) - 1)**2 - x*(2*PiAa + PiaA)*(S(x) - 1)*S(x))*Derivative(S(x), x))/(2*(PiAA*S(x)**2 + Piaa*(S(x) - 1)**2 - (PiAa + PiaA)*(S(x) - 1)*S(x))**2)"
      ]
     },
     "execution_count": 55,
     "metadata": {},
     "output_type": "execute_result"
    }
   ],
   "source": [
    "numer.simplify()"
   ]
  },
  {
   "cell_type": "markdown",
   "metadata": {},
   "source": [
    "### $x=1$..."
   ]
  },
  {
   "cell_type": "code",
   "execution_count": 33,
   "metadata": {
    "collapsed": false
   },
   "outputs": [
    {
     "data": {
      "text/plain": [
       "-1 + (-4*PiAA*Subs(Derivative(S(x), x), (x,), (1,)) + 2*(PiAa + PiaA)*Subs(Derivative(S(x), x), (x,), (1,)))/(2*PiAA) + (4*PiAA*Subs(Derivative(S(x), x), (x,), (1,)) + PiAA - (2*PiAa + PiaA)*Subs(Derivative(S(x), x), (x,), (1,)))/(2*PiAA)"
      ]
     },
     "execution_count": 33,
     "metadata": {},
     "output_type": "execute_result"
    }
   ],
   "source": [
    "rhs_jac.subs({x: 1})"
   ]
  },
  {
   "cell_type": "code",
   "execution_count": 34,
   "metadata": {
    "collapsed": false
   },
   "outputs": [
    {
     "data": {
      "text/plain": [
       "-(PiAA - PiaA*Subs(Derivative(S(x), x), (x,), (1,)))/(2*PiAA)"
      ]
     },
     "execution_count": 34,
     "metadata": {},
     "output_type": "execute_result"
    }
   ],
   "source": [
    "rhs_jac.subs({x: 1}).simplify()"
   ]
  },
  {
   "cell_type": "markdown",
   "metadata": {},
   "source": [
    "Stability requires...\n",
    "\n",
    "$$ S'(1) < \\frac{\\Pi_{AA}}{\\Pi_{aA}} $$"
   ]
  },
  {
   "cell_type": "markdown",
   "metadata": {},
   "source": [
    "### $x=0$..."
   ]
  },
  {
   "cell_type": "code",
   "execution_count": 44,
   "metadata": {
    "collapsed": false
   },
   "outputs": [
    {
     "data": {
      "text/plain": [
       "-1 + (PiAa*Subs(Derivative(S(x), x), (x,), (0,)) + Piaa)/(2*Piaa)"
      ]
     },
     "execution_count": 44,
     "metadata": {},
     "output_type": "execute_result"
    }
   ],
   "source": [
    "rhs_jac.subs({x: 0})"
   ]
  },
  {
   "cell_type": "code",
   "execution_count": 66,
   "metadata": {
    "collapsed": false
   },
   "outputs": [
    {
     "data": {
      "text/plain": [
       "-(PiAA - PiaA*Subs(Derivative(S(x), x), (x,), (1,)))/(2*PiAA)"
      ]
     },
     "execution_count": 66,
     "metadata": {},
     "output_type": "execute_result"
    }
   ],
   "source": [
    "rhs_jac.subs({x: 1}).simplify()"
   ]
  },
  {
   "cell_type": "markdown",
   "metadata": {},
   "source": [
    "Stability requires...\n",
    "\n",
    "$$ S'(0) < \\frac{\\Pi_{aa}}{\\Pi_{Aa}} $$"
   ]
  },
  {
   "cell_type": "code",
   "execution_count": 51,
   "metadata": {
    "collapsed": false
   },
   "outputs": [
    {
     "data": {
      "text/plain": [
       "(-PiAA + PiAa + PiaA - Piaa)*(-PiAa*x_star/2 + PiAa/2 - PiaA*x_star/2 + Piaa*x_star - sqrt(-4*PiAA*Piaa*x_star**2 + 4*PiAA*Piaa*x_star + PiAa**2*x_star**2 - 2*PiAa**2*x_star + PiAa**2 + 2*PiAa*PiaA*x_star**2 - 2*PiAa*PiaA*x_star + PiaA**2*x_star**2)/2)/(PiAA*x_star - PiAA - PiAa*x_star + PiAa - PiaA*x_star + Piaa*x_star)**2 + (-PiAa/2 - PiaA/2 + Piaa - (-4*PiAA*Piaa*x_star + 2*PiAA*Piaa + PiAa**2*x_star - PiAa**2 + 2*PiAa*PiaA*x_star - PiAa*PiaA + PiaA**2*x_star)/(2*sqrt(-4*PiAA*Piaa*x_star**2 + 4*PiAA*Piaa*x_star + PiAa**2*x_star**2 - 2*PiAa**2*x_star + PiAa**2 + 2*PiAa*PiaA*x_star**2 - 2*PiAa*PiaA*x_star + PiaA**2*x_star**2)))/(PiAA*x_star - PiAA - PiAa*x_star + PiAa - PiaA*x_star + Piaa*x_star)"
      ]
     },
     "execution_count": 51,
     "metadata": {},
     "output_type": "execute_result"
    }
   ],
   "source": [
    "sym.diff(S_tilde, x_star)"
   ]
  },
  {
   "cell_type": "code",
   "execution_count": null,
   "metadata": {
    "collapsed": true
   },
   "outputs": [],
   "source": []
  },
  {
   "cell_type": "code",
   "execution_count": null,
   "metadata": {
    "collapsed": true
   },
   "outputs": [],
   "source": []
  },
  {
   "cell_type": "code",
   "execution_count": 13,
   "metadata": {
    "collapsed": true
   },
   "outputs": [],
   "source": []
  },
  {
   "cell_type": "markdown",
   "metadata": {},
   "source": [
    "### Example: Exponential matching"
   ]
  },
  {
   "cell_type": "code",
   "execution_count": 70,
   "metadata": {
    "collapsed": true
   },
   "outputs": [],
   "source": [
    "def exponential_matching(x, e=0.8):\n",
    "    return x**(1 - e)"
   ]
  },
  {
   "cell_type": "code",
   "execution_count": 71,
   "metadata": {
    "collapsed": false
   },
   "outputs": [
    {
     "data": {
      "image/png": "[encoded data removed]",
      "text/plain": [
       "<matplotlib.figure.Figure at 0x1108b3c18>"
      ]
     },
     "metadata": {},
     "output_type": "display_data"
    }
   ],
   "source": [
    "ts = np.linspace(0, 100, 100)\n",
    "xs = np.linspace(0, 1, 100)\n",
    "params = {'PiaA': 50, 'PiAA': 4, 'Piaa': 3, 'PiAa': 2}\n",
    "\n",
    "plt.plot(xs, share_altruists(ts, xs, exponential_matching, **params))\n",
    "plt.axhline(y=0, linestyle='dashed', color='k')\n",
    "plt.ylabel(r'$\\dot{x}$', rotation='horizontal')\n",
    "plt.xlabel(r'$x$')\n",
    "plt.show()"
   ]
  },
  {
   "cell_type": "code",
   "execution_count": 66,
   "metadata": {
    "collapsed": true
   },
   "outputs": [],
   "source": [
    "def S_tilde(x_star, PiaA, PiAA, Piaa, PiAa):\n",
    "    return (-PiAa*x_star/2 + PiAa/2 - PiaA*x_star/2 + Piaa*x_star - np.sqrt(-4*PiAA*Piaa*x_star**2 + 4*PiAA*Piaa*x_star + PiAa**2*x_star**2 - 2*PiAa**2*x_star + PiAa**2 + 2*PiAa*PiaA*x_star**2 - 2*PiAa*PiaA*x_star + PiaA**2*x_star**2)/2)/(PiAA*x_star - PiAA - PiAa*x_star + PiAa - PiaA*x_star + Piaa*x_star)"
   ]
  },
  {
   "cell_type": "code",
   "execution_count": 76,
   "metadata": {
    "collapsed": false
   },
   "outputs": [
    {
     "data": {
      "image/png": "[encoded data removed]",
      "text/plain": [
       "<matplotlib.figure.Figure at 0x11350c9b0>"
      ]
     },
     "metadata": {},
     "output_type": "display_data"
    }
   ],
   "source": [
    "ts = np.linspace(0, 100, 100)\n",
    "xs = np.linspace(0, 1, 100)\n",
    "params = {'PiaA': 50, 'PiAA': 4, 'Piaa': 3, 'PiAa': 2}\n",
    "\n",
    "plt.plot(xs, exponential_matching(xs), label='$S$')\n",
    "plt.plot(xs, S_tilde(xs, **params), label='$\\dot{x}=0$')\n",
    "\n",
    "plt.axhline(y=0, linestyle='dashed', color='k')\n",
    "plt.ylabel(r'$S(x), e=0.8$', rotation='horizontal')\n",
    "plt.xlabel(r'$x$')\n",
    "plt.text(0.5, 0.5, s=r'$\\dot{x}<0$')\n",
    "plt.text(0.1, 0.9, s=r'$\\dot{x}>0$')\n",
    "\n",
    "plt.legend()\n",
    "plt.show()"
   ]
  },
  {
   "cell_type": "code",
   "execution_count": null,
   "metadata": {
    "collapsed": true
   },
   "outputs": [],
   "source": []
  }
 ],
 "metadata": {
  "kernelspec": {
   "display_name": "Python 3",
   "language": "python",
   "name": "python3"
  },
  "language_info": {
   "codemirror_mode": {
    "name": "ipython",
    "version": 3
   },
   "file_extension": ".py",
   "mimetype": "text/x-python",
   "name": "python",
   "nbconvert_exporter": "python",
   "pygments_lexer": "ipython3",
   "version": "3.4.3"
  }
 },
 "nbformat": 4,
 "nbformat_minor": 0
}
