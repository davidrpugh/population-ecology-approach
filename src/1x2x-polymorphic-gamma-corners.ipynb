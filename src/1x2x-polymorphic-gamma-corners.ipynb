{
 "cells": [
  {
   "cell_type": "code",
   "execution_count": 1,
   "metadata": {
    "collapsed": true
   },
   "outputs": [],
   "source": [
    "import sympy as sym"
   ]
  },
  {
   "cell_type": "markdown",
   "metadata": {},
   "source": [
    "# The model"
   ]
  },
  {
   "cell_type": "code",
   "execution_count": 2,
   "metadata": {
    "collapsed": true
   },
   "outputs": [],
   "source": [
    "class S(sym.Function):\n",
    "    \"\"\"Generic matching function\"\"\"\n",
    "    \n",
    "    is_real = True\n",
    "    \n",
    "    @classmethod\n",
    "    def eval(cls, x):\n",
    "        \"\"\"We require the S(0)=0 and S(1)=1\"\"\"\n",
    "        if x.is_Number and x is sym.S.Zero:\n",
    "            return sym.S.Zero\n",
    "        elif x.is_Number and x is sym.S.One:\n",
    "            return sym.S.One\n",
    "\n",
    "        \n",
    "class SG(S):\n",
    "    \"\"\"Matching function for G males.\"\"\"\n",
    "    \n",
    "\n",
    "class Sg(S):\n",
    "    \"\"\"Matching function for g males.\"\"\"\n"
   ]
  },
  {
   "cell_type": "code",
   "execution_count": 3,
   "metadata": {
    "collapsed": true
   },
   "outputs": [],
   "source": [
    "x0, x1, x2, x3 = sym.symbols('x0, x1, x2, x3')\n",
    "xA, xa, xG, xg = sym.symbols('xA, xa, xG, xg')\n",
    "\n",
    "PiaA, PiAA, Piaa, PiAa = sym.symbols('PiaA, PiAA, Piaa, PiAa')"
   ]
  },
  {
   "cell_type": "code",
   "execution_count": 4,
   "metadata": {
    "collapsed": false
   },
   "outputs": [],
   "source": [
    "def N(x0, x1, x2, SG, Sg, PiaA, PiAA, Piaa, PiAa):\n",
    "    xA = x0 + x2\n",
    "    xG = x0 + x1\n",
    "    out = (2 * PiAA *(xG * SG(xA)**2 + (1 - xG) * Sg(xA)**2) +\n",
    "           2 * Piaa * (xG * (1 - SG(xA))**2 + (1 - xG) * (1 - Sg(xA))**2) +\n",
    "           2 * (PiAa + PiaA) * (xG * SG(xA) * (1 - SG(xA)) + (1 - xG) * Sg(xA) * (1 - Sg(xA))))\n",
    "    return out"
   ]
  },
  {
   "cell_type": "code",
   "execution_count": 5,
   "metadata": {
    "collapsed": true
   },
   "outputs": [],
   "source": [
    "def z0(x0, x1, x2, SG, Sg, PiaA, PiAA, Piaa, PiAa):\n",
    "    numerator = (\n",
    "                 x0 * SG(x0 + x2)**2 * (1) * x0 / (x0 + x2) * 2*PiAA +\n",
    "                 x0 * SG(x0 + x2)**2 * (1/2) * x2 / (x0 + x2) * 2*PiAA +\n",
    "\n",
    "                 x0 * (1 - SG(x0 + x2))**2 * (1/2) * x1 / (1 - x0 - x2) * 2*Piaa +\n",
    "                 x0 * (1 - SG(x0 + x2))**2 * (1/4) * (1 - x0 - x1 - x2) / (1 - x0 - x2) * 2*Piaa +\n",
    "\n",
    "                 x0 * 2 * SG(x0 + x2) * (1 - SG(x0 + x2)) * (1) * x0 / (x0 + x2) * PiAa +\n",
    "                 x0 * 2 * SG(x0 + x2) * (1 - SG(x0 + x2)) * (1/2) * x2 / (x0 + x2) * PiAa +\n",
    "                 x0 * 2 * SG(x0 + x2) * (1 - SG(x0 + x2)) * (1/2) * x1 / (1 - x0 - x2) * PiaA +\n",
    "                 x0 * 2 * SG(x0 + x2) * (1 - SG(x0 + x2)) * (1/4) * (1 - x0 - x1 - x2) / (1 - x0 - x2) * PiaA +\n",
    "\n",
    "                 x1 * SG(x0 + x2)**2 * (1/2) * x0 / (x0 + x2) * 2*PiAA +\n",
    "                 x1 * SG(x0 + x2)**2 * (1/4) * x2 / (x0 + x2) * 2*PiAA +\n",
    "\n",
    "                 x1 * (1 - SG(x0 + x2))**2 * (0) +\n",
    "\n",
    "                 x1 * 2 * SG(x0 + x2) * (1 - SG(x0 + x2)) * (1/2) * x0 / (x0 + x2) * PiAa +\n",
    "                 x1 * 2 * SG(x0 + x2) * (1 - SG(x0 + x2)) * (1/4) * x2 / (x0 + x2) * PiAa +\n",
    "\n",
    "                 x2 * Sg(x0 + x2)**2 * (1/2) * x0 / (x0 + x2) * 2*PiAA +\n",
    "\n",
    "                 x2 * (1 - Sg(x0 + x2))**2 * (1/4) * x1 / (1 - x0 - x2) * 2* Piaa +\n",
    "\n",
    "                 x2 * 2 * Sg(x0 + x2) * (1 - Sg(x0 + x2)) * (1/2) * x0 / (x0 + x2) * PiAa +\n",
    "                 x2 * 2 * Sg(x0 + x2) * (1 - Sg(x0 + x2)) * (1/4) * x1 / (1 - x0 - x2) * PiaA +\n",
    "\n",
    "                 (1 - x0 - x1 - x2) * Sg(x0 + x2)**2 * (1/4) * x0 / (x0 + x2) * 2*PiAA +\n",
    "\n",
    "                 (1 - x0 - x1 - x2) * (1 - Sg(x0 + x2))**2 * (0) +\n",
    "\n",
    "                 (1 - x0 - x1 - x2) * 2 * Sg(x0 + x2) * (1 - Sg(x0 + x2)) * (1/4) * x0 / (x0 + x2) * PiAa\n",
    "                 )\n",
    "\n",
    "    return numerator / N(x0, x1, x2, SG, Sg, PiaA, PiAA, Piaa, PiAa)\n",
    "\n",
    "\n",
    "def z1(x0, x1, x2, SG, Sg, PiaA, PiAA, Piaa, PiAa):\n",
    "    numerator = (\n",
    "                 x0 * SG(x0 + x2)**2 * (0) +\n",
    "\n",
    "                 x0 * (1 - SG(x0 + x2))**2 * (1/2) * x1 / (1 - x0 - x2) * 2*Piaa +\n",
    "                 x0 * (1 - SG(x0 + x2))**2 * (1/4) * (1 - x0 - x1 - x2) / (1 - x0 - x2) * 2*Piaa +\n",
    "\n",
    "                 x0 * 2 * SG(x0 + x2) * (1 - SG(x0 + x2)) * (1/2) * x1 / (1 - x0 - x2) * PiaA +\n",
    "                 x0 * 2 * SG(x0 + x2) * (1 - SG(x0 + x2)) * (1/4) * (1 - x0 - x1 - x2) / (1 - x0 - x2) * PiaA +\n",
    "\n",
    "                 x1 * SG(x0 + x2)**2 * (1/2) * x0 / (x0 + x2) * 2*PiAA +\n",
    "                 x1 * SG(x0 + x2)**2 * (1/4) * x2 / (x0 + x2) * 2*PiAA +\n",
    "\n",
    "                 x1 * (1 - SG(x0 + x2))**2 * (1) * x1 / (1 - x0 - x2) * 2*Piaa +\n",
    "                 x1 * (1 - SG(x0 + x2))**2 * (1/2) * (1 - x0 - x1 - x2) / (1 - x0 - x2) * 2*Piaa +\n",
    "\n",
    "                 x1 * 2 * SG(x0 + x2) * (1 - SG(x0 + x2)) * (1/2) * x0 / (x0 + x2) * PiAa +\n",
    "                 x1 * 2 * SG(x0 + x2) * (1 - SG(x0 + x2)) * (1/4) * x2 / (x0 + x2) * PiAa +\n",
    "                 x1 * 2 * SG(x0 + x2) * (1 - SG(x0 + x2)) * (1) * x1 / (1 - x0 - x2) * PiaA +\n",
    "                 x1 * 2 * SG(x0 + x2) * (1 - SG(x0 + x2)) * (1/2) * (1 - x0 - x1 - x2) / (1 - x0 - x2) * PiaA +\n",
    "\n",
    "                 x2 * Sg(x0 + x2)**2 * (0) +\n",
    "\n",
    "                 x2 * (1 - Sg(x0 + x2))**2 * (1/4) * x1 / (1 - x0 - x2) * 2*Piaa +\n",
    "\n",
    "                 x2 * 2 * Sg(x0 + x2) * (1 - Sg(x0 + x2)) * (1/4) * x1 / (1 - x0 - x2) * PiaA +\n",
    "\n",
    "                 (1 - x0 - x1 - x2) * Sg(x0 + x2)**2 * (1/4) * x0 / (x0 + x2) * 2*PiAA +\n",
    "\n",
    "                 (1 - x0 - x1 - x2) * (1 - Sg(x0 + x2))**2 * (1/2) * x1 / (1 - x0 - x2) * 2*Piaa +\n",
    "\n",
    "                 (1 - x0 - x1 - x2) * 2 * Sg(x0 + x2) * (1 - Sg(x0 + x2)) * (1/4) * x0 / (x0 + x2) * PiAa +\n",
    "                 (1 - x0 - x1 - x2) * 2 * Sg(x0 + x2) * (1 - Sg(x0 + x2)) * (1/2) * x1 / (1 - x0 - x2) * PiaA\n",
    "\n",
    "                 )\n",
    "\n",
    "    return numerator / N(x0, x1, x2, SG, Sg, PiaA, PiAA, Piaa, PiAa)\n",
    "\n",
    "\n",
    "def z2(x0, x1, x2, SG, Sg, PiaA, PiAA, Piaa, PiAa):\n",
    "    numerator = (\n",
    "                 x0 * SG(x0 + x2)**2 * (1/2) * x2 / (x0 + x2) * 2*PiAA +\n",
    "\n",
    "                 x0 * (1 - SG(x0 + x2))**2 * (1/4) * (1 - x0 - x1 - x2) / (1 - x0 - x2) * 2*Piaa +\n",
    "\n",
    "                 x0 * 2 * SG(x0 + x2) * (1 - SG(x0 + x2)) * (1/2) * x2 / (x0 + x2) * PiAa +\n",
    "                 x0 * 2 * SG(x0 + x2) * (1 - SG(x0 + x2)) * (1/4) * (1 - x0 - x1 - x2) / (1 - x0 - x2) * PiaA +\n",
    "\n",
    "                 x1 * SG(x0 + x2)**2 * (1/4) * x2 / (x0 + x2) * 2*PiAA +\n",
    "\n",
    "                 x1 * (1 - SG(x0 + x2))**2 * (0) +\n",
    "\n",
    "                 x1 * 2 * SG(x0 + x2) * (1 - SG(x0 + x2)) * (1/4) * x2 / (x0 + x2) * PiAa +\n",
    "\n",
    "                 x2 * Sg(x0 + x2)**2 * (1/2) * x0 / (x0 + x2) * 2*PiAA +\n",
    "                 x2 * Sg(x0 + x2)**2 * (1) * x2 / (x0 + x2) * 2*PiAA +\n",
    "\n",
    "                 x2 * (1 - Sg(x0 + x2))**2 * (1/4) * x1 / (1 - x0 - x2) * 2*Piaa +\n",
    "                 x2 * (1 - Sg(x0 + x2))**2 * (1/2) * (1 - x0 - x1 - x2) / (1 - x0 - x2) * 2*Piaa +\n",
    "\n",
    "                 x2 * 2 * Sg(x0 + x2) * (1 - Sg(x0 + x2)) * (1/2) * x0 / (x0 + x2) * PiAa +\n",
    "                 x2 * 2 * Sg(x0 + x2) * (1 - Sg(x0 + x2)) * (1) * x2 / (x0 + x2) * PiAa +\n",
    "                 x2 * 2 * Sg(x0 + x2) * (1 - Sg(x0 + x2)) * (1/4) * x1 / (1 - x0 - x2) * PiaA +\n",
    "                 x2 * 2 * Sg(x0 + x2) * (1 - Sg(x0 + x2)) * (1/2) * (1 - x0 - x1 - x2) / (1 - x0 - x2) * PiaA +\n",
    "\n",
    "                 (1 - x0 - x1 - x2) * Sg(x0 + x2)**2 * (1/4) * x0 / (x0 + x2) * 2*PiAA +\n",
    "                 (1 - x0 - x1 - x2) * Sg(x0 + x2)**2 * (1/2) * x2 / (x0 + x2) * 2*PiAA +\n",
    "\n",
    "                 (1 - x0 - x1 - x2) * (1 - Sg(x0 + x2))**2 * (0) +\n",
    "\n",
    "                 (1 - x0 - x1 - x2) * 2 * Sg(x0 + x2) * (1 - Sg(x0 + x2)) * (1/4) * x0 / (x0 + x2) * PiAa +\n",
    "                 (1 - x0 - x1 - x2) * 2 * Sg(x0 + x2) * (1 - Sg(x0 + x2)) * (1/2) * x2 / (x0 + x2) * PiAa\n",
    "\n",
    "                 )\n",
    "\n",
    "    return numerator / N(x0, x1, x2, SG, Sg, PiaA, PiAA, Piaa, PiAa)\n",
    "    \n",
    "\n",
    "def z3(x0, x1, x2, SG, Sg, PiaA, PiAA, Piaa, PiAa):\n",
    "    numerator = (\n",
    "                 x0 * SG(x0 + x2)**2 * (0) +\n",
    "\n",
    "                 x0 * (1 - SG(x0 + x2))**2 * (1/4) * (1 - x0 - x1 - x2) / (1 - x0 - x2) * 2*Piaa +\n",
    "\n",
    "                 x0 * 2 * SG(x0 + x2) * (1 - SG(x0 + x2)) * (1/4) * (1 - x0 - x1 - x2) / (1 - x0 - x2) * PiaA +\n",
    "\n",
    "                 x1 * SG(x0 + x2)**2 * (1/4) * x2 / (x0 + x2) * 2*PiAA +\n",
    "\n",
    "                 x1 * (1 - SG(x0 + x2))**2 * (1/2) * (1 - x0 - x1 - x2) / (1 - x0 - x2) * 2*Piaa +\n",
    "\n",
    "                 x1 * 2 * SG(x0 + x2) * (1 - SG(x0 + x2)) * (1/4) * x2 / (x0 + x2) * PiAa +\n",
    "                 x1 * 2 * SG(x0 + x2) * (1 - SG(x0 + x2)) * (1/2) * (1 - x0 - x1 - x2) / (1 - x0 - x2) * PiaA +\n",
    "\n",
    "                 x2 * Sg(x0 + x2)**2 * (0) +\n",
    "\n",
    "                 x2 * (1 - Sg(x0 + x2))**2 * (1/4) * x1 / (1 - x0 - x2) * 2*Piaa +\n",
    "                 x2 * (1 - Sg(x0 + x2))**2 * (1/2) * (1 - x0 - x1 - x2) / (1 - x0 - x2) * 2*Piaa +\n",
    "\n",
    "                 x2 * 2 * Sg(x0 + x2) * (1 - Sg(x0 + x2)) * (1/4) * x1 / (1 - x0 - x2) * PiaA +\n",
    "                 x2 * 2 * Sg(x0 + x2) * (1 - Sg(x0 + x2)) * (1/2) * (1 - x0 - x1 - x2) / (1 - x0 - x2) * PiaA +\n",
    "\n",
    "                 (1 - x0 - x1 - x2) * Sg(x0 + x2)**2 * (1/4) * x0 / (x0 + x2) * 2*PiAA +\n",
    "                 (1 - x0 - x1 - x2) * Sg(x0 + x2)**2 * (1/2) * x2 / (x0 + x2) * 2*PiAA +\n",
    "\n",
    "                 (1 - x0 - x1 - x2) * (1 - Sg(x0 + x2))**2 * (1/2) * x1 / (1 - x0 - x2) * 2*Piaa +\n",
    "                 (1 - x0 - x1 - x2) * (1 - Sg(x0 + x2))**2 * (1) *(1 - x0 - x1 - x2) / (1 - x0 - x2) * 2*Piaa +\n",
    "\n",
    "                 (1 - x0 - x1 - x2) * 2 * Sg(x0 + x2) * (1 - Sg(x0 + x2)) * (1/4) * x0 / (x0 + x2) * PiAa +\n",
    "                 (1 - x0 - x1 - x2) * 2 * Sg(x0 + x2) * (1 - Sg(x0 + x2)) * (1/2) * x2 / (x0 + x2) * PiAa +\n",
    "                 (1 - x0 - x1 - x2) * 2 * Sg(x0 + x2) * (1 - Sg(x0 + x2)) * (1/2) * x1 / (1 - x0 - x2) * PiaA +\n",
    "                 (1 - x0 - x1 - x2) * 2 * Sg(x0 + x2) * (1 - Sg(x0 + x2)) * (1) * (1 - x0 - x1 - x2) / (1 - x0 - x2) * PiaA\n",
    "                 )\n",
    "\n",
    "    return numerator / N(x0, x1, x2, SG, Sg, PiaA, PiAA, Piaa, PiAa)\n"
   ]
  },
  {
   "cell_type": "code",
   "execution_count": 6,
   "metadata": {
    "collapsed": true
   },
   "outputs": [],
   "source": [
    "def equation_motion_GA_share(x0, x1, x2, SG, Sg, PiaA, PiAA, Piaa, PiAa):\n",
    "    x0_dot = z0(x0, x1, x2, SG, Sg, PiaA, PiAA, Piaa, PiAa) - x0\n",
    "    return x0_dot\n",
    "\n",
    "\n",
    "def equation_motion_Ga_share(x0, x1, x2, SG, Sg, PiaA, PiAA, Piaa, PiAa):\n",
    "    x1_dot = z1(x0, x1, x2, SG, Sg, PiaA, PiAA, Piaa, PiAa) - x1\n",
    "    return x1_dot\n",
    "\n",
    "\n",
    "def equation_motion_gA_share(x0, x1, x2, SG, Sg, PiaA, PiAA, Piaa, PiAa):\n",
    "    x2_dot = z2(x0, x1, x2, SG, Sg, PiaA, PiAA, Piaa, PiAa) - x2\n",
    "    return x2_dot\n",
    "\n",
    "\n",
    "def equation_motion_ga_share(x0, x1, x2, SG, Sg, PiaA, PiAA, Piaa, PiAa):\n",
    "    x3_dot = z3(x0, x1, x2, SG, Sg, PiaA, PiAA, Piaa, PiAa) - (1 - x0 - x1 - x2)\n",
    "    return x3_dot"
   ]
  },
  {
   "cell_type": "code",
   "execution_count": 7,
   "metadata": {
    "collapsed": true
   },
   "outputs": [],
   "source": [
    "def equation_motion_G_share(x0, x1, x2, SG, Sg, PiaA, PiAA, Piaa, PiAa):\n",
    "    out = (equation_motion_GA_share(x0, x1, x2, SG, Sg, PiaA, PiAA, Piaa, PiAa) +\n",
    "           equation_motion_Ga_share(x0, x1, x2, SG, Sg, PiaA, PiAA, Piaa, PiAa))\n",
    "    return out\n",
    "\n",
    "def equation_motion_A_share(x0, x1, x2, SG, Sg, PiaA, PiAA, Piaa, PiAa):\n",
    "    out = (equation_motion_GA_share(x0, x1, x2, SG, Sg, PiaA, PiAA, Piaa, PiAa) +\n",
    "           equation_motion_gA_share(x0, x1, x2, SG, Sg, PiaA, PiAA, Piaa, PiAa))\n",
    "    return out\n",
    "\n",
    "def equation_motion_assortativity_share(x0, x1, x2, SG, Sg, PiaA, PiAA, Piaa, PiAa):\n",
    "    out = (equation_motion_GA_share(x0, x1, x2, SG, Sg, PiaA, PiAA, Piaa, PiAa) +\n",
    "           equation_motion_ga_share(x0, x1, x2, SG, Sg, PiaA, PiAA, Piaa, PiAa))\n",
    "    return out\n"
   ]
  },
  {
   "cell_type": "markdown",
   "metadata": {},
   "source": [
    "## Tests!\n",
    "All of the following limits should exactly 0!"
   ]
  },
  {
   "cell_type": "code",
   "execution_count": 8,
   "metadata": {
    "collapsed": false
   },
   "outputs": [
    {
     "data": {
      "text/plain": [
       "0"
      ]
     },
     "execution_count": 8,
     "metadata": {},
     "output_type": "execute_result"
    }
   ],
   "source": [
    "sym.limit(equation_motion_GA_share(x0, 0, 0, SG, Sg, PiaA, PiAA, Piaa, PiAa), x0, 1)"
   ]
  },
  {
   "cell_type": "code",
   "execution_count": 9,
   "metadata": {
    "collapsed": false
   },
   "outputs": [
    {
     "data": {
      "text/plain": [
       "0"
      ]
     },
     "execution_count": 9,
     "metadata": {},
     "output_type": "execute_result"
    }
   ],
   "source": [
    "sym.limit(equation_motion_GA_share(x0, 0, 0, SG, Sg, PiaA, PiAA, Piaa, PiAa), x0, 0)"
   ]
  },
  {
   "cell_type": "code",
   "execution_count": 10,
   "metadata": {
    "collapsed": false
   },
   "outputs": [
    {
     "data": {
      "text/plain": [
       "0"
      ]
     },
     "execution_count": 10,
     "metadata": {},
     "output_type": "execute_result"
    }
   ],
   "source": [
    "sym.limit(equation_motion_Ga_share(x0, 0, 0, SG, Sg, PiaA, PiAA, Piaa, PiAa), x0, 1)"
   ]
  },
  {
   "cell_type": "code",
   "execution_count": 11,
   "metadata": {
    "collapsed": false
   },
   "outputs": [
    {
     "data": {
      "text/plain": [
       "0"
      ]
     },
     "execution_count": 11,
     "metadata": {},
     "output_type": "execute_result"
    }
   ],
   "source": [
    "sym.limit(equation_motion_Ga_share(x0, 0, 0, SG, Sg, PiaA, PiAA, Piaa, PiAa), x0, 0)"
   ]
  },
  {
   "cell_type": "code",
   "execution_count": 12,
   "metadata": {
    "collapsed": false
   },
   "outputs": [
    {
     "data": {
      "text/plain": [
       "0"
      ]
     },
     "execution_count": 12,
     "metadata": {},
     "output_type": "execute_result"
    }
   ],
   "source": [
    "sym.limit(equation_motion_gA_share(x0, 0, 0, SG, Sg, PiaA, PiAA, Piaa, PiAa), x0, 1)"
   ]
  },
  {
   "cell_type": "code",
   "execution_count": 13,
   "metadata": {
    "collapsed": false
   },
   "outputs": [
    {
     "data": {
      "text/plain": [
       "0"
      ]
     },
     "execution_count": 13,
     "metadata": {},
     "output_type": "execute_result"
    }
   ],
   "source": [
    "sym.limit(equation_motion_gA_share(x0, 0, 0, SG, Sg, PiaA, PiAA, Piaa, PiAa), x0, 0)"
   ]
  },
  {
   "cell_type": "code",
   "execution_count": 14,
   "metadata": {
    "collapsed": false
   },
   "outputs": [
    {
     "data": {
      "text/plain": [
       "0"
      ]
     },
     "execution_count": 14,
     "metadata": {},
     "output_type": "execute_result"
    }
   ],
   "source": [
    "sym.limit(equation_motion_ga_share(x0, 0, 0, SG, Sg, PiaA, PiAA, Piaa, PiAa), x0, 1)"
   ]
  },
  {
   "cell_type": "code",
   "execution_count": 15,
   "metadata": {
    "collapsed": false
   },
   "outputs": [
    {
     "data": {
      "text/plain": [
       "0"
      ]
     },
     "execution_count": 15,
     "metadata": {},
     "output_type": "execute_result"
    }
   ],
   "source": [
    "sym.limit(equation_motion_ga_share(x0, 0, 0, SG, Sg, PiaA, PiAA, Piaa, PiAa), x0, 0)"
   ]
  },
  {
   "cell_type": "markdown",
   "metadata": {},
   "source": [
    "The derivatives should sum to zero..."
   ]
  },
  {
   "cell_type": "code",
   "execution_count": 16,
   "metadata": {
    "collapsed": false
   },
   "outputs": [
    {
     "data": {
      "text/plain": [
       "0"
      ]
     },
     "execution_count": 16,
     "metadata": {},
     "output_type": "execute_result"
    }
   ],
   "source": [
    "(equation_motion_GA_share(x0, x1, x2, SG, Sg, PiaA, PiAA, Piaa, PiAa) +\n",
    " equation_motion_Ga_share(x0, x1, x2, SG, Sg, PiaA, PiAA, Piaa, PiAa) + \n",
    " equation_motion_gA_share(x0, x1, x2, SG, Sg, PiaA, PiAA, Piaa, PiAa) +\n",
    " equation_motion_ga_share(x0, x1, x2, SG, Sg, PiaA, PiAA, Piaa, PiAa)).simplify()"
   ]
  },
  {
   "cell_type": "markdown",
   "metadata": {},
   "source": [
    "# Stability analysis\n",
    "\n",
    "Our original dynamical system is...\n",
    "\n",
    "$$ \\dot{\\mathrm{x}} = F(\\mathrm{x}) $$\n",
    "\n",
    "with some equilibrium point $F(\\mathrm{x}^*)=0$. We can define $\\mathrm{y}=\\mathrm{x} - \\mathrm{x}^*$ which yields a new dynamical system...\n",
    "\n",
    "$$ \\dot{\\mathrm{y}} = \\dot{\\mathrm{x}} = F(\\mathrm{y} + \\mathrm{x}^*) = G(\\mathrm{y}) $$\n",
    "\n",
    "...which has an equilibrium point $\\mathrm{y}^*=0$."
   ]
  },
  {
   "cell_type": "code",
   "execution_count": 17,
   "metadata": {
    "collapsed": true
   },
   "outputs": [],
   "source": [
    "F = sym.Matrix([equation_motion_GA_share(x0, x1, x2, SG, Sg, PiaA, PiAA, Piaa, PiAa),\n",
    "                equation_motion_Ga_share(x0, x1, x2, SG, Sg, PiaA, PiAA, Piaa, PiAa), \n",
    "                equation_motion_gA_share(x0, x1, x2, SG, Sg, PiaA, PiAA, Piaa, PiAa)])"
   ]
  },
  {
   "cell_type": "code",
   "execution_count": 18,
   "metadata": {
    "collapsed": true
   },
   "outputs": [],
   "source": [
    "y0, y1, y2 = sym.symbols('y0, y1, y2')\n",
    "x0star, x1star, x2star = sym.symbols('x0star, x1star, x2star')\n",
    "\n",
    "G = F.subs({x0: y0 + x0star, x1: y1 + x1star, x2: y2 + x2star})"
   ]
  },
  {
   "cell_type": "code",
   "execution_count": 19,
   "metadata": {
    "collapsed": false
   },
   "outputs": [],
   "source": [
    "V = (N(x0star, x1star, x2star, SG, Sg, PiaA, PiAA, Piaa, PiAa) -\n",
    "     N(x0, x1, x2, SG, Sg, PiaA, PiAA, Piaa, PiAa))"
   ]
  },
  {
   "cell_type": "markdown",
   "metadata": {},
   "source": [
    "Need to show that $V(x) > 0$..."
   ]
  },
  {
   "cell_type": "code",
   "execution_count": 20,
   "metadata": {
    "collapsed": false
   },
   "outputs": [
    {
     "data": {
      "text/plain": [
       "-2*PiAA*((x0 + x1)*SG(x0 + x2)**2 + (-x0 - x1 + 1)*Sg(x0 + x2)**2) + 2*PiAA*((x0star + x1star)*SG(x0star + x2star)**2 + (-x0star - x1star + 1)*Sg(x0star + x2star)**2) - 2*Piaa*((x0 + x1)*(-SG(x0 + x2) + 1)**2 + (-Sg(x0 + x2) + 1)**2*(-x0 - x1 + 1)) + 2*Piaa*((x0star + x1star)*(-SG(x0star + x2star) + 1)**2 + (-Sg(x0star + x2star) + 1)**2*(-x0star - x1star + 1)) - (2*PiAa + 2*PiaA)*((x0 + x1)*(-SG(x0 + x2) + 1)*SG(x0 + x2) + (-Sg(x0 + x2) + 1)*(-x0 - x1 + 1)*Sg(x0 + x2)) + (2*PiAa + 2*PiaA)*((x0star + x1star)*(-SG(x0star + x2star) + 1)*SG(x0star + x2star) + (-Sg(x0star + x2star) + 1)*(-x0star - x1star + 1)*Sg(x0star + x2star))"
      ]
     },
     "execution_count": 20,
     "metadata": {},
     "output_type": "execute_result"
    }
   ],
   "source": [
    "V"
   ]
  },
  {
   "cell_type": "code",
   "execution_count": 21,
   "metadata": {
    "collapsed": false
   },
   "outputs": [],
   "source": [
    "W = V.subs({x0: y0 + x0star, x1: y1 + x1star, x2: y2 + x2star})\n",
    "W_dot = sym.Matrix([W.diff(y0), W.diff(y1), W.diff(y2)]).T * G"
   ]
  },
  {
   "cell_type": "code",
   "execution_count": 22,
   "metadata": {
    "collapsed": false
   },
   "outputs": [
    {
     "data": {
      "text/plain": [
       "2*B*((x0star + x1star)*SG(x0star + x2star)**2 + (-x0star - x1star + 1)*Sg(x0star + x2star)**2) - 2*B*((x0star + x1star + y0 + y1)*SG(x0star + x2star + y0 + y2)**2 + (-x0star - x1star - y0 - y1 + 1)*Sg(x0star + x2star + y0 + y2)**2) + 2*C*((x0star + x1star)*(-SG(x0star + x2star) + 1)**2 + (-Sg(x0star + x2star) + 1)**2*(-x0star - x1star + 1)) - 2*C*((-SG(x0star + x2star + y0 + y2) + 1)**2*(x0star + x1star + y0 + y1) + (-Sg(x0star + x2star + y0 + y2) + 1)**2*(-x0star - x1star - y0 - y1 + 1)) + (2*A + 2*D)*((x0star + x1star)*(-SG(x0star + x2star) + 1)*SG(x0star + x2star) + (-Sg(x0star + x2star) + 1)*(-x0star - x1star + 1)*Sg(x0star + x2star)) - (2*A + 2*D)*((-SG(x0star + x2star + y0 + y2) + 1)*(x0star + x1star + y0 + y1)*SG(x0star + x2star + y0 + y2) + (-Sg(x0star + x2star + y0 + y2) + 1)*(-x0star - x1star - y0 - y1 + 1)*Sg(x0star + x2star + y0 + y2))"
      ]
     },
     "execution_count": 22,
     "metadata": {},
     "output_type": "execute_result"
    }
   ],
   "source": [
    "A, B, C, D = sym.symbols('A, B, C, D')\n",
    "W.subs({PiaA: A, PiAA: B, Piaa: C, PiAa: D})"
   ]
  },
  {
   "cell_type": "code",
   "execution_count": 23,
   "metadata": {
    "collapsed": false
   },
   "outputs": [
    {
     "data": {
      "text/plain": [
       "(1, 1)"
      ]
     },
     "execution_count": 23,
     "metadata": {},
     "output_type": "execute_result"
    }
   ],
   "source": [
    "W_dot.shape"
   ]
  },
  {
   "cell_type": "code",
   "execution_count": 112,
   "metadata": {
    "collapsed": false
   },
   "outputs": [
    {
     "data": {
      "text/plain": [
       "Matrix([[(-x0 + (2*PiAA*x0**2*SG(x0 + x2)**2/(x0 + x2) + 1.0*PiAA*x0*x1*SG(x0 + x2)**2/(x0 + x2) + 1.0*PiAA*x0*x2*SG(x0 + x2)**2/(x0 + x2) + 1.0*PiAA*x0*x2*Sg(x0 + x2)**2/(x0 + x2) + 0.5*PiAA*x0*(-x0 - x1 - x2 + 1)*Sg(x0 + x2)**2/(x0 + x2) + 0.5*PiAA*x1*x2*SG(x0 + x2)**2/(x0 + x2) + 2*PiAa*x0**2*(-SG(x0 + x2) + 1)*SG(x0 + x2)/(x0 + x2) + 1.0*PiAa*x0*x1*(-SG(x0 + x2) + 1)*SG(x0 + x2)/(x0 + x2) + 1.0*PiAa*x0*x2*(-SG(x0 + x2) + 1)*SG(x0 + x2)/(x0 + x2) + 1.0*PiAa*x0*x2*(-Sg(x0 + x2) + 1)*Sg(x0 + x2)/(x0 + x2) + 0.5*PiAa*x0*x3*(-Sg(x0 + x2) + 1)*Sg(x0 + x2)/(x0 + x2) + 0.5*PiAa*x1*x2*(-SG(x0 + x2) + 1)*SG(x0 + x2)/(x0 + x2) + 1.0*PiaA*x0*x1*(-SG(x0 + x2) + 1)*SG(x0 + x2)/(-x0 - x2 + 1) + 0.5*PiaA*x0*(-SG(x0 + x2) + 1)*(-x0 - x1 - x2 + 1)*SG(x0 + x2)/(-x0 - x2 + 1) + 0.5*PiaA*x1*x2*(-Sg(x0 + x2) + 1)*Sg(x0 + x2)/(-x0 - x2 + 1) + 1.0*Piaa*x0*x1*(-SG(x0 + x2) + 1)**2/(-x0 - x2 + 1) + 0.5*Piaa*x0*(-SG(x0 + x2) + 1)**2*(-x0 - x1 - x2 + 1)/(-x0 - x2 + 1) + 0.5*Piaa*x1*x2*(-Sg(x0 + x2) + 1)**2/(-x0 - x2 + 1))/(2*PiAA*((x0 + x1)*SG(x0 + x2)**2 + (-x0 - x1 + 1)*Sg(x0 + x2)**2) + 2*Piaa*((x0 + x1)*(-SG(x0 + x2) + 1)**2 + (-Sg(x0 + x2) + 1)**2*(-x0 - x1 + 1)) + (2*PiAa + 2*PiaA)*((x0 + x1)*(-SG(x0 + x2) + 1)*SG(x0 + x2) + (-Sg(x0 + x2) + 1)*(-x0 - x1 + 1)*Sg(x0 + x2))))*(-2*PiAA*(2*(x0 + x1)*SG(x0 + x2)*Subs(Derivative(SG(_xi_1), _xi_1), (_xi_1,), (x0 + x2,)) + 2*(-x0 - x1 + 1)*Sg(x0 + x2)*Subs(Derivative(Sg(_xi_1), _xi_1), (_xi_1,), (x0 + x2,)) + SG(x0 + x2)**2 - Sg(x0 + x2)**2) - 2*Piaa*(-2*(x0 + x1)*(-SG(x0 + x2) + 1)*Subs(Derivative(SG(_xi_1), _xi_1), (_xi_1,), (x0 + x2,)) + (-SG(x0 + x2) + 1)**2 - (-Sg(x0 + x2) + 1)**2 - 2*(-Sg(x0 + x2) + 1)*(-x0 - x1 + 1)*Subs(Derivative(Sg(_xi_1), _xi_1), (_xi_1,), (x0 + x2,))) - (2*PiAa + 2*PiaA)*((x0 + x1)*(-SG(x0 + x2) + 1)*Subs(Derivative(SG(_xi_1), _xi_1), (_xi_1,), (x0 + x2,)) - (x0 + x1)*SG(x0 + x2)*Subs(Derivative(SG(_xi_1), _xi_1), (_xi_1,), (x0 + x2,)) + (-SG(x0 + x2) + 1)*SG(x0 + x2) + (-Sg(x0 + x2) + 1)*(-x0 - x1 + 1)*Subs(Derivative(Sg(_xi_1), _xi_1), (_xi_1,), (x0 + x2,)) - (-Sg(x0 + x2) + 1)*Sg(x0 + x2) - (-x0 - x1 + 1)*Sg(x0 + x2)*Subs(Derivative(Sg(_xi_1), _xi_1), (_xi_1,), (x0 + x2,)))) + (-x1 + (1.0*PiAA*x0*x1*SG(x0 + x2)**2/(x0 + x2) + 0.5*PiAA*x0*(-x0 - x1 - x2 + 1)*Sg(x0 + x2)**2/(x0 + x2) + 0.5*PiAA*x1*x2*SG(x0 + x2)**2/(x0 + x2) + 1.0*PiAa*x0*x1*(-SG(x0 + x2) + 1)*SG(x0 + x2)/(x0 + x2) + 0.5*PiAa*x0*x3*(-Sg(x0 + x2) + 1)*Sg(x0 + x2)/(x0 + x2) + 0.5*PiAa*x1*x2*(-SG(x0 + x2) + 1)*SG(x0 + x2)/(x0 + x2) + 1.0*PiaA*x0*x1*(-SG(x0 + x2) + 1)*SG(x0 + x2)/(-x0 - x2 + 1) + 0.5*PiaA*x0*(-SG(x0 + x2) + 1)*(-x0 - x1 - x2 + 1)*SG(x0 + x2)/(-x0 - x2 + 1) + 2*PiaA*x1**2*(-SG(x0 + x2) + 1)*SG(x0 + x2)/(-x0 - x2 + 1) + 0.5*PiaA*x1*x2*(-Sg(x0 + x2) + 1)*Sg(x0 + x2)/(-x0 - x2 + 1) + 1.0*PiaA*x1*x3*(-Sg(x0 + x2) + 1)*Sg(x0 + x2)/(-x0 - x2 + 1) + 1.0*PiaA*x1*(-SG(x0 + x2) + 1)*(-x0 - x1 - x2 + 1)*SG(x0 + x2)/(-x0 - x2 + 1) + 1.0*Piaa*x0*x1*(-SG(x0 + x2) + 1)**2/(-x0 - x2 + 1) + 0.5*Piaa*x0*(-SG(x0 + x2) + 1)**2*(-x0 - x1 - x2 + 1)/(-x0 - x2 + 1) + 2*Piaa*x1**2*(-SG(x0 + x2) + 1)**2/(-x0 - x2 + 1) + 0.5*Piaa*x1*x2*(-Sg(x0 + x2) + 1)**2/(-x0 - x2 + 1) + 1.0*Piaa*x1*(-SG(x0 + x2) + 1)**2*(-x0 - x1 - x2 + 1)/(-x0 - x2 + 1) + 1.0*Piaa*x1*(-Sg(x0 + x2) + 1)**2*(-x0 - x1 - x2 + 1)/(-x0 - x2 + 1))/(2*PiAA*((x0 + x1)*SG(x0 + x2)**2 + (-x0 - x1 + 1)*Sg(x0 + x2)**2) + 2*Piaa*((x0 + x1)*(-SG(x0 + x2) + 1)**2 + (-Sg(x0 + x2) + 1)**2*(-x0 - x1 + 1)) + (2*PiAa + 2*PiaA)*((x0 + x1)*(-SG(x0 + x2) + 1)*SG(x0 + x2) + (-Sg(x0 + x2) + 1)*(-x0 - x1 + 1)*Sg(x0 + x2))))*(-2*PiAA*(SG(x0 + x2)**2 - Sg(x0 + x2)**2) - 2*Piaa*((-SG(x0 + x2) + 1)**2 - (-Sg(x0 + x2) + 1)**2) - (2*PiAa + 2*PiaA)*((-SG(x0 + x2) + 1)*SG(x0 + x2) - (-Sg(x0 + x2) + 1)*Sg(x0 + x2))) + (-x2 + (1.0*PiAA*x0*x2*SG(x0 + x2)**2/(x0 + x2) + 1.0*PiAA*x0*x2*Sg(x0 + x2)**2/(x0 + x2) + 0.5*PiAA*x0*(-x0 - x1 - x2 + 1)*Sg(x0 + x2)**2/(x0 + x2) + 0.5*PiAA*x1*x2*SG(x0 + x2)**2/(x0 + x2) + 2*PiAA*x2**2*Sg(x0 + x2)**2/(x0 + x2) + 1.0*PiAA*x2*(-x0 - x1 - x2 + 1)*Sg(x0 + x2)**2/(x0 + x2) + 1.0*PiAa*x0*x2*(-SG(x0 + x2) + 1)*SG(x0 + x2)/(x0 + x2) + 1.0*PiAa*x0*x2*(-Sg(x0 + x2) + 1)*Sg(x0 + x2)/(x0 + x2) + 0.5*PiAa*x0*x3*(-Sg(x0 + x2) + 1)*Sg(x0 + x2)/(x0 + x2) + 0.5*PiAa*x1*x2*(-SG(x0 + x2) + 1)*SG(x0 + x2)/(x0 + x2) + 2*PiAa*x2**2*(-Sg(x0 + x2) + 1)*Sg(x0 + x2)/(x0 + x2) + 1.0*PiAa*x2*x3*(-Sg(x0 + x2) + 1)*Sg(x0 + x2)/(x0 + x2) + 0.5*PiaA*x0*(-SG(x0 + x2) + 1)*(-x0 - x1 - x2 + 1)*SG(x0 + x2)/(-x0 - x2 + 1) + 0.5*PiaA*x1*x2*(-Sg(x0 + x2) + 1)*Sg(x0 + x2)/(-x0 - x2 + 1) + 1.0*PiaA*x2*(-Sg(x0 + x2) + 1)*(-x0 - x1 - x2 + 1)*Sg(x0 + x2)/(-x0 - x2 + 1) + 0.5*Piaa*x0*(-SG(x0 + x2) + 1)**2*(-x0 - x1 - x2 + 1)/(-x0 - x2 + 1) + 0.5*Piaa*x1*x2*(-Sg(x0 + x2) + 1)**2/(-x0 - x2 + 1) + 1.0*Piaa*x2*(-Sg(x0 + x2) + 1)**2*(-x0 - x1 - x2 + 1)/(-x0 - x2 + 1))/(2*PiAA*((x0 + x1)*SG(x0 + x2)**2 + (-x0 - x1 + 1)*Sg(x0 + x2)**2) + 2*Piaa*((x0 + x1)*(-SG(x0 + x2) + 1)**2 + (-Sg(x0 + x2) + 1)**2*(-x0 - x1 + 1)) + (2*PiAa + 2*PiaA)*((x0 + x1)*(-SG(x0 + x2) + 1)*SG(x0 + x2) + (-Sg(x0 + x2) + 1)*(-x0 - x1 + 1)*Sg(x0 + x2))))*(-2*PiAA*(2*(x0 + x1)*SG(x0 + x2)*Subs(Derivative(SG(_xi_1), _xi_1), (_xi_1,), (x0 + x2,)) + 2*(-x0 - x1 + 1)*Sg(x0 + x2)*Subs(Derivative(Sg(_xi_1), _xi_1), (_xi_1,), (x0 + x2,))) - 2*Piaa*(-2*(x0 + x1)*(-SG(x0 + x2) + 1)*Subs(Derivative(SG(_xi_1), _xi_1), (_xi_1,), (x0 + x2,)) - 2*(-Sg(x0 + x2) + 1)*(-x0 - x1 + 1)*Subs(Derivative(Sg(_xi_1), _xi_1), (_xi_1,), (x0 + x2,))) - (2*PiAa + 2*PiaA)*((x0 + x1)*(-SG(x0 + x2) + 1)*Subs(Derivative(SG(_xi_1), _xi_1), (_xi_1,), (x0 + x2,)) - (x0 + x1)*SG(x0 + x2)*Subs(Derivative(SG(_xi_1), _xi_1), (_xi_1,), (x0 + x2,)) + (-Sg(x0 + x2) + 1)*(-x0 - x1 + 1)*Subs(Derivative(Sg(_xi_1), _xi_1), (_xi_1,), (x0 + x2,)) - (-x0 - x1 + 1)*Sg(x0 + x2)*Subs(Derivative(Sg(_xi_1), _xi_1), (_xi_1,), (x0 + x2,))))]])"
      ]
     },
     "execution_count": 112,
     "metadata": {},
     "output_type": "execute_result"
    }
   ],
   "source": [
    "W_dot.subs({y0 + x0star: x0, y1 + x1star: x1, y2 + x2star: x2, -2*x0star - 2*x1star - 2*x2star - 2*y0 - 2*y1 - 2*y2 + 2: 2 * x3})"
   ]
  },
  {
   "cell_type": "code",
   "execution_count": 24,
   "metadata": {
    "collapsed": false
   },
   "outputs": [
    {
     "data": {
      "text/plain": [
       "Matrix([[nan]])"
      ]
     },
     "execution_count": 24,
     "metadata": {},
     "output_type": "execute_result"
    }
   ],
   "source": [
    "W_dot.subs({y0: 0, x0star: 1, y1:0, x1star: 1 - x0star, y2: 0, x2star: 0})"
   ]
  },
  {
   "cell_type": "code",
   "execution_count": null,
   "metadata": {
    "collapsed": true
   },
   "outputs": [],
   "source": [
    "candidate lyapunov function is probability of hierarchy..."
   ]
  },
  {
   "cell_type": "code",
   "execution_count": 56,
   "metadata": {
    "collapsed": true
   },
   "outputs": [],
   "source": [
    "lyapunov_func = V(y0, y1, y2, SG, Sg, PiaA, PiAA, Piaa, PiAa)"
   ]
  },
  {
   "cell_type": "code",
   "execution_count": 62,
   "metadata": {
    "collapsed": false
   },
   "outputs": [
    {
     "data": {
      "text/plain": [
       "-2*PiAA*(2*xG*SG(xA)*Subs(Derivative(SG(_xi_1), _xi_1), (_xi_1,), (xA,)) + 2*(-xG + 1)*Sg(xA)*Subs(Derivative(Sg(_xi_1), _xi_1), (_xi_1,), (xA,)) + SG(xA)**2 - Sg(xA)**2) - 2*Piaa*(-2*xG*(-SG(xA) + 1)*Subs(Derivative(SG(_xi_1), _xi_1), (_xi_1,), (xA,)) - 2*(-xG + 1)*(-Sg(xA) + 1)*Subs(Derivative(Sg(_xi_1), _xi_1), (_xi_1,), (xA,)) + (-SG(xA) + 1)**2 - (-Sg(xA) + 1)**2) - (2*PiAa + 2*PiaA)*(xG*(-SG(xA) + 1)*Subs(Derivative(SG(_xi_1), _xi_1), (_xi_1,), (xA,)) - xG*SG(xA)*Subs(Derivative(SG(_xi_1), _xi_1), (_xi_1,), (xA,)) + (-xG + 1)*(-Sg(xA) + 1)*Subs(Derivative(Sg(_xi_1), _xi_1), (_xi_1,), (xA,)) - (-xG + 1)*Sg(xA)*Subs(Derivative(Sg(_xi_1), _xi_1), (_xi_1,), (xA,)) + (-SG(xA) + 1)*SG(xA) - (-Sg(xA) + 1)*Sg(xA))"
      ]
     },
     "execution_count": 62,
     "metadata": {},
     "output_type": "execute_result"
    }
   ],
   "source": [
    "lyapunov_func.diff(x0, 1).subs({x0 + x2: xA, x0 + x1: xG})"
   ]
  },
  {
   "cell_type": "markdown",
   "metadata": {},
   "source": [
    "\\begin{align}\n",
    "    -2A(2x_GS_G(x_A)S_G'(x_A) + 2(-x_G + 1)S_G(x_A)S_G'(x_A) + S_G(x_A)2 - S_G(x_A)2) - 2B(-2x_G(-S_G(x_A) + 1)S_G'(x_A) - 2(-x_G + 1)(-S_G(x_A) + 1)S_G'(x_A) + (-S_G(x_A) + 1)2 - (-S_G(x_A) + 1)2) - (2C + 2D)(x_G(-S_G(x_A) + 1)S_G'(x_A) - x_GS_G(x_A)S_G'(x_A) + (-x_G + 1)(-S_G(x_A) + 1)S_G'(x_A) - (-x_G + 1)S_G(x_A)S_G'(x_A) + (-S_G(x_A) + 1)S_G(x_A) - (-S_G(x_A) + 1)S_G(x_A)) < 0\n",
    "\\end{align}"
   ]
  },
  {
   "cell_type": "code",
   "execution_count": 68,
   "metadata": {
    "collapsed": false
   },
   "outputs": [
    {
     "data": {
      "text/plain": [
       "-2*PiAA*(SG(xA)**2 - Sg(xA)**2) - 2*Piaa*((-SG(xA) + 1)**2 - (-Sg(xA) + 1)**2) - (2*PiAa + 2*PiaA)*((-SG(xA) + 1)*SG(xA) - (-Sg(xA) + 1)*Sg(xA))"
      ]
     },
     "execution_count": 68,
     "metadata": {},
     "output_type": "execute_result"
    }
   ],
   "source": [
    "lyapunov_func.diff(x1, 1).subs({x0 + x2: xA, x0 + x1: xG})"
   ]
  },
  {
   "cell_type": "markdown",
   "metadata": {},
   "source": [
    "\\begin{align}\n",
    "    -2B\\big(S_G(xA)^2 - S_g(xA)^2\\big) - 2C\\big((1-S_G(xA))^2 - (1-S_g(xA))^2\\big) - (2D + 2A)\\big((1-S_G(xA))S_G(xA) - (1-S_g(xA))S_g(xA)\\big) < 0 \\\\\n",
    "    -B\\big(S_G(xA)^2 - S_g(xA)^2\\big) - C\\big((1-S_G(xA))^2 - (1-S_g(xA))^2\\big) - (D + A)\\big((1-S_G(xA))S_G(xA) - (1-S_g(xA))S_g(xA)\\big) < 0 \\\\\n",
    "    -BS_G(xA)^2 + BS_g(xA)^2 - C+2CS_G(xA)-CS_G(xA)^2 + C-2CS_g(xA)+CS_g(xA)^2 - (D + A)S_G(xA)+(D + A)S_G(xA)^2 + (D + A)S_g(xA)-(D + A)S_g(xA)^2 < 0 \\\\\n",
    "    \\big((A + D) -(B + C)\\big)S_G(xA)^2 + \\big(2C - (D + A)\\big)S_G(xA) - \\big(2C - (D + A)\\big)S_g(xA) - \\big((A + D) - (B + C)\\big)S_g(xA)^2 < 0 \\\\\n",
    "    \\big((A + D) -(B + C)\\big)\\big(S_G(xA)^2 - S_g(xA)^2\\big) + \\big(2C - (D + A)\\big)\\big(S_G(xA) - S_g(xA)\\big) < 0 \\\\\n",
    "    \\big((A + D) -(B + C)\\big)\\big(S_G(xA) - S_g(xA)\\big)\\big(S_G(xA) + S_g(xA)\\big) + \\big(2C - (D + A)\\big)\\big(S_G(xA) - S_g(xA)\\big) < 0\n",
    "\\end{align}\n",
    "\n",
    "suppose that $S_G(xA) \\ne S_g(xA)$, then we can write...\n",
    "\n",
    "$$ \\big((A + D) -(B + C)\\big)\\big(S_G(xA) + S_g(xA)\\big) + \\big(2C - (D + A)\\big) < 0 $$\n",
    "\n",
    "...which implies that the necessary and sufficient condition is that \n",
    "\n",
    "\\begin{align}\n",
    "    -\\big((B + C) -(A + D)\\big)\\big(S_G(xA) + S_g(xA)\\big) + \\big(2C - (D + A)\\big) < 0 \\\\\n",
    "    \\big(2C - (D + A)\\big) < \\big((B + C) -(A + D)\\big)\\big(S_G(xA) + S_g(xA)\\big) \\\\\n",
    "    \\frac{2C - (A + D)}{(B + C) - (A + D)} < S_G(xA) + S_g(xA) \\\\\n",
    "\\end{align}\n",
    "\n",
    "\n",
    "\n"
   ]
  },
  {
   "cell_type": "code",
   "execution_count": null,
   "metadata": {
    "collapsed": true
   },
   "outputs": [],
   "source": []
  },
  {
   "cell_type": "code",
   "execution_count": null,
   "metadata": {
    "collapsed": true
   },
   "outputs": [],
   "source": []
  },
  {
   "cell_type": "code",
   "execution_count": 64,
   "metadata": {
    "collapsed": false
   },
   "outputs": [
    {
     "data": {
      "text/plain": [
       "-2*PiAA*(2*xG*SG(xA)*Subs(Derivative(SG(_xi_1), _xi_1), (_xi_1,), (xA,)) + 2*(-xG + 1)*Sg(xA)*Subs(Derivative(Sg(_xi_1), _xi_1), (_xi_1,), (xA,))) - 2*Piaa*(-2*xG*(-SG(xA) + 1)*Subs(Derivative(SG(_xi_1), _xi_1), (_xi_1,), (xA,)) - 2*(-xG + 1)*(-Sg(xA) + 1)*Subs(Derivative(Sg(_xi_1), _xi_1), (_xi_1,), (xA,))) - (2*PiAa + 2*PiaA)*(xG*(-SG(xA) + 1)*Subs(Derivative(SG(_xi_1), _xi_1), (_xi_1,), (xA,)) - xG*SG(xA)*Subs(Derivative(SG(_xi_1), _xi_1), (_xi_1,), (xA,)) + (-xG + 1)*(-Sg(xA) + 1)*Subs(Derivative(Sg(_xi_1), _xi_1), (_xi_1,), (xA,)) - (-xG + 1)*Sg(xA)*Subs(Derivative(Sg(_xi_1), _xi_1), (_xi_1,), (xA,)))"
      ]
     },
     "execution_count": 64,
     "metadata": {},
     "output_type": "execute_result"
    }
   ],
   "source": [
    "lyapunov_func.diff(x2, 1).subs({x0 + x2: xA, x0 + x1: xG})"
   ]
  },
  {
   "cell_type": "code",
   "execution_count": null,
   "metadata": {
    "collapsed": true
   },
   "outputs": [],
   "source": []
  },
  {
   "cell_type": "code",
   "execution_count": 27,
   "metadata": {
    "collapsed": false
   },
   "outputs": [],
   "source": [
    "# hack to get around having to substitute for SG' and Sg'\n",
    "betaG0, betaG1, betag0, betag1, xAstar = sym.symbols('betaG0, betaG1, betag0, betag1, xAstar')\n",
    "SG = lambda xA: betaG0 + betaG1 * (xA - xAstar)\n",
    "Sg = lambda xA: betag0 + betag1 * (xA - xAstar)\n"
   ]
  },
  {
   "cell_type": "code",
   "execution_count": 26,
   "metadata": {
    "collapsed": false
   },
   "outputs": [],
   "source": [
    "rhs = sym.Matrix([equation_motion_GA_share(x0, x1, x2, SG, Sg, PiaA, PiAA, Piaa, PiAa),\n",
    "                  equation_motion_Ga_share(x0, x1, x2, SG, Sg, PiaA, PiAA, Piaa, PiAa),\n",
    "                  equation_motion_gA_share(x0, x1, x2, SG, Sg, PiaA, PiAA, Piaa, PiAa)])"
   ]
  },
  {
   "cell_type": "code",
   "execution_count": 27,
   "metadata": {
    "collapsed": false
   },
   "outputs": [],
   "source": [
    "rhs_jac = rhs.jacobian([x0, x1, x2])"
   ]
  },
  {
   "cell_type": "markdown",
   "metadata": {},
   "source": [
    "## GA corner equilibrium"
   ]
  },
  {
   "cell_type": "code",
   "execution_count": 28,
   "metadata": {
    "collapsed": false
   },
   "outputs": [],
   "source": [
    "evaluated_jac = sym.zeros(3, 3)\n",
    "\n",
    "for i in range(3):\n",
    "    for j in range(3):\n",
    "        tmp_expr = rhs_jac[i, j].subs({x0: 1, x1: 0, x2: 0})\n",
    "        if isinstance(tmp_expr, sym.numbers.NaN):\n",
    "            tmp_expr = sym.limit(rhs_jac[i, j].subs({x1: 0, x2: 0}), x0, 1)\n",
    "        evaluated_jac[i, j] = tmp_expr"
   ]
  },
  {
   "cell_type": "code",
   "execution_count": 29,
   "metadata": {
    "collapsed": false
   },
   "outputs": [
    {
     "data": {
      "text/plain": [
       "{0: 1,\n",
       " -(5*PiAA - 3*PiaA*Subs(Derivative(SG(_xi_1), _xi_1), (_xi_1,), (1,)))/(8*PiAA) - sqrt(PiAA**2*(PiAA + PiaA*Subs(Derivative(SG(_xi_1), _xi_1), (_xi_1,), (1,)))**2)/(8*PiAA**2): 1,\n",
       " -(5*PiAA - 3*PiaA*Subs(Derivative(SG(_xi_1), _xi_1), (_xi_1,), (1,)))/(8*PiAA) + sqrt(PiAA**2*(PiAA + PiaA*Subs(Derivative(SG(_xi_1), _xi_1), (_xi_1,), (1,)))**2)/(8*PiAA**2): 1}"
      ]
     },
     "execution_count": 29,
     "metadata": {},
     "output_type": "execute_result"
    }
   ],
   "source": [
    "evaluated_jac.eigenvals()"
   ]
  },
  {
   "cell_type": "markdown",
   "metadata": {},
   "source": [
    "Necessary conditions for stability are that both non-zero eigenvalues are strictly negative.  We can derive the following necessary conditions...\n",
    "\n",
    "\\begin{align}\n",
    "    -(5*PiAA - 3*PiaA*Subs(Derivative(SG(_xi_1), _xi_1), (_xi_1,), (1,)))/(8*PiAA) - sqrt(PiAA**2*(PiAA + PiaA*Subs(Derivative(SG(_xi_1), _xi_1), (_xi_1,), (1,)))**2)/(8*PiAA**2) < 0 \\\\\n",
    "    \\frac{-(5*PiAA - 3*PiaA*SG'(1))}{8*PiAA} - \\frac{sqrt(PiAA^2*(PiAA + PiaA*SG'(1))^2)}{8*PiAA^2} < 0 \\\\\n",
    "    -(5*PiAA - 3*PiaA*SG'(1)) - \\frac{sqrt(PiAA^2*(PiAA + PiaA*SG'(1))^2)}{PiAA} < 0 \\\\\n",
    "    -(5*PiAA - 3*PiaA*SG'(1)) - \\frac{PiAA*(PiAA + PiaA*SG'(1))}{PiAA} < 0 \\\\\n",
    "    -(5*PiAA - 3*PiaA*SG'(1)) - (PiAA + PiaA*SG'(1)) < 0 \\\\\n",
    "    -5*PiAA + 3*PiaA*SG'(1) - PiAA - PiaA*SG'(1) < 0 \\\\\n",
    "    -6*PiAA + 2*PiaA*SG'(1) < 0 \\\\\n",
    "    \\Pi_{aA} SG'(1) < 3 \\Pi_{AA} \\\\\n",
    "    S_{G}'(1) < \\frac{3 \\Pi_{AA}}{\\Pi_{aA}}\n",
    "\\end{align}"
   ]
  },
  {
   "cell_type": "markdown",
   "metadata": {},
   "source": [
    "...and...\n",
    "\n",
    "\\begin{align}\n",
    "    \\frac{-(5*PiAA - 3*PiaA*SG'(1))}{8*PiAA} + \\frac{sqrt(PiAA^2*(PiAA + PiaA*SG'(1))^2)}{8*PiAA^2} < 0 \\\\\n",
    "    -(5*PiAA - 3*PiaA*SG'(1)) + \\frac{sqrt(PiAA^2*(PiAA + PiaA*SG'(1))^2)}{PiAA} < 0 \\\\\n",
    "    -(5*PiAA - 3*PiaA*SG'(1)) + \\frac{PiAA*(PiAA + PiaA*SG'(1))}{PiAA} < 0 \\\\\n",
    "    -(5*PiAA - 3*PiaA*SG'(1)) + (PiAA + PiaA*SG'(1)) < 0 \\\\\n",
    "    -5*PiAA + 3*PiaA*SG'(1) + PiAA + PiaA*SG'(1) < 0 \\\\\n",
    "    -4*PiAA + 4*PiaA*SG'(1) < 0 \\\\\n",
    "    S_G'(1) < \\frac{\\Pi_{AA}}{\\Pi_{aA}} < 1\n",
    "\\end{align}\n",
    "\n",
    "...note that the second condition implies the first.\n",
    "\n",
    "Note that, since one of the above eigenvalues is zero, the above conditions are actually necessary and *sufficient* for the stability of a mixed $\\gamma$ pure $\\alpha=A$ equilibrium. In order to work out sufficient conditions for the stability of a pure $GA$ equilibrium we need to resort to other methods."
   ]
  },
  {
   "cell_type": "markdown",
   "metadata": {},
   "source": [
    "## Ga corner equilbrium\n"
   ]
  },
  {
   "cell_type": "code",
   "execution_count": 341,
   "metadata": {
    "collapsed": false
   },
   "outputs": [],
   "source": [
    "evaluated_jac = sym.zeros(3, 3)\n",
    "\n",
    "for i in range(3):\n",
    "    for j in range(3):\n",
    "        tmp_expr = rhs_jac[i, j].subs({x0: 0, x1: 1, x2: 0})\n",
    "        if isinstance(tmp_expr, sym.numbers.NaN):\n",
    "            tmp_expr = rhs_jac[i, j].subs({x0: 0, x1: 1}).simplify()\n",
    "            numer, denom = sym.fraction(tmp_expr)\n",
    "            evaluated_jac[i, j] = numer.diff(x2).subs({x2: 0}) / denom.diff(x2).subs({x2: 0})\n",
    "        else:\n",
    "            evaluated_jac[i, j] = tmp_expr"
   ]
  },
  {
   "cell_type": "code",
   "execution_count": 343,
   "metadata": {
    "collapsed": false
   },
   "outputs": [
    {
     "data": {
      "text/plain": [
       "{0: 1,\n",
       " (3*PiAa*Subs(Derivative(SG(_xi_1), _xi_1), (_xi_1,), (0,)) - 5*Piaa)/(8*Piaa) + sqrt(Piaa**2*(PiAa*Subs(Derivative(SG(_xi_1), _xi_1), (_xi_1,), (0,)) + Piaa)**2)/(8*Piaa**2): 1,\n",
       " (3*PiAa*Subs(Derivative(SG(_xi_1), _xi_1), (_xi_1,), (0,)) - 5*Piaa)/(8*Piaa) - sqrt(Piaa**2*(PiAa*Subs(Derivative(SG(_xi_1), _xi_1), (_xi_1,), (0,)) + Piaa)**2)/(8*Piaa**2): 1}"
      ]
     },
     "execution_count": 343,
     "metadata": {},
     "output_type": "execute_result"
    }
   ],
   "source": [
    "evaluated_jac.eigenvals()"
   ]
  },
  {
   "cell_type": "markdown",
   "metadata": {},
   "source": [
    "Necessary conditions for stability are that both non-zero eigenvalues are strictly negative.  We can derive the following necessary conditions...\n",
    "\n",
    "\\begin{align}\n",
    "    (3*PiAa*Subs(Derivative(SG(_xi_1), _xi_1), (_xi_1,), (0,)) - 5*Piaa)/(8*Piaa) + sqrt(Piaa**2*(PiAa*Subs(Derivative(SG(_xi_1), _xi_1), (_xi_1,), (0,)) + Piaa)**2)/(8*Piaa**2) < 0 \\\\\n",
    "    (3*PiAa*Subs(Derivative(SG(_xi_1), _xi_1), (_xi_1,), (0,)) - 5*Piaa) + sqrt(Piaa**2*(PiAa*Subs(Derivative(SG(_xi_1), _xi_1), (_xi_1,), (0,)) + Piaa)**2)/(Piaa) < 0 \\\\\n",
    "    (3*PiAa*Subs(Derivative(SG(_xi_1), _xi_1), (_xi_1,), (0,)) - 5*Piaa) + (Piaa*(PiAa*Subs(Derivative(SG(_xi_1), _xi_1), (_xi_1,), (0,)) + Piaa))/(Piaa) < 0 \\\\\n",
    "    3*PiAa*Subs(Derivative(SG(_xi_1), _xi_1), (_xi_1,), (0,)) - 5*Piaa + PiAa*Subs(Derivative(SG(_xi_1), _xi_1), (_xi_1,), (0,)) + Piaa < 0 \\\\\n",
    "    4*PiAa*Subs(Derivative(SG(_xi_1), _xi_1), (_xi_1,), (0,)) - 4*Piaa < 0 \\\\\n",
    "    PiAa*Subs(Derivative(SG(_xi_1), _xi_1), (_xi_1,), (0,)) < Piaa \\\\\n",
    "    S'_{G}(0) < \\frac{\\Pi_{aa}}{\\Pi_{Aa}}\n",
    "\\end{align}\n",
    "\n",
    "...and...\n",
    "\n",
    "\\begin{align}\n",
    "    (3*PiAa*Subs(Derivative(SG(_xi_1), _xi_1), (_xi_1,), (0,)) - 5*Piaa)/(8*Piaa) - sqrt(Piaa**2*(PiAa*Subs(Derivative(SG(_xi_1), _xi_1), (_xi_1,), (0,)) + Piaa)**2)/(8*Piaa**2) < 0 \\\\\n",
    "    (3*PiAa*Subs(Derivative(SG(_xi_1), _xi_1), (_xi_1,), (0,)) - 5*Piaa) - sqrt(Piaa**2*(PiAa*Subs(Derivative(SG(_xi_1), _xi_1), (_xi_1,), (0,)) + Piaa)**2)/(Piaa) < 0 \\\\\n",
    "    (3*PiAa*Subs(Derivative(SG(_xi_1), _xi_1), (_xi_1,), (0,)) - 5*Piaa) - (Piaa*(PiAa*Subs(Derivative(SG(_xi_1), _xi_1), (_xi_1,), (0,)) + Piaa))/(Piaa) < 0 \\\\\n",
    "    3*PiAa*Subs(Derivative(SG(_xi_1), _xi_1), (_xi_1,), (0,)) - 5*Piaa - PiAa*Subs(Derivative(SG(_xi_1), _xi_1), (_xi_1,), (0,)) - Piaa < 0 \\\\\n",
    "    2*PiAa*Subs(Derivative(SG(_xi_1), _xi_1), (_xi_1,), (0,)) - 6*Piaa < 0 \\\\\n",
    "    2PiAa*Subs(Derivative(SG(_xi_1), _xi_1), (_xi_1,), (0,)) < 6*Piaa \\\\\n",
    "    S'_{G}(0) < \\frac{3\\Pi_{aa}}{\\Pi_{Aa}}\n",
    "\\end{align}\n",
    "\n",
    "...note that the first inequality above implies the second.\n",
    "\n",
    "Note that, since one of the above eigenvalues is zero, the above conditions are actually necessary and *sufficient* for the stability of a mixed $\\gamma$ pure $\\alpha=a$ equilibrium. In order to work out sufficient conditions for the stability of a pure $Ga$ equilibrium we need to resort to other methods."
   ]
  },
  {
   "cell_type": "markdown",
   "metadata": {},
   "source": [
    "## gA corner equilbrium"
   ]
  },
  {
   "cell_type": "code",
   "execution_count": 233,
   "metadata": {
    "collapsed": false
   },
   "outputs": [],
   "source": [
    "evaluated_jac = sym.zeros(3, 3)\n",
    "\n",
    "for i in range(3):\n",
    "    for j in range(3):\n",
    "        tmp_expr = rhs_jac[i, j].subs({x0: 0, x1: 0, x2: 1})\n",
    "        if isinstance(tmp_expr, sym.numbers.NaN):\n",
    "            tmp_expr = sym.limit(rhs_jac[i, j].subs({x0: 0, x1: 0}), x2, 1)\n",
    "        evaluated_jac[i, j] = tmp_expr"
   ]
  },
  {
   "cell_type": "code",
   "execution_count": 242,
   "metadata": {
    "collapsed": false
   },
   "outputs": [
    {
     "data": {
      "text/plain": [
       "{0: 1,\n",
       " -(5*PiAA - 3*PiaA*Subs(Derivative(Sg(_xi_1), _xi_1), (_xi_1,), (1,)))/(8*PiAA) - sqrt(PiAA**2*(PiAA + PiaA*Subs(Derivative(Sg(_xi_1), _xi_1), (_xi_1,), (1,)))**2)/(8*PiAA**2): 1,\n",
       " -(5*PiAA - 3*PiaA*Subs(Derivative(Sg(_xi_1), _xi_1), (_xi_1,), (1,)))/(8*PiAA) + sqrt(PiAA**2*(PiAA + PiaA*Subs(Derivative(Sg(_xi_1), _xi_1), (_xi_1,), (1,)))**2)/(8*PiAA**2): 1}"
      ]
     },
     "execution_count": 242,
     "metadata": {},
     "output_type": "execute_result"
    }
   ],
   "source": [
    "evaluated_jac.eigenvals()"
   ]
  },
  {
   "cell_type": "markdown",
   "metadata": {},
   "source": [
    "Necessary conditions for stability are that both non-zero eigenvalues are strictly negative. This implies the following set of conditions...\n",
    "\n",
    "\\begin{align}\n",
    "    S_{g}'(1) < \\frac{3 \\Pi_{AA}}{\\Pi_{aA}}\n",
    "\\end{align}\n",
    "\n",
    "\\begin{align}\n",
    "    S_{g}'(1) < \\frac{\\Pi_{AA}}{\\Pi_{aA}} < 1\n",
    "\\end{align}\n",
    "\n",
    "...note that this second condition is always violated because $S_g'(1) > 1$ for any \"sensible\" function $S_g$.  Therefore, since at least one eigenvalue is strictly positive, a pure $gA$ equilibrium is never stable."
   ]
  },
  {
   "cell_type": "markdown",
   "metadata": {},
   "source": [
    "## ga corner equilbrium\n",
    "\n",
    "Still have issues trying to evaluate the appropriate limits..."
   ]
  },
  {
   "cell_type": "code",
   "execution_count": 344,
   "metadata": {
    "collapsed": false
   },
   "outputs": [],
   "source": [
    "evaluated_jac = sym.zeros(3, 3)\n",
    "\n",
    "for i in range(3):\n",
    "    for j in range(3):\n",
    "        tmp_expr = rhs_jac[i, j].subs({x0: 0, x1: 0, x2: 0})\n",
    "        if isinstance(tmp_expr, sym.numbers.NaN):\n",
    "            tmp_expr = rhs_jac[i, j].subs({x0: 0, x1: 0}).simplify()\n",
    "            numer, denom = sym.fraction(tmp_expr)\n",
    "            evaluated_jac[i, j] = numer.diff(x2).subs({x2: 0}) / denom.diff(x2).subs({x2: 0})\n",
    "        else:\n",
    "            evaluated_jac[i, j] = tmp_expr"
   ]
  },
  {
   "cell_type": "code",
   "execution_count": 346,
   "metadata": {
    "collapsed": false
   },
   "outputs": [
    {
     "data": {
      "text/plain": [
       "{0: 1,\n",
       " (3*PiAa*Subs(Derivative(Sg(_xi_1), _xi_1), (_xi_1,), (0,)) - 5*Piaa)/(8*Piaa) + sqrt(Piaa**2*(PiAa*Subs(Derivative(Sg(_xi_1), _xi_1), (_xi_1,), (0,)) + Piaa)**2)/(8*Piaa**2): 1,\n",
       " (3*PiAa*Subs(Derivative(Sg(_xi_1), _xi_1), (_xi_1,), (0,)) - 5*Piaa)/(8*Piaa) - sqrt(Piaa**2*(PiAa*Subs(Derivative(Sg(_xi_1), _xi_1), (_xi_1,), (0,)) + Piaa)**2)/(8*Piaa**2): 1}"
      ]
     },
     "execution_count": 346,
     "metadata": {},
     "output_type": "execute_result"
    }
   ],
   "source": [
    "evaluated_jac.eigenvals()"
   ]
  },
  {
   "cell_type": "markdown",
   "metadata": {},
   "source": [
    "Necessary conditions for stability are that both non-zero eigenvalues are strictly negative.  We can derive the following necessary conditions...\n",
    "\n",
    "\\begin{align}\n",
    "    (3*PiAa*Subs(Derivative(Sg(_xi_1), _xi_1), (_xi_1,), (0,)) - 5*Piaa)/(8*Piaa) + sqrt(Piaa**2*(PiAa*Subs(Derivative(SG(_xi_1), _xi_1), (_xi_1,), (0,)) + Piaa)**2)/(8*Piaa**2) < 0 \\\\\n",
    "    (3*PiAa*Subs(Derivative(Sg(_xi_1), _xi_1), (_xi_1,), (0,)) - 5*Piaa) + sqrt(Piaa**2*(PiAa*Subs(Derivative(SG(_xi_1), _xi_1), (_xi_1,), (0,)) + Piaa)**2)/(Piaa) < 0 \\\\\n",
    "    (3*PiAa*Subs(Derivative(Sg(_xi_1), _xi_1), (_xi_1,), (0,)) - 5*Piaa) + (Piaa*(PiAa*Subs(Derivative(SG(_xi_1), _xi_1), (_xi_1,), (0,)) + Piaa))/(Piaa) < 0 \\\\\n",
    "    3*PiAa*Subs(Derivative(Sg(_xi_1), _xi_1), (_xi_1,), (0,)) - 5*Piaa + PiAa*Subs(Derivative(SG(_xi_1), _xi_1), (_xi_1,), (0,)) + Piaa < 0 \\\\\n",
    "    4*PiAa*Subs(Derivative(Sg(_xi_1), _xi_1), (_xi_1,), (0,)) - 4*Piaa < 0 \\\\\n",
    "    PiAa*Subs(Derivative(Sg(_xi_1), _xi_1), (_xi_1,), (0,)) < Piaa \\\\\n",
    "    S'_{g}(0) < 1 < \\frac{\\Pi_{aa}}{\\Pi_{Aa}}\n",
    "\\end{align}\n",
    "\n",
    "...and...\n",
    "\n",
    "\\begin{align}\n",
    "    (3*PiAa*Subs(Derivative(Sg(_xi_1), _xi_1), (_xi_1,), (0,)) - 5*Piaa)/(8*Piaa) - sqrt(Piaa**2*(PiAa*Subs(Derivative(Sg(_xi_1), _xi_1), (_xi_1,), (0,)) + Piaa)**2)/(8*Piaa**2) < 0 \\\\\n",
    "    (3*PiAa*Subs(Derivative(Sg(_xi_1), _xi_1), (_xi_1,), (0,)) - 5*Piaa) - sqrt(Piaa**2*(PiAa*Subs(Derivative(Sg(_xi_1), _xi_1), (_xi_1,), (0,)) + Piaa)**2)/(Piaa) < 0 \\\\\n",
    "    (3*PiAa*Subs(Derivative(Sg(_xi_1), _xi_1), (_xi_1,), (0,)) - 5*Piaa) - (Piaa*(PiAa*Subs(Derivative(Sg(_xi_1), _xi_1), (_xi_1,), (0,)) + Piaa))/(Piaa) < 0 \\\\\n",
    "    3*PiAa*Subs(Derivative(Sg(_xi_1), _xi_1), (_xi_1,), (0,)) - 5*Piaa - PiAa*Subs(Derivative(Sg(_xi_1), _xi_1), (_xi_1,), (0,)) - Piaa < 0 \\\\\n",
    "    2*PiAa*Subs(Derivative(Sg(_xi_1), _xi_1), (_xi_1,), (0,)) - 6*Piaa < 0 \\\\\n",
    "    2PiAa*Subs(Derivative(Sg(_xi_1), _xi_1), (_xi_1,), (0,)) < 6*Piaa \\\\\n",
    "    S'_{g}(0) < \\frac{3\\Pi_{aa}}{\\Pi_{Aa}}\n",
    "\\end{align}\n",
    "\n",
    "...note that the first inequality above implies the second.\n",
    "\n",
    "Note that, since one of the above eigenvalues is zero, the above conditions are actually necessary and *sufficient* for the stability of a mixed $\\gamma$ pure $\\alpha=a$ equilibrium. In order to work out sufficient conditions for the stability of a pure $ga$ equilibrium we need to resort to other methods. Finally, note that the first condition above is always satisfied for any \"sensible\" function $S_g$.  Therefore, since at least one eigenvalue is strictly positive, a mixed $\\gamma$ pure $\\alpha=a$ equilibrium is always stable."
   ]
  },
  {
   "cell_type": "code",
   "execution_count": 33,
   "metadata": {
    "collapsed": false
   },
   "outputs": [],
   "source": [
    "evaluated_jac = rhs_jac.subs({x1: 1 - x0, x2: 0, xAstar: x0})"
   ]
  },
  {
   "cell_type": "code",
   "execution_count": null,
   "metadata": {
    "collapsed": true
   },
   "outputs": [],
   "source": [
    "betaG0 = "
   ]
  },
  {
   "cell_type": "code",
   "execution_count": 34,
   "metadata": {
    "collapsed": false
   },
   "outputs": [
    {
     "data": {
      "text/plain": [
       "Matrix([\n",
       "[                                                   -1 + (2*PiAA*betaG0**2 + 4*PiAA*betaG0*betaG1*x0 + 2.0*PiAA*betaG0*betaG1*(-x0 + 1) - 0.5*PiAA*betag0**2 - 2*PiAa*betaG0*betaG1*x0 - 1.0*PiAa*betaG0*betaG1*(-x0 + 1) + 2*PiAa*betaG0*(-betaG0 + 1) + 2*PiAa*betaG1*x0*(-betaG0 + 1) + 1.0*PiAa*betaG1*(-betaG0 + 1)*(-x0 + 1) - 0.5*PiAa*betag0*(-betag0 + 1) - 1.0*PiaA*betaG0*betaG1*x0 + 0.5*PiaA*betaG0*x0*(-betaG0 + 1)/(-x0 + 1) + 1.0*PiaA*betaG0*(-betaG0 + 1) + 1.0*PiaA*betaG1*x0*(-betaG0 + 1) - 2.0*Piaa*betaG1*x0*(-betaG0 + 1) + 0.5*Piaa*x0*(-betaG0 + 1)**2/(-x0 + 1) + 1.0*Piaa*(-betaG0 + 1)**2)/(2*PiAA*betaG0**2 + 2*Piaa*(-betaG0 + 1)**2 + betaG0*(2*PiAa + 2*PiaA)*(-betaG0 + 1)) + (-2*PiAA*(betaG0**2 + 2*betaG0*betaG1 - betag0**2) - 2*Piaa*(-2*betaG1*(-betaG0 + 1) + (-betaG0 + 1)**2 - (-betag0 + 1)**2) - (2*PiAa + 2*PiaA)*(-betaG0*betaG1 + betaG0*(-betaG0 + 1) + betaG1*(-betaG0 + 1) - betag0*(-betag0 + 1)))*(2*PiAA*betaG0**2*x0 + 1.0*PiAA*betaG0**2*(-x0 + 1) + 2*PiAa*betaG0*x0*(-betaG0 + 1) + 1.0*PiAa*betaG0*(-betaG0 + 1)*(-x0 + 1) + 1.0*PiaA*betaG0*x0*(-betaG0 + 1) + 1.0*Piaa*x0*(-betaG0 + 1)**2)/(2*PiAA*betaG0**2 + 2*Piaa*(-betaG0 + 1)**2 + betaG0*(2*PiAa + 2*PiaA)*(-betaG0 + 1))**2,                                                                                                                                                   (1.0*PiAA*betaG0**2 - 0.5*PiAA*betag0**2 + 1.0*PiAa*betaG0*(-betaG0 + 1) - 0.5*PiAa*betag0*(-betag0 + 1) + 0.5*PiaA*betaG0*x0*(-betaG0 + 1)/(-x0 + 1) + 0.5*Piaa*x0*(-betaG0 + 1)**2/(-x0 + 1))/(2*PiAA*betaG0**2 + 2*Piaa*(-betaG0 + 1)**2 + betaG0*(2*PiAa + 2*PiaA)*(-betaG0 + 1)) + (-2*PiAA*(betaG0**2 - betag0**2) - 2*Piaa*((-betaG0 + 1)**2 - (-betag0 + 1)**2) - (2*PiAa + 2*PiaA)*(betaG0*(-betaG0 + 1) - betag0*(-betag0 + 1)))*(2*PiAA*betaG0**2*x0 + 1.0*PiAA*betaG0**2*(-x0 + 1) + 2*PiAa*betaG0*x0*(-betaG0 + 1) + 1.0*PiAa*betaG0*(-betaG0 + 1)*(-x0 + 1) + 1.0*PiaA*betaG0*x0*(-betaG0 + 1) + 1.0*Piaa*x0*(-betaG0 + 1)**2)/(2*PiAA*betaG0**2 + 2*Piaa*(-betaG0 + 1)**2 + betaG0*(2*PiAa + 2*PiaA)*(-betaG0 + 1))**2,                                                         (-1.0*PiAA*betaG0**2 - 0.5*PiAA*betaG0**2*(-x0 + 1)/x0 + 4*PiAA*betaG0*betaG1*x0 + 2.0*PiAA*betaG0*betaG1*(-x0 + 1) + 0.5*PiAA*betag0**2 - 2*PiAa*betaG0*betaG1*x0 - 1.0*PiAa*betaG0*betaG1*(-x0 + 1) - 1.0*PiAa*betaG0*(-betaG0 + 1) - 0.5*PiAa*betaG0*(-betaG0 + 1)*(-x0 + 1)/x0 + 2*PiAa*betaG1*x0*(-betaG0 + 1) + 1.0*PiAa*betaG1*(-betaG0 + 1)*(-x0 + 1) + 0.5*PiAa*betag0*(-betag0 + 1) - 1.0*PiaA*betaG0*betaG1*x0 + 0.5*PiaA*betaG0*x0*(-betaG0 + 1)/(-x0 + 1) + 1.0*PiaA*betaG1*x0*(-betaG0 + 1) + 0.5*PiaA*betag0*(-betag0 + 1) - 2.0*Piaa*betaG1*x0*(-betaG0 + 1) + 0.5*Piaa*x0*(-betaG0 + 1)**2/(-x0 + 1) + 0.5*Piaa*(-betag0 + 1)**2)/(2*PiAA*betaG0**2 + 2*Piaa*(-betaG0 + 1)**2 + betaG0*(2*PiAa + 2*PiaA)*(-betaG0 + 1)) + (-4*PiAA*betaG0*betaG1 + 4*Piaa*betaG1*(-betaG0 + 1) - (2*PiAa + 2*PiaA)*(-betaG0*betaG1 + betaG1*(-betaG0 + 1)))*(2*PiAA*betaG0**2*x0 + 1.0*PiAA*betaG0**2*(-x0 + 1) + 2*PiAa*betaG0*x0*(-betaG0 + 1) + 1.0*PiAa*betaG0*(-betaG0 + 1)*(-x0 + 1) + 1.0*PiaA*betaG0*x0*(-betaG0 + 1) + 1.0*Piaa*x0*(-betaG0 + 1)**2)/(2*PiAA*betaG0**2 + 2*Piaa*(-betaG0 + 1)**2 + betaG0*(2*PiAa + 2*PiaA)*(-betaG0 + 1))**2],\n",
       "[(2.0*PiAA*betaG0*betaG1*(-x0 + 1) - 0.5*PiAA*betag0**2 - 1.0*PiAa*betaG0*betaG1*(-x0 + 1) + 1.0*PiAa*betaG1*(-betaG0 + 1)*(-x0 + 1) - 0.5*PiAa*betag0*(-betag0 + 1) - 1.0*PiaA*betaG0*betaG1*x0 - 2*PiaA*betaG0*betaG1*(-x0 + 1) + 0.5*PiaA*betaG0*x0*(-betaG0 + 1)/(-x0 + 1) + 2*PiaA*betaG0*(-betaG0 + 1) + 1.0*PiaA*betaG1*x0*(-betaG0 + 1) + 2*PiaA*betaG1*(-betaG0 + 1)*(-x0 + 1) - 1.0*PiaA*betag0*(-betag0 + 1) - 2.0*Piaa*betaG1*x0*(-betaG0 + 1) - 4*Piaa*betaG1*(-betaG0 + 1)*(-x0 + 1) + 0.5*Piaa*x0*(-betaG0 + 1)**2/(-x0 + 1) + 2*Piaa*(-betaG0 + 1)**2 - 1.0*Piaa*(-betag0 + 1)**2)/(2*PiAA*betaG0**2 + 2*Piaa*(-betaG0 + 1)**2 + betaG0*(2*PiAa + 2*PiaA)*(-betaG0 + 1)) + (-2*PiAA*(betaG0**2 + 2*betaG0*betaG1 - betag0**2) - 2*Piaa*(-2*betaG1*(-betaG0 + 1) + (-betaG0 + 1)**2 - (-betag0 + 1)**2) - (2*PiAa + 2*PiaA)*(-betaG0*betaG1 + betaG0*(-betaG0 + 1) + betaG1*(-betaG0 + 1) - betag0*(-betag0 + 1)))*(1.0*PiAA*betaG0**2*(-x0 + 1) + 1.0*PiAa*betaG0*(-betaG0 + 1)*(-x0 + 1) + 1.0*PiaA*betaG0*x0*(-betaG0 + 1) + 2*PiaA*betaG0*(-betaG0 + 1)*(-x0 + 1) + 1.0*Piaa*x0*(-betaG0 + 1)**2 + 2*Piaa*(-betaG0 + 1)**2*(-x0 + 1))/(2*PiAA*betaG0**2 + 2*Piaa*(-betaG0 + 1)**2 + betaG0*(2*PiAa + 2*PiaA)*(-betaG0 + 1))**2, -1 + (1.0*PiAA*betaG0**2 - 0.5*PiAA*betag0**2 + 1.0*PiAa*betaG0*(-betaG0 + 1) - 0.5*PiAa*betag0*(-betag0 + 1) + 0.5*PiaA*betaG0*x0*(-betaG0 + 1)/(-x0 + 1) + 3.0*PiaA*betaG0*(-betaG0 + 1) - 1.0*PiaA*betag0*(-betag0 + 1) + 0.5*Piaa*x0*(-betaG0 + 1)**2/(-x0 + 1) + 3.0*Piaa*(-betaG0 + 1)**2 - 1.0*Piaa*(-betag0 + 1)**2)/(2*PiAA*betaG0**2 + 2*Piaa*(-betaG0 + 1)**2 + betaG0*(2*PiAa + 2*PiaA)*(-betaG0 + 1)) + (-2*PiAA*(betaG0**2 - betag0**2) - 2*Piaa*((-betaG0 + 1)**2 - (-betag0 + 1)**2) - (2*PiAa + 2*PiaA)*(betaG0*(-betaG0 + 1) - betag0*(-betag0 + 1)))*(1.0*PiAA*betaG0**2*(-x0 + 1) + 1.0*PiAa*betaG0*(-betaG0 + 1)*(-x0 + 1) + 1.0*PiaA*betaG0*x0*(-betaG0 + 1) + 2*PiaA*betaG0*(-betaG0 + 1)*(-x0 + 1) + 1.0*Piaa*x0*(-betaG0 + 1)**2 + 2*Piaa*(-betaG0 + 1)**2*(-x0 + 1))/(2*PiAA*betaG0**2 + 2*Piaa*(-betaG0 + 1)**2 + betaG0*(2*PiAa + 2*PiaA)*(-betaG0 + 1))**2, (-0.5*PiAA*betaG0**2*(-x0 + 1)/x0 + 2.0*PiAA*betaG0*betaG1*(-x0 + 1) - 0.5*PiAA*betag0**2 - 1.0*PiAa*betaG0*betaG1*(-x0 + 1) - 0.5*PiAa*betaG0*(-betaG0 + 1)*(-x0 + 1)/x0 + 1.0*PiAa*betaG1*(-betaG0 + 1)*(-x0 + 1) - 0.5*PiAa*betag0*(-betag0 + 1) - 1.0*PiaA*betaG0*betaG1*x0 - 2*PiaA*betaG0*betaG1*(-x0 + 1) + 0.5*PiaA*betaG0*x0*(-betaG0 + 1)/(-x0 + 1) + 1.0*PiaA*betaG0*(-betaG0 + 1) + 1.0*PiaA*betaG1*x0*(-betaG0 + 1) + 2*PiaA*betaG1*(-betaG0 + 1)*(-x0 + 1) - 0.5*PiaA*betag0*(-betag0 + 1) - 2.0*Piaa*betaG1*x0*(-betaG0 + 1) - 4*Piaa*betaG1*(-betaG0 + 1)*(-x0 + 1) + 0.5*Piaa*x0*(-betaG0 + 1)**2/(-x0 + 1) + 1.0*Piaa*(-betaG0 + 1)**2 - 0.5*Piaa*(-betag0 + 1)**2)/(2*PiAA*betaG0**2 + 2*Piaa*(-betaG0 + 1)**2 + betaG0*(2*PiAa + 2*PiaA)*(-betaG0 + 1)) + (-4*PiAA*betaG0*betaG1 + 4*Piaa*betaG1*(-betaG0 + 1) - (2*PiAa + 2*PiaA)*(-betaG0*betaG1 + betaG1*(-betaG0 + 1)))*(1.0*PiAA*betaG0**2*(-x0 + 1) + 1.0*PiAa*betaG0*(-betaG0 + 1)*(-x0 + 1) + 1.0*PiaA*betaG0*x0*(-betaG0 + 1) + 2*PiaA*betaG0*(-betaG0 + 1)*(-x0 + 1) + 1.0*Piaa*x0*(-betaG0 + 1)**2 + 2*Piaa*(-betaG0 + 1)**2*(-x0 + 1))/(2*PiAA*betaG0**2 + 2*Piaa*(-betaG0 + 1)**2 + betaG0*(2*PiAa + 2*PiaA)*(-betaG0 + 1))**2],\n",
       "[                                                                                                                                                                                                                                                                                                                                                                                                                                                                                                                                                                                                                                                                                                                                                                                                                                                                                                                                                                                                               (-0.5*PiAA*betag0**2 - 0.5*PiAa*betag0*(-betag0 + 1) - 0.5*PiaA*betaG0*x0*(-betaG0 + 1)/(-x0 + 1) - 0.5*Piaa*x0*(-betaG0 + 1)**2/(-x0 + 1))/(2*PiAA*betaG0**2 + 2*Piaa*(-betaG0 + 1)**2 + betaG0*(2*PiAa + 2*PiaA)*(-betaG0 + 1)),                                                                                                                                                                                                                                                                                                                                                                                                                                                                                                                                                                                                                                                       (-0.5*PiAA*betag0**2 - 0.5*PiAa*betag0*(-betag0 + 1) - 0.5*PiaA*betaG0*x0*(-betaG0 + 1)/(-x0 + 1) - 0.5*Piaa*x0*(-betaG0 + 1)**2/(-x0 + 1))/(2*PiAA*betaG0**2 + 2*Piaa*(-betaG0 + 1)**2 + betaG0*(2*PiAa + 2*PiaA)*(-betaG0 + 1)),                                                                                                                                                                                                                                                                                                                                                                                                                                                                                                                                                                                                                                                                                                                                                                           -1 + (1.0*PiAA*betaG0**2 + 0.5*PiAA*betaG0**2*(-x0 + 1)/x0 + 0.5*PiAA*betag0**2 + 1.0*PiAa*betaG0*(-betaG0 + 1) + 0.5*PiAa*betaG0*(-betaG0 + 1)*(-x0 + 1)/x0 + 0.5*PiAa*betag0*(-betag0 + 1) - 0.5*PiaA*betaG0*x0*(-betaG0 + 1)/(-x0 + 1) + 0.5*PiaA*betag0*(-betag0 + 1) - 0.5*Piaa*x0*(-betaG0 + 1)**2/(-x0 + 1) + 0.5*Piaa*(-betag0 + 1)**2)/(2*PiAA*betaG0**2 + 2*Piaa*(-betaG0 + 1)**2 + betaG0*(2*PiAa + 2*PiaA)*(-betaG0 + 1))]])"
      ]
     },
     "execution_count": 34,
     "metadata": {},
     "output_type": "execute_result"
    }
   ],
   "source": [
    "evaluated_jac"
   ]
  },
  {
   "cell_type": "code",
   "execution_count": 33,
   "metadata": {
    "collapsed": false
   },
   "outputs": [
    {
     "data": {
      "text/plain": [
       "(PiAA*x0*S(x0)**2 - 0.5*PiAA*(x0 - 1)*S(x0)**2 - PiAa*x0*(S(x0) - 1)*S(x0) + 0.5*PiAa*(x0 - 1)*(S(x0) - 1)*S(x0) - 0.5*PiaA*x0*(S(x0) - 1)*S(x0) + 0.5*Piaa*x0*(S(x0) - 1)**2 - x0*(PiAA*S(x0)**2 + Piaa*(S(x0) - 1)**2 - (PiAa + PiaA)*(S(x0) - 1)*S(x0)))/(PiAA*S(x0)**2 + Piaa*(S(x0) - 1)**2 - (PiAa + PiaA)*(S(x0) - 1)*S(x0))"
      ]
     },
     "execution_count": 33,
     "metadata": {},
     "output_type": "execute_result"
    }
   ],
   "source": [
    "res.simplify()"
   ]
  },
  {
   "cell_type": "code",
   "execution_count": 34,
   "metadata": {
    "collapsed": true
   },
   "outputs": [],
   "source": [
    "numer, denom = sym.fraction(res.simplify())"
   ]
  },
  {
   "cell_type": "code",
   "execution_count": 37,
   "metadata": {
    "collapsed": false
   },
   "outputs": [
    {
     "data": {
      "text/plain": [
       "-0.5*PiAA*x0*S(x0) + 0.5*PiAA*S(x0) + 0.5*PiAa*x0*S(x0) - 0.5*PiAa*x0 - 0.5*PiAa*S(x0) + 0.5*PiAa + 0.5*PiaA*x0*S(x0) - 0.5*PiaA*x0 - 0.5*Piaa*x0*S(x0) + 1.0*Piaa*x0 - 0.5*Piaa*x0/S(x0)"
      ]
     },
     "execution_count": 37,
     "metadata": {},
     "output_type": "execute_result"
    }
   ],
   "source": [
    "(numer / S(x0)).simplify()"
   ]
  },
  {
   "cell_type": "code",
   "execution_count": 38,
   "metadata": {
    "collapsed": false
   },
   "outputs": [
    {
     "data": {
      "text/plain": [
       "-0.5*PiAA*S(x0) + 0.5*PiAA*S(x0)/x0 + 0.5*PiAa*S(x0) - 0.5*PiAa - 0.5*PiAa*S(x0)/x0 + 0.5*PiAa/x0 + 0.5*PiaA*S(x0) - 0.5*PiaA - 0.5*Piaa*S(x0) + 1.0*Piaa - 0.5*Piaa/S(x0)"
      ]
     },
     "execution_count": 38,
     "metadata": {},
     "output_type": "execute_result"
    }
   ],
   "source": [
    "((numer / S(x0)) / x0).simplify()"
   ]
  },
  {
   "cell_type": "code",
   "execution_count": 40,
   "metadata": {
    "collapsed": false
   },
   "outputs": [
    {
     "data": {
      "text/plain": [
       "[(-0.5*PiAa*x0 + 0.5*PiAa - 0.5*PiaA*x0 + Piaa*x0 - 0.5*sqrt(-4.0*PiAA*Piaa*x0**2 + 4.0*PiAA*Piaa*x0 + PiAa**2*x0**2 - 2.0*PiAa**2*x0 + PiAa**2 + 2.0*PiAa*PiaA*x0**2 - 2.0*PiAa*PiaA*x0 + PiaA**2*x0**2))/(PiAA*x0 - PiAA - PiAa*x0 + PiAa - PiaA*x0 + Piaa*x0),\n",
       " (-0.5*PiAa*x0 + 0.5*PiAa - 0.5*PiaA*x0 + Piaa*x0 + 0.5*sqrt(-4.0*PiAA*Piaa*x0**2 + 4.0*PiAA*Piaa*x0 + PiAa**2*x0**2 - 2.0*PiAa**2*x0 + PiAa**2 + 2.0*PiAa*PiaA*x0**2 - 2.0*PiAa*PiaA*x0 + PiaA**2*x0**2))/(PiAA*x0 - PiAA - PiAa*x0 + PiAa - PiaA*x0 + Piaa*x0)]"
      ]
     },
     "execution_count": 40,
     "metadata": {},
     "output_type": "execute_result"
    }
   ],
   "source": [
    "sym.solve(((numer / S(x0)) / x0).simplify(), S(x0))"
   ]
  },
  {
   "cell_type": "code",
   "execution_count": 41,
   "metadata": {
    "collapsed": false
   },
   "outputs": [],
   "source": [
    "evaluated_jac = rhs_jac.subs({x1: 1 - x0, x2: 0})"
   ]
  },
  {
   "cell_type": "code",
   "execution_count": 45,
   "metadata": {
    "collapsed": false
   },
   "outputs": [],
   "source": [
    "charpoly = evaluated_jac.charpoly()\n"
   ]
  },
  {
   "cell_type": "code",
   "execution_count": 48,
   "metadata": {
    "collapsed": false
   },
   "outputs": [],
   "source": [
    "a, b, c, d = charpoly.coeffs()"
   ]
  },
  {
   "cell_type": "code",
   "execution_count": 78,
   "metadata": {
    "collapsed": false
   },
   "outputs": [
    {
     "data": {
      "text/plain": [
       "(x0*(x0 - 1)*(-(PiAA*(SG(x0)**2 - Sg(x0)**2) + Piaa*((SG(x0) - 1)**2 - (Sg(x0) - 1)**2) - (PiAa + PiaA)*((SG(x0) - 1)*SG(x0) - (Sg(x0) - 1)*Sg(x0)))*(1.0*PiAA*(x0 - 1)*SG(x0)**2 - 1.0*PiAa*(x0 - 1)*(SG(x0) - 1)*SG(x0) + 1.0*PiaA*x0*(SG(x0) - 1)*SG(x0) - 2*PiaA*(x0 - 1)*(SG(x0) - 1)*SG(x0) - 1.0*Piaa*x0*(SG(x0) - 1)**2 + 2*Piaa*(x0 - 1)*(SG(x0) - 1)**2) + (PiAA*(SG(x0)**2 + 2*SG(x0)*Subs(Derivative(SG(_xi_1), _xi_1), (_xi_1,), (x0,)) - Sg(x0)**2) + Piaa*((SG(x0) - 1)**2 + 2*(SG(x0) - 1)*Subs(Derivative(SG(_xi_1), _xi_1), (_xi_1,), (x0,)) - (Sg(x0) - 1)**2) - (PiAa + PiaA)*((SG(x0) - 1)*SG(x0) + (SG(x0) - 1)*Subs(Derivative(SG(_xi_1), _xi_1), (_xi_1,), (x0,)) - (Sg(x0) - 1)*Sg(x0) + SG(x0)*Subs(Derivative(SG(_xi_1), _xi_1), (_xi_1,), (x0,))))*(2*PiAA*x0*SG(x0)**2 - 1.0*PiAA*(x0 - 1)*SG(x0)**2 - 2*PiAa*x0*(SG(x0) - 1)*SG(x0) + 1.0*PiAa*(x0 - 1)*(SG(x0) - 1)*SG(x0) - 1.0*PiaA*x0*(SG(x0) - 1)*SG(x0) + 1.0*Piaa*x0*(SG(x0) - 1)**2)) + 6*x0*(x0 - 1)*(PiAA*SG(x0)**2 + Piaa*(SG(x0) - 1)**2 - (PiAa + PiaA)*(SG(x0) - 1)*SG(x0))**2 + x0*(PiAA*SG(x0)**2 + Piaa*(SG(x0) - 1)**2 - (PiAa + PiaA)*(SG(x0) - 1)*SG(x0))*(-1.0*PiaA*x0*(SG(x0) - 1)*SG(x0) + 1.0*Piaa*x0*(SG(x0) - 1)**2 - (x0 - 1)*(1.0*PiAA*SG(x0)**2 - 0.5*PiAA*Sg(x0)**2 - 1.0*PiAa*(SG(x0) - 1)*SG(x0) + 0.5*PiAa*(Sg(x0) - 1)*Sg(x0) - 3.0*PiaA*(SG(x0) - 1)*SG(x0) + 1.0*PiaA*(Sg(x0) - 1)*Sg(x0) + 3.0*Piaa*(SG(x0) - 1)**2 - 1.0*Piaa*(Sg(x0) - 1)**2) + (x0 - 1)*(-4*PiAA*x0*SG(x0)*Subs(Derivative(SG(_xi_1), _xi_1), (_xi_1,), (x0,)) + 2.0*PiAA*(x0 - 1)*SG(x0)*Subs(Derivative(SG(_xi_1), _xi_1), (_xi_1,), (x0,)) - 2*PiAA*SG(x0)**2 + 0.5*PiAA*Sg(x0)**2 + 2*PiAa*x0*(SG(x0) - 1)*Subs(Derivative(SG(_xi_1), _xi_1), (_xi_1,), (x0,)) + 2*PiAa*x0*SG(x0)*Subs(Derivative(SG(_xi_1), _xi_1), (_xi_1,), (x0,)) - 1.0*PiAa*(x0 - 1)*(SG(x0) - 1)*Subs(Derivative(SG(_xi_1), _xi_1), (_xi_1,), (x0,)) - 1.0*PiAa*(x0 - 1)*SG(x0)*Subs(Derivative(SG(_xi_1), _xi_1), (_xi_1,), (x0,)) + 2*PiAa*(SG(x0) - 1)*SG(x0) - 0.5*PiAa*(Sg(x0) - 1)*Sg(x0) + 1.0*PiaA*x0*(SG(x0) - 1)*Subs(Derivative(SG(_xi_1), _xi_1), (_xi_1,), (x0,)) + 1.0*PiaA*x0*SG(x0)*Subs(Derivative(SG(_xi_1), _xi_1), (_xi_1,), (x0,)) + 1.0*PiaA*(SG(x0) - 1)*SG(x0) - 2.0*Piaa*x0*(SG(x0) - 1)*Subs(Derivative(SG(_xi_1), _xi_1), (_xi_1,), (x0,)) - 1.0*Piaa*(SG(x0) - 1)**2)) - (PiAA*SG(x0)**2 + Piaa*(SG(x0) - 1)**2 - (PiAa + PiaA)*(SG(x0) - 1)*SG(x0))*(x0**2*(-0.5*PiaA*SG(x0) + 0.5*Piaa*(SG(x0) - 1))*(SG(x0) - 1) + x0*(x0 - 1)*(1.0*PiAA*SG(x0)**2 + 0.5*PiAA*Sg(x0)**2 - 1.0*PiAa*(SG(x0) - 1)*SG(x0) - 0.5*PiAa*(Sg(x0) - 1)*Sg(x0) - 0.5*PiaA*(Sg(x0) - 1)*Sg(x0) + 0.5*Piaa*(Sg(x0) - 1)**2) + (x0 - 1)**2*(-0.5*PiAA*SG(x0) + 0.5*PiAa*(SG(x0) - 1))*SG(x0)))/(2*x0*(x0 - 1)*(PiAA*SG(x0)**2 + Piaa*(SG(x0) - 1)**2 - (PiAa + PiaA)*(SG(x0) - 1)*SG(x0))**2)"
      ]
     },
     "execution_count": 78,
     "metadata": {},
     "output_type": "execute_result"
    }
   ],
   "source": [
    "b"
   ]
  },
  {
   "cell_type": "code",
   "execution_count": 59,
   "metadata": {
    "collapsed": false
   },
   "outputs": [],
   "source": [
    "numer, denom = sym.fraction(b)"
   ]
  },
  {
   "cell_type": "code",
   "execution_count": 60,
   "metadata": {
    "collapsed": false
   },
   "outputs": [
    {
     "data": {
      "text/plain": [
       "x0*(x0 - 1)*(-(PiAA*(SG(x0)**2 - Sg(x0)**2) + Piaa*((SG(x0) - 1)**2 - (Sg(x0) - 1)**2) - (PiAa + PiaA)*((SG(x0) - 1)*SG(x0) - (Sg(x0) - 1)*Sg(x0)))*(1.0*PiAA*(x0 - 1)*SG(x0)**2 - 1.0*PiAa*(x0 - 1)*(SG(x0) - 1)*SG(x0) + 1.0*PiaA*x0*(SG(x0) - 1)*SG(x0) - 2*PiaA*(x0 - 1)*(SG(x0) - 1)*SG(x0) - 1.0*Piaa*x0*(SG(x0) - 1)**2 + 2*Piaa*(x0 - 1)*(SG(x0) - 1)**2) + (PiAA*(SG(x0)**2 + 2*SG(x0)*Subs(Derivative(SG(_xi_1), _xi_1), (_xi_1,), (x0,)) - Sg(x0)**2) + Piaa*((SG(x0) - 1)**2 + 2*(SG(x0) - 1)*Subs(Derivative(SG(_xi_1), _xi_1), (_xi_1,), (x0,)) - (Sg(x0) - 1)**2) - (PiAa + PiaA)*((SG(x0) - 1)*SG(x0) + (SG(x0) - 1)*Subs(Derivative(SG(_xi_1), _xi_1), (_xi_1,), (x0,)) - (Sg(x0) - 1)*Sg(x0) + SG(x0)*Subs(Derivative(SG(_xi_1), _xi_1), (_xi_1,), (x0,))))*(2*PiAA*x0*SG(x0)**2 - 1.0*PiAA*(x0 - 1)*SG(x0)**2 - 2*PiAa*x0*(SG(x0) - 1)*SG(x0) + 1.0*PiAa*(x0 - 1)*(SG(x0) - 1)*SG(x0) - 1.0*PiaA*x0*(SG(x0) - 1)*SG(x0) + 1.0*Piaa*x0*(SG(x0) - 1)**2)) + 6*x0*(x0 - 1)*(PiAA*SG(x0)**2 + Piaa*(SG(x0) - 1)**2 - (PiAa + PiaA)*(SG(x0) - 1)*SG(x0))**2 + x0*(PiAA*SG(x0)**2 + Piaa*(SG(x0) - 1)**2 - (PiAa + PiaA)*(SG(x0) - 1)*SG(x0))*(-1.0*PiaA*x0*(SG(x0) - 1)*SG(x0) + 1.0*Piaa*x0*(SG(x0) - 1)**2 - (x0 - 1)*(1.0*PiAA*SG(x0)**2 - 0.5*PiAA*Sg(x0)**2 - 1.0*PiAa*(SG(x0) - 1)*SG(x0) + 0.5*PiAa*(Sg(x0) - 1)*Sg(x0) - 3.0*PiaA*(SG(x0) - 1)*SG(x0) + 1.0*PiaA*(Sg(x0) - 1)*Sg(x0) + 3.0*Piaa*(SG(x0) - 1)**2 - 1.0*Piaa*(Sg(x0) - 1)**2) + (x0 - 1)*(-4*PiAA*x0*SG(x0)*Subs(Derivative(SG(_xi_1), _xi_1), (_xi_1,), (x0,)) + 2.0*PiAA*(x0 - 1)*SG(x0)*Subs(Derivative(SG(_xi_1), _xi_1), (_xi_1,), (x0,)) - 2*PiAA*SG(x0)**2 + 0.5*PiAA*Sg(x0)**2 + 2*PiAa*x0*(SG(x0) - 1)*Subs(Derivative(SG(_xi_1), _xi_1), (_xi_1,), (x0,)) + 2*PiAa*x0*SG(x0)*Subs(Derivative(SG(_xi_1), _xi_1), (_xi_1,), (x0,)) - 1.0*PiAa*(x0 - 1)*(SG(x0) - 1)*Subs(Derivative(SG(_xi_1), _xi_1), (_xi_1,), (x0,)) - 1.0*PiAa*(x0 - 1)*SG(x0)*Subs(Derivative(SG(_xi_1), _xi_1), (_xi_1,), (x0,)) + 2*PiAa*(SG(x0) - 1)*SG(x0) - 0.5*PiAa*(Sg(x0) - 1)*Sg(x0) + 1.0*PiaA*x0*(SG(x0) - 1)*Subs(Derivative(SG(_xi_1), _xi_1), (_xi_1,), (x0,)) + 1.0*PiaA*x0*SG(x0)*Subs(Derivative(SG(_xi_1), _xi_1), (_xi_1,), (x0,)) + 1.0*PiaA*(SG(x0) - 1)*SG(x0) - 2.0*Piaa*x0*(SG(x0) - 1)*Subs(Derivative(SG(_xi_1), _xi_1), (_xi_1,), (x0,)) - 1.0*Piaa*(SG(x0) - 1)**2)) - (PiAA*SG(x0)**2 + Piaa*(SG(x0) - 1)**2 - (PiAa + PiaA)*(SG(x0) - 1)*SG(x0))*(x0**2*(-0.5*PiaA*SG(x0) + 0.5*Piaa*(SG(x0) - 1))*(SG(x0) - 1) + x0*(x0 - 1)*(1.0*PiAA*SG(x0)**2 + 0.5*PiAA*Sg(x0)**2 - 1.0*PiAa*(SG(x0) - 1)*SG(x0) - 0.5*PiAa*(Sg(x0) - 1)*Sg(x0) - 0.5*PiaA*(Sg(x0) - 1)*Sg(x0) + 0.5*Piaa*(Sg(x0) - 1)**2) + (x0 - 1)**2*(-0.5*PiAA*SG(x0) + 0.5*PiAa*(SG(x0) - 1))*SG(x0))"
      ]
     },
     "execution_count": 60,
     "metadata": {},
     "output_type": "execute_result"
    }
   ],
   "source": [
    "numer"
   ]
  },
  {
   "cell_type": "code",
   "execution_count": 61,
   "metadata": {
    "collapsed": false
   },
   "outputs": [
    {
     "data": {
      "text/plain": [
       "2*x0*(x0 - 1)*(PiAA*SG(x0)**2 + Piaa*(SG(x0) - 1)**2 - (PiAa + PiaA)*(SG(x0) - 1)*SG(x0))**2"
      ]
     },
     "execution_count": 61,
     "metadata": {},
     "output_type": "execute_result"
    }
   ],
   "source": [
    "denom"
   ]
  },
  {
   "cell_type": "code",
   "execution_count": 50,
   "metadata": {
    "collapsed": false
   },
   "outputs": [
    {
     "data": {
      "text/plain": [
       "(x0*(((x0 - 1)*(PiAA*(SG(x0)**2 - Sg(x0)**2) + Piaa*((SG(x0) - 1)**2 - (Sg(x0) - 1)**2) - (PiAa + PiaA)*((SG(x0) - 1)*SG(x0) - (Sg(x0) - 1)*Sg(x0)))*(2*PiAA*x0*SG(x0)**2 - 1.0*PiAA*(x0 - 1)*SG(x0)**2 - 2*PiAa*x0*(SG(x0) - 1)*SG(x0) + 1.0*PiAa*(x0 - 1)*(SG(x0) - 1)*SG(x0) - 1.0*PiaA*x0*(SG(x0) - 1)*SG(x0) + 1.0*Piaa*x0*(SG(x0) - 1)**2) + (PiAA*SG(x0)**2 + Piaa*(SG(x0) - 1)**2 - (PiAa + PiaA)*(SG(x0) - 1)*SG(x0))*(-0.5*PiaA*x0*(SG(x0) - 1)*SG(x0) + 0.5*Piaa*x0*(SG(x0) - 1)**2 - (x0 - 1)*(1.0*PiAA*SG(x0)**2 - 0.5*PiAA*Sg(x0)**2 - 1.0*PiAa*(SG(x0) - 1)*SG(x0) + 0.5*PiAa*(Sg(x0) - 1)*Sg(x0))))*((x0 - 1)*(PiAA*(SG(x0)**2 + 2*SG(x0)*Subs(Derivative(SG(_xi_1), _xi_1), (_xi_1,), (x0,)) - Sg(x0)**2) + Piaa*((SG(x0) - 1)**2 + 2*(SG(x0) - 1)*Subs(Derivative(SG(_xi_1), _xi_1), (_xi_1,), (x0,)) - (Sg(x0) - 1)**2) + (PiAa + PiaA)*(-(SG(x0) - 1)*SG(x0) - (SG(x0) - 1)*Subs(Derivative(SG(_xi_1), _xi_1), (_xi_1,), (x0,)) + (Sg(x0) - 1)*Sg(x0) - SG(x0)*Subs(Derivative(SG(_xi_1), _xi_1), (_xi_1,), (x0,))))*(1.0*PiAA*(x0 - 1)*SG(x0)**2 - 1.0*PiAa*(x0 - 1)*(SG(x0) - 1)*SG(x0) + 1.0*PiaA*x0*(SG(x0) - 1)*SG(x0) - 2*PiaA*(x0 - 1)*(SG(x0) - 1)*SG(x0) - 1.0*Piaa*x0*(SG(x0) - 1)**2 + 2*Piaa*(x0 - 1)*(SG(x0) - 1)**2) + (PiAA*SG(x0)**2 + Piaa*(SG(x0) - 1)**2 - (PiAa + PiaA)*(SG(x0) - 1)*SG(x0))*(0.5*PiaA*x0*(SG(x0) - 1)*SG(x0) - 0.5*Piaa*x0*(SG(x0) - 1)**2 + (x0 - 1)*(-2.0*PiAA*(x0 - 1)*SG(x0)*Subs(Derivative(SG(_xi_1), _xi_1), (_xi_1,), (x0,)) - 0.5*PiAA*Sg(x0)**2 + 1.0*PiAa*(x0 - 1)*(SG(x0) - 1)*Subs(Derivative(SG(_xi_1), _xi_1), (_xi_1,), (x0,)) + 1.0*PiAa*(x0 - 1)*SG(x0)*Subs(Derivative(SG(_xi_1), _xi_1), (_xi_1,), (x0,)) + 0.5*PiAa*(Sg(x0) - 1)*Sg(x0) - 1.0*PiaA*x0*(SG(x0) - 1)*Subs(Derivative(SG(_xi_1), _xi_1), (_xi_1,), (x0,)) - 1.0*PiaA*x0*SG(x0)*Subs(Derivative(SG(_xi_1), _xi_1), (_xi_1,), (x0,)) + 2*PiaA*(x0 - 1)*(SG(x0) - 1)*Subs(Derivative(SG(_xi_1), _xi_1), (_xi_1,), (x0,)) + 2*PiaA*(x0 - 1)*SG(x0)*Subs(Derivative(SG(_xi_1), _xi_1), (_xi_1,), (x0,)) - 2*PiaA*(SG(x0) - 1)*SG(x0) + 1.0*PiaA*(Sg(x0) - 1)*Sg(x0) + 2.0*Piaa*x0*(SG(x0) - 1)*Subs(Derivative(SG(_xi_1), _xi_1), (_xi_1,), (x0,)) - 4*Piaa*(x0 - 1)*(SG(x0) - 1)*Subs(Derivative(SG(_xi_1), _xi_1), (_xi_1,), (x0,)) + 2*Piaa*(SG(x0) - 1)**2 - 1.0*Piaa*(Sg(x0) - 1)**2))) + ((x0 - 1)*(-PiAA*(SG(x0)**2 - Sg(x0)**2) - Piaa*((SG(x0) - 1)**2 - (Sg(x0) - 1)**2) + (PiAa + PiaA)*((SG(x0) - 1)*SG(x0) - (Sg(x0) - 1)*Sg(x0)))*(1.0*PiAA*(x0 - 1)*SG(x0)**2 - 1.0*PiAa*(x0 - 1)*(SG(x0) - 1)*SG(x0) + 1.0*PiaA*x0*(SG(x0) - 1)*SG(x0) - 2*PiaA*(x0 - 1)*(SG(x0) - 1)*SG(x0) - 1.0*Piaa*x0*(SG(x0) - 1)**2 + 2*Piaa*(x0 - 1)*(SG(x0) - 1)**2) + 2*(x0 - 1)*(PiAA*SG(x0)**2 + Piaa*(SG(x0) - 1)**2 - (PiAa + PiaA)*(SG(x0) - 1)*SG(x0))**2 + (PiAA*SG(x0)**2 + Piaa*(SG(x0) - 1)**2 - (PiAa + PiaA)*(SG(x0) - 1)*SG(x0))*(-0.5*PiaA*x0*(SG(x0) - 1)*SG(x0) + 0.5*Piaa*x0*(SG(x0) - 1)**2 - (x0 - 1)*(1.0*PiAA*SG(x0)**2 - 0.5*PiAA*Sg(x0)**2 - 1.0*PiAa*(SG(x0) - 1)*SG(x0) + 0.5*PiAa*(Sg(x0) - 1)*Sg(x0) - 3.0*PiaA*(SG(x0) - 1)*SG(x0) + 1.0*PiaA*(Sg(x0) - 1)*Sg(x0) + 3.0*Piaa*(SG(x0) - 1)**2 - 1.0*Piaa*(Sg(x0) - 1)**2)))*((x0 - 1)*(PiAA*(SG(x0)**2 + 2*SG(x0)*Subs(Derivative(SG(_xi_1), _xi_1), (_xi_1,), (x0,)) - Sg(x0)**2) + Piaa*((SG(x0) - 1)**2 + 2*(SG(x0) - 1)*Subs(Derivative(SG(_xi_1), _xi_1), (_xi_1,), (x0,)) - (Sg(x0) - 1)**2) - (PiAa + PiaA)*((SG(x0) - 1)*SG(x0) + (SG(x0) - 1)*Subs(Derivative(SG(_xi_1), _xi_1), (_xi_1,), (x0,)) - (Sg(x0) - 1)*Sg(x0) + SG(x0)*Subs(Derivative(SG(_xi_1), _xi_1), (_xi_1,), (x0,))))*(2*PiAA*x0*SG(x0)**2 - 1.0*PiAA*(x0 - 1)*SG(x0)**2 - 2*PiAa*x0*(SG(x0) - 1)*SG(x0) + 1.0*PiAa*(x0 - 1)*(SG(x0) - 1)*SG(x0) - 1.0*PiaA*x0*(SG(x0) - 1)*SG(x0) + 1.0*Piaa*x0*(SG(x0) - 1)**2) + 2*(x0 - 1)*(PiAA*SG(x0)**2 + Piaa*(SG(x0) - 1)**2 - (PiAa + PiaA)*(SG(x0) - 1)*SG(x0))**2 + (PiAA*SG(x0)**2 + Piaa*(SG(x0) - 1)**2 - (PiAa + PiaA)*(SG(x0) - 1)*SG(x0))*(-0.5*PiaA*x0*(SG(x0) - 1)*SG(x0) + 0.5*Piaa*x0*(SG(x0) - 1)**2 + (x0 - 1)*(-4*PiAA*x0*SG(x0)*Subs(Derivative(SG(_xi_1), _xi_1), (_xi_1,), (x0,)) + 2.0*PiAA*(x0 - 1)*SG(x0)*Subs(Derivative(SG(_xi_1), _xi_1), (_xi_1,), (x0,)) - 2*PiAA*SG(x0)**2 + 0.5*PiAA*Sg(x0)**2 + 2*PiAa*x0*(SG(x0) - 1)*Subs(Derivative(SG(_xi_1), _xi_1), (_xi_1,), (x0,)) + 2*PiAa*x0*SG(x0)*Subs(Derivative(SG(_xi_1), _xi_1), (_xi_1,), (x0,)) - 1.0*PiAa*(x0 - 1)*(SG(x0) - 1)*Subs(Derivative(SG(_xi_1), _xi_1), (_xi_1,), (x0,)) - 1.0*PiAa*(x0 - 1)*SG(x0)*Subs(Derivative(SG(_xi_1), _xi_1), (_xi_1,), (x0,)) + 2*PiAa*(SG(x0) - 1)*SG(x0) - 0.5*PiAa*(Sg(x0) - 1)*Sg(x0) + 1.0*PiaA*x0*(SG(x0) - 1)*Subs(Derivative(SG(_xi_1), _xi_1), (_xi_1,), (x0,)) + 1.0*PiaA*x0*SG(x0)*Subs(Derivative(SG(_xi_1), _xi_1), (_xi_1,), (x0,)) + 1.0*PiaA*(SG(x0) - 1)*SG(x0) - 2.0*Piaa*x0*(SG(x0) - 1)*Subs(Derivative(SG(_xi_1), _xi_1), (_xi_1,), (x0,)) - 1.0*Piaa*(SG(x0) - 1)**2)))) + (PiAA*SG(x0)**2 + Piaa*(SG(x0) - 1)**2 - (PiAa + PiaA)*(SG(x0) - 1)*SG(x0))*(-(x0*(x0 - 1)*(2*PiAA*SG(x0) + 2*Piaa*(SG(x0) - 1) - (PiAa + PiaA)*(2*SG(x0) - 1))*(2*PiAA*x0*SG(x0)**2 - 1.0*PiAA*(x0 - 1)*SG(x0)**2 - 2*PiAa*x0*(SG(x0) - 1)*SG(x0) + 1.0*PiAa*(x0 - 1)*(SG(x0) - 1)*SG(x0) - 1.0*PiaA*x0*(SG(x0) - 1)*SG(x0) + 1.0*Piaa*x0*(SG(x0) - 1)**2)*Subs(Derivative(SG(_xi_1), _xi_1), (_xi_1,), (x0,)) + (PiAA*SG(x0)**2 + Piaa*(SG(x0) - 1)**2 - (PiAa + PiaA)*(SG(x0) - 1)*SG(x0))*(x0**2*(-0.5*PiaA*SG(x0) + 0.5*Piaa*(SG(x0) - 1))*(SG(x0) - 1) + x0*(x0 - 1)*(-4*PiAA*x0*SG(x0)*Subs(Derivative(SG(_xi_1), _xi_1), (_xi_1,), (x0,)) + 2.0*PiAA*(x0 - 1)*SG(x0)*Subs(Derivative(SG(_xi_1), _xi_1), (_xi_1,), (x0,)) + 1.0*PiAA*SG(x0)**2 - 0.5*PiAA*Sg(x0)**2 + 2*PiAa*x0*(SG(x0) - 1)*Subs(Derivative(SG(_xi_1), _xi_1), (_xi_1,), (x0,)) + 2*PiAa*x0*SG(x0)*Subs(Derivative(SG(_xi_1), _xi_1), (_xi_1,), (x0,)) - 1.0*PiAa*(x0 - 1)*(SG(x0) - 1)*Subs(Derivative(SG(_xi_1), _xi_1), (_xi_1,), (x0,)) - 1.0*PiAa*(x0 - 1)*SG(x0)*Subs(Derivative(SG(_xi_1), _xi_1), (_xi_1,), (x0,)) - 1.0*PiAa*(SG(x0) - 1)*SG(x0) + 0.5*PiAa*(Sg(x0) - 1)*Sg(x0) + 1.0*PiaA*x0*(SG(x0) - 1)*Subs(Derivative(SG(_xi_1), _xi_1), (_xi_1,), (x0,)) + 1.0*PiaA*x0*SG(x0)*Subs(Derivative(SG(_xi_1), _xi_1), (_xi_1,), (x0,)) + 0.5*PiaA*(Sg(x0) - 1)*Sg(x0) - 2.0*Piaa*x0*(SG(x0) - 1)*Subs(Derivative(SG(_xi_1), _xi_1), (_xi_1,), (x0,)) - 0.5*Piaa*(Sg(x0) - 1)**2) + (x0 - 1)**2*(-0.5*PiAA*SG(x0) + 0.5*PiAa*(SG(x0) - 1))*SG(x0)))*(0.5*PiaA*x0*(SG(x0) - 1)*SG(x0) - 0.5*Piaa*x0*(SG(x0) - 1)**2 + (x0 - 1)*(0.5*PiAA*Sg(x0) - 0.5*PiAa*(Sg(x0) - 1))*Sg(x0)) + (x0*(x0 - 1)*(2*PiAA*SG(x0) + 2*Piaa*(SG(x0) - 1) - (PiAa + PiaA)*(2*SG(x0) - 1))*(1.0*PiAA*(x0 - 1)*SG(x0)**2 - 1.0*PiAa*(x0 - 1)*(SG(x0) - 1)*SG(x0) + 1.0*PiaA*x0*(SG(x0) - 1)*SG(x0) - 2*PiaA*(x0 - 1)*(SG(x0) - 1)*SG(x0) - 1.0*Piaa*x0*(SG(x0) - 1)**2 + 2*Piaa*(x0 - 1)*(SG(x0) - 1)**2)*Subs(Derivative(SG(_xi_1), _xi_1), (_xi_1,), (x0,)) + (PiAA*SG(x0)**2 + Piaa*(SG(x0) - 1)**2 - (PiAa + PiaA)*(SG(x0) - 1)*SG(x0))*(x0**2*(0.5*PiaA*SG(x0) - 0.5*Piaa*(SG(x0) - 1))*(SG(x0) - 1) + x0*(x0 - 1)*(-2.0*PiAA*(x0 - 1)*SG(x0)*Subs(Derivative(SG(_xi_1), _xi_1), (_xi_1,), (x0,)) - 0.5*PiAA*Sg(x0)**2 + 1.0*PiAa*(x0 - 1)*(SG(x0) - 1)*Subs(Derivative(SG(_xi_1), _xi_1), (_xi_1,), (x0,)) + 1.0*PiAa*(x0 - 1)*SG(x0)*Subs(Derivative(SG(_xi_1), _xi_1), (_xi_1,), (x0,)) + 0.5*PiAa*(Sg(x0) - 1)*Sg(x0) - 1.0*PiaA*x0*(SG(x0) - 1)*Subs(Derivative(SG(_xi_1), _xi_1), (_xi_1,), (x0,)) - 1.0*PiaA*x0*SG(x0)*Subs(Derivative(SG(_xi_1), _xi_1), (_xi_1,), (x0,)) + 2*PiaA*(x0 - 1)*(SG(x0) - 1)*Subs(Derivative(SG(_xi_1), _xi_1), (_xi_1,), (x0,)) + 2*PiaA*(x0 - 1)*SG(x0)*Subs(Derivative(SG(_xi_1), _xi_1), (_xi_1,), (x0,)) - 1.0*PiaA*(SG(x0) - 1)*SG(x0) + 0.5*PiaA*(Sg(x0) - 1)*Sg(x0) + 2.0*Piaa*x0*(SG(x0) - 1)*Subs(Derivative(SG(_xi_1), _xi_1), (_xi_1,), (x0,)) - 4*Piaa*(x0 - 1)*(SG(x0) - 1)*Subs(Derivative(SG(_xi_1), _xi_1), (_xi_1,), (x0,)) + 1.0*Piaa*(SG(x0) - 1)**2 - 0.5*Piaa*(Sg(x0) - 1)**2) + (x0 - 1)**2*(0.5*PiAA*SG(x0) - 0.5*PiAa*(SG(x0) - 1))*SG(x0)))*(0.5*PiaA*x0*(SG(x0) - 1)*SG(x0) - 0.5*Piaa*x0*(SG(x0) - 1)**2 + (x0 - 1)*(0.5*PiAA*Sg(x0) - 0.5*PiAa*(Sg(x0) - 1))*Sg(x0)) + ((x0 - 1)*((-PiAA*(SG(x0)**2 - Sg(x0)**2) - Piaa*((SG(x0) - 1)**2 - (Sg(x0) - 1)**2) + (PiAa + PiaA)*((SG(x0) - 1)*SG(x0) - (Sg(x0) - 1)*Sg(x0)))*(1.0*PiAA*(x0 - 1)*SG(x0)**2 - 1.0*PiAa*(x0 - 1)*(SG(x0) - 1)*SG(x0) + 1.0*PiaA*x0*(SG(x0) - 1)*SG(x0) - 2*PiaA*(x0 - 1)*(SG(x0) - 1)*SG(x0) - 1.0*Piaa*x0*(SG(x0) - 1)**2 + 2*Piaa*(x0 - 1)*(SG(x0) - 1)**2) + (PiAA*(SG(x0)**2 + 2*SG(x0)*Subs(Derivative(SG(_xi_1), _xi_1), (_xi_1,), (x0,)) - Sg(x0)**2) + Piaa*((SG(x0) - 1)**2 + 2*(SG(x0) - 1)*Subs(Derivative(SG(_xi_1), _xi_1), (_xi_1,), (x0,)) - (Sg(x0) - 1)**2) + (PiAa + PiaA)*(-(SG(x0) - 1)*SG(x0) - (SG(x0) - 1)*Subs(Derivative(SG(_xi_1), _xi_1), (_xi_1,), (x0,)) + (Sg(x0) - 1)*Sg(x0) - SG(x0)*Subs(Derivative(SG(_xi_1), _xi_1), (_xi_1,), (x0,))))*(2*PiAA*x0*SG(x0)**2 - 1.0*PiAA*(x0 - 1)*SG(x0)**2 - 2*PiAa*x0*(SG(x0) - 1)*SG(x0) + 1.0*PiAa*(x0 - 1)*(SG(x0) - 1)*SG(x0) - 1.0*PiaA*x0*(SG(x0) - 1)*SG(x0) + 1.0*Piaa*x0*(SG(x0) - 1)**2)) + 4*(x0 - 1)*(PiAA*SG(x0)**2 + Piaa*(SG(x0) - 1)**2 - (PiAa + PiaA)*(SG(x0) - 1)*SG(x0))**2 + (PiAA*SG(x0)**2 + Piaa*(SG(x0) - 1)**2 - (PiAa + PiaA)*(SG(x0) - 1)*SG(x0))*(-1.0*PiaA*x0*(SG(x0) - 1)*SG(x0) + 1.0*Piaa*x0*(SG(x0) - 1)**2 - (x0 - 1)*(1.0*PiAA*SG(x0)**2 - 0.5*PiAA*Sg(x0)**2 - 1.0*PiAa*(SG(x0) - 1)*SG(x0) + 0.5*PiAa*(Sg(x0) - 1)*Sg(x0) - 3.0*PiaA*(SG(x0) - 1)*SG(x0) + 1.0*PiaA*(Sg(x0) - 1)*Sg(x0) + 3.0*Piaa*(SG(x0) - 1)**2 - 1.0*Piaa*(Sg(x0) - 1)**2) + (x0 - 1)*(-4*PiAA*x0*SG(x0)*Subs(Derivative(SG(_xi_1), _xi_1), (_xi_1,), (x0,)) + 2.0*PiAA*(x0 - 1)*SG(x0)*Subs(Derivative(SG(_xi_1), _xi_1), (_xi_1,), (x0,)) - 2*PiAA*SG(x0)**2 + 0.5*PiAA*Sg(x0)**2 + 2*PiAa*x0*(SG(x0) - 1)*Subs(Derivative(SG(_xi_1), _xi_1), (_xi_1,), (x0,)) + 2*PiAa*x0*SG(x0)*Subs(Derivative(SG(_xi_1), _xi_1), (_xi_1,), (x0,)) - 1.0*PiAa*(x0 - 1)*(SG(x0) - 1)*Subs(Derivative(SG(_xi_1), _xi_1), (_xi_1,), (x0,)) - 1.0*PiAa*(x0 - 1)*SG(x0)*Subs(Derivative(SG(_xi_1), _xi_1), (_xi_1,), (x0,)) + 2*PiAa*(SG(x0) - 1)*SG(x0) - 0.5*PiAa*(Sg(x0) - 1)*Sg(x0) + 1.0*PiaA*x0*(SG(x0) - 1)*Subs(Derivative(SG(_xi_1), _xi_1), (_xi_1,), (x0,)) + 1.0*PiaA*x0*SG(x0)*Subs(Derivative(SG(_xi_1), _xi_1), (_xi_1,), (x0,)) + 1.0*PiaA*(SG(x0) - 1)*SG(x0) - 2.0*Piaa*x0*(SG(x0) - 1)*Subs(Derivative(SG(_xi_1), _xi_1), (_xi_1,), (x0,)) - 1.0*Piaa*(SG(x0) - 1)**2)))*(-x0**2*(-0.5*PiaA*SG(x0) + 0.5*Piaa*(SG(x0) - 1))*(SG(x0) - 1) + 2*x0*(x0 - 1)*(PiAA*SG(x0)**2 + Piaa*(SG(x0) - 1)**2 - (PiAa + PiaA)*(SG(x0) - 1)*SG(x0)) - x0*(x0 - 1)*(1.0*PiAA*SG(x0)**2 + 0.5*PiAA*Sg(x0)**2 - 1.0*PiAa*(SG(x0) - 1)*SG(x0) - 0.5*PiAa*(Sg(x0) - 1)*Sg(x0) - 0.5*PiaA*(Sg(x0) - 1)*Sg(x0) + 0.5*Piaa*(Sg(x0) - 1)**2) - (x0 - 1)**2*(-0.5*PiAA*SG(x0) + 0.5*PiAa*(SG(x0) - 1))*SG(x0))))/(4*x0*(x0 - 1)**2*(PiAA*SG(x0)**2 + Piaa*(SG(x0) - 1)**2 - (PiAa + PiaA)*(SG(x0) - 1)*SG(x0))**4)"
      ]
     },
     "execution_count": 50,
     "metadata": {},
     "output_type": "execute_result"
    }
   ],
   "source": [
    "c"
   ]
  },
  {
   "cell_type": "code",
   "execution_count": 53,
   "metadata": {
    "collapsed": false
   },
   "outputs": [
    {
     "data": {
      "text/plain": [
       "((-(-(x0 - 1)*(PiAA*(SG(x0)**2 - Sg(x0)**2) + Piaa*((SG(x0) - 1)**2 - (Sg(x0) - 1)**2) - (PiAa + PiaA)*((SG(x0) - 1)*SG(x0) - (Sg(x0) - 1)*Sg(x0)))*(2*PiAA*x0*SG(x0)**2 - 1.0*PiAA*(x0 - 1)*SG(x0)**2 - 2*PiAa*x0*(SG(x0) - 1)*SG(x0) + 1.0*PiAa*(x0 - 1)*(SG(x0) - 1)*SG(x0) - 1.0*PiaA*x0*(SG(x0) - 1)*SG(x0) + 1.0*Piaa*x0*(SG(x0) - 1)**2) + (PiAA*SG(x0)**2 + Piaa*(SG(x0) - 1)**2 - (PiAa + PiaA)*(SG(x0) - 1)*SG(x0))*(0.5*PiaA*x0*(SG(x0) - 1)*SG(x0) - 0.5*Piaa*x0*(SG(x0) - 1)**2 + (x0 - 1)*(1.0*PiAA*SG(x0)**2 - 0.5*PiAA*Sg(x0)**2 - 1.0*PiAa*(SG(x0) - 1)*SG(x0) + 0.5*PiAa*(Sg(x0) - 1)*Sg(x0))))*((x0 - 1)*(PiAA*(SG(x0)**2 + 2*SG(x0)*Subs(Derivative(SG(_xi_1), _xi_1), (_xi_1,), (x0,)) - Sg(x0)**2) + Piaa*((SG(x0) - 1)**2 + 2*(SG(x0) - 1)*Subs(Derivative(SG(_xi_1), _xi_1), (_xi_1,), (x0,)) - (Sg(x0) - 1)**2) + (PiAa + PiaA)*(-(SG(x0) - 1)*SG(x0) - (SG(x0) - 1)*Subs(Derivative(SG(_xi_1), _xi_1), (_xi_1,), (x0,)) + (Sg(x0) - 1)*Sg(x0) - SG(x0)*Subs(Derivative(SG(_xi_1), _xi_1), (_xi_1,), (x0,))))*(1.0*PiAA*(x0 - 1)*SG(x0)**2 - 1.0*PiAa*(x0 - 1)*(SG(x0) - 1)*SG(x0) + 1.0*PiaA*x0*(SG(x0) - 1)*SG(x0) - 2*PiaA*(x0 - 1)*(SG(x0) - 1)*SG(x0) - 1.0*Piaa*x0*(SG(x0) - 1)**2 + 2*Piaa*(x0 - 1)*(SG(x0) - 1)**2) + (PiAA*SG(x0)**2 + Piaa*(SG(x0) - 1)**2 - (PiAa + PiaA)*(SG(x0) - 1)*SG(x0))*(0.5*PiaA*x0*(SG(x0) - 1)*SG(x0) - 0.5*Piaa*x0*(SG(x0) - 1)**2 + (x0 - 1)*(-2.0*PiAA*(x0 - 1)*SG(x0)*Subs(Derivative(SG(_xi_1), _xi_1), (_xi_1,), (x0,)) - 0.5*PiAA*Sg(x0)**2 + 1.0*PiAa*(x0 - 1)*(SG(x0) - 1)*Subs(Derivative(SG(_xi_1), _xi_1), (_xi_1,), (x0,)) + 1.0*PiAa*(x0 - 1)*SG(x0)*Subs(Derivative(SG(_xi_1), _xi_1), (_xi_1,), (x0,)) + 0.5*PiAa*(Sg(x0) - 1)*Sg(x0) - 1.0*PiaA*x0*(SG(x0) - 1)*Subs(Derivative(SG(_xi_1), _xi_1), (_xi_1,), (x0,)) - 1.0*PiaA*x0*SG(x0)*Subs(Derivative(SG(_xi_1), _xi_1), (_xi_1,), (x0,)) + 2*PiaA*(x0 - 1)*(SG(x0) - 1)*Subs(Derivative(SG(_xi_1), _xi_1), (_xi_1,), (x0,)) + 2*PiaA*(x0 - 1)*SG(x0)*Subs(Derivative(SG(_xi_1), _xi_1), (_xi_1,), (x0,)) - 2*PiaA*(SG(x0) - 1)*SG(x0) + 1.0*PiaA*(Sg(x0) - 1)*Sg(x0) + 2.0*Piaa*x0*(SG(x0) - 1)*Subs(Derivative(SG(_xi_1), _xi_1), (_xi_1,), (x0,)) - 4*Piaa*(x0 - 1)*(SG(x0) - 1)*Subs(Derivative(SG(_xi_1), _xi_1), (_xi_1,), (x0,)) + 2*Piaa*(SG(x0) - 1)**2 - 1.0*Piaa*(Sg(x0) - 1)**2))) + (-(x0 - 1)*(PiAA*(SG(x0)**2 - Sg(x0)**2) + Piaa*((SG(x0) - 1)**2 - (Sg(x0) - 1)**2) - (PiAa + PiaA)*((SG(x0) - 1)*SG(x0) - (Sg(x0) - 1)*Sg(x0)))*(1.0*PiAA*(x0 - 1)*SG(x0)**2 - 1.0*PiAa*(x0 - 1)*(SG(x0) - 1)*SG(x0) + 1.0*PiaA*x0*(SG(x0) - 1)*SG(x0) - 2*PiaA*(x0 - 1)*(SG(x0) - 1)*SG(x0) - 1.0*Piaa*x0*(SG(x0) - 1)**2 + 2*Piaa*(x0 - 1)*(SG(x0) - 1)**2) + 2*(x0 - 1)*(PiAA*SG(x0)**2 + Piaa*(SG(x0) - 1)**2 - (PiAa + PiaA)*(SG(x0) - 1)*SG(x0))**2 + (PiAA*SG(x0)**2 + Piaa*(SG(x0) - 1)**2 - (PiAa + PiaA)*(SG(x0) - 1)*SG(x0))*(-0.5*PiaA*x0*(SG(x0) - 1)*SG(x0) + 0.5*Piaa*x0*(SG(x0) - 1)**2 - (x0 - 1)*(1.0*PiAA*SG(x0)**2 - 0.5*PiAA*Sg(x0)**2 - 1.0*PiAa*(SG(x0) - 1)*SG(x0) + 0.5*PiAa*(Sg(x0) - 1)*Sg(x0) - 3.0*PiaA*(SG(x0) - 1)*SG(x0) + 1.0*PiaA*(Sg(x0) - 1)*Sg(x0) + 3.0*Piaa*(SG(x0) - 1)**2 - 1.0*Piaa*(Sg(x0) - 1)**2)))*((x0 - 1)*(PiAA*(SG(x0)**2 + 2*SG(x0)*Subs(Derivative(SG(_xi_1), _xi_1), (_xi_1,), (x0,)) - Sg(x0)**2) + Piaa*((SG(x0) - 1)**2 + 2*(SG(x0) - 1)*Subs(Derivative(SG(_xi_1), _xi_1), (_xi_1,), (x0,)) - (Sg(x0) - 1)**2) + (PiAa + PiaA)*(-(SG(x0) - 1)*SG(x0) - (SG(x0) - 1)*Subs(Derivative(SG(_xi_1), _xi_1), (_xi_1,), (x0,)) + (Sg(x0) - 1)*Sg(x0) - SG(x0)*Subs(Derivative(SG(_xi_1), _xi_1), (_xi_1,), (x0,))))*(2*PiAA*x0*SG(x0)**2 - 1.0*PiAA*(x0 - 1)*SG(x0)**2 - 2*PiAa*x0*(SG(x0) - 1)*SG(x0) + 1.0*PiAa*(x0 - 1)*(SG(x0) - 1)*SG(x0) - 1.0*PiaA*x0*(SG(x0) - 1)*SG(x0) + 1.0*Piaa*x0*(SG(x0) - 1)**2) + 2*(x0 - 1)*(PiAA*SG(x0)**2 + Piaa*(SG(x0) - 1)**2 - (PiAa + PiaA)*(SG(x0) - 1)*SG(x0))**2 + (PiAA*SG(x0)**2 + Piaa*(SG(x0) - 1)**2 - (PiAa + PiaA)*(SG(x0) - 1)*SG(x0))*(-0.5*PiaA*x0*(SG(x0) - 1)*SG(x0) + 0.5*Piaa*x0*(SG(x0) - 1)**2 + (x0 - 1)*(-4*PiAA*x0*SG(x0)*Subs(Derivative(SG(_xi_1), _xi_1), (_xi_1,), (x0,)) + 2.0*PiAA*(x0 - 1)*SG(x0)*Subs(Derivative(SG(_xi_1), _xi_1), (_xi_1,), (x0,)) - 2*PiAA*SG(x0)**2 + 0.5*PiAA*Sg(x0)**2 + 2*PiAa*x0*(SG(x0) - 1)*Subs(Derivative(SG(_xi_1), _xi_1), (_xi_1,), (x0,)) + 2*PiAa*x0*SG(x0)*Subs(Derivative(SG(_xi_1), _xi_1), (_xi_1,), (x0,)) - 1.0*PiAa*(x0 - 1)*(SG(x0) - 1)*Subs(Derivative(SG(_xi_1), _xi_1), (_xi_1,), (x0,)) - 1.0*PiAa*(x0 - 1)*SG(x0)*Subs(Derivative(SG(_xi_1), _xi_1), (_xi_1,), (x0,)) + 2*PiAa*(SG(x0) - 1)*SG(x0) - 0.5*PiAa*(Sg(x0) - 1)*Sg(x0) + 1.0*PiaA*x0*(SG(x0) - 1)*Subs(Derivative(SG(_xi_1), _xi_1), (_xi_1,), (x0,)) + 1.0*PiaA*x0*SG(x0)*Subs(Derivative(SG(_xi_1), _xi_1), (_xi_1,), (x0,)) + 1.0*PiaA*(SG(x0) - 1)*SG(x0) - 2.0*Piaa*x0*(SG(x0) - 1)*Subs(Derivative(SG(_xi_1), _xi_1), (_xi_1,), (x0,)) - 1.0*Piaa*(SG(x0) - 1)**2))))*(-x0**2*(-0.5*PiaA*SG(x0) + 0.5*Piaa*(SG(x0) - 1))*(SG(x0) - 1) + 2*x0*(x0 - 1)*(PiAA*SG(x0)**2 + Piaa*(SG(x0) - 1)**2 - (PiAa + PiaA)*(SG(x0) - 1)*SG(x0)) - x0*(x0 - 1)*(1.0*PiAA*SG(x0)**2 + 0.5*PiAA*Sg(x0)**2 - 1.0*PiAa*(SG(x0) - 1)*SG(x0) - 0.5*PiAa*(Sg(x0) - 1)*Sg(x0) - 0.5*PiaA*(Sg(x0) - 1)*Sg(x0) + 0.5*Piaa*(Sg(x0) - 1)**2) - (x0 - 1)**2*(-0.5*PiAA*SG(x0) + 0.5*PiAa*(SG(x0) - 1))*SG(x0)) + ((-(x0 - 1)*(PiAA*(SG(x0)**2 - Sg(x0)**2) + Piaa*((SG(x0) - 1)**2 - (Sg(x0) - 1)**2) - (PiAa + PiaA)*((SG(x0) - 1)*SG(x0) - (Sg(x0) - 1)*Sg(x0)))*(2*PiAA*x0*SG(x0)**2 - 1.0*PiAA*(x0 - 1)*SG(x0)**2 - 2*PiAa*x0*(SG(x0) - 1)*SG(x0) + 1.0*PiAa*(x0 - 1)*(SG(x0) - 1)*SG(x0) - 1.0*PiaA*x0*(SG(x0) - 1)*SG(x0) + 1.0*Piaa*x0*(SG(x0) - 1)**2) + (PiAA*SG(x0)**2 + Piaa*(SG(x0) - 1)**2 - (PiAa + PiaA)*(SG(x0) - 1)*SG(x0))*(0.5*PiaA*x0*(SG(x0) - 1)*SG(x0) - 0.5*Piaa*x0*(SG(x0) - 1)**2 + (x0 - 1)*(1.0*PiAA*SG(x0)**2 - 0.5*PiAA*Sg(x0)**2 - 1.0*PiAa*(SG(x0) - 1)*SG(x0) + 0.5*PiAa*(Sg(x0) - 1)*Sg(x0))))*(x0*(x0 - 1)*(2*PiAA*SG(x0) + 2*Piaa*(SG(x0) - 1) - (PiAa + PiaA)*(2*SG(x0) - 1))*(1.0*PiAA*(x0 - 1)*SG(x0)**2 - 1.0*PiAa*(x0 - 1)*(SG(x0) - 1)*SG(x0) + 1.0*PiaA*x0*(SG(x0) - 1)*SG(x0) - 2*PiaA*(x0 - 1)*(SG(x0) - 1)*SG(x0) - 1.0*Piaa*x0*(SG(x0) - 1)**2 + 2*Piaa*(x0 - 1)*(SG(x0) - 1)**2)*Subs(Derivative(SG(_xi_1), _xi_1), (_xi_1,), (x0,)) + (PiAA*SG(x0)**2 + Piaa*(SG(x0) - 1)**2 - (PiAa + PiaA)*(SG(x0) - 1)*SG(x0))*(x0**2*(0.5*PiaA*SG(x0) - 0.5*Piaa*(SG(x0) - 1))*(SG(x0) - 1) + x0*(x0 - 1)*(-2.0*PiAA*(x0 - 1)*SG(x0)*Subs(Derivative(SG(_xi_1), _xi_1), (_xi_1,), (x0,)) - 0.5*PiAA*Sg(x0)**2 + 1.0*PiAa*(x0 - 1)*(SG(x0) - 1)*Subs(Derivative(SG(_xi_1), _xi_1), (_xi_1,), (x0,)) + 1.0*PiAa*(x0 - 1)*SG(x0)*Subs(Derivative(SG(_xi_1), _xi_1), (_xi_1,), (x0,)) + 0.5*PiAa*(Sg(x0) - 1)*Sg(x0) - 1.0*PiaA*x0*(SG(x0) - 1)*Subs(Derivative(SG(_xi_1), _xi_1), (_xi_1,), (x0,)) - 1.0*PiaA*x0*SG(x0)*Subs(Derivative(SG(_xi_1), _xi_1), (_xi_1,), (x0,)) + 2*PiaA*(x0 - 1)*(SG(x0) - 1)*Subs(Derivative(SG(_xi_1), _xi_1), (_xi_1,), (x0,)) + 2*PiaA*(x0 - 1)*SG(x0)*Subs(Derivative(SG(_xi_1), _xi_1), (_xi_1,), (x0,)) - 1.0*PiaA*(SG(x0) - 1)*SG(x0) + 0.5*PiaA*(Sg(x0) - 1)*Sg(x0) + 2.0*Piaa*x0*(SG(x0) - 1)*Subs(Derivative(SG(_xi_1), _xi_1), (_xi_1,), (x0,)) - 4*Piaa*(x0 - 1)*(SG(x0) - 1)*Subs(Derivative(SG(_xi_1), _xi_1), (_xi_1,), (x0,)) + 1.0*Piaa*(SG(x0) - 1)**2 - 0.5*Piaa*(Sg(x0) - 1)**2) + (x0 - 1)**2*(0.5*PiAA*SG(x0) - 0.5*PiAa*(SG(x0) - 1))*SG(x0))) + (-x0*(x0 - 1)*(-2*PiAA*SG(x0) - 2*Piaa*(SG(x0) - 1) + (PiAa + PiaA)*(2*SG(x0) - 1))*(2*PiAA*x0*SG(x0)**2 - 1.0*PiAA*(x0 - 1)*SG(x0)**2 - 2*PiAa*x0*(SG(x0) - 1)*SG(x0) + 1.0*PiAa*(x0 - 1)*(SG(x0) - 1)*SG(x0) - 1.0*PiaA*x0*(SG(x0) - 1)*SG(x0) + 1.0*Piaa*x0*(SG(x0) - 1)**2)*Subs(Derivative(SG(_xi_1), _xi_1), (_xi_1,), (x0,)) + (PiAA*SG(x0)**2 + Piaa*(SG(x0) - 1)**2 - (PiAa + PiaA)*(SG(x0) - 1)*SG(x0))*(x0**2*(-0.5*PiaA*SG(x0) + 0.5*Piaa*(SG(x0) - 1))*(SG(x0) - 1) + x0*(x0 - 1)*(-4*PiAA*x0*SG(x0)*Subs(Derivative(SG(_xi_1), _xi_1), (_xi_1,), (x0,)) + 2.0*PiAA*(x0 - 1)*SG(x0)*Subs(Derivative(SG(_xi_1), _xi_1), (_xi_1,), (x0,)) + 1.0*PiAA*SG(x0)**2 - 0.5*PiAA*Sg(x0)**2 + 2*PiAa*x0*(SG(x0) - 1)*Subs(Derivative(SG(_xi_1), _xi_1), (_xi_1,), (x0,)) + 2*PiAa*x0*SG(x0)*Subs(Derivative(SG(_xi_1), _xi_1), (_xi_1,), (x0,)) - 1.0*PiAa*(x0 - 1)*(SG(x0) - 1)*Subs(Derivative(SG(_xi_1), _xi_1), (_xi_1,), (x0,)) - 1.0*PiAa*(x0 - 1)*SG(x0)*Subs(Derivative(SG(_xi_1), _xi_1), (_xi_1,), (x0,)) - 1.0*PiAa*(SG(x0) - 1)*SG(x0) + 0.5*PiAa*(Sg(x0) - 1)*Sg(x0) + 1.0*PiaA*x0*(SG(x0) - 1)*Subs(Derivative(SG(_xi_1), _xi_1), (_xi_1,), (x0,)) + 1.0*PiaA*x0*SG(x0)*Subs(Derivative(SG(_xi_1), _xi_1), (_xi_1,), (x0,)) + 0.5*PiaA*(Sg(x0) - 1)*Sg(x0) - 2.0*Piaa*x0*(SG(x0) - 1)*Subs(Derivative(SG(_xi_1), _xi_1), (_xi_1,), (x0,)) - 0.5*Piaa*(Sg(x0) - 1)**2) + (x0 - 1)**2*(-0.5*PiAA*SG(x0) + 0.5*PiAa*(SG(x0) - 1))*SG(x0)))*((x0 - 1)*(PiAA*(SG(x0)**2 + 2*SG(x0)*Subs(Derivative(SG(_xi_1), _xi_1), (_xi_1,), (x0,)) - Sg(x0)**2) + Piaa*((SG(x0) - 1)**2 + 2*(SG(x0) - 1)*Subs(Derivative(SG(_xi_1), _xi_1), (_xi_1,), (x0,)) - (Sg(x0) - 1)**2) + (PiAa + PiaA)*(-(SG(x0) - 1)*SG(x0) - (SG(x0) - 1)*Subs(Derivative(SG(_xi_1), _xi_1), (_xi_1,), (x0,)) + (Sg(x0) - 1)*Sg(x0) - SG(x0)*Subs(Derivative(SG(_xi_1), _xi_1), (_xi_1,), (x0,))))*(2*PiAA*x0*SG(x0)**2 - 1.0*PiAA*(x0 - 1)*SG(x0)**2 - 2*PiAa*x0*(SG(x0) - 1)*SG(x0) + 1.0*PiAa*(x0 - 1)*(SG(x0) - 1)*SG(x0) - 1.0*PiaA*x0*(SG(x0) - 1)*SG(x0) + 1.0*Piaa*x0*(SG(x0) - 1)**2) + 2*(x0 - 1)*(PiAA*SG(x0)**2 + Piaa*(SG(x0) - 1)**2 - (PiAa + PiaA)*(SG(x0) - 1)*SG(x0))**2 + (PiAA*SG(x0)**2 + Piaa*(SG(x0) - 1)**2 - (PiAa + PiaA)*(SG(x0) - 1)*SG(x0))*(-0.5*PiaA*x0*(SG(x0) - 1)*SG(x0) + 0.5*Piaa*x0*(SG(x0) - 1)**2 + (x0 - 1)*(-4*PiAA*x0*SG(x0)*Subs(Derivative(SG(_xi_1), _xi_1), (_xi_1,), (x0,)) + 2.0*PiAA*(x0 - 1)*SG(x0)*Subs(Derivative(SG(_xi_1), _xi_1), (_xi_1,), (x0,)) - 2*PiAA*SG(x0)**2 + 0.5*PiAA*Sg(x0)**2 + 2*PiAa*x0*(SG(x0) - 1)*Subs(Derivative(SG(_xi_1), _xi_1), (_xi_1,), (x0,)) + 2*PiAa*x0*SG(x0)*Subs(Derivative(SG(_xi_1), _xi_1), (_xi_1,), (x0,)) - 1.0*PiAa*(x0 - 1)*(SG(x0) - 1)*Subs(Derivative(SG(_xi_1), _xi_1), (_xi_1,), (x0,)) - 1.0*PiAa*(x0 - 1)*SG(x0)*Subs(Derivative(SG(_xi_1), _xi_1), (_xi_1,), (x0,)) + 2*PiAa*(SG(x0) - 1)*SG(x0) - 0.5*PiAa*(Sg(x0) - 1)*Sg(x0) + 1.0*PiaA*x0*(SG(x0) - 1)*Subs(Derivative(SG(_xi_1), _xi_1), (_xi_1,), (x0,)) + 1.0*PiaA*x0*SG(x0)*Subs(Derivative(SG(_xi_1), _xi_1), (_xi_1,), (x0,)) + 1.0*PiaA*(SG(x0) - 1)*SG(x0) - 2.0*Piaa*x0*(SG(x0) - 1)*Subs(Derivative(SG(_xi_1), _xi_1), (_xi_1,), (x0,)) - 1.0*Piaa*(SG(x0) - 1)**2))))*(0.5*PiaA*x0*(SG(x0) - 1)*SG(x0) - 0.5*Piaa*x0*(SG(x0) - 1)**2 + (x0 - 1)*(0.5*PiAA*Sg(x0) - 0.5*PiAa*(Sg(x0) - 1))*Sg(x0)) - (((x0 - 1)*(PiAA*(SG(x0)**2 + 2*SG(x0)*Subs(Derivative(SG(_xi_1), _xi_1), (_xi_1,), (x0,)) - Sg(x0)**2) + Piaa*((SG(x0) - 1)**2 + 2*(SG(x0) - 1)*Subs(Derivative(SG(_xi_1), _xi_1), (_xi_1,), (x0,)) - (Sg(x0) - 1)**2) + (PiAa + PiaA)*(-(SG(x0) - 1)*SG(x0) - (SG(x0) - 1)*Subs(Derivative(SG(_xi_1), _xi_1), (_xi_1,), (x0,)) + (Sg(x0) - 1)*Sg(x0) - SG(x0)*Subs(Derivative(SG(_xi_1), _xi_1), (_xi_1,), (x0,))))*(1.0*PiAA*(x0 - 1)*SG(x0)**2 - 1.0*PiAa*(x0 - 1)*(SG(x0) - 1)*SG(x0) + 1.0*PiaA*x0*(SG(x0) - 1)*SG(x0) - 2*PiaA*(x0 - 1)*(SG(x0) - 1)*SG(x0) - 1.0*Piaa*x0*(SG(x0) - 1)**2 + 2*Piaa*(x0 - 1)*(SG(x0) - 1)**2) + (PiAA*SG(x0)**2 + Piaa*(SG(x0) - 1)**2 - (PiAa + PiaA)*(SG(x0) - 1)*SG(x0))*(0.5*PiaA*x0*(SG(x0) - 1)*SG(x0) - 0.5*Piaa*x0*(SG(x0) - 1)**2 + (x0 - 1)*(-2.0*PiAA*(x0 - 1)*SG(x0)*Subs(Derivative(SG(_xi_1), _xi_1), (_xi_1,), (x0,)) - 0.5*PiAA*Sg(x0)**2 + 1.0*PiAa*(x0 - 1)*(SG(x0) - 1)*Subs(Derivative(SG(_xi_1), _xi_1), (_xi_1,), (x0,)) + 1.0*PiAa*(x0 - 1)*SG(x0)*Subs(Derivative(SG(_xi_1), _xi_1), (_xi_1,), (x0,)) + 0.5*PiAa*(Sg(x0) - 1)*Sg(x0) - 1.0*PiaA*x0*(SG(x0) - 1)*Subs(Derivative(SG(_xi_1), _xi_1), (_xi_1,), (x0,)) - 1.0*PiaA*x0*SG(x0)*Subs(Derivative(SG(_xi_1), _xi_1), (_xi_1,), (x0,)) + 2*PiaA*(x0 - 1)*(SG(x0) - 1)*Subs(Derivative(SG(_xi_1), _xi_1), (_xi_1,), (x0,)) + 2*PiaA*(x0 - 1)*SG(x0)*Subs(Derivative(SG(_xi_1), _xi_1), (_xi_1,), (x0,)) - 2*PiaA*(SG(x0) - 1)*SG(x0) + 1.0*PiaA*(Sg(x0) - 1)*Sg(x0) + 2.0*Piaa*x0*(SG(x0) - 1)*Subs(Derivative(SG(_xi_1), _xi_1), (_xi_1,), (x0,)) - 4*Piaa*(x0 - 1)*(SG(x0) - 1)*Subs(Derivative(SG(_xi_1), _xi_1), (_xi_1,), (x0,)) + 2*Piaa*(SG(x0) - 1)**2 - 1.0*Piaa*(Sg(x0) - 1)**2)))*(-x0*(x0 - 1)*(-2*PiAA*SG(x0) - 2*Piaa*(SG(x0) - 1) + (PiAa + PiaA)*(2*SG(x0) - 1))*(2*PiAA*x0*SG(x0)**2 - 1.0*PiAA*(x0 - 1)*SG(x0)**2 - 2*PiAa*x0*(SG(x0) - 1)*SG(x0) + 1.0*PiAa*(x0 - 1)*(SG(x0) - 1)*SG(x0) - 1.0*PiaA*x0*(SG(x0) - 1)*SG(x0) + 1.0*Piaa*x0*(SG(x0) - 1)**2)*Subs(Derivative(SG(_xi_1), _xi_1), (_xi_1,), (x0,)) + (PiAA*SG(x0)**2 + Piaa*(SG(x0) - 1)**2 - (PiAa + PiaA)*(SG(x0) - 1)*SG(x0))*(x0**2*(-0.5*PiaA*SG(x0) + 0.5*Piaa*(SG(x0) - 1))*(SG(x0) - 1) + x0*(x0 - 1)*(-4*PiAA*x0*SG(x0)*Subs(Derivative(SG(_xi_1), _xi_1), (_xi_1,), (x0,)) + 2.0*PiAA*(x0 - 1)*SG(x0)*Subs(Derivative(SG(_xi_1), _xi_1), (_xi_1,), (x0,)) + 1.0*PiAA*SG(x0)**2 - 0.5*PiAA*Sg(x0)**2 + 2*PiAa*x0*(SG(x0) - 1)*Subs(Derivative(SG(_xi_1), _xi_1), (_xi_1,), (x0,)) + 2*PiAa*x0*SG(x0)*Subs(Derivative(SG(_xi_1), _xi_1), (_xi_1,), (x0,)) - 1.0*PiAa*(x0 - 1)*(SG(x0) - 1)*Subs(Derivative(SG(_xi_1), _xi_1), (_xi_1,), (x0,)) - 1.0*PiAa*(x0 - 1)*SG(x0)*Subs(Derivative(SG(_xi_1), _xi_1), (_xi_1,), (x0,)) - 1.0*PiAa*(SG(x0) - 1)*SG(x0) + 0.5*PiAa*(Sg(x0) - 1)*Sg(x0) + 1.0*PiaA*x0*(SG(x0) - 1)*Subs(Derivative(SG(_xi_1), _xi_1), (_xi_1,), (x0,)) + 1.0*PiaA*x0*SG(x0)*Subs(Derivative(SG(_xi_1), _xi_1), (_xi_1,), (x0,)) + 0.5*PiaA*(Sg(x0) - 1)*Sg(x0) - 2.0*Piaa*x0*(SG(x0) - 1)*Subs(Derivative(SG(_xi_1), _xi_1), (_xi_1,), (x0,)) - 0.5*Piaa*(Sg(x0) - 1)**2) + (x0 - 1)**2*(-0.5*PiAA*SG(x0) + 0.5*PiAa*(SG(x0) - 1))*SG(x0))) + (x0*(x0 - 1)*(2*PiAA*SG(x0) + 2*Piaa*(SG(x0) - 1) - (PiAa + PiaA)*(2*SG(x0) - 1))*(1.0*PiAA*(x0 - 1)*SG(x0)**2 - 1.0*PiAa*(x0 - 1)*(SG(x0) - 1)*SG(x0) + 1.0*PiaA*x0*(SG(x0) - 1)*SG(x0) - 2*PiaA*(x0 - 1)*(SG(x0) - 1)*SG(x0) - 1.0*Piaa*x0*(SG(x0) - 1)**2 + 2*Piaa*(x0 - 1)*(SG(x0) - 1)**2)*Subs(Derivative(SG(_xi_1), _xi_1), (_xi_1,), (x0,)) + (PiAA*SG(x0)**2 + Piaa*(SG(x0) - 1)**2 - (PiAa + PiaA)*(SG(x0) - 1)*SG(x0))*(x0**2*(0.5*PiaA*SG(x0) - 0.5*Piaa*(SG(x0) - 1))*(SG(x0) - 1) + x0*(x0 - 1)*(-2.0*PiAA*(x0 - 1)*SG(x0)*Subs(Derivative(SG(_xi_1), _xi_1), (_xi_1,), (x0,)) - 0.5*PiAA*Sg(x0)**2 + 1.0*PiAa*(x0 - 1)*(SG(x0) - 1)*Subs(Derivative(SG(_xi_1), _xi_1), (_xi_1,), (x0,)) + 1.0*PiAa*(x0 - 1)*SG(x0)*Subs(Derivative(SG(_xi_1), _xi_1), (_xi_1,), (x0,)) + 0.5*PiAa*(Sg(x0) - 1)*Sg(x0) - 1.0*PiaA*x0*(SG(x0) - 1)*Subs(Derivative(SG(_xi_1), _xi_1), (_xi_1,), (x0,)) - 1.0*PiaA*x0*SG(x0)*Subs(Derivative(SG(_xi_1), _xi_1), (_xi_1,), (x0,)) + 2*PiaA*(x0 - 1)*(SG(x0) - 1)*Subs(Derivative(SG(_xi_1), _xi_1), (_xi_1,), (x0,)) + 2*PiaA*(x0 - 1)*SG(x0)*Subs(Derivative(SG(_xi_1), _xi_1), (_xi_1,), (x0,)) - 1.0*PiaA*(SG(x0) - 1)*SG(x0) + 0.5*PiaA*(Sg(x0) - 1)*Sg(x0) + 2.0*Piaa*x0*(SG(x0) - 1)*Subs(Derivative(SG(_xi_1), _xi_1), (_xi_1,), (x0,)) - 4*Piaa*(x0 - 1)*(SG(x0) - 1)*Subs(Derivative(SG(_xi_1), _xi_1), (_xi_1,), (x0,)) + 1.0*Piaa*(SG(x0) - 1)**2 - 0.5*Piaa*(Sg(x0) - 1)**2) + (x0 - 1)**2*(0.5*PiAA*SG(x0) - 0.5*PiAa*(SG(x0) - 1))*SG(x0)))*((x0 - 1)*(-PiAA*(SG(x0)**2 - Sg(x0)**2) - Piaa*((SG(x0) - 1)**2 - (Sg(x0) - 1)**2) + (PiAa + PiaA)*((SG(x0) - 1)*SG(x0) - (Sg(x0) - 1)*Sg(x0)))*(1.0*PiAA*(x0 - 1)*SG(x0)**2 - 1.0*PiAa*(x0 - 1)*(SG(x0) - 1)*SG(x0) + 1.0*PiaA*x0*(SG(x0) - 1)*SG(x0) - 2*PiaA*(x0 - 1)*(SG(x0) - 1)*SG(x0) - 1.0*Piaa*x0*(SG(x0) - 1)**2 + 2*Piaa*(x0 - 1)*(SG(x0) - 1)**2) + 2*(x0 - 1)*(PiAA*SG(x0)**2 + Piaa*(SG(x0) - 1)**2 - (PiAa + PiaA)*(SG(x0) - 1)*SG(x0))**2 + (PiAA*SG(x0)**2 + Piaa*(SG(x0) - 1)**2 - (PiAa + PiaA)*(SG(x0) - 1)*SG(x0))*(-0.5*PiaA*x0*(SG(x0) - 1)*SG(x0) + 0.5*Piaa*x0*(SG(x0) - 1)**2 - (x0 - 1)*(1.0*PiAA*SG(x0)**2 - 0.5*PiAA*Sg(x0)**2 - 1.0*PiAa*(SG(x0) - 1)*SG(x0) + 0.5*PiAa*(Sg(x0) - 1)*Sg(x0) - 3.0*PiaA*(SG(x0) - 1)*SG(x0) + 1.0*PiaA*(Sg(x0) - 1)*Sg(x0) + 3.0*Piaa*(SG(x0) - 1)**2 - 1.0*Piaa*(Sg(x0) - 1)**2))))*(0.5*PiaA*x0*(SG(x0) - 1)*SG(x0) - 0.5*Piaa*x0*(SG(x0) - 1)**2 + (x0 - 1)*(0.5*PiAA*Sg(x0) - 0.5*PiAa*(Sg(x0) - 1))*Sg(x0)) + ((x0 - 1)*(-(PiAA*(SG(x0)**2 - Sg(x0)**2) + Piaa*((SG(x0) - 1)**2 - (Sg(x0) - 1)**2) - (PiAa + PiaA)*((SG(x0) - 1)*SG(x0) - (Sg(x0) - 1)*Sg(x0)))*(1.0*PiAA*(x0 - 1)*SG(x0)**2 - 1.0*PiAa*(x0 - 1)*(SG(x0) - 1)*SG(x0) + 1.0*PiaA*x0*(SG(x0) - 1)*SG(x0) - 2*PiaA*(x0 - 1)*(SG(x0) - 1)*SG(x0) - 1.0*Piaa*x0*(SG(x0) - 1)**2 + 2*Piaa*(x0 - 1)*(SG(x0) - 1)**2) + (PiAA*(SG(x0)**2 + 2*SG(x0)*Subs(Derivative(SG(_xi_1), _xi_1), (_xi_1,), (x0,)) - Sg(x0)**2) + Piaa*((SG(x0) - 1)**2 + 2*(SG(x0) - 1)*Subs(Derivative(SG(_xi_1), _xi_1), (_xi_1,), (x0,)) - (Sg(x0) - 1)**2) + (PiAa + PiaA)*(-(SG(x0) - 1)*SG(x0) - (SG(x0) - 1)*Subs(Derivative(SG(_xi_1), _xi_1), (_xi_1,), (x0,)) + (Sg(x0) - 1)*Sg(x0) - SG(x0)*Subs(Derivative(SG(_xi_1), _xi_1), (_xi_1,), (x0,))))*(2*PiAA*x0*SG(x0)**2 - 1.0*PiAA*(x0 - 1)*SG(x0)**2 - 2*PiAa*x0*(SG(x0) - 1)*SG(x0) + 1.0*PiAa*(x0 - 1)*(SG(x0) - 1)*SG(x0) - 1.0*PiaA*x0*(SG(x0) - 1)*SG(x0) + 1.0*Piaa*x0*(SG(x0) - 1)**2)) + 4*(x0 - 1)*(PiAA*SG(x0)**2 + Piaa*(SG(x0) - 1)**2 - (PiAa + PiaA)*(SG(x0) - 1)*SG(x0))**2 + (PiAA*SG(x0)**2 + Piaa*(SG(x0) - 1)**2 - (PiAa + PiaA)*(SG(x0) - 1)*SG(x0))*(-1.0*PiaA*x0*(SG(x0) - 1)*SG(x0) + 1.0*Piaa*x0*(SG(x0) - 1)**2 - (x0 - 1)*(1.0*PiAA*SG(x0)**2 - 0.5*PiAA*Sg(x0)**2 - 1.0*PiAa*(SG(x0) - 1)*SG(x0) + 0.5*PiAa*(Sg(x0) - 1)*Sg(x0) - 3.0*PiaA*(SG(x0) - 1)*SG(x0) + 1.0*PiaA*(Sg(x0) - 1)*Sg(x0) + 3.0*Piaa*(SG(x0) - 1)**2 - 1.0*Piaa*(Sg(x0) - 1)**2) + (x0 - 1)*(-4*PiAA*x0*SG(x0)*Subs(Derivative(SG(_xi_1), _xi_1), (_xi_1,), (x0,)) + 2.0*PiAA*(x0 - 1)*SG(x0)*Subs(Derivative(SG(_xi_1), _xi_1), (_xi_1,), (x0,)) - 2*PiAA*SG(x0)**2 + 0.5*PiAA*Sg(x0)**2 + 2*PiAa*x0*(SG(x0) - 1)*Subs(Derivative(SG(_xi_1), _xi_1), (_xi_1,), (x0,)) + 2*PiAa*x0*SG(x0)*Subs(Derivative(SG(_xi_1), _xi_1), (_xi_1,), (x0,)) - 1.0*PiAa*(x0 - 1)*(SG(x0) - 1)*Subs(Derivative(SG(_xi_1), _xi_1), (_xi_1,), (x0,)) - 1.0*PiAa*(x0 - 1)*SG(x0)*Subs(Derivative(SG(_xi_1), _xi_1), (_xi_1,), (x0,)) + 2*PiAa*(SG(x0) - 1)*SG(x0) - 0.5*PiAa*(Sg(x0) - 1)*Sg(x0) + 1.0*PiaA*x0*(SG(x0) - 1)*Subs(Derivative(SG(_xi_1), _xi_1), (_xi_1,), (x0,)) + 1.0*PiaA*x0*SG(x0)*Subs(Derivative(SG(_xi_1), _xi_1), (_xi_1,), (x0,)) + 1.0*PiaA*(SG(x0) - 1)*SG(x0) - 2.0*Piaa*x0*(SG(x0) - 1)*Subs(Derivative(SG(_xi_1), _xi_1), (_xi_1,), (x0,)) - 1.0*Piaa*(SG(x0) - 1)**2)))*(0.5*PiaA*x0*(SG(x0) - 1)*SG(x0) - 0.5*Piaa*x0*(SG(x0) - 1)**2 + (x0 - 1)*(0.5*PiAA*Sg(x0) - 0.5*PiAa*(Sg(x0) - 1))*Sg(x0))*(x0*(x0 - 1)*(-2*PiAA*SG(x0) - 2*Piaa*(SG(x0) - 1) + (PiAa + PiaA)*(2*SG(x0) - 1))*(2*PiAA*x0*SG(x0)**2 - 1.0*PiAA*(x0 - 1)*SG(x0)**2 - 2*PiAa*x0*(SG(x0) - 1)*SG(x0) + 1.0*PiAa*(x0 - 1)*(SG(x0) - 1)*SG(x0) - 1.0*PiaA*x0*(SG(x0) - 1)*SG(x0) + 1.0*Piaa*x0*(SG(x0) - 1)**2)*Subs(Derivative(SG(_xi_1), _xi_1), (_xi_1,), (x0,)) + x0*(x0 - 1)*(2*PiAA*SG(x0) + 2*Piaa*(SG(x0) - 1) - (PiAa + PiaA)*(2*SG(x0) - 1))*(1.0*PiAA*(x0 - 1)*SG(x0)**2 - 1.0*PiAa*(x0 - 1)*(SG(x0) - 1)*SG(x0) + 1.0*PiaA*x0*(SG(x0) - 1)*SG(x0) - 2*PiaA*(x0 - 1)*(SG(x0) - 1)*SG(x0) - 1.0*Piaa*x0*(SG(x0) - 1)**2 + 2*Piaa*(x0 - 1)*(SG(x0) - 1)**2)*Subs(Derivative(SG(_xi_1), _xi_1), (_xi_1,), (x0,)) - (PiAA*SG(x0)**2 + Piaa*(SG(x0) - 1)**2 - (PiAa + PiaA)*(SG(x0) - 1)*SG(x0))*(x0**2*(-0.5*PiaA*SG(x0) + 0.5*Piaa*(SG(x0) - 1))*(SG(x0) - 1) + x0*(x0 - 1)*(-4*PiAA*x0*SG(x0)*Subs(Derivative(SG(_xi_1), _xi_1), (_xi_1,), (x0,)) + 2.0*PiAA*(x0 - 1)*SG(x0)*Subs(Derivative(SG(_xi_1), _xi_1), (_xi_1,), (x0,)) + 1.0*PiAA*SG(x0)**2 - 0.5*PiAA*Sg(x0)**2 + 2*PiAa*x0*(SG(x0) - 1)*Subs(Derivative(SG(_xi_1), _xi_1), (_xi_1,), (x0,)) + 2*PiAa*x0*SG(x0)*Subs(Derivative(SG(_xi_1), _xi_1), (_xi_1,), (x0,)) - 1.0*PiAa*(x0 - 1)*(SG(x0) - 1)*Subs(Derivative(SG(_xi_1), _xi_1), (_xi_1,), (x0,)) - 1.0*PiAa*(x0 - 1)*SG(x0)*Subs(Derivative(SG(_xi_1), _xi_1), (_xi_1,), (x0,)) - 1.0*PiAa*(SG(x0) - 1)*SG(x0) + 0.5*PiAa*(Sg(x0) - 1)*Sg(x0) + 1.0*PiaA*x0*(SG(x0) - 1)*Subs(Derivative(SG(_xi_1), _xi_1), (_xi_1,), (x0,)) + 1.0*PiaA*x0*SG(x0)*Subs(Derivative(SG(_xi_1), _xi_1), (_xi_1,), (x0,)) + 0.5*PiaA*(Sg(x0) - 1)*Sg(x0) - 2.0*Piaa*x0*(SG(x0) - 1)*Subs(Derivative(SG(_xi_1), _xi_1), (_xi_1,), (x0,)) - 0.5*Piaa*(Sg(x0) - 1)**2) + (x0 - 1)**2*(-0.5*PiAA*SG(x0) + 0.5*PiAa*(SG(x0) - 1))*SG(x0)) + (PiAA*SG(x0)**2 + Piaa*(SG(x0) - 1)**2 - (PiAa + PiaA)*(SG(x0) - 1)*SG(x0))*(x0**2*(0.5*PiaA*SG(x0) - 0.5*Piaa*(SG(x0) - 1))*(SG(x0) - 1) + x0*(x0 - 1)*(-2.0*PiAA*(x0 - 1)*SG(x0)*Subs(Derivative(SG(_xi_1), _xi_1), (_xi_1,), (x0,)) - 0.5*PiAA*Sg(x0)**2 + 1.0*PiAa*(x0 - 1)*(SG(x0) - 1)*Subs(Derivative(SG(_xi_1), _xi_1), (_xi_1,), (x0,)) + 1.0*PiAa*(x0 - 1)*SG(x0)*Subs(Derivative(SG(_xi_1), _xi_1), (_xi_1,), (x0,)) + 0.5*PiAa*(Sg(x0) - 1)*Sg(x0) - 1.0*PiaA*x0*(SG(x0) - 1)*Subs(Derivative(SG(_xi_1), _xi_1), (_xi_1,), (x0,)) - 1.0*PiaA*x0*SG(x0)*Subs(Derivative(SG(_xi_1), _xi_1), (_xi_1,), (x0,)) + 2*PiaA*(x0 - 1)*(SG(x0) - 1)*Subs(Derivative(SG(_xi_1), _xi_1), (_xi_1,), (x0,)) + 2*PiaA*(x0 - 1)*SG(x0)*Subs(Derivative(SG(_xi_1), _xi_1), (_xi_1,), (x0,)) - 1.0*PiaA*(SG(x0) - 1)*SG(x0) + 0.5*PiaA*(Sg(x0) - 1)*Sg(x0) + 2.0*Piaa*x0*(SG(x0) - 1)*Subs(Derivative(SG(_xi_1), _xi_1), (_xi_1,), (x0,)) - 4*Piaa*(x0 - 1)*(SG(x0) - 1)*Subs(Derivative(SG(_xi_1), _xi_1), (_xi_1,), (x0,)) + 1.0*Piaa*(SG(x0) - 1)**2 - 0.5*Piaa*(Sg(x0) - 1)**2) + (x0 - 1)**2*(0.5*PiAA*SG(x0) - 0.5*PiAa*(SG(x0) - 1))*SG(x0))))/(8*x0*(x0 - 1)**3*(PiAA*SG(x0)**2 + Piaa*(SG(x0) - 1)**2 - (PiAa + PiaA)*(SG(x0) - 1)*SG(x0))**5)"
      ]
     },
     "execution_count": 53,
     "metadata": {},
     "output_type": "execute_result"
    }
   ],
   "source": [
    "d"
   ]
  },
  {
   "cell_type": "code",
   "execution_count": 85,
   "metadata": {
    "collapsed": true
   },
   "outputs": [
    {
     "data": {
      "text/plain": [
       "Matrix([\n",
       "[                                                    (-2*PiAA*(SG(x0)**2 + 2*SG(x0)*Subs(Derivative(SG(_xi_1), _xi_1), (_xi_1,), (x0,)) - Sg(x0)**2) - 2*Piaa*((-SG(x0) + 1)**2 - 2*(-SG(x0) + 1)*Subs(Derivative(SG(_xi_1), _xi_1), (_xi_1,), (x0,)) - (-Sg(x0) + 1)**2) - (2*PiAa + 2*PiaA)*((-SG(x0) + 1)*SG(x0) + (-SG(x0) + 1)*Subs(Derivative(SG(_xi_1), _xi_1), (_xi_1,), (x0,)) - (-Sg(x0) + 1)*Sg(x0) - SG(x0)*Subs(Derivative(SG(_xi_1), _xi_1), (_xi_1,), (x0,))))*(2*PiAA*x0*SG(x0)**2 + 1.0*PiAA*(-x0 + 1)*SG(x0)**2 + 2*PiAa*x0*(-SG(x0) + 1)*SG(x0) + 1.0*PiAa*(-x0 + 1)*(-SG(x0) + 1)*SG(x0) + 1.0*PiaA*x0*(-SG(x0) + 1)*SG(x0) + 1.0*Piaa*x0*(-SG(x0) + 1)**2)/(2*PiAA*SG(x0)**2 + 2*Piaa*(-SG(x0) + 1)**2 + (2*PiAa + 2*PiaA)*(-SG(x0) + 1)*SG(x0))**2 - 1 + (4*PiAA*x0*SG(x0)*Subs(Derivative(SG(_xi_1), _xi_1), (_xi_1,), (x0,)) + 2.0*PiAA*(-x0 + 1)*SG(x0)*Subs(Derivative(SG(_xi_1), _xi_1), (_xi_1,), (x0,)) + 2*PiAA*SG(x0)**2 - 0.5*PiAA*Sg(x0)**2 + 2*PiAa*x0*(-SG(x0) + 1)*Subs(Derivative(SG(_xi_1), _xi_1), (_xi_1,), (x0,)) - 2*PiAa*x0*SG(x0)*Subs(Derivative(SG(_xi_1), _xi_1), (_xi_1,), (x0,)) + 1.0*PiAa*(-x0 + 1)*(-SG(x0) + 1)*Subs(Derivative(SG(_xi_1), _xi_1), (_xi_1,), (x0,)) - 1.0*PiAa*(-x0 + 1)*SG(x0)*Subs(Derivative(SG(_xi_1), _xi_1), (_xi_1,), (x0,)) + 2*PiAa*(-SG(x0) + 1)*SG(x0) - 0.5*PiAa*(-Sg(x0) + 1)*Sg(x0) + 1.0*PiaA*x0*(-SG(x0) + 1)*Subs(Derivative(SG(_xi_1), _xi_1), (_xi_1,), (x0,)) - 1.0*PiaA*x0*SG(x0)*Subs(Derivative(SG(_xi_1), _xi_1), (_xi_1,), (x0,)) + 0.5*PiaA*x0*(-SG(x0) + 1)*SG(x0)/(-x0 + 1) + 1.0*PiaA*(-SG(x0) + 1)*SG(x0) - 2.0*Piaa*x0*(-SG(x0) + 1)*Subs(Derivative(SG(_xi_1), _xi_1), (_xi_1,), (x0,)) + 0.5*Piaa*x0*(-SG(x0) + 1)**2/(-x0 + 1) + 1.0*Piaa*(-SG(x0) + 1)**2)/(2*PiAA*SG(x0)**2 + 2*Piaa*(-SG(x0) + 1)**2 + (2*PiAa + 2*PiaA)*(-SG(x0) + 1)*SG(x0)),                                                                                                                                                  (-2*PiAA*(SG(x0)**2 - Sg(x0)**2) - 2*Piaa*((-SG(x0) + 1)**2 - (-Sg(x0) + 1)**2) - (2*PiAa + 2*PiaA)*((-SG(x0) + 1)*SG(x0) - (-Sg(x0) + 1)*Sg(x0)))*(2*PiAA*x0*SG(x0)**2 + 1.0*PiAA*(-x0 + 1)*SG(x0)**2 + 2*PiAa*x0*(-SG(x0) + 1)*SG(x0) + 1.0*PiAa*(-x0 + 1)*(-SG(x0) + 1)*SG(x0) + 1.0*PiaA*x0*(-SG(x0) + 1)*SG(x0) + 1.0*Piaa*x0*(-SG(x0) + 1)**2)/(2*PiAA*SG(x0)**2 + 2*Piaa*(-SG(x0) + 1)**2 + (2*PiAa + 2*PiaA)*(-SG(x0) + 1)*SG(x0))**2 + (1.0*PiAA*SG(x0)**2 - 0.5*PiAA*Sg(x0)**2 + 1.0*PiAa*(-SG(x0) + 1)*SG(x0) - 0.5*PiAa*(-Sg(x0) + 1)*Sg(x0) + 0.5*PiaA*x0*(-SG(x0) + 1)*SG(x0)/(-x0 + 1) + 0.5*Piaa*x0*(-SG(x0) + 1)**2/(-x0 + 1))/(2*PiAA*SG(x0)**2 + 2*Piaa*(-SG(x0) + 1)**2 + (2*PiAa + 2*PiaA)*(-SG(x0) + 1)*SG(x0)),                                                         (4*PiAA*x0*SG(x0)*Subs(Derivative(SG(_xi_1), _xi_1), (_xi_1,), (x0,)) + 2.0*PiAA*(-x0 + 1)*SG(x0)*Subs(Derivative(SG(_xi_1), _xi_1), (_xi_1,), (x0,)) - 1.0*PiAA*SG(x0)**2 + 0.5*PiAA*Sg(x0)**2 - 0.5*PiAA*(-x0 + 1)*SG(x0)**2/x0 + 2*PiAa*x0*(-SG(x0) + 1)*Subs(Derivative(SG(_xi_1), _xi_1), (_xi_1,), (x0,)) - 2*PiAa*x0*SG(x0)*Subs(Derivative(SG(_xi_1), _xi_1), (_xi_1,), (x0,)) + 1.0*PiAa*(-x0 + 1)*(-SG(x0) + 1)*Subs(Derivative(SG(_xi_1), _xi_1), (_xi_1,), (x0,)) - 1.0*PiAa*(-x0 + 1)*SG(x0)*Subs(Derivative(SG(_xi_1), _xi_1), (_xi_1,), (x0,)) - 1.0*PiAa*(-SG(x0) + 1)*SG(x0) + 0.5*PiAa*(-Sg(x0) + 1)*Sg(x0) - 0.5*PiAa*(-x0 + 1)*(-SG(x0) + 1)*SG(x0)/x0 + 1.0*PiaA*x0*(-SG(x0) + 1)*Subs(Derivative(SG(_xi_1), _xi_1), (_xi_1,), (x0,)) - 1.0*PiaA*x0*SG(x0)*Subs(Derivative(SG(_xi_1), _xi_1), (_xi_1,), (x0,)) + 0.5*PiaA*x0*(-SG(x0) + 1)*SG(x0)/(-x0 + 1) + 0.5*PiaA*(-Sg(x0) + 1)*Sg(x0) - 2.0*Piaa*x0*(-SG(x0) + 1)*Subs(Derivative(SG(_xi_1), _xi_1), (_xi_1,), (x0,)) + 0.5*Piaa*x0*(-SG(x0) + 1)**2/(-x0 + 1) + 0.5*Piaa*(-Sg(x0) + 1)**2)/(2*PiAA*SG(x0)**2 + 2*Piaa*(-SG(x0) + 1)**2 + (2*PiAa + 2*PiaA)*(-SG(x0) + 1)*SG(x0)) + (-4*PiAA*SG(x0)*Subs(Derivative(SG(_xi_1), _xi_1), (_xi_1,), (x0,)) + 4*Piaa*(-SG(x0) + 1)*Subs(Derivative(SG(_xi_1), _xi_1), (_xi_1,), (x0,)) - (2*PiAa + 2*PiaA)*((-SG(x0) + 1)*Subs(Derivative(SG(_xi_1), _xi_1), (_xi_1,), (x0,)) - SG(x0)*Subs(Derivative(SG(_xi_1), _xi_1), (_xi_1,), (x0,))))*(2*PiAA*x0*SG(x0)**2 + 1.0*PiAA*(-x0 + 1)*SG(x0)**2 + 2*PiAa*x0*(-SG(x0) + 1)*SG(x0) + 1.0*PiAa*(-x0 + 1)*(-SG(x0) + 1)*SG(x0) + 1.0*PiaA*x0*(-SG(x0) + 1)*SG(x0) + 1.0*Piaa*x0*(-SG(x0) + 1)**2)/(2*PiAA*SG(x0)**2 + 2*Piaa*(-SG(x0) + 1)**2 + (2*PiAa + 2*PiaA)*(-SG(x0) + 1)*SG(x0))**2],\n",
       "[(-2*PiAA*(SG(x0)**2 + 2*SG(x0)*Subs(Derivative(SG(_xi_1), _xi_1), (_xi_1,), (x0,)) - Sg(x0)**2) - 2*Piaa*((-SG(x0) + 1)**2 - 2*(-SG(x0) + 1)*Subs(Derivative(SG(_xi_1), _xi_1), (_xi_1,), (x0,)) - (-Sg(x0) + 1)**2) - (2*PiAa + 2*PiaA)*((-SG(x0) + 1)*SG(x0) + (-SG(x0) + 1)*Subs(Derivative(SG(_xi_1), _xi_1), (_xi_1,), (x0,)) - (-Sg(x0) + 1)*Sg(x0) - SG(x0)*Subs(Derivative(SG(_xi_1), _xi_1), (_xi_1,), (x0,))))*(1.0*PiAA*(-x0 + 1)*SG(x0)**2 + 1.0*PiAa*(-x0 + 1)*(-SG(x0) + 1)*SG(x0) + 1.0*PiaA*x0*(-SG(x0) + 1)*SG(x0) + 2*PiaA*(-x0 + 1)*(-SG(x0) + 1)*SG(x0) + 1.0*Piaa*x0*(-SG(x0) + 1)**2 + 2*Piaa*(-x0 + 1)*(-SG(x0) + 1)**2)/(2*PiAA*SG(x0)**2 + 2*Piaa*(-SG(x0) + 1)**2 + (2*PiAa + 2*PiaA)*(-SG(x0) + 1)*SG(x0))**2 + (2.0*PiAA*(-x0 + 1)*SG(x0)*Subs(Derivative(SG(_xi_1), _xi_1), (_xi_1,), (x0,)) - 0.5*PiAA*Sg(x0)**2 + 1.0*PiAa*(-x0 + 1)*(-SG(x0) + 1)*Subs(Derivative(SG(_xi_1), _xi_1), (_xi_1,), (x0,)) - 1.0*PiAa*(-x0 + 1)*SG(x0)*Subs(Derivative(SG(_xi_1), _xi_1), (_xi_1,), (x0,)) - 0.5*PiAa*(-Sg(x0) + 1)*Sg(x0) + 1.0*PiaA*x0*(-SG(x0) + 1)*Subs(Derivative(SG(_xi_1), _xi_1), (_xi_1,), (x0,)) - 1.0*PiaA*x0*SG(x0)*Subs(Derivative(SG(_xi_1), _xi_1), (_xi_1,), (x0,)) + 0.5*PiaA*x0*(-SG(x0) + 1)*SG(x0)/(-x0 + 1) + 2*PiaA*(-x0 + 1)*(-SG(x0) + 1)*Subs(Derivative(SG(_xi_1), _xi_1), (_xi_1,), (x0,)) - 2*PiaA*(-x0 + 1)*SG(x0)*Subs(Derivative(SG(_xi_1), _xi_1), (_xi_1,), (x0,)) + 2*PiaA*(-SG(x0) + 1)*SG(x0) - 1.0*PiaA*(-Sg(x0) + 1)*Sg(x0) - 2.0*Piaa*x0*(-SG(x0) + 1)*Subs(Derivative(SG(_xi_1), _xi_1), (_xi_1,), (x0,)) + 0.5*Piaa*x0*(-SG(x0) + 1)**2/(-x0 + 1) - 4*Piaa*(-x0 + 1)*(-SG(x0) + 1)*Subs(Derivative(SG(_xi_1), _xi_1), (_xi_1,), (x0,)) + 2*Piaa*(-SG(x0) + 1)**2 - 1.0*Piaa*(-Sg(x0) + 1)**2)/(2*PiAA*SG(x0)**2 + 2*Piaa*(-SG(x0) + 1)**2 + (2*PiAa + 2*PiaA)*(-SG(x0) + 1)*SG(x0)), (-2*PiAA*(SG(x0)**2 - Sg(x0)**2) - 2*Piaa*((-SG(x0) + 1)**2 - (-Sg(x0) + 1)**2) - (2*PiAa + 2*PiaA)*((-SG(x0) + 1)*SG(x0) - (-Sg(x0) + 1)*Sg(x0)))*(1.0*PiAA*(-x0 + 1)*SG(x0)**2 + 1.0*PiAa*(-x0 + 1)*(-SG(x0) + 1)*SG(x0) + 1.0*PiaA*x0*(-SG(x0) + 1)*SG(x0) + 2*PiaA*(-x0 + 1)*(-SG(x0) + 1)*SG(x0) + 1.0*Piaa*x0*(-SG(x0) + 1)**2 + 2*Piaa*(-x0 + 1)*(-SG(x0) + 1)**2)/(2*PiAA*SG(x0)**2 + 2*Piaa*(-SG(x0) + 1)**2 + (2*PiAa + 2*PiaA)*(-SG(x0) + 1)*SG(x0))**2 - 1 + (1.0*PiAA*SG(x0)**2 - 0.5*PiAA*Sg(x0)**2 + 1.0*PiAa*(-SG(x0) + 1)*SG(x0) - 0.5*PiAa*(-Sg(x0) + 1)*Sg(x0) + 0.5*PiaA*x0*(-SG(x0) + 1)*SG(x0)/(-x0 + 1) + 3.0*PiaA*(-SG(x0) + 1)*SG(x0) - 1.0*PiaA*(-Sg(x0) + 1)*Sg(x0) + 0.5*Piaa*x0*(-SG(x0) + 1)**2/(-x0 + 1) + 3.0*Piaa*(-SG(x0) + 1)**2 - 1.0*Piaa*(-Sg(x0) + 1)**2)/(2*PiAA*SG(x0)**2 + 2*Piaa*(-SG(x0) + 1)**2 + (2*PiAa + 2*PiaA)*(-SG(x0) + 1)*SG(x0)), (2.0*PiAA*(-x0 + 1)*SG(x0)*Subs(Derivative(SG(_xi_1), _xi_1), (_xi_1,), (x0,)) - 0.5*PiAA*Sg(x0)**2 - 0.5*PiAA*(-x0 + 1)*SG(x0)**2/x0 + 1.0*PiAa*(-x0 + 1)*(-SG(x0) + 1)*Subs(Derivative(SG(_xi_1), _xi_1), (_xi_1,), (x0,)) - 1.0*PiAa*(-x0 + 1)*SG(x0)*Subs(Derivative(SG(_xi_1), _xi_1), (_xi_1,), (x0,)) - 0.5*PiAa*(-Sg(x0) + 1)*Sg(x0) - 0.5*PiAa*(-x0 + 1)*(-SG(x0) + 1)*SG(x0)/x0 + 1.0*PiaA*x0*(-SG(x0) + 1)*Subs(Derivative(SG(_xi_1), _xi_1), (_xi_1,), (x0,)) - 1.0*PiaA*x0*SG(x0)*Subs(Derivative(SG(_xi_1), _xi_1), (_xi_1,), (x0,)) + 0.5*PiaA*x0*(-SG(x0) + 1)*SG(x0)/(-x0 + 1) + 2*PiaA*(-x0 + 1)*(-SG(x0) + 1)*Subs(Derivative(SG(_xi_1), _xi_1), (_xi_1,), (x0,)) - 2*PiaA*(-x0 + 1)*SG(x0)*Subs(Derivative(SG(_xi_1), _xi_1), (_xi_1,), (x0,)) + 1.0*PiaA*(-SG(x0) + 1)*SG(x0) - 0.5*PiaA*(-Sg(x0) + 1)*Sg(x0) - 2.0*Piaa*x0*(-SG(x0) + 1)*Subs(Derivative(SG(_xi_1), _xi_1), (_xi_1,), (x0,)) + 0.5*Piaa*x0*(-SG(x0) + 1)**2/(-x0 + 1) - 4*Piaa*(-x0 + 1)*(-SG(x0) + 1)*Subs(Derivative(SG(_xi_1), _xi_1), (_xi_1,), (x0,)) + 1.0*Piaa*(-SG(x0) + 1)**2 - 0.5*Piaa*(-Sg(x0) + 1)**2)/(2*PiAA*SG(x0)**2 + 2*Piaa*(-SG(x0) + 1)**2 + (2*PiAa + 2*PiaA)*(-SG(x0) + 1)*SG(x0)) + (-4*PiAA*SG(x0)*Subs(Derivative(SG(_xi_1), _xi_1), (_xi_1,), (x0,)) + 4*Piaa*(-SG(x0) + 1)*Subs(Derivative(SG(_xi_1), _xi_1), (_xi_1,), (x0,)) - (2*PiAa + 2*PiaA)*((-SG(x0) + 1)*Subs(Derivative(SG(_xi_1), _xi_1), (_xi_1,), (x0,)) - SG(x0)*Subs(Derivative(SG(_xi_1), _xi_1), (_xi_1,), (x0,))))*(1.0*PiAA*(-x0 + 1)*SG(x0)**2 + 1.0*PiAa*(-x0 + 1)*(-SG(x0) + 1)*SG(x0) + 1.0*PiaA*x0*(-SG(x0) + 1)*SG(x0) + 2*PiaA*(-x0 + 1)*(-SG(x0) + 1)*SG(x0) + 1.0*Piaa*x0*(-SG(x0) + 1)**2 + 2*Piaa*(-x0 + 1)*(-SG(x0) + 1)**2)/(2*PiAA*SG(x0)**2 + 2*Piaa*(-SG(x0) + 1)**2 + (2*PiAa + 2*PiaA)*(-SG(x0) + 1)*SG(x0))**2],\n",
       "[                                                                                                                                                                                                                                                                                                                                                                                                                                                                                                                                                                                                                                                                                                                                                                                                                                                                                                                                                                                                                                                                                                                                                                                                                                                                                                                                                                                                                                                                                                                                                                                                                      (-0.5*PiAA*Sg(x0)**2 - 0.5*PiAa*(-Sg(x0) + 1)*Sg(x0) - 0.5*PiaA*x0*(-SG(x0) + 1)*SG(x0)/(-x0 + 1) - 0.5*Piaa*x0*(-SG(x0) + 1)**2/(-x0 + 1))/(2*PiAA*SG(x0)**2 + 2*Piaa*(-SG(x0) + 1)**2 + (2*PiAa + 2*PiaA)*(-SG(x0) + 1)*SG(x0)),                                                                                                                                                                                                                                                                                                                                                                                                                                                                                                                                                                                                                                                      (-0.5*PiAA*Sg(x0)**2 - 0.5*PiAa*(-Sg(x0) + 1)*Sg(x0) - 0.5*PiaA*x0*(-SG(x0) + 1)*SG(x0)/(-x0 + 1) - 0.5*Piaa*x0*(-SG(x0) + 1)**2/(-x0 + 1))/(2*PiAA*SG(x0)**2 + 2*Piaa*(-SG(x0) + 1)**2 + (2*PiAa + 2*PiaA)*(-SG(x0) + 1)*SG(x0)),                                                                                                                                                                                                                                                                                                                                                                                                                                                                                                                                                                                                                                                                                                                                                                                                                                                                                                                                                                                                                                                                                                                                                                                                                                                                                                                                                                                  -1 + (1.0*PiAA*SG(x0)**2 + 0.5*PiAA*Sg(x0)**2 + 0.5*PiAA*(-x0 + 1)*SG(x0)**2/x0 + 1.0*PiAa*(-SG(x0) + 1)*SG(x0) + 0.5*PiAa*(-Sg(x0) + 1)*Sg(x0) + 0.5*PiAa*(-x0 + 1)*(-SG(x0) + 1)*SG(x0)/x0 - 0.5*PiaA*x0*(-SG(x0) + 1)*SG(x0)/(-x0 + 1) + 0.5*PiaA*(-Sg(x0) + 1)*Sg(x0) - 0.5*Piaa*x0*(-SG(x0) + 1)**2/(-x0 + 1) + 0.5*Piaa*(-Sg(x0) + 1)**2)/(2*PiAA*SG(x0)**2 + 2*Piaa*(-SG(x0) + 1)**2 + (2*PiAa + 2*PiaA)*(-SG(x0) + 1)*SG(x0))]])"
      ]
     },
     "execution_count": 85,
     "metadata": {},
     "output_type": "execute_result"
    }
   ],
   "source": [
    "rhs_jac.subs({x1: 1 - x0,\n",
    "              x2: 0,\n",
    "              SG(x0): 0.5 * ((PiaA + PiAa) - 2 * Piaa) / ((PiaA + PiAa) - (PiAA + Piaa))})"
   ]
  },
  {
   "cell_type": "code",
   "execution_count": null,
   "metadata": {
    "collapsed": true
   },
   "outputs": [],
   "source": []
  }
 ],
 "metadata": {
  "kernelspec": {
   "display_name": "Python 3",
   "language": "python",
   "name": "python3"
  },
  "language_info": {
   "codemirror_mode": {
    "name": "ipython",
    "version": 3
   },
   "file_extension": ".py",
   "mimetype": "text/x-python",
   "name": "python",
   "nbconvert_exporter": "python",
   "pygments_lexer": "ipython3",
   "version": "3.5.1"
  }
 },
 "nbformat": 4,
 "nbformat_minor": 0
}
