{
 "cells": [
  {
   "cell_type": "code",
   "execution_count": 110,
   "metadata": {
    "collapsed": true
   },
   "outputs": [],
   "source": [
    "%matplotlib inline"
   ]
  },
  {
   "cell_type": "code",
   "execution_count": 108,
   "metadata": {
    "collapsed": true
   },
   "outputs": [],
   "source": [
    "import matplotlib.pyplot as plt\n",
    "import sympy as sym"
   ]
  },
  {
   "cell_type": "code",
   "execution_count": 85,
   "metadata": {
    "collapsed": false
   },
   "outputs": [],
   "source": [
    "class S(sym.Function):\n",
    "    \"\"\"Matching function\"\"\"\n",
    "    \n",
    "    is_real = True\n",
    "    \n",
    "    @classmethod\n",
    "    def eval(cls, x):\n",
    "        \"\"\"We require the S(0)=0 and S(1)=1\"\"\"\n",
    "        if x.is_Number and x is sym.S.Zero:\n",
    "            return sym.S.Zero\n",
    "        elif x.is_Number and x is sym.S.One:\n",
    "            return sym.S.One\n"
   ]
  },
  {
   "cell_type": "code",
   "execution_count": 98,
   "metadata": {
    "collapsed": true
   },
   "outputs": [],
   "source": [
    "def total_surviving_altruists(x, S, PiaA, PiAA, Piaa, PiAa):\n",
    "    num_survivors = (2 * PiAA * x * S(x)**2 +\n",
    "                     Piaa * x * (1 - S(x))**2 + \n",
    "                     (2 * PiAa + PiaA) * x * S(x) * (1 - S(x)) +\n",
    "                     PiAA * (1 - x) * S(x)**2 + \n",
    "                     PiAa * (1 - x) * S(x) * (1 - S(x)))\n",
    "    return num_survivors\n",
    "\n",
    "\n",
    "def total_altruists(x, S, PiaA, PiAA, Piaa, PiAa):\n",
    "    num_total = (2 * PiAA * x * S(x)**2 +\n",
    "                 2 * Piaa * (1 - x) * (1 - S(x))**2 + \n",
    "                 2 * (PiAa + PiaA) * x * S(x) * (1 - S(x)))\n",
    "    return num_total\n"
   ]
  },
  {
   "cell_type": "code",
   "execution_count": 99,
   "metadata": {
    "collapsed": true
   },
   "outputs": [],
   "source": [
    "def share_altruists(t, x, S, PiaA, PiAA, Piaa, PiAa):\n",
    "    x_dot = ((total_surviving_altruists(x, S, PiaA, PiAA, Piaa, PiAa) /\n",
    "              total_altruists(x, S, PiaA, PiAA, Piaa, PiAa)) - x)\n",
    "    return x_dot"
   ]
  },
  {
   "cell_type": "code",
   "execution_count": 100,
   "metadata": {
    "collapsed": false
   },
   "outputs": [
    {
     "data": {
      "text/plain": [
       "-x + (2*PiAA*x*S(x)**2 + PiAA*(-x + 1)*S(x)**2 + PiAa*(-x + 1)*(-S(x) + 1)*S(x) + Piaa*x*(-S(x) + 1)**2 + x*(2*PiAa + PiaA)*(-S(x) + 1)*S(x))/(2*PiAA*x*S(x)**2 + 2*Piaa*(-x + 1)*(-S(x) + 1)**2 + x*(2*PiAa + 2*PiaA)*(-S(x) + 1)*S(x))"
      ]
     },
     "execution_count": 100,
     "metadata": {},
     "output_type": "execute_result"
    }
   ],
   "source": [
    "t, x = sym.symbols('t, x')\n",
    "PiaA, PiAA, Piaa, PiAa = sym.symbols('PiaA, PiAA, Piaa, PiAa')\n",
    "\n",
    "share_altruists(t, x, S, PiaA, PiAA, Piaa, PiAa)"
   ]
  },
  {
   "cell_type": "code",
   "execution_count": 101,
   "metadata": {
    "collapsed": true
   },
   "outputs": [],
   "source": [
    "# unless I screwed up, x=0, 1 should both be fixed points!\n",
    "assert share_altruists(0, 0, S, PiaA, PiAA, Piaa, PiAa) == 0\n",
    "assert share_altruists(0, 1, S, PiaA, PiAA, Piaa, PiAa) == 0"
   ]
  },
  {
   "cell_type": "code",
   "execution_count": 102,
   "metadata": {
    "collapsed": false
   },
   "outputs": [],
   "source": [
    "rhs_jac = share_altruists(t, x, S, PiaA, PiAA, Piaa, PiAa).diff(x, 1)"
   ]
  },
  {
   "cell_type": "code",
   "execution_count": 103,
   "metadata": {
    "collapsed": false
   },
   "outputs": [
    {
     "data": {
      "text/plain": [
       "(PiAa*Subs(Derivative(S(x), x), (x,), (0,)) - Piaa)/(2*Piaa)"
      ]
     },
     "execution_count": 103,
     "metadata": {},
     "output_type": "execute_result"
    }
   ],
   "source": [
    "rhs_jac.subs({x:0}).simplify()"
   ]
  },
  {
   "cell_type": "markdown",
   "metadata": {},
   "source": [
    "Stability condition for equilibrium at $x=0$...\n",
    "\n",
    "\\begin{align}\n",
    "    %\\frac{\\Pi_{Aa}S'(0) + \\Pi_{aa}}{2\\Pi_{aa}} - 1 < 0 \\\\\n",
    "    %\\frac{\\Pi_{Aa}S'(0) + \\Pi_{aa}}{2\\Pi_{aa}} < 1 \\\\\n",
    "    %\\Pi_{Aa}S'(0) + \\Pi_{aa} < 2\\Pi_{aa} \\\\\n",
    "    %\\Pi_{Aa}S'(0) < \\Pi_{aa} \\\\\n",
    "    1 < S'(0) < \\frac{\\Pi_{aa}}{\\Pi_{Aa}} \\\\\n",
    "\\end{align}"
   ]
  },
  {
   "cell_type": "code",
   "execution_count": 104,
   "metadata": {
    "collapsed": false
   },
   "outputs": [
    {
     "data": {
      "text/plain": [
       "-3/2 + PiaA*Subs(Derivative(S(x), x), (x,), (1,))/(2*PiAA)"
      ]
     },
     "execution_count": 104,
     "metadata": {},
     "output_type": "execute_result"
    }
   ],
   "source": [
    "rhs_jac.subs({x:1}).simplify()"
   ]
  },
  {
   "cell_type": "markdown",
   "metadata": {},
   "source": [
    "Stability condition for equilibrium at $x=1$...\n",
    "\n",
    "\\begin{align}\n",
    "    %-\\frac{3}{2} + \\frac{\\Pi_{aA}S'(1)}{2\\Pi_{AA}} < 0 \\\\\n",
    "    %\\frac{\\Pi_{aA}S'(1)}{2\\Pi_{AA}} < \\frac{3}{2} \\\\\n",
    "    S'(1) < \\frac{3\\Pi_{AA}}{\\Pi_{aA}} \\\\\n",
    "\\end{align}"
   ]
  },
  {
   "cell_type": "markdown",
   "metadata": {},
   "source": [
    "### Example: Wright Bergstrom matching"
   ]
  },
  {
   "cell_type": "code",
   "execution_count": 105,
   "metadata": {
    "collapsed": true
   },
   "outputs": [],
   "source": [
    "def wright_bergstrom_matching(x, e=0.5):\n",
    "    return x**(1 - e)"
   ]
  },
  {
   "cell_type": "code",
   "execution_count": 119,
   "metadata": {
    "collapsed": false
   },
   "outputs": [
    {
     "data": {
      "image/png": "[encoded data removed]",
      "text/plain": [
       "<matplotlib.figure.Figure at 0x115038780>"
      ]
     },
     "metadata": {},
     "output_type": "display_data"
    }
   ],
   "source": [
    "ts = np.linspace(0, 100, 100)\n",
    "xs = np.linspace(0, 1, 100)\n",
    "params = {'PiaA': 50, 'PiAA': 4, 'Piaa': 3, 'PiAa': 2}\n",
    "\n",
    "plt.plot(xs, share_altruists(ts, xs, wright_bergstrom_matching, **params))\n",
    "plt.axhline(y=0, linestyle='dashed', color='k')\n",
    "plt.ylabel(r'$\\dot{x}$', rotation='horizontal')\n",
    "plt.xlabel(r'$x$')\n",
    "plt.show()"
   ]
  },
  {
   "cell_type": "code",
   "execution_count": null,
   "metadata": {
    "collapsed": true
   },
   "outputs": [],
   "source": []
  }
 ],
 "metadata": {
  "kernelspec": {
   "display_name": "Python 3",
   "language": "python",
   "name": "python3"
  },
  "language_info": {
   "codemirror_mode": {
    "name": "ipython",
    "version": 3
   },
   "file_extension": ".py",
   "mimetype": "text/x-python",
   "name": "python",
   "nbconvert_exporter": "python",
   "pygments_lexer": "ipython3",
   "version": "3.4.3"
  }
 },
 "nbformat": 4,
 "nbformat_minor": 0
}
