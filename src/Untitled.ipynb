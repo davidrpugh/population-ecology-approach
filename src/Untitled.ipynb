{
 "cells": [
  {
   "cell_type": "code",
   "execution_count": 110,
   "metadata": {
    "collapsed": true
   },
   "outputs": [],
   "source": [
    "%matplotlib inline"
   ]
  },
  {
   "cell_type": "code",
   "execution_count": 108,
   "metadata": {
    "collapsed": true
   },
   "outputs": [],
   "source": [
    "import matplotlib.pyplot as plt\n",
    "import sympy as sym"
   ]
  },
  {
   "cell_type": "code",
   "execution_count": 85,
   "metadata": {
    "collapsed": false
   },
   "outputs": [],
   "source": [
    "class S(sym.Function):\n",
    "    \"\"\"Matching function\"\"\"\n",
    "    \n",
    "    is_real = True\n",
    "    \n",
    "    @classmethod\n",
    "    def eval(cls, x):\n",
    "        \"\"\"We require the S(0)=0 and S(1)=1\"\"\"\n",
    "        if x.is_Number and x is sym.S.Zero:\n",
    "            return sym.S.Zero\n",
    "        elif x.is_Number and x is sym.S.One:\n",
    "            return sym.S.One\n"
   ]
  },
  {
   "cell_type": "markdown",
   "metadata": {},
   "source": [
    "# 1M1F model"
   ]
  },
  {
   "cell_type": "code",
   "execution_count": 253,
   "metadata": {
    "collapsed": true
   },
   "outputs": [],
   "source": [
    "def M_dot(M, f, S, PiaA, PiAA, Piaa, PiAa):\n",
    "    \"\"\"Equation of motion for share of males carrying GA.\"\"\"\n",
    "    return 0.5 * S(f) - 0.5 * M\n",
    "        \n",
    "def f_dot(M, f, S, PiaA, PiAA, Piaa, PiAa):\n",
    "    \"\"\"Equation of motion for share of female offspring carrying GA.\"\"\"\n",
    "    num = (PiAA - 0.5 * (PiAa + PiaA)) * M * S(f) + 0.5 * PiaA * M + 0.5 * PiAa * S(f)\n",
    "    denom = ((PiAA + Piaa) - (PiAa + PiaA)) * M * S(f) + (PiaA - Piaa) * M + (PiAa - Piaa) * S(f) + Piaa \n",
    "    return (num / denom) - f\n",
    "    "
   ]
  },
  {
   "cell_type": "code",
   "execution_count": 254,
   "metadata": {
    "collapsed": true
   },
   "outputs": [],
   "source": [
    "M, f = sym.symbols('M, f')\n",
    "PiaA, PiAA, Piaa, PiAa = sym.symbols('PiaA, PiAA, Piaa, PiAa')"
   ]
  },
  {
   "cell_type": "code",
   "execution_count": 255,
   "metadata": {
    "collapsed": true
   },
   "outputs": [],
   "source": [
    "rhs = sym.Matrix([M_dot(M, f, S, PiaA, PiAA, Piaa, PiAa),\n",
    "                  f_dot(M, f, S, PiaA, PiAA, Piaa, PiAa)])\n",
    "\n",
    "rhs_jac = rhs.jacobian([M, f])"
   ]
  },
  {
   "cell_type": "markdown",
   "metadata": {},
   "source": [
    "## Equilibrium with $M^*=f^*=0$"
   ]
  },
  {
   "cell_type": "code",
   "execution_count": 261,
   "metadata": {
    "collapsed": false
   },
   "outputs": [],
   "source": [
    "# will raise AssertionError is false\n",
    "assert M_dot(0, 0, S, PiaA, PiAA, Piaa, PiAa) == 0\n",
    "assert f_dot(0, 0, S, PiaA, PiAA, Piaa, PiAa) == 0"
   ]
  },
  {
   "cell_type": "code",
   "execution_count": 257,
   "metadata": {
    "collapsed": false
   },
   "outputs": [
    {
     "data": {
      "text/plain": [
       "0.5*PiAa*Subs(Derivative(S(f), f), (f,), (0,))/Piaa - 1.5"
      ]
     },
     "execution_count": 257,
     "metadata": {},
     "output_type": "execute_result"
    }
   ],
   "source": [
    "rhs_jac.subs({M: 0, f: 0}).trace()"
   ]
  },
  {
   "cell_type": "markdown",
   "metadata": {},
   "source": [
    "From Routh-Hurwitz Criterion we know that necessary and sufficient conditions for stability of the $M^*=f^*=0$ equilibrium are...\n",
    "\n",
    "\\begin{align}\n",
    "    Tr(\\mathcal{J}) \\equiv& \\frac{\\Pi_{Aa}}{2\\Pi_{aa}}S'(0) - \\frac{3}{2} < 0 \\\\\n",
    "    &\\frac{\\Pi_{Aa}}{\\Pi_{aa}}S'(0) < 3 \\\\\n",
    "    &S'(0) < \\frac{3\\Pi_{aa}}{\\Pi_{Aa}}\n",
    "\\end{align}"
   ]
  },
  {
   "cell_type": "code",
   "execution_count": 262,
   "metadata": {
    "collapsed": false
   },
   "outputs": [
    {
     "data": {
      "text/plain": [
       "-0.25*PiAa*Subs(Derivative(S(f), f), (f,), (0,))/Piaa - 0.25*PiaA*Subs(Derivative(S(f), f), (f,), (0,))/Piaa + 0.5"
      ]
     },
     "execution_count": 262,
     "metadata": {},
     "output_type": "execute_result"
    }
   ],
   "source": [
    "rhs_jac.subs({M: 0, f: 0}).det()"
   ]
  },
  {
   "cell_type": "markdown",
   "metadata": {},
   "source": [
    "...and...\n",
    "\n",
    "\\begin{align}\n",
    "    det(\\mathcal{J})\\equiv& -\\frac{\\Pi_{Aa}S'(0)}{4\\Pi_{aa}} - \\frac{\\Pi_{aA}S'(0)}{4\\Pi_{aa}} + \\frac{1}{2} > 0 \\\\\n",
    "    &-\\bigg(\\frac{\\Pi_{Aa} + \\Pi_{aA}}{2\\Pi_{aa}}\\bigg)S'(0) + 1 > 0 \\\\\n",
    "    &\\bigg(\\frac{\\Pi_{Aa} + \\Pi_{aA}}{2\\Pi_{aa}}\\bigg)S'(0) < 1 \\\\\n",
    "    &S'(0) < \\frac{2\\Pi_{aa}}{\\Pi_{Aa} + \\Pi_{aA}}.\n",
    "\\end{align}"
   ]
  },
  {
   "cell_type": "markdown",
   "metadata": {},
   "source": [
    "Can show that...\n",
    "\n",
    "$$ \\frac{2\\Pi_{aa}}{\\Pi_{Aa} + \\Pi_{aA}} < \\frac{3\\Pi_{aa}}{\\Pi_{Aa}} $$\n",
    "\n",
    "..and therefore we have that...\n",
    "\n",
    "$$ S'(0) < \\frac{2\\Pi_{aa}}{\\Pi_{Aa} + \\Pi_{aA}} $$\n",
    "\n",
    "...is both necessary and sufficient for local stability of equilibrium."
   ]
  },
  {
   "cell_type": "markdown",
   "metadata": {},
   "source": [
    "## Equilibrium with $M^*=f^*=1$"
   ]
  },
  {
   "cell_type": "code",
   "execution_count": 209,
   "metadata": {
    "collapsed": true
   },
   "outputs": [],
   "source": [
    "# will raise AssertionError is false\n",
    "assert M_dot(1, 1, S, PiaA, PiAA, Piaa, PiAa) == 0\n",
    "assert f_dot(1, 1, S, PiaA, PiAA, Piaa, PiAa) == 0"
   ]
  },
  {
   "cell_type": "code",
   "execution_count": 217,
   "metadata": {
    "collapsed": false
   },
   "outputs": [
    {
     "data": {
      "text/plain": [
       "-1.5 + (0.5*PiAa*Subs(Derivative(S(x), x), (x,), (1,)) + (PiAA - 0.5*PiAa - 0.5*PiaA)*Subs(Derivative(S(f), f), (f,), (1,)))/PiAA + (-(PiAa - Piaa)*Subs(Derivative(S(x), x), (x,), (1,)) - (PiAA - PiAa - PiaA + Piaa)*Subs(Derivative(S(f), f), (f,), (1,)))/PiAA"
      ]
     },
     "execution_count": 217,
     "metadata": {},
     "output_type": "execute_result"
    }
   ],
   "source": [
    "rhs_jac.subs({M: 1, f: 1}).trace()"
   ]
  },
  {
   "cell_type": "markdown",
   "metadata": {},
   "source": [
    "Necessary and sufficient conditions for stability of the $M^*=f^*=1$ equilibrium are...\n",
    "\n",
    "\\begin{align}\n",
    "    Tr(\\mathcal{J})\\equiv&-\\frac{3}{2} + \\frac{0.5\\Pi_{Aa}S'(1) + (\\Pi_{AA} - 0.5\\Pi_{Aa} - 0.5\\Pi_{aA})S'(1)}{\\Pi_{AA}} + \\frac{-(\\Pi_{Aa} - \\Pi_{aa})S'(1) - (\\Pi_{AA} - \\Pi_{Aa} - \\Pi_{aA} + \\Pi_{aa})S'(1)}{\\Pi_{AA}} < 0 \\\\\n",
    "    &\\frac{\\Pi_{aA}}{2\\Pi_{AA}}S'(1) < \\frac{3}{2} \\\\\n",
    "    &\\frac{\\Pi_{aA}}{\\Pi_{AA}}S'(1) < 3 \\\\\n",
    "    &S'(1) < \\frac{3\\Pi_{AA}}{\\Pi_{aA}} \n",
    "\\end{align}"
   ]
  },
  {
   "cell_type": "code",
   "execution_count": 218,
   "metadata": {
    "collapsed": false
   },
   "outputs": [
    {
     "data": {
      "text/plain": [
       "0.5 - 0.25*PiAa*Subs(Derivative(S(f), f), (f,), (1,))/PiAA - 0.25*PiaA*Subs(Derivative(S(f), f), (f,), (1,))/PiAA"
      ]
     },
     "execution_count": 218,
     "metadata": {},
     "output_type": "execute_result"
    }
   ],
   "source": [
    "rhs_jac.subs({M: 1, f: 1}).det()"
   ]
  },
  {
   "cell_type": "markdown",
   "metadata": {},
   "source": [
    "...and...\n",
    "\n",
    "\\begin{align}\n",
    "    det(\\mathcal{J})\\equiv&\\frac{1}{2} - \\frac{\\Pi_{Aa}}{4\\Pi_{AA}}S'(1) - \\frac{\\Pi_{aA}}{4\\Pi_{AA}}S'(1) > 0 \\\\\n",
    "    &1 - \\bigg(\\frac{\\Pi_{Aa} + \\Pi_{aA}}{2\\Pi_{AA}}\\bigg)S'(1) > 0 \\\\\n",
    "    &\\bigg(\\frac{\\Pi_{Aa} + \\Pi_{aA}}{2\\Pi_{AA}}\\bigg)S'(1) < 1 \\\\\n",
    "    &S'(1) < \\frac{2\\Pi_{AA}}{\\Pi_{Aa} + \\Pi_{aA}}\n",
    "\\end{align}"
   ]
  },
  {
   "cell_type": "markdown",
   "metadata": {},
   "source": [
    "Can show that...\n",
    "\n",
    "$$ \\frac{2\\Pi_{AA}}{\\Pi_{Aa} + \\Pi_{aA}} < \\frac{3\\Pi_{AA}}{\\Pi_{aA}} $$\n",
    "\n",
    "..and therefore we have that...\n",
    "\n",
    "$$ S'(1) < \\frac{2\\Pi_{AA}}{\\Pi_{Aa} + \\Pi_{aA}} $$\n",
    "\n",
    "...is both necessary and sufficient for local stability of equilibrium."
   ]
  },
  {
   "cell_type": "markdown",
   "metadata": {},
   "source": [
    "## Interior equilibrium\n",
    "\n",
    "Existence of interior equilibria requires that...\n",
    "\n",
    "\\begin{align}\n",
    "    S'(0) >& \\frac{2\\Pi_{aa}}{\\Pi_{Aa} + \\Pi_{aA}} \\\\\n",
    "    S'(1) >& \\frac{2\\Pi_{AA}}{\\Pi_{Aa} + \\Pi_{aA}}.\n",
    "\\end{align}\n",
    "\n",
    "...unfortunately, these interior equilibria may not be stable (in which case the attractor of the system is a limit cycle).  Need to characterize stability conditions for interior equilibrium in order to divide phase space between fixed points and limit cycles."
   ]
  },
  {
   "cell_type": "code",
   "execution_count": 283,
   "metadata": {
    "collapsed": false
   },
   "outputs": [
    {
     "data": {
      "text/plain": [
       "((0.5*PiAa - (-PiAA + 0.5*PiAa + 0.5*PiaA)*S(f))*(Piaa + (PiAa - Piaa)*S(f) + (PiaA - Piaa)*S(f) + (PiAA - PiAa - PiaA + Piaa)*S(f)**2)*Derivative(S(f), f) - (0.5*PiAa + 0.5*PiaA + (PiAA - 0.5*PiAa - 0.5*PiaA)*S(f))*(PiAa - Piaa + (PiAA - PiAa - PiaA + Piaa)*S(f))*S(f)*Derivative(S(f), f) - 1.5*(Piaa + (PiAa - Piaa)*S(f) + (PiaA - Piaa)*S(f) + (PiAA - PiAa - PiaA + Piaa)*S(f)**2)**2)/(Piaa + (PiAa - Piaa)*S(f) + (PiaA - Piaa)*S(f) + (PiAA - PiAa - PiaA + Piaa)*S(f)**2)**2"
      ]
     },
     "execution_count": 283,
     "metadata": {},
     "output_type": "execute_result"
    }
   ],
   "source": [
    "# any interior equilibrium will have M^* = S(f^*)!\n",
    "rhs_jac.subs({M: S(f)}).trace().simplify()"
   ]
  },
  {
   "cell_type": "code",
   "execution_count": 306,
   "metadata": {
    "collapsed": false
   },
   "outputs": [],
   "source": [
    "numer, denom = sym.fraction(rhs_jac.subs({M: S(f)}).trace().simplify())"
   ]
  },
  {
   "cell_type": "code",
   "execution_count": 310,
   "metadata": {
    "collapsed": false
   },
   "outputs": [
    {
     "data": {
      "text/plain": [
       "(Piaa + (PiAa - Piaa)*S(f) + (PiaA - Piaa)*S(f) + (PiAA - PiAa - PiaA + Piaa)*S(f)**2)**2"
      ]
     },
     "execution_count": 310,
     "metadata": {},
     "output_type": "execute_result"
    }
   ],
   "source": [
    "denom"
   ]
  },
  {
   "cell_type": "markdown",
   "metadata": {},
   "source": [
    "Note that denominator above is always positive. Thus in order to sign the expression for $Tr(\\mathcal{J})$ we need only concern ourselves with the sign of the numerator."
   ]
  },
  {
   "cell_type": "code",
   "execution_count": 308,
   "metadata": {
    "collapsed": false
   },
   "outputs": [
    {
     "data": {
      "text/plain": [
       "(0.5*PiAa - (-PiAA + 0.5*PiAa + 0.5*PiaA)*S(f))*(Piaa + (PiAa - Piaa)*S(f) + (PiaA - Piaa)*S(f) + (PiAA - PiAa - PiaA + Piaa)*S(f)**2)*Derivative(S(f), f) - (0.5*PiAa + 0.5*PiaA + (PiAA - 0.5*PiAa - 0.5*PiaA)*S(f))*(PiAa - Piaa + (PiAA - PiAa - PiaA + Piaa)*S(f))*S(f)*Derivative(S(f), f) - 1.5*(Piaa + (PiAa - Piaa)*S(f) + (PiaA - Piaa)*S(f) + (PiAA - PiAa - PiaA + Piaa)*S(f)**2)**2"
      ]
     },
     "execution_count": 308,
     "metadata": {},
     "output_type": "execute_result"
    }
   ],
   "source": [
    "numer"
   ]
  },
  {
   "cell_type": "code",
   "execution_count": 324,
   "metadata": {
    "collapsed": false
   },
   "outputs": [],
   "source": [
    "# factor into a fourth order polynomial in S(f)...\n",
    "numer = sym.poly(numer.factor(), S(f))"
   ]
  },
  {
   "cell_type": "code",
   "execution_count": 325,
   "metadata": {
    "collapsed": false
   },
   "outputs": [
    {
     "data": {
      "text/plain": [
       "[-3.0*(0.5*PiAA - 0.5*PiAa - 0.5*PiaA + 0.5*Piaa)**2,\n",
       " -3.0*(1.0*PiAa + 1.0*PiaA - 2.0*Piaa)*(PiAA - PiAa - PiaA + Piaa),\n",
       " 0.5*PiAA*PiaA*Derivative(S(f), f) - 1.0*PiAA*Piaa*Derivative(S(f), f) - 3.0*PiAA*Piaa - 1.5*PiAa**2 - 3.0*PiAa*PiaA + 0.5*PiAa*Piaa*Derivative(S(f), f) + 9.0*PiAa*Piaa - 1.5*PiaA**2 + 9.0*PiaA*Piaa - 9.0*Piaa**2,\n",
       " Piaa*(1.0*PiAA*Derivative(S(f), f) - 1.0*PiAa*Derivative(S(f), f) - 3.0*PiAa - 3.0*PiaA + 6.0*Piaa),\n",
       " Piaa*(0.5*PiAa*Derivative(S(f), f) - 1.5*Piaa)]"
      ]
     },
     "execution_count": 325,
     "metadata": {},
     "output_type": "execute_result"
    }
   ],
   "source": [
    "# try and factor/simplify the expressions for the coefs\n",
    "[coef.factor().simplify() for coef in numer.all_coeffs()]"
   ]
  },
  {
   "cell_type": "markdown",
   "metadata": {},
   "source": [
    "For local stability of equilibrium we need the sign of the numerator to be negative. Sufficient condition for this is that all coefficients are negative. Note that [necessary and sufficient conditions exist](https://en.wikipedia.org/wiki/Quartic_function) (but are horrible!)."
   ]
  },
  {
   "cell_type": "markdown",
   "metadata": {},
   "source": [
    "After a bit re-arranging of the above coefficients we can define...\n",
    "\n",
    "\\begin{align}\n",
    "    A \\equiv& -\\frac{3}{4}\\big((\\Pi_{AA} + \\Pi_{aa}) - (\\Pi_{Aa} + \\Pi_{aA})\\big)^2 \\\\\n",
    "    B \\equiv& -3\\big((\\Pi_{Aa} + \\Pi_{aA}) - 2\\Pi_{aa}\\big)\\big((\\Pi_{AA} + \\Pi_{aa}) -  (\\Pi_{Aa} + \\Pi_{aA})\\big) \\\\\n",
    "    C \\equiv& %\\frac{1}{2}\\Pi_{AA}\\Pi_{aA}S'(f) - \\Pi_{AA}\\Pi_{aa}S'(f) - 3\\Pi_{AA}\\Pi_{aa} - \\frac{3}{2}\\Pi_{Aa}^2 - 3\\Pi_{Aa}\\Pi_{aA} + \\frac{1}{2}\\Pi_{Aa}\\Pi_{aa}S'(f) + 9\\Pi_{Aa}\\Pi_{aa} - \\frac{3}{2}\\Pi_{aA}^2 + 9\\Pi_{aA}\\Pi_{aa} - 9\\Pi_{aa}^2 \\\\\n",
    "    %& \\bigg(\\frac{1}{2}\\Pi_{AA}\\Pi_{aA} - \\Pi_{AA}\\Pi_{aa} + \\frac{1}{2}\\Pi_{Aa}\\Pi_{aa}\\bigg)S'(f) - 3\\Pi_{AA}\\Pi_{aa} - \\frac{3}{2}\\Pi_{Aa}^2 - 3\\Pi_{Aa}\\Pi_{aA} + 9\\Pi_{Aa}\\Pi_{aa} - \\frac{3}{2}\\Pi_{aA}^2 + 9\\Pi_{aA}\\Pi_{aa} - 9\\Pi_{aa}^2 \\\\\n",
    "    %& \\bigg(\\big(\\Pi_{AA} - \\frac{1}{2}\\Pi_{Aa}\\big)\\big(\\frac{1}{2}\\Pi_{aA} - \\Pi_{aa}\\big) + \\frac{1}{4}\\Pi_{Aa}\\Pi_{aA}\\bigg)S'(f) - 3\\bigg(\\Pi_{AA}\\Pi_{aa} + \\frac{1}{2}\\big(\\Pi_{Aa} + \\Pi_{aA}\\big)^2 - 3\\Pi_{Aa}\\Pi_{aa} - 3\\Pi_{aA}\\Pi_{aa} + 3\\Pi_{aa}^2\\bigg) \\\\\n",
    "    \\bigg(\\big(\\Pi_{AA} - \\frac{1}{2}\\Pi_{Aa}\\big)\\big(\\frac{1}{2}\\Pi_{aA} - \\Pi_{aa}\\big) + \\frac{1}{4}\\Pi_{Aa}\\Pi_{aA}\\bigg)S'(f) - 3\\bigg(\\frac{1}{2}\\big(\\Pi_{Aa} + \\Pi_{aA}\\big)^2 + \\Pi_{aa}\\big(\\Pi_{AA} - 3(\\Pi_{Aa} + \\Pi_{aA} - \\Pi_{aa})\\big)\\bigg) \\\\\n",
    "    D \\equiv& \\Pi_{aa}\\bigg(\\big(\\Pi_{AA} - \\Pi_{Aa}\\big)S'(f) - 3\\big((\\Pi_{Aa} + \\Pi_{aA}) - 2\\Pi_{aa}\\big)\\bigg) \\\\\n",
    "    E \\equiv& \\Pi_{aa}\\bigg(\\frac{1}{2}\\Pi_{Aa}S'(f) - \\frac{3}{2}\\Pi_{aa}\\bigg)\n",
    "\\end{align}\n",
    "\n",
    "...sufficient conditions for $Tr(\\mathcal{J})$ are that $A, B, C, D, E < 0$."
   ]
  },
  {
   "cell_type": "markdown",
   "metadata": {},
   "source": [
    "Which yields...\n",
    "\n",
    "\\begin{align}\n",
    "    A <&0 \\\\\n",
    "    B <&0 \\iff 2\\Pi_{aa} < \\Pi_{Aa} + \\Pi_{aA} < \\Pi_{AA} + \\Pi_{aa} \\\\\n",
    "    C <&0 \\iff S'(f) < \\frac{6\\big(\\Pi_{Aa} + \\Pi_{aA}\\big)^2 + 12\\Pi_{aa}\\big(\\Pi_{AA} - 3(\\Pi_{Aa} + \\Pi_{aA} - \\Pi_{aa})\\big)}{\\big(2\\Pi_{AA} -\\Pi_{Aa}\\big)\\big(\\Pi_{aA} - 2\\Pi_{aa}\\big) + \\Pi_{Aa}\\Pi_{aA}} \\\\\n",
    "    D <&0 \\iff S'(f) < \\frac{3\\big((\\Pi_{Aa} + \\Pi_{aA}) - 2\\Pi_{aa}\\big)}{\\Pi_{AA} - \\Pi_{Aa}} \\\\\n",
    "    E <&0 \\iff S'(f) < \\frac{3\\Pi_{aa}}{\\Pi_{Aa}}\n",
    "\\end{align}\n",
    "\n",
    "...surely it must be the case that one of the conditions for $S'(f)$ is \"tougher\" than the others!"
   ]
  },
  {
   "cell_type": "code",
   "execution_count": 268,
   "metadata": {
    "collapsed": false
   },
   "outputs": [
    {
     "data": {
      "text/plain": [
       "(0.5*PiAA**2*S(f)**4 - 1.0*PiAA*PiAa*S(f)**4 + 1.0*PiAA*PiAa*S(f)**3 - 0.25*PiAA*PiAa*S(f)**2*Derivative(S(f), f) - 1.0*PiAA*PiaA*S(f)**4 + 1.0*PiAA*PiaA*S(f)**3 - 0.25*PiAA*PiaA*S(f)**2*Derivative(S(f), f) + 1.0*PiAA*Piaa*S(f)**4 - 2.0*PiAA*Piaa*S(f)**3 + 1.0*PiAA*Piaa*S(f)**2*Derivative(S(f), f) + 1.0*PiAA*Piaa*S(f)**2 - 1.0*PiAA*Piaa*S(f)*Derivative(S(f), f) + 0.5*PiAa**2*S(f)**4 - 1.0*PiAa**2*S(f)**3 + 0.5*PiAa**2*S(f)**2 + 1.0*PiAa*PiaA*S(f)**4 - 2.0*PiAa*PiaA*S(f)**3 + 1.0*PiAa*PiaA*S(f)**2 - 1.0*PiAa*Piaa*S(f)**4 + 3.0*PiAa*Piaa*S(f)**3 - 0.25*PiAa*Piaa*S(f)**2*Derivative(S(f), f) - 3.0*PiAa*Piaa*S(f)**2 + 0.5*PiAa*Piaa*S(f)*Derivative(S(f), f) + 1.0*PiAa*Piaa*S(f) - 0.25*PiAa*Piaa*Derivative(S(f), f) + 0.5*PiaA**2*S(f)**4 - 1.0*PiaA**2*S(f)**3 + 0.5*PiaA**2*S(f)**2 - 1.0*PiaA*Piaa*S(f)**4 + 3.0*PiaA*Piaa*S(f)**3 - 0.25*PiaA*Piaa*S(f)**2*Derivative(S(f), f) - 3.0*PiaA*Piaa*S(f)**2 + 0.5*PiaA*Piaa*S(f)*Derivative(S(f), f) + 1.0*PiaA*Piaa*S(f) - 0.25*PiaA*Piaa*Derivative(S(f), f) + 0.5*Piaa**2*S(f)**4 - 2.0*Piaa**2*S(f)**3 + 3.0*Piaa**2*S(f)**2 - 2.0*Piaa**2*S(f) + 0.5*Piaa**2)/(1.0*PiAA**2*S(f)**4 - 2.0*PiAA*PiAa*S(f)**4 + 2.0*PiAA*PiAa*S(f)**3 - 2.0*PiAA*PiaA*S(f)**4 + 2.0*PiAA*PiaA*S(f)**3 + 2.0*PiAA*Piaa*S(f)**4 - 4.0*PiAA*Piaa*S(f)**3 + 2.0*PiAA*Piaa*S(f)**2 + 1.0*PiAa**2*S(f)**4 - 2.0*PiAa**2*S(f)**3 + 1.0*PiAa**2*S(f)**2 + 2.0*PiAa*PiaA*S(f)**4 - 4.0*PiAa*PiaA*S(f)**3 + 2.0*PiAa*PiaA*S(f)**2 - 2.0*PiAa*Piaa*S(f)**4 + 6.0*PiAa*Piaa*S(f)**3 - 6.0*PiAa*Piaa*S(f)**2 + 2.0*PiAa*Piaa*S(f) + 1.0*PiaA**2*S(f)**4 - 2.0*PiaA**2*S(f)**3 + 1.0*PiaA**2*S(f)**2 - 2.0*PiaA*Piaa*S(f)**4 + 6.0*PiaA*Piaa*S(f)**3 - 6.0*PiaA*Piaa*S(f)**2 + 2.0*PiaA*Piaa*S(f) + 1.0*Piaa**2*S(f)**4 - 4.0*Piaa**2*S(f)**3 + 6.0*Piaa**2*S(f)**2 - 4.0*Piaa**2*S(f) + 1.0*Piaa**2)"
      ]
     },
     "execution_count": 268,
     "metadata": {},
     "output_type": "execute_result"
    }
   ],
   "source": [
    "rhs_jac.subs({M: S(f)}).det().simplify()"
   ]
  },
  {
   "cell_type": "code",
   "execution_count": 328,
   "metadata": {
    "collapsed": true
   },
   "outputs": [],
   "source": [
    "numer, denom = sym.fraction(rhs_jac.subs({M: S(f)}).det().simplify())"
   ]
  },
  {
   "cell_type": "code",
   "execution_count": 329,
   "metadata": {
    "collapsed": false
   },
   "outputs": [
    {
     "data": {
      "text/plain": [
       "0.5*PiAA**2*S(f)**4 - 1.0*PiAA*PiAa*S(f)**4 + 1.0*PiAA*PiAa*S(f)**3 - 0.25*PiAA*PiAa*S(f)**2*Derivative(S(f), f) - 1.0*PiAA*PiaA*S(f)**4 + 1.0*PiAA*PiaA*S(f)**3 - 0.25*PiAA*PiaA*S(f)**2*Derivative(S(f), f) + 1.0*PiAA*Piaa*S(f)**4 - 2.0*PiAA*Piaa*S(f)**3 + 1.0*PiAA*Piaa*S(f)**2*Derivative(S(f), f) + 1.0*PiAA*Piaa*S(f)**2 - 1.0*PiAA*Piaa*S(f)*Derivative(S(f), f) + 0.5*PiAa**2*S(f)**4 - 1.0*PiAa**2*S(f)**3 + 0.5*PiAa**2*S(f)**2 + 1.0*PiAa*PiaA*S(f)**4 - 2.0*PiAa*PiaA*S(f)**3 + 1.0*PiAa*PiaA*S(f)**2 - 1.0*PiAa*Piaa*S(f)**4 + 3.0*PiAa*Piaa*S(f)**3 - 0.25*PiAa*Piaa*S(f)**2*Derivative(S(f), f) - 3.0*PiAa*Piaa*S(f)**2 + 0.5*PiAa*Piaa*S(f)*Derivative(S(f), f) + 1.0*PiAa*Piaa*S(f) - 0.25*PiAa*Piaa*Derivative(S(f), f) + 0.5*PiaA**2*S(f)**4 - 1.0*PiaA**2*S(f)**3 + 0.5*PiaA**2*S(f)**2 - 1.0*PiaA*Piaa*S(f)**4 + 3.0*PiaA*Piaa*S(f)**3 - 0.25*PiaA*Piaa*S(f)**2*Derivative(S(f), f) - 3.0*PiaA*Piaa*S(f)**2 + 0.5*PiaA*Piaa*S(f)*Derivative(S(f), f) + 1.0*PiaA*Piaa*S(f) - 0.25*PiaA*Piaa*Derivative(S(f), f) + 0.5*Piaa**2*S(f)**4 - 2.0*Piaa**2*S(f)**3 + 3.0*Piaa**2*S(f)**2 - 2.0*Piaa**2*S(f) + 0.5*Piaa**2"
      ]
     },
     "execution_count": 329,
     "metadata": {},
     "output_type": "execute_result"
    }
   ],
   "source": [
    "numer"
   ]
  },
  {
   "cell_type": "code",
   "execution_count": 330,
   "metadata": {
    "collapsed": true
   },
   "outputs": [],
   "source": [
    "# factor into a fourth order polynomial in S(f)...\n",
    "numer = sym.poly(numer.factor(), S(f))"
   ]
  },
  {
   "cell_type": "code",
   "execution_count": 331,
   "metadata": {
    "collapsed": false
   },
   "outputs": [
    {
     "data": {
      "text/plain": [
       "Poly((0.5*PiAA**2 - 1.0*PiAA*PiAa - 1.0*PiAA*PiaA + 1.0*PiAA*Piaa + 0.5*PiAa**2 + 1.0*PiAa*PiaA - 1.0*PiAa*Piaa + 0.5*PiaA**2 - 1.0*PiaA*Piaa + 0.5*Piaa**2)*S(f)**4 + (1.0*PiAA*PiAa + 1.0*PiAA*PiaA - 2.0*PiAA*Piaa - 1.0*PiAa**2 - 2.0*PiAa*PiaA + 3.0*PiAa*Piaa - 1.0*PiaA**2 + 3.0*PiaA*Piaa - 2.0*Piaa**2)*S(f)**3 + (-0.25*PiAA*PiAa*Derivative(S(f), f) - 0.25*PiAA*PiaA*Derivative(S(f), f) + 1.0*PiAA*Piaa*Derivative(S(f), f) + 1.0*PiAA*Piaa + 0.5*PiAa**2 + 1.0*PiAa*PiaA - 0.25*PiAa*Piaa*Derivative(S(f), f) - 3.0*PiAa*Piaa + 0.5*PiaA**2 - 0.25*PiaA*Piaa*Derivative(S(f), f) - 3.0*PiaA*Piaa + 3.0*Piaa**2)*S(f)**2 + (-1.0*PiAA*Piaa*Derivative(S(f), f) + 0.5*PiAa*Piaa*Derivative(S(f), f) + 1.0*PiAa*Piaa + 0.5*PiaA*Piaa*Derivative(S(f), f) + 1.0*PiaA*Piaa - 2.0*Piaa**2)*S(f) - 0.25*PiAa*Piaa*Derivative(S(f), f) - 0.25*PiaA*Piaa*Derivative(S(f), f) + 0.5*Piaa**2, S(f), domain='RR[Derivative(S(f), f),PiAA,PiAa,PiaA,Piaa]')"
      ]
     },
     "execution_count": 331,
     "metadata": {},
     "output_type": "execute_result"
    }
   ],
   "source": [
    "numer"
   ]
  },
  {
   "cell_type": "code",
   "execution_count": 332,
   "metadata": {
    "collapsed": false
   },
   "outputs": [
    {
     "data": {
      "text/plain": [
       "[1.0*(0.5*PiAA - 0.5*PiAa - 0.5*PiaA + 0.5*Piaa)**2,\n",
       " 1.0*(1.0*PiAa + 1.0*PiaA - 2.0*Piaa)*(PiAA - PiAa - PiaA + Piaa),\n",
       " -0.25*PiAA*PiAa*Derivative(S(f), f) - 0.25*PiAA*PiaA*Derivative(S(f), f) + 1.0*PiAA*Piaa*Derivative(S(f), f) + 1.0*PiAA*Piaa + 0.5*PiAa**2 + 1.0*PiAa*PiaA - 0.25*PiAa*Piaa*Derivative(S(f), f) - 3.0*PiAa*Piaa + 0.5*PiaA**2 - 0.25*PiaA*Piaa*Derivative(S(f), f) - 3.0*PiaA*Piaa + 3.0*Piaa**2,\n",
       " Piaa*(-1.0*PiAA*Derivative(S(f), f) + 0.5*PiAa*Derivative(S(f), f) + 1.0*PiAa + 0.5*PiaA*Derivative(S(f), f) + 1.0*PiaA - 2.0*Piaa),\n",
       " Piaa*(-0.25*PiAa*Derivative(S(f), f) - 0.25*PiaA*Derivative(S(f), f) + 0.5*Piaa)]"
      ]
     },
     "execution_count": 332,
     "metadata": {},
     "output_type": "execute_result"
    }
   ],
   "source": [
    "# try and factor/simplify the expressions for the coefs\n",
    "[coef.factor().simplify() for coef in numer.all_coeffs()]"
   ]
  },
  {
   "cell_type": "code",
   "execution_count": 292,
   "metadata": {
    "collapsed": false
   },
   "outputs": [
    {
     "data": {
      "text/plain": [
       "1.0*PiAA**2*S(f)**4 - 2.0*PiAA*PiAa*S(f)**4 + 2.0*PiAA*PiAa*S(f)**3 - 2.0*PiAA*PiaA*S(f)**4 + 2.0*PiAA*PiaA*S(f)**3 + 2.0*PiAA*Piaa*S(f)**4 - 4.0*PiAA*Piaa*S(f)**3 + 2.0*PiAA*Piaa*S(f)**2 + 1.0*PiAa**2*S(f)**4 - 2.0*PiAa**2*S(f)**3 + 1.0*PiAa**2*S(f)**2 + 2.0*PiAa*PiaA*S(f)**4 - 4.0*PiAa*PiaA*S(f)**3 + 2.0*PiAa*PiaA*S(f)**2 - 2.0*PiAa*Piaa*S(f)**4 + 6.0*PiAa*Piaa*S(f)**3 - 6.0*PiAa*Piaa*S(f)**2 + 2.0*PiAa*Piaa*S(f) + 1.0*PiaA**2*S(f)**4 - 2.0*PiaA**2*S(f)**3 + 1.0*PiaA**2*S(f)**2 - 2.0*PiaA*Piaa*S(f)**4 + 6.0*PiaA*Piaa*S(f)**3 - 6.0*PiaA*Piaa*S(f)**2 + 2.0*PiaA*Piaa*S(f) + 1.0*Piaa**2*S(f)**4 - 4.0*Piaa**2*S(f)**3 + 6.0*Piaa**2*S(f)**2 - 4.0*Piaa**2*S(f) + 1.0*Piaa**2"
      ]
     },
     "execution_count": 292,
     "metadata": {},
     "output_type": "execute_result"
    }
   ],
   "source": [
    "denom"
   ]
  },
  {
   "cell_type": "markdown",
   "metadata": {},
   "source": [
    "We can factor the denominator to see that it will always be strictly positive..."
   ]
  },
  {
   "cell_type": "code",
   "execution_count": 293,
   "metadata": {
    "collapsed": false
   },
   "outputs": [
    {
     "data": {
      "text/plain": [
       "1.0*(1.0*PiAA*S(f)**2 - 1.0*PiAa*S(f)**2 + 1.0*PiAa*S(f) - 1.0*PiaA*S(f)**2 + 1.0*PiaA*S(f) + 1.0*Piaa*S(f)**2 - 2.0*Piaa*S(f) + 1.0*Piaa)**2"
      ]
     },
     "execution_count": 293,
     "metadata": {},
     "output_type": "execute_result"
    }
   ],
   "source": [
    "denom.factor()"
   ]
  },
  {
   "cell_type": "markdown",
   "metadata": {},
   "source": [
    "...and therefore to sign the expression for $det(\\mathcal{J})$ we need only concern ourselves with the numerator of this expression."
   ]
  },
  {
   "cell_type": "code",
   "execution_count": 295,
   "metadata": {
    "collapsed": false
   },
   "outputs": [
    {
     "data": {
      "text/plain": [
       "0.5*PiAA**2*S(f)**4 - 1.0*PiAA*PiAa*S(f)**4 + 1.0*PiAA*PiAa*S(f)**3 - 0.25*PiAA*PiAa*S(f)**2*Derivative(S(f), f) - 1.0*PiAA*PiaA*S(f)**4 + 1.0*PiAA*PiaA*S(f)**3 - 0.25*PiAA*PiaA*S(f)**2*Derivative(S(f), f) + 1.0*PiAA*Piaa*S(f)**4 - 2.0*PiAA*Piaa*S(f)**3 + 1.0*PiAA*Piaa*S(f)**2*Derivative(S(f), f) + 1.0*PiAA*Piaa*S(f)**2 - 1.0*PiAA*Piaa*S(f)*Derivative(S(f), f) + 0.5*PiAa**2*S(f)**4 - 1.0*PiAa**2*S(f)**3 + 0.5*PiAa**2*S(f)**2 + 1.0*PiAa*PiaA*S(f)**4 - 2.0*PiAa*PiaA*S(f)**3 + 1.0*PiAa*PiaA*S(f)**2 - 1.0*PiAa*Piaa*S(f)**4 + 3.0*PiAa*Piaa*S(f)**3 - 0.25*PiAa*Piaa*S(f)**2*Derivative(S(f), f) - 3.0*PiAa*Piaa*S(f)**2 + 0.5*PiAa*Piaa*S(f)*Derivative(S(f), f) + 1.0*PiAa*Piaa*S(f) - 0.25*PiAa*Piaa*Derivative(S(f), f) + 0.5*PiaA**2*S(f)**4 - 1.0*PiaA**2*S(f)**3 + 0.5*PiaA**2*S(f)**2 - 1.0*PiaA*Piaa*S(f)**4 + 3.0*PiaA*Piaa*S(f)**3 - 0.25*PiaA*Piaa*S(f)**2*Derivative(S(f), f) - 3.0*PiaA*Piaa*S(f)**2 + 0.5*PiaA*Piaa*S(f)*Derivative(S(f), f) + 1.0*PiaA*Piaa*S(f) - 0.25*PiaA*Piaa*Derivative(S(f), f) + 0.5*Piaa**2*S(f)**4 - 2.0*Piaa**2*S(f)**3 + 3.0*Piaa**2*S(f)**2 - 2.0*Piaa**2*S(f) + 0.5*Piaa**2"
      ]
     },
     "execution_count": 295,
     "metadata": {},
     "output_type": "execute_result"
    }
   ],
   "source": [
    "numer"
   ]
  },
  {
   "cell_type": "markdown",
   "metadata": {},
   "source": [
    "Start by combining like terms in order to express the numerator as a fourth order polynomial. We then ask under what conditions this fourth order polynomial must be strictly positive...\n",
    "\n",
    "\\begin{align}\n",
    "    &\\bigg[\\frac{1}{2}\\Pi_{AA}^2 - \\Pi_{AA}\\Pi_{Aa} - \\Pi_{AA}\\Pi_{aA} + \\Pi_{AA}\\Pi_{aa} + \\frac{1}{2}\\Pi_{Aa}^2 + \\Pi_{Aa}\\Pi_{aA} - \\Pi_{Aa}\\Pi_{aa} + \\frac{1}{2}\\Pi_{aA}^2 - \\Pi_{aA}\\Pi_{aa} + \\frac{1}{2}\\Pi_{aa}^2\\bigg]S(f)^4 + \\\\\n",
    "    &\\bigg[\\Pi_{AA}\\Pi_{Aa} + \\Pi_{AA}\\Pi_{aA} - 2\\Pi_{AA}\\Pi_{aa} - \\Pi_{Aa}^2 - 2\\Pi_{Aa}\\Pi_{aA} + 3\\Pi_{Aa}\\Pi_{aa} - \\Pi_{aA}^2 + 3\\Pi_{aA}\\Pi_{aa} - 2\\Pi_{aa}^2\\bigg]S(f)^3 \\\\ + \n",
    "    &\\bigg[\\Pi_{AA}\\Pi_{aa} - \\frac{1}{4}\\Pi_{AA}\\Pi_{Aa}S'(f) - \\frac{1}{4}\\Pi_{AA}\\Pi_{aA}S'(f) + \\Pi_{AA}\\Pi_{aa}S'(f)  + \\frac{1}{2}\\Pi_{Aa}^2 - \\frac{1}{4}\\Pi_{Aa}\\Pi_{aa}S'(f) - 3\\Pi_{Aa}\\Pi_{aa} + \\Pi_{Aa}\\Pi_{aA} + \\frac{1}{2}\\Pi_{aA}^2 + 3\\Pi_{aa}^2 - \\frac{1}{4}\\Pi_{aA}\\Pi_{aa}S'(f) - 3\\Pi_{aA}\\Pi_{aa}\\bigg]S(f)^2 +\\\\\n",
    "    &\\bigg[\\frac{1}{2}\\Pi_{Aa}\\Pi_{aa}S'(f) - \\Pi_{AA}\\Pi_{aa}S'(f) + \\Pi_{Aa}\\Pi_{aa} + \\frac{1}{2}\\Pi_{aA}\\Pi_{aa}S'(f) + \\Pi_{aA}\\Pi_{aa} - 2\\Pi_{aa}^2\\bigg]S(f) + \\\\\n",
    "    &\\bigg[\\frac{1}{2}\\Pi_{aa}^2 - \\frac{1}{4}\\Pi_{Aa}\\Pi_{aa}S'(f) - \\frac{1}{4}\\Pi_{aA}\\Pi_{aa}S'(f)\\bigg] > 0\n",
    "\\end{align}"
   ]
  },
  {
   "cell_type": "markdown",
   "metadata": {},
   "source": [
    "\\begin{align}\n",
    "    A \\equiv& \\bigg[\\frac{1}{2}\\Pi_{AA}^2 - \\Pi_{AA}\\Pi_{Aa} - \\Pi_{AA}\\Pi_{aA} + \\Pi_{AA}\\Pi_{aa} + \\frac{1}{2}\\Pi_{Aa}^2 + \\Pi_{Aa}\\Pi_{aA} - \\Pi_{Aa}\\Pi_{aa} + \\frac{1}{2}\\Pi_{aA}^2 - \\Pi_{aA}\\Pi_{aa} + \\frac{1}{2}\\Pi_{aa}^2\\bigg] > 0 \\\\\n",
    "    \\iff & \\big((\\Pi_{AA} - \\Pi_{Aa}) - (\\Pi_{aA} - \\Pi_{aa})\\big)^2 > 0\n",
    "\\end{align}"
   ]
  },
  {
   "cell_type": "markdown",
   "metadata": {},
   "source": [
    "\\begin{align}\n",
    "    B \\equiv& \\bigg[\\Pi_{AA}\\Pi_{Aa} + \\Pi_{AA}\\Pi_{aA} - 2\\Pi_{AA}\\Pi_{aa} - \\Pi_{Aa}^2 - 2\\Pi_{Aa}\\Pi_{aA} + 3\\Pi_{Aa}\\Pi_{aa} - \\Pi_{aA}^2 + 3\\Pi_{aA}\\Pi_{aa} - 2\\Pi_{aa}^2\\bigg] > 0\\\\\n",
    "    \\iff & \\big((\\Pi_{Aa} + \\Pi_{aA}) - 2\\Pi_{aa}\\big)\\big((\\Pi_{AA} + \\Pi_{aa}) - (\\Pi_{Aa} + \\Pi_{aA})\\big) > 0 \\\\\n",
    "    \\iff& 2\\Pi_{aa} < \\Pi_{Aa} + \\Pi_{aA} < \\Pi_{AA} + \\Pi_{aa}\n",
    "\\end{align}"
   ]
  },
  {
   "cell_type": "code",
   "execution_count": 298,
   "metadata": {
    "collapsed": true
   },
   "outputs": [],
   "source": [
    "B = PiAA * PiAa + PiAA * PiaA - 2 * PiAA * Piaa - PiAa**2 - 2*PiAa * PiaA + 3 * PiAa * Piaa - PiaA**2 + 3 * PiaA * Piaa - 2 * Piaa**2"
   ]
  },
  {
   "cell_type": "code",
   "execution_count": 299,
   "metadata": {
    "collapsed": false
   },
   "outputs": [
    {
     "data": {
      "text/plain": [
       "(PiAa + PiaA - 2*Piaa)*(PiAA - PiAa - PiaA + Piaa)"
      ]
     },
     "execution_count": 299,
     "metadata": {},
     "output_type": "execute_result"
    }
   ],
   "source": [
    "B.factor()"
   ]
  },
  {
   "cell_type": "markdown",
   "metadata": {},
   "source": [
    "\\begin{align}\n",
    "    C \\equiv& \\Pi_{AA}\\Pi_{aa} - \\frac{1}{4}\\Pi_{AA}\\Pi_{Aa}S'(f) - \\frac{1}{4}\\Pi_{AA}\\Pi_{aA}S'(f) + \\Pi_{AA}\\Pi_{aa}S'(f)  + \\frac{1}{2}\\Pi_{Aa}^2 - \\frac{1}{4}\\Pi_{Aa}\\Pi_{aa}S'(f) - 3\\Pi_{Aa}\\Pi_{aa} + \\Pi_{Aa}\\Pi_{aA} + \\frac{1}{2}\\Pi_{aA}^2 + 3\\Pi_{aa}^2 - \\frac{1}{4}\\Pi_{aA}\\Pi_{aa}S'(f) - 3\\Pi_{aA}\\Pi_{aa} \\\\\n",
    "    \\iff& \\bigg[\\Pi_{AA}\\Pi_{aa} - \\frac{1}{4}(\\Pi_{Aa} + \\Pi_{aA})(\\Pi_{AA} + \\Pi_{aa})\\bigg]S'(f) + \n",
    "\\end{align}"
   ]
  },
  {
   "cell_type": "code",
   "execution_count": 301,
   "metadata": {
    "collapsed": false
   },
   "outputs": [],
   "source": [
    "S_prime = sym.symbols('S_prime')"
   ]
  },
  {
   "cell_type": "code",
   "execution_count": 304,
   "metadata": {
    "collapsed": true
   },
   "outputs": [],
   "source": [
    "b = PiAA * Piaa + 0.5 * PiAa**2 - 3 * PiAa * Piaa + PiAa * PiaA + 0.5 * PiaA**2 + 3 * Piaa**2 - 3 * PiaA * Piaa"
   ]
  },
  {
   "cell_type": "code",
   "execution_count": 302,
   "metadata": {
    "collapsed": true
   },
   "outputs": [],
   "source": [
    "C = PiAA * Piaa - 0.25 * PiAA * PiAa * S_prime - 0.25 * PiAA * PiaA * S_prime + PiAA * Piaa * S_prime + 0.5 * PiAa**2 - 0.25 * PiAa * Piaa * S_prime - 3 * PiAa * Piaa + PiAa * PiaA + 0.5 * PiaA**2 + 3 * Piaa**2 - 0.25 * PiaA * Piaa * S_prime - 3 * PiaA * Piaa"
   ]
  },
  {
   "cell_type": "code",
   "execution_count": 303,
   "metadata": {
    "collapsed": false
   },
   "outputs": [
    {
     "data": {
      "text/plain": [
       "-1.0*(0.25*PiAA*PiAa*S_prime + 0.25*PiAA*PiaA*S_prime - 1.0*PiAA*Piaa*S_prime - 1.0*PiAA*Piaa - 0.5*PiAa**2 - 1.0*PiAa*PiaA + 0.25*PiAa*Piaa*S_prime + 3.0*PiAa*Piaa - 0.5*PiaA**2 + 0.25*PiaA*Piaa*S_prime + 3.0*PiaA*Piaa - 3.0*Piaa**2)"
      ]
     },
     "execution_count": 303,
     "metadata": {},
     "output_type": "execute_result"
    }
   ],
   "source": [
    "C.factor()"
   ]
  },
  {
   "cell_type": "markdown",
   "metadata": {},
   "source": [
    "\\begin{align}\n",
    "    D \\equiv & \\frac{1}{2}\\Pi_{Aa}\\Pi_{aa}S'(f) - \\Pi_{AA}\\Pi_{aa}S'(f) + \\Pi_{Aa}\\Pi_{aa} + \\frac{1}{2}\\Pi_{aA}\\Pi_{aa}S'(f) + \\Pi_{aA}\\Pi_{aa} - 2\\Pi_{aa}^2 > 0 \\\\\n",
    "    \\iff& S'(f) < \\frac{(\\Pi_{Aa} + \\Pi_{aA}) - 2\\Pi_{aa}}{\\Pi_{AA} - \\frac{1}{2}(\\Pi_{Aa} + \\Pi_{aA})} \\\\\n",
    "    \\iff& 2\\Pi_{aa} < \\Pi_{Aa} + \\Pi_{aA} < 2 \\Pi_{AA}\n",
    "\\end{align}\n",
    "\n",
    "where the last line follows because $S'(f) > 0\\ \\forall\\ f$."
   ]
  },
  {
   "cell_type": "code",
   "execution_count": null,
   "metadata": {
    "collapsed": true
   },
   "outputs": [],
   "source": []
  },
  {
   "cell_type": "markdown",
   "metadata": {},
   "source": [
    "\\begin{align}\n",
    "    E \\equiv& \\frac{1}{2}\\Pi_{aa}^2 - \\frac{1}{4}\\Pi_{Aa}\\Pi_{aa}S'(f) - \\frac{1}{4}\\Pi_{aA}\\Pi_{aa}S'(f) > 0\\\\\n",
    "    &\\iff 2\\Pi_{aa}^2 - \\Pi_{aa}\\big(\\Pi_{Aa} + \\Pi_{aA}\\big)S'(f) > 0 \\\\\n",
    "    &\\iff 2\\Pi_{aa} - \\big(\\Pi_{Aa} + \\Pi_{aA}\\big)S'(f) > 0 \\\\\n",
    "    &\\iff S'(f) < \\frac{2\\Pi_{aa}}{\\Pi_{Aa} + \\Pi_{aA}}\n",
    "\\end{align}"
   ]
  },
  {
   "cell_type": "markdown",
   "metadata": {},
   "source": [
    "# 1X1X model"
   ]
  },
  {
   "cell_type": "code",
   "execution_count": 221,
   "metadata": {
    "collapsed": false
   },
   "outputs": [],
   "source": [
    "rhs_jac = f_dot(x, x, S, PiaA, PiAA, Piaa, PiAa).diff(x)"
   ]
  },
  {
   "cell_type": "code",
   "execution_count": 227,
   "metadata": {
    "collapsed": false
   },
   "outputs": [
    {
     "data": {
      "text/plain": [
       "-1 + (0.5*PiAa*Subs(Derivative(S(x), x), (x,), (0,)) + 0.5*PiaA)/Piaa"
      ]
     },
     "execution_count": 227,
     "metadata": {},
     "output_type": "execute_result"
    }
   ],
   "source": [
    "rhs_jac.subs({x: 0})"
   ]
  },
  {
   "cell_type": "markdown",
   "metadata": {},
   "source": [
    "Stability of the $x^*=0$ equilibrium requires that...\n",
    "\n",
    "$$ \\frac{\\partial \\dot{x}}{\\partial x}\\bigg|_{x=0} < 0$$\n",
    "\n",
    "..taking the derivative yields...\n",
    "\n",
    "\\begin{align}\n",
    "    \\frac{\\partial \\dot{x}}{\\partial x}\\bigg|_{x=0} \\equiv& -1 + \\frac{0.5\\Pi_{Aa}S'(0) + 0.5\\Pi_{aA}}{\\Pi_{aa}} < 0 \\\\\n",
    "    &\\frac{\\Pi_{Aa}S'(0) + \\Pi_{aA}}{2\\Pi_{aa}} < 1 \\\\\n",
    "    &\\Pi_{Aa}S'(0) + \\Pi_{aA} < 2\\Pi_{aa} \\\\\n",
    "    &\\Pi_{Aa}S'(0) < 2\\Pi_{aa} - \\Pi_{aA} \\\\\n",
    "    &S'(0) < \\frac{2\\Pi_{aa} - \\Pi_{aA}}{\\Pi_{Aa}} \\\\\n",
    "\\end{align}"
   ]
  },
  {
   "cell_type": "code",
   "execution_count": 228,
   "metadata": {
    "collapsed": false
   },
   "outputs": [
    {
     "data": {
      "text/plain": [
       "-1 + (-PiAA + PiAa - (PiAa - Piaa)*Subs(Derivative(S(x), x), (x,), (1,)) - (PiAA - PiAa - PiaA + Piaa)*Subs(Derivative(S(x), x), (x,), (1,)))/PiAA + (PiAA + 0.5*PiAa*Subs(Derivative(S(x), x), (x,), (1,)) - 0.5*PiAa + (PiAA - 0.5*PiAa - 0.5*PiaA)*Subs(Derivative(S(x), x), (x,), (1,)))/PiAA"
      ]
     },
     "execution_count": 228,
     "metadata": {},
     "output_type": "execute_result"
    }
   ],
   "source": [
    "rhs_jac.subs({x: 1})"
   ]
  },
  {
   "cell_type": "markdown",
   "metadata": {},
   "source": [
    "Stability of the $x^*=1$ equilibrium requires that...\n",
    "\n",
    "$$ \\frac{\\partial \\dot{x}}{\\partial x}\\bigg|_{x=1} < 0$$\n",
    "\n",
    "...taking the derivative yields...\n",
    "\n",
    "\\begin{align}\n",
    "    \\frac{\\partial \\dot{x}}{\\partial x}\\bigg|_{x=1} \\equiv& -1 + \\frac{-\\Pi_{AA} + \\Pi_{Aa} - (\\Pi_{Aa} - \\Pi_{aa})S'(1) - (\\Pi_{AA} - \\Pi_{Aa} - \\Pi_{aA} + \\Pi_{aa})S'(1)}{\\Pi_{AA}} + \\frac{\\Pi_{AA} + 0.5\\Pi_{Aa}S'(1) - 0.5\\Pi_{Aa} + (\\Pi_{AA} - 0.5\\Pi_{Aa} - 0.5\\Pi_{aA})S'(1)}{\\Pi_{AA}} < 0 \\\\\n",
    "    &\\frac{-\\Pi_{AA} + \\Pi_{Aa} - (\\Pi_{AA} - \\Pi_{aA})S'(1)}{\\Pi_{AA}} + \\frac{\\Pi_{AA}  - 0.5\\Pi_{Aa} + (\\Pi_{AA} - 0.5\\Pi_{aA})S'(1)}{\\Pi_{AA}} < 1 \\\\\n",
    "    &\\frac{\\Pi_{Aa} + \\Pi_{aA}S'(1)}{2\\Pi_{AA}} < 1 \\\\\n",
    "    &S'(1) < \\frac{2\\Pi_{AA} - \\Pi_{Aa}}{\\Pi_{aA}}\n",
    "\\end{align}"
   ]
  },
  {
   "cell_type": "markdown",
   "metadata": {},
   "source": [
    "# 1M2F model"
   ]
  },
  {
   "cell_type": "code",
   "execution_count": 243,
   "metadata": {
    "collapsed": true
   },
   "outputs": [],
   "source": [
    "def M_dot(M, f, S, PiaA, PiAA, Piaa, PiAa):\n",
    "    return 0.5 * S(f)**2 + S(f) * (1 - S(f)) * (PiAa / (PiAa + PiaA)) - 0.5 * M\n",
    "\n",
    "def f_dot(M, f, S, PiaA, PiAA, Piaa, PiAa):\n",
    "    out = ((total_female_altruists(M, f, S, PiaA, PiAA, Piaa, PiAa) /\n",
    "            total_offspring(M, f, S, PiaA, PiAA, Piaa, PiAa)) - f)\n",
    "    return out\n",
    "\n",
    "def total_female_altruists(M, f, S, PiaA, PiAA, Piaa, PiAa):\n",
    "    total = (2 * PiAA * M * S(f)**2 +\n",
    "             Piaa * M * (1 - S(f)**2) +\n",
    "             (2 * PiAa + PiaA) * M * S(f) * (1 - S(f)) +\n",
    "             PiAA * (1 - M) * S(f)**2 +\n",
    "             PiAa * (1 - M) * S(f) * (1 - S(f)))\n",
    "    return total\n",
    "\n",
    "def total_offspring(M, f, S, PiaA, PiAA, Piaa, PiAa):\n",
    "    total = (2 * PiAA * M * S(f)**2 +\n",
    "             2 * Piaa * (1 - M) * (1 - S(f))**2 + \n",
    "             2 * (PiAa + PiaA) * M * S(f) * (1 - S(f)))\n",
    "    return total\n"
   ]
  },
  {
   "cell_type": "code",
   "execution_count": 244,
   "metadata": {
    "collapsed": true
   },
   "outputs": [],
   "source": [
    "# check whether M=f=0 is an equilibrium...\n",
    "assert M_dot(0, 0, S, PiaA, PiAA, Piaa, PiAa) == 0\n",
    "assert f_dot(0, 0, S, PiaA, PiAA, Piaa, PiAa) == 0"
   ]
  },
  {
   "cell_type": "code",
   "execution_count": 245,
   "metadata": {
    "collapsed": true
   },
   "outputs": [],
   "source": [
    "# check whether M=f=1 is an equilibrium...\n",
    "assert M_dot(1, 1, S, PiaA, PiAA, Piaa, PiAa) == 0\n",
    "assert f_dot(1, 1, S, PiaA, PiAA, Piaa, PiAa) == 0"
   ]
  },
  {
   "cell_type": "code",
   "execution_count": 246,
   "metadata": {
    "collapsed": true
   },
   "outputs": [],
   "source": [
    "rhs = sym.Matrix([M_dot(M, f, S, PiaA, PiAA, Piaa, PiAa),\n",
    "                  f_dot(M, f, S, PiaA, PiAA, Piaa, PiAa)])"
   ]
  },
  {
   "cell_type": "code",
   "execution_count": 247,
   "metadata": {
    "collapsed": true
   },
   "outputs": [],
   "source": [
    "rhs_jac = rhs.jacobian([M, f])"
   ]
  },
  {
   "cell_type": "code",
   "execution_count": 249,
   "metadata": {
    "collapsed": false
   },
   "outputs": [
    {
     "data": {
      "text/plain": [
       "PiAa*Subs(Derivative(S(f), f), (f,), (0,))/(2*Piaa) - 1.5"
      ]
     },
     "execution_count": 249,
     "metadata": {},
     "output_type": "execute_result"
    }
   ],
   "source": [
    "rhs_jac.subs({M: 0, f: 0}).trace()"
   ]
  },
  {
   "cell_type": "markdown",
   "metadata": {},
   "source": [
    "Note that $Tr(\\mathcal{J})$ condition requires that...\n",
    "\n",
    "\\begin{align}\n",
    "    %\\frac{\\Pi_{Aa} }{2\\Pi_{aa}}S'(0) - \\frac{3}{2} < 0\\\\\n",
    "    %\\frac{\\Pi_{Aa} }{\\Pi_{aa}}S'(0) < \\frac{3}{1} \\\\\n",
    "    S'(0) < \\frac{3\\Pi_{aa}}{\\Pi_{Aa}} \\\\\n",
    "\\end{align}"
   ]
  },
  {
   "cell_type": "code",
   "execution_count": 250,
   "metadata": {
    "collapsed": false
   },
   "outputs": [
    {
     "data": {
      "text/plain": [
       "-PiAa*Subs(Derivative(S(f), f), (f,), (0,))/(2*(PiAa + PiaA)) - 0.25*PiAa*Subs(Derivative(S(f), f), (f,), (0,))/Piaa + 0.5"
      ]
     },
     "execution_count": 250,
     "metadata": {},
     "output_type": "execute_result"
    }
   ],
   "source": [
    "rhs_jac.subs({M: 0, f: 0}).det()"
   ]
  },
  {
   "cell_type": "markdown",
   "metadata": {},
   "source": [
    "...and $det(\\mathcal{J})$ requires that...\n",
    "\n",
    "\\begin{align}\n",
    "    %-\\frac{\\Pi_{Aa}}{2(\\Pi_{Aa} + \\Pi_{aA})}S'(0) - \\frac{1}{4}\\frac{\\Pi_{Aa}}{\\Pi_{aa}}S'(0) + \\frac{1}{2} > 0 \\\\\n",
    "    %-\\bigg[\\frac{2\\Pi_{Aa}}{\\Pi_{Aa} + \\Pi_{aA}} + \\frac{\\Pi_{Aa}}{\\Pi_{aa}}\\bigg]S'(0) + 2 > 0 \\\\\n",
    "   %\\bigg[\\frac{2\\Pi_{Aa}}{\\Pi_{Aa} + \\Pi_{aA}} + \\frac{\\Pi_{Aa}}{\\Pi_{aa}}\\bigg]S'(0) < 2 \\\\\n",
    "   %\\bigg[\\frac{2\\Pi_{Aa}\\Pi_{aa} + \\Pi_{Aa}(\\Pi_{Aa} + \\Pi_{aA})}{\\Pi_{aa}(\\Pi_{Aa} + \\Pi_{aA})}\\bigg]S'(0) < 2 \\\\\n",
    "   S'(0) < \\frac{2\\Pi_{aa}(\\Pi_{Aa} + \\Pi_{aA})}{2\\Pi_{Aa}\\Pi_{aa} + \\Pi_{Aa}(\\Pi_{Aa} + \\Pi_{aA})}\n",
    "\\end{align}"
   ]
  },
  {
   "cell_type": "markdown",
   "metadata": {},
   "source": [
    "Can show that...\n",
    "\n",
    "$$\\frac{2\\Pi_{aa}(\\Pi_{Aa} + \\Pi_{aA})}{2\\Pi_{Aa}\\Pi_{aa} + \\Pi_{Aa}(\\Pi_{Aa} + \\Pi_{aA})} < \\frac{3\\Pi_{aa}}{\\Pi_{Aa}} $$ \n",
    "\n",
    "...and therefore necessary and sufficient condition for stability of $M^*=f^*=0$ is\n",
    "\n",
    "$$    S'(0) < \\frac{2\\Pi_{aa}(\\Pi_{Aa} + \\Pi_{aA})}{2\\Pi_{Aa}\\Pi_{aa} + \\Pi_{Aa}(\\Pi_{Aa} + \\Pi_{aA})}. $$"
   ]
  },
  {
   "cell_type": "code",
   "execution_count": 251,
   "metadata": {
    "collapsed": false
   },
   "outputs": [
    {
     "data": {
      "text/plain": [
       "-1.5 + (-4*PiAA*Subs(Derivative(S(f), f), (f,), (1,)) + (2*PiAa + 2*PiaA)*Subs(Derivative(S(f), f), (f,), (1,)))/(2*PiAA) + (4*PiAA*Subs(Derivative(S(f), f), (f,), (1,)) - 2*Piaa*Subs(Derivative(S(f), f), (f,), (1,)) - (2*PiAa + PiaA)*Subs(Derivative(S(f), f), (f,), (1,)))/(2*PiAA)"
      ]
     },
     "execution_count": 251,
     "metadata": {},
     "output_type": "execute_result"
    }
   ],
   "source": [
    "rhs_jac.subs({M: 1, f: 1}).trace()"
   ]
  },
  {
   "cell_type": "markdown",
   "metadata": {},
   "source": [
    "After a bit of algebra we can show that the $Tr(\\mathcal{J})$ condition requires...\n",
    "\n",
    "\\begin{align}\n",
    "    %-\\frac{3}{2} + \\frac{-4\\Pi_{AA}S'(1) + (2\\Pi_{Aa} + 2\\Pi_{aA})S'(1)}{2\\Pi_{AA}} + \\frac{4\\Pi_{AA}S'(1) - 2\\Pi_{aa}S'(1) - (2\\Pi_{Aa} + \\Pi_{aA})S'(1)}{2\\Pi_{AA}} < 0 \\\\\n",
    "        -\\frac{3}{2} - \\frac{\\Pi_{aa}}{\\Pi_{AA}}S'(1) < 0\n",
    "\\end{align}\n",
    "\n",
    "...which is always satisfied because $S'(1) > 0$."
   ]
  },
  {
   "cell_type": "code",
   "execution_count": 252,
   "metadata": {
    "collapsed": false
   },
   "outputs": [
    {
     "data": {
      "text/plain": [
       "-PiAa*Subs(Derivative(S(f), f), (f,), (1,))/(2*(PiAa + PiaA)) + 0.5*Subs(Derivative(S(f), f), (f,), (1,)) + 0.5 - 0.25*PiaA*Subs(Derivative(S(f), f), (f,), (1,))/PiAA + 0.5*Piaa*Subs(Derivative(S(f), f), (f,), (1,))/PiAA"
      ]
     },
     "execution_count": 252,
     "metadata": {},
     "output_type": "execute_result"
    }
   ],
   "source": [
    "rhs_jac.subs({M: 1, f: 1}).det()"
   ]
  },
  {
   "cell_type": "markdown",
   "metadata": {},
   "source": [
    "Note that the $det(\\mathcal{J})$ condition requires that...\n",
    "\n",
    "\\begin{align}\n",
    "    \\frac{-\\Pi_{Aa}}{2(\\Pi_{Aa} + \\Pi_{aA})}S'(1) + \\frac{1}{2}S'(1) + \\frac{1}{2} - \\frac{\\Pi_{aA}}{4\\Pi_{AA}}S'(1) + \\frac{\\Pi_{aa}}{2\\Pi_{AA}}S'(1) > 0 \\\\\n",
    "    \\frac{-2\\Pi_{Aa}}{\\Pi_{Aa} + \\Pi_{aA}}S'(1) + 2S'(1) + 2 - \\frac{\\Pi_{aA}}{\\Pi_{AA}}S'(1) + \\frac{2\\Pi_{aa}}{\\Pi_{AA}}S'(1) > 0 \\\\\n",
    "    2 > \\frac{2\\Pi_{Aa}}{\\Pi_{Aa} + \\Pi_{aA}}S'(1) - 2S'(1) + \\frac{\\Pi_{aA}}{\\Pi_{AA}}S'(1) - \\frac{2\\Pi_{aa}}{\\Pi_{AA}}S'(1) \\\\\n",
    "    2 > \\bigg[\\frac{2\\Pi_{Aa}}{\\Pi_{Aa} + \\Pi_{aA}} + \\frac{\\Pi_{aA} - 2\\Pi_{aa}}{\\Pi_{AA}} - 2\\bigg]S'(1) \\\\\n",
    "    2 > \\bigg[\\frac{2\\Pi_{Aa}\\Pi_{AA} + (\\Pi_{aA} - 2\\Pi_{aa})(\\Pi_{Aa} + \\Pi_{aA})}{\\Pi_{AA}(\\Pi_{Aa} + \\Pi_{aA})} - 2\\bigg]S'(1) \\\\\n",
    "    2 > \\bigg[\\frac{2\\Pi_{Aa}\\Pi_{AA} + (\\Pi_{aA} - 2\\Pi_{aa})(\\Pi_{Aa} + \\Pi_{aA}) - 2\\Pi_{AA}(\\Pi_{Aa} + \\Pi_{aA})}{\\Pi_{AA}(\\Pi_{Aa} + \\Pi_{aA})}\\bigg]S'(1) \\\\\n",
    "    S'(1) < \\frac{2\\Pi_{AA}(\\Pi_{Aa} + \\Pi_{aA})}{2\\Pi_{Aa}\\Pi_{AA} + (\\Pi_{aA} - 2\\Pi_{aa})(\\Pi_{Aa} + \\Pi_{aA}) - 2\\Pi_{AA}(\\Pi_{Aa} + \\Pi_{aA})}\n",
    "\\end{align}\n",
    "\n",
    "...in order for the equilibrium to be locally stable."
   ]
  },
  {
   "cell_type": "code",
   "execution_count": null,
   "metadata": {
    "collapsed": true
   },
   "outputs": [],
   "source": []
  },
  {
   "cell_type": "code",
   "execution_count": null,
   "metadata": {
    "collapsed": true
   },
   "outputs": [],
   "source": []
  },
  {
   "cell_type": "markdown",
   "metadata": {},
   "source": [
    "# 1X2X model"
   ]
  },
  {
   "cell_type": "code",
   "execution_count": 98,
   "metadata": {
    "collapsed": true
   },
   "outputs": [],
   "source": [
    "def total_surviving_altruists(x, S, PiaA, PiAA, Piaa, PiAa):\n",
    "    num_survivors = (2 * PiAA * x * S(x)**2 +\n",
    "                     Piaa * x * (1 - S(x))**2 + \n",
    "                     (2 * PiAa + PiaA) * x * S(x) * (1 - S(x)) +\n",
    "                     PiAA * (1 - x) * S(x)**2 + \n",
    "                     PiAa * (1 - x) * S(x) * (1 - S(x)))\n",
    "    return num_survivors\n",
    "\n",
    "\n",
    "def total_altruists(x, S, PiaA, PiAA, Piaa, PiAa):\n",
    "    num_total = (2 * PiAA * x * S(x)**2 +\n",
    "                 2 * Piaa * (1 - x) * (1 - S(x))**2 + \n",
    "                 2 * (PiAa + PiaA) * x * S(x) * (1 - S(x)))\n",
    "    return num_total\n"
   ]
  },
  {
   "cell_type": "code",
   "execution_count": 99,
   "metadata": {
    "collapsed": true
   },
   "outputs": [],
   "source": [
    "def share_altruists(t, x, S, PiaA, PiAA, Piaa, PiAa):\n",
    "    x_dot = ((total_surviving_altruists(x, S, PiaA, PiAA, Piaa, PiAa) /\n",
    "              total_altruists(x, S, PiaA, PiAA, Piaa, PiAa)) - x)\n",
    "    return x_dot"
   ]
  },
  {
   "cell_type": "code",
   "execution_count": 100,
   "metadata": {
    "collapsed": false
   },
   "outputs": [
    {
     "data": {
      "text/plain": [
       "-x + (2*PiAA*x*S(x)**2 + PiAA*(-x + 1)*S(x)**2 + PiAa*(-x + 1)*(-S(x) + 1)*S(x) + Piaa*x*(-S(x) + 1)**2 + x*(2*PiAa + PiaA)*(-S(x) + 1)*S(x))/(2*PiAA*x*S(x)**2 + 2*Piaa*(-x + 1)*(-S(x) + 1)**2 + x*(2*PiAa + 2*PiaA)*(-S(x) + 1)*S(x))"
      ]
     },
     "execution_count": 100,
     "metadata": {},
     "output_type": "execute_result"
    }
   ],
   "source": [
    "t, x = sym.symbols('t, x')\n",
    "\n",
    "share_altruists(t, x, S, PiaA, PiAA, Piaa, PiAa)"
   ]
  },
  {
   "cell_type": "code",
   "execution_count": 101,
   "metadata": {
    "collapsed": true
   },
   "outputs": [],
   "source": [
    "# unless I screwed up, x=0, 1 should both be fixed points!\n",
    "assert share_altruists(0, 0, S, PiaA, PiAA, Piaa, PiAa) == 0\n",
    "assert share_altruists(0, 1, S, PiaA, PiAA, Piaa, PiAa) == 0"
   ]
  },
  {
   "cell_type": "code",
   "execution_count": 102,
   "metadata": {
    "collapsed": false
   },
   "outputs": [],
   "source": [
    "rhs_jac = share_altruists(t, x, S, PiaA, PiAA, Piaa, PiAa).diff(x, 1)"
   ]
  },
  {
   "cell_type": "code",
   "execution_count": 127,
   "metadata": {
    "collapsed": false
   },
   "outputs": [
    {
     "data": {
      "text/plain": [
       "-1 + (4*PiAA*x*S(x)*Derivative(S(x), x) + 2*PiAA*(-x + 1)*S(x)*Derivative(S(x), x) + PiAA*S(x)**2 + PiAa*(-x + 1)*(-S(x) + 1)*Derivative(S(x), x) - PiAa*(-x + 1)*S(x)*Derivative(S(x), x) - PiAa*(-S(x) + 1)*S(x) - 2*Piaa*x*(-S(x) + 1)*Derivative(S(x), x) + Piaa*(-S(x) + 1)**2 + x*(2*PiAa + PiaA)*(-S(x) + 1)*Derivative(S(x), x) - x*(2*PiAa + PiaA)*S(x)*Derivative(S(x), x) + (2*PiAa + PiaA)*(-S(x) + 1)*S(x))/(2*PiAA*x*S(x)**2 + 2*Piaa*(-x + 1)*(-S(x) + 1)**2 + x*(2*PiAa + 2*PiaA)*(-S(x) + 1)*S(x)) + (2*PiAA*x*S(x)**2 + PiAA*(-x + 1)*S(x)**2 + PiAa*(-x + 1)*(-S(x) + 1)*S(x) + Piaa*x*(-S(x) + 1)**2 + x*(2*PiAa + PiaA)*(-S(x) + 1)*S(x))*(-4*PiAA*x*S(x)*Derivative(S(x), x) - 2*PiAA*S(x)**2 + 4*Piaa*(-x + 1)*(-S(x) + 1)*Derivative(S(x), x) + 2*Piaa*(-S(x) + 1)**2 - x*(2*PiAa + 2*PiaA)*(-S(x) + 1)*Derivative(S(x), x) + x*(2*PiAa + 2*PiaA)*S(x)*Derivative(S(x), x) - (2*PiAa + 2*PiaA)*(-S(x) + 1)*S(x))/(2*PiAA*x*S(x)**2 + 2*Piaa*(-x + 1)*(-S(x) + 1)**2 + x*(2*PiAa + 2*PiaA)*(-S(x) + 1)*S(x))**2"
      ]
     },
     "execution_count": 127,
     "metadata": {},
     "output_type": "execute_result"
    }
   ],
   "source": [
    "rhs_jac"
   ]
  },
  {
   "cell_type": "code",
   "execution_count": 103,
   "metadata": {
    "collapsed": false
   },
   "outputs": [
    {
     "data": {
      "text/plain": [
       "(PiAa*Subs(Derivative(S(x), x), (x,), (0,)) - Piaa)/(2*Piaa)"
      ]
     },
     "execution_count": 103,
     "metadata": {},
     "output_type": "execute_result"
    }
   ],
   "source": [
    "rhs_jac.subs({x:0})"
   ]
  },
  {
   "cell_type": "markdown",
   "metadata": {},
   "source": [
    "Stability condition for equilibrium at $x=0$...\n",
    "\n",
    "\\begin{align}\n",
    "    %\\frac{\\Pi_{Aa}S'(0) + \\Pi_{aa}}{2\\Pi_{aa}} - 1 < 0 \\\\\n",
    "    %\\frac{\\Pi_{Aa}S'(0) + \\Pi_{aa}}{2\\Pi_{aa}} < 1 \\\\\n",
    "    %\\Pi_{Aa}S'(0) + \\Pi_{aa} < 2\\Pi_{aa} \\\\\n",
    "    %\\Pi_{Aa}S'(0) < \\Pi_{aa} \\\\\n",
    "    S'(0) < \\frac{\\Pi_{aa}}{\\Pi_{Aa}} \\\\\n",
    "\\end{align}"
   ]
  },
  {
   "cell_type": "code",
   "execution_count": 104,
   "metadata": {
    "collapsed": false
   },
   "outputs": [
    {
     "data": {
      "text/plain": [
       "-3/2 + PiaA*Subs(Derivative(S(x), x), (x,), (1,))/(2*PiAA)"
      ]
     },
     "execution_count": 104,
     "metadata": {},
     "output_type": "execute_result"
    }
   ],
   "source": [
    "rhs_jac.subs({x:1}).simplify()"
   ]
  },
  {
   "cell_type": "markdown",
   "metadata": {},
   "source": [
    "Stability condition for equilibrium at $x=1$...\n",
    "\n",
    "\\begin{align}\n",
    "    %-\\frac{3}{2} + \\frac{\\Pi_{aA}S'(1)}{2\\Pi_{AA}} < 0 \\\\\n",
    "    %\\frac{\\Pi_{aA}S'(1)}{2\\Pi_{AA}} < \\frac{3}{2} \\\\\n",
    "    S'(1) < \\frac{3\\Pi_{AA}}{\\Pi_{aA}} \\\\\n",
    "\\end{align}"
   ]
  },
  {
   "cell_type": "markdown",
   "metadata": {},
   "source": [
    "### Example: Exponential matching"
   ]
  },
  {
   "cell_type": "code",
   "execution_count": 124,
   "metadata": {
    "collapsed": true
   },
   "outputs": [],
   "source": [
    "def exponential_matching(x, e=0.5):\n",
    "    return x**(1 - e)"
   ]
  },
  {
   "cell_type": "code",
   "execution_count": 126,
   "metadata": {
    "collapsed": false
   },
   "outputs": [
    {
     "data": {
      "image/png": "[encoded data removed]",
      "text/plain": [
       "<matplotlib.figure.Figure at 0x11280d780>"
      ]
     },
     "metadata": {},
     "output_type": "display_data"
    }
   ],
   "source": [
    "ts = np.linspace(0, 100, 100)\n",
    "xs = np.linspace(0, 1, 100)\n",
    "params = {'PiaA': 50, 'PiAA': 4, 'Piaa': 3, 'PiAa': 2}\n",
    "\n",
    "plt.plot(xs, share_altruists(ts, xs, exponential_matching, **params))\n",
    "plt.axhline(y=0, linestyle='dashed', color='k')\n",
    "plt.ylabel(r'$\\dot{x}$', rotation='horizontal')\n",
    "plt.xlabel(r'$x$')\n",
    "plt.show()"
   ]
  },
  {
   "cell_type": "code",
   "execution_count": null,
   "metadata": {
    "collapsed": true
   },
   "outputs": [],
   "source": []
  }
 ],
 "metadata": {
  "kernelspec": {
   "display_name": "Python 3",
   "language": "python",
   "name": "python3"
  },
  "language_info": {
   "codemirror_mode": {
    "name": "ipython",
    "version": 3
   },
   "file_extension": ".py",
   "mimetype": "text/x-python",
   "name": "python",
   "nbconvert_exporter": "python",
   "pygments_lexer": "ipython3",
   "version": "3.4.3"
  }
 },
 "nbformat": 4,
 "nbformat_minor": 0
}
