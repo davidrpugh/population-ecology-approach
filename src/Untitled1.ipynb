{
 "cells": [
  {
   "cell_type": "code",
   "execution_count": 1,
   "metadata": {
    "collapsed": true
   },
   "outputs": [],
   "source": [
    "%matplotlib inline"
   ]
  },
  {
   "cell_type": "code",
   "execution_count": 2,
   "metadata": {
    "collapsed": true
   },
   "outputs": [],
   "source": [
    "import sympy as sym"
   ]
  },
  {
   "cell_type": "code",
   "execution_count": 3,
   "metadata": {
    "collapsed": true
   },
   "outputs": [],
   "source": [
    "class S(sym.Function):\n",
    "    \"\"\"Generic matching function\"\"\"\n",
    "    \n",
    "    is_real = True\n",
    "    \n",
    "    @classmethod\n",
    "    def eval(cls, x):\n",
    "        \"\"\"We require the S(0)=0 and S(1)=1\"\"\"\n",
    "        if x.is_Number and x is sym.S.Zero:\n",
    "            return sym.S.Zero\n",
    "        elif x.is_Number and x is sym.S.One:\n",
    "            return sym.S.One\n",
    "        \n",
    "class SG(S):\n",
    "    \"\"\"Matching function for G males.\"\"\"\n",
    "    \n",
    "class Sg(S):\n",
    "    \"\"\"Matching function for g males.\"\"\"\n"
   ]
  },
  {
   "cell_type": "code",
   "execution_count": 4,
   "metadata": {
    "collapsed": true
   },
   "outputs": [],
   "source": [
    "x0, x1, x2 = sym.symbols('x0, x1, x2')\n",
    "PiaA, PiAA, Piaa, PiAa = sym.symbols('PiaA, PiAA, Piaa, PiAa')"
   ]
  },
  {
   "cell_type": "code",
   "execution_count": 5,
   "metadata": {
    "collapsed": false
   },
   "outputs": [],
   "source": [
    "def N(x0, x1, x2, SG, Sg, PiaA, PiAA, Piaa, PiAa):\n",
    "    out = 2 * PiAA * (((x0 + x1) * SG(x0 + x2)**2+(1 - (x0 + x1)) * Sg(x0 + x2)**2) +\n",
    "                      2 * Piaa * ((x0 + x1) * (1 - SG(x0 + x2))**2 + (1 - (x0 + x1)) * (1 - Sg(x0 + x2))**2) +\n",
    "                      2 * (PiAa + PiaA) * ((x0 + x1) * SG(x0 + x2) * (1 - SG(x0 + x2)) + (1 - (x0 + x1)) * Sg(x0 + x2) * (1 - Sg(x0 + x2))))\n",
    "    return out"
   ]
  },
  {
   "cell_type": "code",
   "execution_count": 7,
   "metadata": {
    "collapsed": false
   },
   "outputs": [],
   "source": [
    "def equation_motion_GA_share(x0, x1, x2, SG, Sg, PiaA, PiAA, Piaa, PiAa):\n",
    "    numerator = (SG(x0 + x2)**2 * (PiAA * ((x0 * (2 * x0 + x2)) / (x0 + x2))) +   \n",
    "                 (1 - SG(x0 + x2))**2 * (Piaa * ((x0 * (1 + x1 - x0 - x2)) / (2 * (1 - x0 - x2)))) +\n",
    "                 SG(x0 + x2) * (1 - SG(x0 + x2)) * (PiAa * ((x0 * (2 * x0 + x2)) / (x0 + x2))) +\n",
    "                 SG(x0 + x2) * (1 - SG(x0 + x2)) * (PiaA * ((x0 * (1 + x1 - x0 - x2)) / (2 * (1 - x0 - x2)))) +\n",
    "                 SG(x0 + x2)**2 * (PiAA * ((x1 * (2 * x0 + x2)) / (2 * (x0 + x2)))) + \n",
    "                 SG(x0 + x2) * (1 - SG(x0 + x2)) * (PiAa * ((x1 * (2 * x0 + x2)) / (2 * (x0 + x2)))) +\n",
    "                 Sg(x0 + x2)**2 * (PiAA * ((x0 * x2) / (x0 + x2))) +\n",
    "                 (1 - Sg(x0 + x2))**2 * (Piaa * ((x1 * x2) / (2 * (1 - x0 - x2)))) +\n",
    "                 Sg(x0 + x2) * (1 - Sg(x0 + x2)) * (PiAa * ((x0 * x2) / (x0 + x2))) +\n",
    "                 Sg(x0 + x2) * (1 - Sg(x0 + x2)) * (PiaA * ((x1 * x2) / (2 * (1 - x0 - x2)))) +\n",
    "                 Sg(x0 + x2)**2 * (PiAA * ((x0 * (1 - x0 - x1 - x2)) / (2 * (x0 + x2)))) +\n",
    "                 Sg(x0 + x2) * (1 - Sg(x0 + x2)) * (PiAa * ((x0 * (1 - x0 - x1 - x2)) / (2 * (x0 + x2)))))  \n",
    "    x0_dot = (numerator / N(x0, x1, x2, SG, Sg, PiaA, PiAA, Piaa, PiAa)) - x0\n",
    "    return x0_dot\n"
   ]
  },
  {
   "cell_type": "markdown",
   "metadata": {},
   "source": [
    "Check that there exists an equilibrium at $x_0=1$ (i.e., pure $GA$)..."
   ]
  },
  {
   "cell_type": "code",
   "execution_count": 8,
   "metadata": {
    "collapsed": false
   },
   "outputs": [],
   "source": [
    "# use limits to get around division by zero issues!\n",
    "x0_dot = equation_motion_GA_share(x0, 0, 0, SG, Sg, PiaA, PiAA, Piaa, PiAa)\n",
    "assert sym.limit(x0_dot, x0, 1) == 0"
   ]
  },
  {
   "cell_type": "markdown",
   "metadata": {},
   "source": [
    "Check that there exists an equilibrium at $x_3=1$ (i.e., pure $ga$)..."
   ]
  },
  {
   "cell_type": "code",
   "execution_count": 9,
   "metadata": {
    "collapsed": false
   },
   "outputs": [],
   "source": [
    "# use limits to get around division by zero issues!\n",
    "x0_dot = equation_motion_GA_share(x0, 0, 0, SG, Sg, PiaA, PiAA, Piaa, PiAa)\n",
    "assert sym.limit(x0_dot, x0, 0) == 0"
   ]
  },
  {
   "cell_type": "code",
   "execution_count": 10,
   "metadata": {
    "collapsed": false
   },
   "outputs": [],
   "source": [
    "def equation_motion_Ga_share(x0, x1, x2, SG, Sg, PiaA, PiAA, Piaa, PiAa):\n",
    "    numerator = ((1 - SG(x0 + x2))**2 * Piaa * ((x0 * (1 + x1 - x0 - x2)) / (2 * (1 - x0 - x2))) +\n",
    "                 SG(x0 + x2) * (1 - SG(x0 + x2)) * PiaA * ((x0 * (1 + x1 - x0 - x2)) /(2 * (1 - x0 - x2))) +\n",
    "                 SG(x0 + x2)**2 * PiAA * ((x1 * (2 * x0 + x2)) / (2 * (x0 + x2))) +\n",
    "                 (1 - SG(x0 + x2))**2 * Piaa * ((x1 * (1 + x1 - x0 - x2)) / ((1 - x0 - x2))) +\n",
    "                 SG(x0 + x2) * (1 - SG(x0 + x2)) * PiAa * ((x1 * (2 * x0 + x2)) / (2 * (x0 + x2))) + \n",
    "                 SG(x0 + x2) * (1 - SG(x0 + x2)) * PiaA * ((x1 * (1 + x1 - x0 - x2)) / (1 - x0 - x2)) +\n",
    "                 (1 - Sg(x0 + x2))**2 * Piaa * ((x1 * x2) / (2 * (1 - x0 - x2))) +\n",
    "                 Sg(x0 + x2) * (1 - Sg(x0 + x2)) * PiaA * ((x1 * x2) / (2 * (1 - x0 - x2))) +\n",
    "                 Sg(x0 + x2)**2 * PiAA * ((x0 * (1 - x0 - x1 - x2)) / (2 * (x0 + x2))) +\n",
    "                 (1 - Sg(x0 + x2))**2 * Piaa * ((x1 * (1 - x0 - x1 - x2)) / (1 - x0 - x2)) +\n",
    "                 Sg(x0 + x2) * (1 - Sg(x0 + x2)) * PiAa * ((x0 * (1 - x0 - x1 - x2)) / (2 * (x0 + x2))) +\n",
    "                 Sg(x0 + x2) * (1 - Sg(x0 + x2)) * PiaA * ((x1 * (1 - x0 - x1 - x2)) / (1 - x0 - x2)))  \n",
    "    x1_dot = (numerator / N(x0, x1, x2, SG, Sg, PiaA, PiAA, Piaa, PiAa)) - x1\n",
    "    return x1_dot\n"
   ]
  },
  {
   "cell_type": "markdown",
   "metadata": {},
   "source": [
    "Check that there exists an equilibrium at $x_0=1$ (i.e., pure $GA$)..."
   ]
  },
  {
   "cell_type": "code",
   "execution_count": 11,
   "metadata": {
    "collapsed": false
   },
   "outputs": [],
   "source": [
    "# use limits to get around division by zero issues!\n",
    "x1_dot = equation_motion_Ga_share(x0, 0, 0, SG, Sg, PiaA, PiAA, Piaa, PiAa)\n",
    "assert sym.limit(x1_dot, x0, 1) == 0"
   ]
  },
  {
   "cell_type": "markdown",
   "metadata": {},
   "source": [
    "Check that there exists an equilibrium at $x_3=1$ (i.e., pure $ga$)..."
   ]
  },
  {
   "cell_type": "code",
   "execution_count": 12,
   "metadata": {
    "collapsed": true
   },
   "outputs": [],
   "source": [
    "# use limits to get around division by zero issues!\n",
    "assert sym.limit(x0_dot, x0, 0) == 0"
   ]
  },
  {
   "cell_type": "code",
   "execution_count": 13,
   "metadata": {
    "collapsed": true
   },
   "outputs": [],
   "source": [
    "def equation_motion_gA_share(x0, x1, x2, SG, Sg, PiaA, PiAA, Piaa, PiAa):\n",
    "    numerator = (SG(x0 + x2)**2 * PiAA * ((x0 * x2) / (x0 + x2)) +\n",
    "                 (1 - SG(x0 + x2))**2 * Piaa * ((x0 * (1 - x0 - x1 - x2)) / (2 * (1 - x0 - x2))) +\n",
    "                 SG(x0 + x2) * (1 - SG(x0 + x2)) * PiAa * ((x0 * x2) / (x0 + x2)) +\n",
    "                 SG(x0 + x2) * (1 - SG(x0 + x2)) * PiaA * ((x0 * (1 - x0 - x1 - x2)) / (2 * (1 - x0 - x2))) +\n",
    "                 SG(x0 + x2)**2 * PiAA * ((x1 * x2) / (2 * (x0 + x2))) +\n",
    "                 SG(x0 + x2) * (1 - SG(x0 + x2)) * PiAa * ((x1 * x2) / (2 * (x0 + x2))) +\n",
    "                 Sg(x0 + x2)**2 * PiAA * ((x2 * (x0 + 2 * x2)) / (x0 + x2)) +\n",
    "                 (1 - Sg(x0 + x2))**2 * Piaa * ((x2 * (2 - 2 * x0 - x1 - 2 * x2)) / (2 * (1 - x0 - x2))) +\n",
    "                 Sg(x0 + x2) * (1 - Sg(x0 + x2)) * PiAa * ((x2 * (x0 + 2 * x2)) / (x0 + x2)) +\n",
    "                 Sg(x0 + x2) * (1 - Sg(x0 + x2)) * PiaA * ((x2 * (2 - 2 * x0 - x1 - 2 * x2)) / (2 * (1 - x0 - x2))) +\n",
    "                 Sg(x0 + x2)**2 * PiAA * (((x0 + 2 * x2) * (1 - x0 - x1 - x2)) / (2 * (x0 + x2))) +\n",
    "                 Sg(x0 + x2) * (1 - Sg(x0 + x2)) * PiAa * (((x0 + 2 * x2) * (1 - x0 - x1 - x2)) / (2 * (x0 + x2))))  \n",
    "    x2_dot = (numerator / N(x0, x1, x2, SG, Sg, PiaA, PiAA, Piaa, PiAa)) - x2\n",
    "    return x2_dot\n"
   ]
  },
  {
   "cell_type": "markdown",
   "metadata": {},
   "source": [
    "Check that there exists an equilibrium at $x_0=1$ (i.e., pure $GA$)..."
   ]
  },
  {
   "cell_type": "code",
   "execution_count": 14,
   "metadata": {
    "collapsed": true
   },
   "outputs": [],
   "source": [
    "# use limits to get around division by zero issues!\n",
    "x2_dot = equation_motion_gA_share(x0, 0, 0, SG, Sg, PiaA, PiAA, Piaa, PiAa)\n",
    "assert sym.limit(x2_dot, x0, 1) == 0"
   ]
  },
  {
   "cell_type": "markdown",
   "metadata": {},
   "source": [
    "Check that there exists an equilibrium at $x_3=1$ (i.e., pure $ga$)..."
   ]
  },
  {
   "cell_type": "code",
   "execution_count": 15,
   "metadata": {
    "collapsed": true
   },
   "outputs": [],
   "source": [
    "# use limits to get around division by zero issues!\n",
    "assert sym.limit(x2_dot, x0, 0) == 0"
   ]
  },
  {
   "cell_type": "markdown",
   "metadata": {},
   "source": [
    "Compute the Jacobian..."
   ]
  },
  {
   "cell_type": "code",
   "execution_count": 17,
   "metadata": {
    "collapsed": false
   },
   "outputs": [],
   "source": [
    "rhs = sym.Matrix([equation_motion_GA_share(x0, x1, x2, SG, Sg, PiaA, PiAA, Piaa, PiAa),\n",
    "                  equation_motion_Ga_share(x0, x1, x2, SG, Sg, PiaA, PiAA, Piaa, PiAa),\n",
    "                  equation_motion_gA_share(x0, x1, x2, SG, Sg, PiaA, PiAA, Piaa, PiAa)])"
   ]
  },
  {
   "cell_type": "code",
   "execution_count": 18,
   "metadata": {
    "collapsed": true
   },
   "outputs": [],
   "source": [
    "rhs_jac = rhs.jacobian([x0, x1, x2])"
   ]
  },
  {
   "cell_type": "code",
   "execution_count": 20,
   "metadata": {
    "collapsed": false
   },
   "outputs": [
    {
     "data": {
      "text/plain": [
       "Matrix([\n",
       "[                                                                                                                                                                                                                -1 + (2*PiAA*x0*x2*Sg(x0 + x2)*Subs(Derivative(Sg(_xi_1), _xi_1), (_xi_1,), (x0 + x2,))/(x0 + x2) - PiAA*x0*x2*Sg(x0 + x2)**2/(x0 + x2)**2 + 2*PiAA*x0*(-x0 - x1 - x2 + 1)*Sg(x0 + x2)*Subs(Derivative(Sg(_xi_1), _xi_1), (_xi_1,), (x0 + x2,))/(2*x0 + 2*x2) - PiAA*x0*Sg(x0 + x2)**2/(2*x0 + 2*x2) - 2*PiAA*x0*(-x0 - x1 - x2 + 1)*Sg(x0 + x2)**2/(2*x0 + 2*x2)**2 + 2*PiAA*x0*(2*x0 + x2)*SG(x0 + x2)*Subs(Derivative(SG(_xi_1), _xi_1), (_xi_1,), (x0 + x2,))/(x0 + x2) + 2*PiAA*x0*SG(x0 + x2)**2/(x0 + x2) - PiAA*x0*(2*x0 + x2)*SG(x0 + x2)**2/(x0 + x2)**2 + 2*PiAA*x1*(2*x0 + x2)*SG(x0 + x2)*Subs(Derivative(SG(_xi_1), _xi_1), (_xi_1,), (x0 + x2,))/(2*x0 + 2*x2) - 2*PiAA*x1*(2*x0 + x2)*SG(x0 + x2)**2/(2*x0 + 2*x2)**2 + 2*PiAA*x1*SG(x0 + x2)**2/(2*x0 + 2*x2) + PiAA*x2*Sg(x0 + x2)**2/(x0 + x2) + PiAA*(-x0 - x1 - x2 + 1)*Sg(x0 + x2)**2/(2*x0 + 2*x2) + PiAA*(2*x0 + x2)*SG(x0 + x2)**2/(x0 + x2) + PiAa*x0*x2*(-Sg(x0 + x2) + 1)*Subs(Derivative(Sg(_xi_1), _xi_1), (_xi_1,), (x0 + x2,))/(x0 + x2) - PiAa*x0*x2*Sg(x0 + x2)*Subs(Derivative(Sg(_xi_1), _xi_1), (_xi_1,), (x0 + x2,))/(x0 + x2) - PiAa*x0*x2*(-Sg(x0 + x2) + 1)*Sg(x0 + x2)/(x0 + x2)**2 + PiAa*x0*(-Sg(x0 + x2) + 1)*(-x0 - x1 - x2 + 1)*Subs(Derivative(Sg(_xi_1), _xi_1), (_xi_1,), (x0 + x2,))/(2*x0 + 2*x2) - PiAa*x0*(-Sg(x0 + x2) + 1)*Sg(x0 + x2)/(2*x0 + 2*x2) - PiAa*x0*(-x0 - x1 - x2 + 1)*Sg(x0 + x2)*Subs(Derivative(Sg(_xi_1), _xi_1), (_xi_1,), (x0 + x2,))/(2*x0 + 2*x2) - 2*PiAa*x0*(-Sg(x0 + x2) + 1)*(-x0 - x1 - x2 + 1)*Sg(x0 + x2)/(2*x0 + 2*x2)**2 + PiAa*x0*(2*x0 + x2)*(-SG(x0 + x2) + 1)*Subs(Derivative(SG(_xi_1), _xi_1), (_xi_1,), (x0 + x2,))/(x0 + x2) - PiAa*x0*(2*x0 + x2)*SG(x0 + x2)*Subs(Derivative(SG(_xi_1), _xi_1), (_xi_1,), (x0 + x2,))/(x0 + x2) + 2*PiAa*x0*(-SG(x0 + x2) + 1)*SG(x0 + x2)/(x0 + x2) - PiAa*x0*(2*x0 + x2)*(-SG(x0 + x2) + 1)*SG(x0 + x2)/(x0 + x2)**2 + PiAa*x1*(2*x0 + x2)*(-SG(x0 + x2) + 1)*Subs(Derivative(SG(_xi_1), _xi_1), (_xi_1,), (x0 + x2,))/(2*x0 + 2*x2) - PiAa*x1*(2*x0 + x2)*SG(x0 + x2)*Subs(Derivative(SG(_xi_1), _xi_1), (_xi_1,), (x0 + x2,))/(2*x0 + 2*x2) - 2*PiAa*x1*(2*x0 + x2)*(-SG(x0 + x2) + 1)*SG(x0 + x2)/(2*x0 + 2*x2)**2 + 2*PiAa*x1*(-SG(x0 + x2) + 1)*SG(x0 + x2)/(2*x0 + 2*x2) + PiAa*x2*(-Sg(x0 + x2) + 1)*Sg(x0 + x2)/(x0 + x2) + PiAa*(-Sg(x0 + x2) + 1)*(-x0 - x1 - x2 + 1)*Sg(x0 + x2)/(2*x0 + 2*x2) + PiAa*(2*x0 + x2)*(-SG(x0 + x2) + 1)*SG(x0 + x2)/(x0 + x2) + PiaA*x0*(-SG(x0 + x2) + 1)*(-x0 + x1 - x2 + 1)*Subs(Derivative(SG(_xi_1), _xi_1), (_xi_1,), (x0 + x2,))/(-2*x0 - 2*x2 + 2) - PiaA*x0*(-SG(x0 + x2) + 1)*SG(x0 + x2)/(-2*x0 - 2*x2 + 2) + 2*PiaA*x0*(-SG(x0 + x2) + 1)*(-x0 + x1 - x2 + 1)*SG(x0 + x2)/(-2*x0 - 2*x2 + 2)**2 - PiaA*x0*(-x0 + x1 - x2 + 1)*SG(x0 + x2)*Subs(Derivative(SG(_xi_1), _xi_1), (_xi_1,), (x0 + x2,))/(-2*x0 - 2*x2 + 2) + PiaA*x1*x2*(-Sg(x0 + x2) + 1)*Subs(Derivative(Sg(_xi_1), _xi_1), (_xi_1,), (x0 + x2,))/(-2*x0 - 2*x2 + 2) + 2*PiaA*x1*x2*(-Sg(x0 + x2) + 1)*Sg(x0 + x2)/(-2*x0 - 2*x2 + 2)**2 - PiaA*x1*x2*Sg(x0 + x2)*Subs(Derivative(Sg(_xi_1), _xi_1), (_xi_1,), (x0 + x2,))/(-2*x0 - 2*x2 + 2) + PiaA*(-SG(x0 + x2) + 1)*(-x0 + x1 - x2 + 1)*SG(x0 + x2)/(-2*x0 - 2*x2 + 2) - Piaa*x0*(-SG(x0 + x2) + 1)**2/(-2*x0 - 2*x2 + 2) + 2*Piaa*x0*(-SG(x0 + x2) + 1)**2*(-x0 + x1 - x2 + 1)/(-2*x0 - 2*x2 + 2)**2 - 2*Piaa*x0*(-SG(x0 + x2) + 1)*(-x0 + x1 - x2 + 1)*Subs(Derivative(SG(_xi_1), _xi_1), (_xi_1,), (x0 + x2,))/(-2*x0 - 2*x2 + 2) + 2*Piaa*x1*x2*(-Sg(x0 + x2) + 1)**2/(-2*x0 - 2*x2 + 2)**2 - 2*Piaa*x1*x2*(-Sg(x0 + x2) + 1)*Subs(Derivative(Sg(_xi_1), _xi_1), (_xi_1,), (x0 + x2,))/(-2*x0 - 2*x2 + 2) + Piaa*(-SG(x0 + x2) + 1)**2*(-x0 + x1 - x2 + 1)/(-2*x0 - 2*x2 + 2))/(2*PiAA*(2*Piaa*((x0 + x1)*(-SG(x0 + x2) + 1)**2 + (-Sg(x0 + x2) + 1)**2*(-x0 - x1 + 1)) + (2*PiAa + 2*PiaA)*((x0 + x1)*(-SG(x0 + x2) + 1)*SG(x0 + x2) + (-Sg(x0 + x2) + 1)*(-x0 - x1 + 1)*Sg(x0 + x2)) + (x0 + x1)*SG(x0 + x2)**2 + (-x0 - x1 + 1)*Sg(x0 + x2)**2)) + (-2*Piaa*(-2*(x0 + x1)*(-SG(x0 + x2) + 1)*Subs(Derivative(SG(_xi_1), _xi_1), (_xi_1,), (x0 + x2,)) + (-SG(x0 + x2) + 1)**2 - (-Sg(x0 + x2) + 1)**2 - 2*(-Sg(x0 + x2) + 1)*(-x0 - x1 + 1)*Subs(Derivative(Sg(_xi_1), _xi_1), (_xi_1,), (x0 + x2,))) - (2*PiAa + 2*PiaA)*((x0 + x1)*(-SG(x0 + x2) + 1)*Subs(Derivative(SG(_xi_1), _xi_1), (_xi_1,), (x0 + x2,)) - (x0 + x1)*SG(x0 + x2)*Subs(Derivative(SG(_xi_1), _xi_1), (_xi_1,), (x0 + x2,)) + (-SG(x0 + x2) + 1)*SG(x0 + x2) + (-Sg(x0 + x2) + 1)*(-x0 - x1 + 1)*Subs(Derivative(Sg(_xi_1), _xi_1), (_xi_1,), (x0 + x2,)) - (-Sg(x0 + x2) + 1)*Sg(x0 + x2) - (-x0 - x1 + 1)*Sg(x0 + x2)*Subs(Derivative(Sg(_xi_1), _xi_1), (_xi_1,), (x0 + x2,))) - 2*(x0 + x1)*SG(x0 + x2)*Subs(Derivative(SG(_xi_1), _xi_1), (_xi_1,), (x0 + x2,)) - 2*(-x0 - x1 + 1)*Sg(x0 + x2)*Subs(Derivative(Sg(_xi_1), _xi_1), (_xi_1,), (x0 + x2,)) - SG(x0 + x2)**2 + Sg(x0 + x2)**2)*(PiAA*x0*x2*Sg(x0 + x2)**2/(x0 + x2) + PiAA*x0*(-x0 - x1 - x2 + 1)*Sg(x0 + x2)**2/(2*x0 + 2*x2) + PiAA*x0*(2*x0 + x2)*SG(x0 + x2)**2/(x0 + x2) + PiAA*x1*(2*x0 + x2)*SG(x0 + x2)**2/(2*x0 + 2*x2) + PiAa*x0*x2*(-Sg(x0 + x2) + 1)*Sg(x0 + x2)/(x0 + x2) + PiAa*x0*(-Sg(x0 + x2) + 1)*(-x0 - x1 - x2 + 1)*Sg(x0 + x2)/(2*x0 + 2*x2) + PiAa*x0*(2*x0 + x2)*(-SG(x0 + x2) + 1)*SG(x0 + x2)/(x0 + x2) + PiAa*x1*(2*x0 + x2)*(-SG(x0 + x2) + 1)*SG(x0 + x2)/(2*x0 + 2*x2) + PiaA*x0*(-SG(x0 + x2) + 1)*(-x0 + x1 - x2 + 1)*SG(x0 + x2)/(-2*x0 - 2*x2 + 2) + PiaA*x1*x2*(-Sg(x0 + x2) + 1)*Sg(x0 + x2)/(-2*x0 - 2*x2 + 2) + Piaa*x0*(-SG(x0 + x2) + 1)**2*(-x0 + x1 - x2 + 1)/(-2*x0 - 2*x2 + 2) + Piaa*x1*x2*(-Sg(x0 + x2) + 1)**2/(-2*x0 - 2*x2 + 2))/(2*PiAA*(2*Piaa*((x0 + x1)*(-SG(x0 + x2) + 1)**2 + (-Sg(x0 + x2) + 1)**2*(-x0 - x1 + 1)) + (2*PiAa + 2*PiaA)*((x0 + x1)*(-SG(x0 + x2) + 1)*SG(x0 + x2) + (-Sg(x0 + x2) + 1)*(-x0 - x1 + 1)*Sg(x0 + x2)) + (x0 + x1)*SG(x0 + x2)**2 + (-x0 - x1 + 1)*Sg(x0 + x2)**2)**2),                                                                                                                                                                                                                                                                                                                                                                                                                                                                                                                                                                                          (-PiAA*x0*Sg(x0 + x2)**2/(2*x0 + 2*x2) + PiAA*(2*x0 + x2)*SG(x0 + x2)**2/(2*x0 + 2*x2) - PiAa*x0*(-Sg(x0 + x2) + 1)*Sg(x0 + x2)/(2*x0 + 2*x2) + PiAa*(2*x0 + x2)*(-SG(x0 + x2) + 1)*SG(x0 + x2)/(2*x0 + 2*x2) + PiaA*x0*(-SG(x0 + x2) + 1)*SG(x0 + x2)/(-2*x0 - 2*x2 + 2) + PiaA*x2*(-Sg(x0 + x2) + 1)*Sg(x0 + x2)/(-2*x0 - 2*x2 + 2) + Piaa*x0*(-SG(x0 + x2) + 1)**2/(-2*x0 - 2*x2 + 2) + Piaa*x2*(-Sg(x0 + x2) + 1)**2/(-2*x0 - 2*x2 + 2))/(2*PiAA*(2*Piaa*((x0 + x1)*(-SG(x0 + x2) + 1)**2 + (-Sg(x0 + x2) + 1)**2*(-x0 - x1 + 1)) + (2*PiAa + 2*PiaA)*((x0 + x1)*(-SG(x0 + x2) + 1)*SG(x0 + x2) + (-Sg(x0 + x2) + 1)*(-x0 - x1 + 1)*Sg(x0 + x2)) + (x0 + x1)*SG(x0 + x2)**2 + (-x0 - x1 + 1)*Sg(x0 + x2)**2)) + (-2*Piaa*((-SG(x0 + x2) + 1)**2 - (-Sg(x0 + x2) + 1)**2) - (2*PiAa + 2*PiaA)*((-SG(x0 + x2) + 1)*SG(x0 + x2) - (-Sg(x0 + x2) + 1)*Sg(x0 + x2)) - SG(x0 + x2)**2 + Sg(x0 + x2)**2)*(PiAA*x0*x2*Sg(x0 + x2)**2/(x0 + x2) + PiAA*x0*(-x0 - x1 - x2 + 1)*Sg(x0 + x2)**2/(2*x0 + 2*x2) + PiAA*x0*(2*x0 + x2)*SG(x0 + x2)**2/(x0 + x2) + PiAA*x1*(2*x0 + x2)*SG(x0 + x2)**2/(2*x0 + 2*x2) + PiAa*x0*x2*(-Sg(x0 + x2) + 1)*Sg(x0 + x2)/(x0 + x2) + PiAa*x0*(-Sg(x0 + x2) + 1)*(-x0 - x1 - x2 + 1)*Sg(x0 + x2)/(2*x0 + 2*x2) + PiAa*x0*(2*x0 + x2)*(-SG(x0 + x2) + 1)*SG(x0 + x2)/(x0 + x2) + PiAa*x1*(2*x0 + x2)*(-SG(x0 + x2) + 1)*SG(x0 + x2)/(2*x0 + 2*x2) + PiaA*x0*(-SG(x0 + x2) + 1)*(-x0 + x1 - x2 + 1)*SG(x0 + x2)/(-2*x0 - 2*x2 + 2) + PiaA*x1*x2*(-Sg(x0 + x2) + 1)*Sg(x0 + x2)/(-2*x0 - 2*x2 + 2) + Piaa*x0*(-SG(x0 + x2) + 1)**2*(-x0 + x1 - x2 + 1)/(-2*x0 - 2*x2 + 2) + Piaa*x1*x2*(-Sg(x0 + x2) + 1)**2/(-2*x0 - 2*x2 + 2))/(2*PiAA*(2*Piaa*((x0 + x1)*(-SG(x0 + x2) + 1)**2 + (-Sg(x0 + x2) + 1)**2*(-x0 - x1 + 1)) + (2*PiAa + 2*PiaA)*((x0 + x1)*(-SG(x0 + x2) + 1)*SG(x0 + x2) + (-Sg(x0 + x2) + 1)*(-x0 - x1 + 1)*Sg(x0 + x2)) + (x0 + x1)*SG(x0 + x2)**2 + (-x0 - x1 + 1)*Sg(x0 + x2)**2)**2),                                                                                                                                                                                                                                                                                                                                                                                                                                                                                                                                                                                        (2*PiAA*x0*x2*Sg(x0 + x2)*Subs(Derivative(Sg(_xi_1), _xi_1), (_xi_1,), (x0 + x2,))/(x0 + x2) - PiAA*x0*x2*Sg(x0 + x2)**2/(x0 + x2)**2 + 2*PiAA*x0*(-x0 - x1 - x2 + 1)*Sg(x0 + x2)*Subs(Derivative(Sg(_xi_1), _xi_1), (_xi_1,), (x0 + x2,))/(2*x0 + 2*x2) - PiAA*x0*Sg(x0 + x2)**2/(2*x0 + 2*x2) - 2*PiAA*x0*(-x0 - x1 - x2 + 1)*Sg(x0 + x2)**2/(2*x0 + 2*x2)**2 + 2*PiAA*x0*(2*x0 + x2)*SG(x0 + x2)*Subs(Derivative(SG(_xi_1), _xi_1), (_xi_1,), (x0 + x2,))/(x0 + x2) + PiAA*x0*SG(x0 + x2)**2/(x0 + x2) + PiAA*x0*Sg(x0 + x2)**2/(x0 + x2) - PiAA*x0*(2*x0 + x2)*SG(x0 + x2)**2/(x0 + x2)**2 + 2*PiAA*x1*(2*x0 + x2)*SG(x0 + x2)*Subs(Derivative(SG(_xi_1), _xi_1), (_xi_1,), (x0 + x2,))/(2*x0 + 2*x2) - 2*PiAA*x1*(2*x0 + x2)*SG(x0 + x2)**2/(2*x0 + 2*x2)**2 + PiAA*x1*SG(x0 + x2)**2/(2*x0 + 2*x2) + PiAa*x0*x2*(-Sg(x0 + x2) + 1)*Subs(Derivative(Sg(_xi_1), _xi_1), (_xi_1,), (x0 + x2,))/(x0 + x2) - PiAa*x0*x2*Sg(x0 + x2)*Subs(Derivative(Sg(_xi_1), _xi_1), (_xi_1,), (x0 + x2,))/(x0 + x2) - PiAa*x0*x2*(-Sg(x0 + x2) + 1)*Sg(x0 + x2)/(x0 + x2)**2 + PiAa*x0*(-Sg(x0 + x2) + 1)*(-x0 - x1 - x2 + 1)*Subs(Derivative(Sg(_xi_1), _xi_1), (_xi_1,), (x0 + x2,))/(2*x0 + 2*x2) - PiAa*x0*(-Sg(x0 + x2) + 1)*Sg(x0 + x2)/(2*x0 + 2*x2) - PiAa*x0*(-x0 - x1 - x2 + 1)*Sg(x0 + x2)*Subs(Derivative(Sg(_xi_1), _xi_1), (_xi_1,), (x0 + x2,))/(2*x0 + 2*x2) - 2*PiAa*x0*(-Sg(x0 + x2) + 1)*(-x0 - x1 - x2 + 1)*Sg(x0 + x2)/(2*x0 + 2*x2)**2 + PiAa*x0*(2*x0 + x2)*(-SG(x0 + x2) + 1)*Subs(Derivative(SG(_xi_1), _xi_1), (_xi_1,), (x0 + x2,))/(x0 + x2) - PiAa*x0*(2*x0 + x2)*SG(x0 + x2)*Subs(Derivative(SG(_xi_1), _xi_1), (_xi_1,), (x0 + x2,))/(x0 + x2) + PiAa*x0*(-SG(x0 + x2) + 1)*SG(x0 + x2)/(x0 + x2) + PiAa*x0*(-Sg(x0 + x2) + 1)*Sg(x0 + x2)/(x0 + x2) - PiAa*x0*(2*x0 + x2)*(-SG(x0 + x2) + 1)*SG(x0 + x2)/(x0 + x2)**2 + PiAa*x1*(2*x0 + x2)*(-SG(x0 + x2) + 1)*Subs(Derivative(SG(_xi_1), _xi_1), (_xi_1,), (x0 + x2,))/(2*x0 + 2*x2) - PiAa*x1*(2*x0 + x2)*SG(x0 + x2)*Subs(Derivative(SG(_xi_1), _xi_1), (_xi_1,), (x0 + x2,))/(2*x0 + 2*x2) - 2*PiAa*x1*(2*x0 + x2)*(-SG(x0 + x2) + 1)*SG(x0 + x2)/(2*x0 + 2*x2)**2 + PiAa*x1*(-SG(x0 + x2) + 1)*SG(x0 + x2)/(2*x0 + 2*x2) + PiaA*x0*(-SG(x0 + x2) + 1)*(-x0 + x1 - x2 + 1)*Subs(Derivative(SG(_xi_1), _xi_1), (_xi_1,), (x0 + x2,))/(-2*x0 - 2*x2 + 2) - PiaA*x0*(-SG(x0 + x2) + 1)*SG(x0 + x2)/(-2*x0 - 2*x2 + 2) + 2*PiaA*x0*(-SG(x0 + x2) + 1)*(-x0 + x1 - x2 + 1)*SG(x0 + x2)/(-2*x0 - 2*x2 + 2)**2 - PiaA*x0*(-x0 + x1 - x2 + 1)*SG(x0 + x2)*Subs(Derivative(SG(_xi_1), _xi_1), (_xi_1,), (x0 + x2,))/(-2*x0 - 2*x2 + 2) + PiaA*x1*x2*(-Sg(x0 + x2) + 1)*Subs(Derivative(Sg(_xi_1), _xi_1), (_xi_1,), (x0 + x2,))/(-2*x0 - 2*x2 + 2) + 2*PiaA*x1*x2*(-Sg(x0 + x2) + 1)*Sg(x0 + x2)/(-2*x0 - 2*x2 + 2)**2 - PiaA*x1*x2*Sg(x0 + x2)*Subs(Derivative(Sg(_xi_1), _xi_1), (_xi_1,), (x0 + x2,))/(-2*x0 - 2*x2 + 2) + PiaA*x1*(-Sg(x0 + x2) + 1)*Sg(x0 + x2)/(-2*x0 - 2*x2 + 2) - Piaa*x0*(-SG(x0 + x2) + 1)**2/(-2*x0 - 2*x2 + 2) + 2*Piaa*x0*(-SG(x0 + x2) + 1)**2*(-x0 + x1 - x2 + 1)/(-2*x0 - 2*x2 + 2)**2 - 2*Piaa*x0*(-SG(x0 + x2) + 1)*(-x0 + x1 - x2 + 1)*Subs(Derivative(SG(_xi_1), _xi_1), (_xi_1,), (x0 + x2,))/(-2*x0 - 2*x2 + 2) + 2*Piaa*x1*x2*(-Sg(x0 + x2) + 1)**2/(-2*x0 - 2*x2 + 2)**2 - 2*Piaa*x1*x2*(-Sg(x0 + x2) + 1)*Subs(Derivative(Sg(_xi_1), _xi_1), (_xi_1,), (x0 + x2,))/(-2*x0 - 2*x2 + 2) + Piaa*x1*(-Sg(x0 + x2) + 1)**2/(-2*x0 - 2*x2 + 2))/(2*PiAA*(2*Piaa*((x0 + x1)*(-SG(x0 + x2) + 1)**2 + (-Sg(x0 + x2) + 1)**2*(-x0 - x1 + 1)) + (2*PiAa + 2*PiaA)*((x0 + x1)*(-SG(x0 + x2) + 1)*SG(x0 + x2) + (-Sg(x0 + x2) + 1)*(-x0 - x1 + 1)*Sg(x0 + x2)) + (x0 + x1)*SG(x0 + x2)**2 + (-x0 - x1 + 1)*Sg(x0 + x2)**2)) + (-2*Piaa*(-2*(x0 + x1)*(-SG(x0 + x2) + 1)*Subs(Derivative(SG(_xi_1), _xi_1), (_xi_1,), (x0 + x2,)) - 2*(-Sg(x0 + x2) + 1)*(-x0 - x1 + 1)*Subs(Derivative(Sg(_xi_1), _xi_1), (_xi_1,), (x0 + x2,))) - (2*PiAa + 2*PiaA)*((x0 + x1)*(-SG(x0 + x2) + 1)*Subs(Derivative(SG(_xi_1), _xi_1), (_xi_1,), (x0 + x2,)) - (x0 + x1)*SG(x0 + x2)*Subs(Derivative(SG(_xi_1), _xi_1), (_xi_1,), (x0 + x2,)) + (-Sg(x0 + x2) + 1)*(-x0 - x1 + 1)*Subs(Derivative(Sg(_xi_1), _xi_1), (_xi_1,), (x0 + x2,)) - (-x0 - x1 + 1)*Sg(x0 + x2)*Subs(Derivative(Sg(_xi_1), _xi_1), (_xi_1,), (x0 + x2,))) - 2*(x0 + x1)*SG(x0 + x2)*Subs(Derivative(SG(_xi_1), _xi_1), (_xi_1,), (x0 + x2,)) - 2*(-x0 - x1 + 1)*Sg(x0 + x2)*Subs(Derivative(Sg(_xi_1), _xi_1), (_xi_1,), (x0 + x2,)))*(PiAA*x0*x2*Sg(x0 + x2)**2/(x0 + x2) + PiAA*x0*(-x0 - x1 - x2 + 1)*Sg(x0 + x2)**2/(2*x0 + 2*x2) + PiAA*x0*(2*x0 + x2)*SG(x0 + x2)**2/(x0 + x2) + PiAA*x1*(2*x0 + x2)*SG(x0 + x2)**2/(2*x0 + 2*x2) + PiAa*x0*x2*(-Sg(x0 + x2) + 1)*Sg(x0 + x2)/(x0 + x2) + PiAa*x0*(-Sg(x0 + x2) + 1)*(-x0 - x1 - x2 + 1)*Sg(x0 + x2)/(2*x0 + 2*x2) + PiAa*x0*(2*x0 + x2)*(-SG(x0 + x2) + 1)*SG(x0 + x2)/(x0 + x2) + PiAa*x1*(2*x0 + x2)*(-SG(x0 + x2) + 1)*SG(x0 + x2)/(2*x0 + 2*x2) + PiaA*x0*(-SG(x0 + x2) + 1)*(-x0 + x1 - x2 + 1)*SG(x0 + x2)/(-2*x0 - 2*x2 + 2) + PiaA*x1*x2*(-Sg(x0 + x2) + 1)*Sg(x0 + x2)/(-2*x0 - 2*x2 + 2) + Piaa*x0*(-SG(x0 + x2) + 1)**2*(-x0 + x1 - x2 + 1)/(-2*x0 - 2*x2 + 2) + Piaa*x1*x2*(-Sg(x0 + x2) + 1)**2/(-2*x0 - 2*x2 + 2))/(2*PiAA*(2*Piaa*((x0 + x1)*(-SG(x0 + x2) + 1)**2 + (-Sg(x0 + x2) + 1)**2*(-x0 - x1 + 1)) + (2*PiAa + 2*PiaA)*((x0 + x1)*(-SG(x0 + x2) + 1)*SG(x0 + x2) + (-Sg(x0 + x2) + 1)*(-x0 - x1 + 1)*Sg(x0 + x2)) + (x0 + x1)*SG(x0 + x2)**2 + (-x0 - x1 + 1)*Sg(x0 + x2)**2)**2)],\n",
       "[(2*PiAA*x0*(-x0 - x1 - x2 + 1)*Sg(x0 + x2)*Subs(Derivative(Sg(_xi_1), _xi_1), (_xi_1,), (x0 + x2,))/(2*x0 + 2*x2) - PiAA*x0*Sg(x0 + x2)**2/(2*x0 + 2*x2) - 2*PiAA*x0*(-x0 - x1 - x2 + 1)*Sg(x0 + x2)**2/(2*x0 + 2*x2)**2 + 2*PiAA*x1*(2*x0 + x2)*SG(x0 + x2)*Subs(Derivative(SG(_xi_1), _xi_1), (_xi_1,), (x0 + x2,))/(2*x0 + 2*x2) - 2*PiAA*x1*(2*x0 + x2)*SG(x0 + x2)**2/(2*x0 + 2*x2)**2 + 2*PiAA*x1*SG(x0 + x2)**2/(2*x0 + 2*x2) + PiAA*(-x0 - x1 - x2 + 1)*Sg(x0 + x2)**2/(2*x0 + 2*x2) + PiAa*x0*(-Sg(x0 + x2) + 1)*(-x0 - x1 - x2 + 1)*Subs(Derivative(Sg(_xi_1), _xi_1), (_xi_1,), (x0 + x2,))/(2*x0 + 2*x2) - PiAa*x0*(-Sg(x0 + x2) + 1)*Sg(x0 + x2)/(2*x0 + 2*x2) - PiAa*x0*(-x0 - x1 - x2 + 1)*Sg(x0 + x2)*Subs(Derivative(Sg(_xi_1), _xi_1), (_xi_1,), (x0 + x2,))/(2*x0 + 2*x2) - 2*PiAa*x0*(-Sg(x0 + x2) + 1)*(-x0 - x1 - x2 + 1)*Sg(x0 + x2)/(2*x0 + 2*x2)**2 + PiAa*x1*(2*x0 + x2)*(-SG(x0 + x2) + 1)*Subs(Derivative(SG(_xi_1), _xi_1), (_xi_1,), (x0 + x2,))/(2*x0 + 2*x2) - PiAa*x1*(2*x0 + x2)*SG(x0 + x2)*Subs(Derivative(SG(_xi_1), _xi_1), (_xi_1,), (x0 + x2,))/(2*x0 + 2*x2) - 2*PiAa*x1*(2*x0 + x2)*(-SG(x0 + x2) + 1)*SG(x0 + x2)/(2*x0 + 2*x2)**2 + 2*PiAa*x1*(-SG(x0 + x2) + 1)*SG(x0 + x2)/(2*x0 + 2*x2) + PiAa*(-Sg(x0 + x2) + 1)*(-x0 - x1 - x2 + 1)*Sg(x0 + x2)/(2*x0 + 2*x2) + PiaA*x0*(-SG(x0 + x2) + 1)*(-x0 + x1 - x2 + 1)*Subs(Derivative(SG(_xi_1), _xi_1), (_xi_1,), (x0 + x2,))/(-2*x0 - 2*x2 + 2) - PiaA*x0*(-SG(x0 + x2) + 1)*SG(x0 + x2)/(-2*x0 - 2*x2 + 2) + 2*PiaA*x0*(-SG(x0 + x2) + 1)*(-x0 + x1 - x2 + 1)*SG(x0 + x2)/(-2*x0 - 2*x2 + 2)**2 - PiaA*x0*(-x0 + x1 - x2 + 1)*SG(x0 + x2)*Subs(Derivative(SG(_xi_1), _xi_1), (_xi_1,), (x0 + x2,))/(-2*x0 - 2*x2 + 2) + PiaA*x1*x2*(-Sg(x0 + x2) + 1)*Subs(Derivative(Sg(_xi_1), _xi_1), (_xi_1,), (x0 + x2,))/(-2*x0 - 2*x2 + 2) + 2*PiaA*x1*x2*(-Sg(x0 + x2) + 1)*Sg(x0 + x2)/(-2*x0 - 2*x2 + 2)**2 - PiaA*x1*x2*Sg(x0 + x2)*Subs(Derivative(Sg(_xi_1), _xi_1), (_xi_1,), (x0 + x2,))/(-2*x0 - 2*x2 + 2) + PiaA*x1*(-SG(x0 + x2) + 1)*(-x0 + x1 - x2 + 1)*Subs(Derivative(SG(_xi_1), _xi_1), (_xi_1,), (x0 + x2,))/(-x0 - x2 + 1) - PiaA*x1*(-SG(x0 + x2) + 1)*SG(x0 + x2)/(-x0 - x2 + 1) + PiaA*x1*(-SG(x0 + x2) + 1)*(-x0 + x1 - x2 + 1)*SG(x0 + x2)/(-x0 - x2 + 1)**2 + PiaA*x1*(-Sg(x0 + x2) + 1)*(-x0 - x1 - x2 + 1)*Subs(Derivative(Sg(_xi_1), _xi_1), (_xi_1,), (x0 + x2,))/(-x0 - x2 + 1) - PiaA*x1*(-Sg(x0 + x2) + 1)*Sg(x0 + x2)/(-x0 - x2 + 1) + PiaA*x1*(-Sg(x0 + x2) + 1)*(-x0 - x1 - x2 + 1)*Sg(x0 + x2)/(-x0 - x2 + 1)**2 - PiaA*x1*(-x0 - x1 - x2 + 1)*Sg(x0 + x2)*Subs(Derivative(Sg(_xi_1), _xi_1), (_xi_1,), (x0 + x2,))/(-x0 - x2 + 1) - PiaA*x1*(-x0 + x1 - x2 + 1)*SG(x0 + x2)*Subs(Derivative(SG(_xi_1), _xi_1), (_xi_1,), (x0 + x2,))/(-x0 - x2 + 1) + PiaA*(-SG(x0 + x2) + 1)*(-x0 + x1 - x2 + 1)*SG(x0 + x2)/(-2*x0 - 2*x2 + 2) - Piaa*x0*(-SG(x0 + x2) + 1)**2/(-2*x0 - 2*x2 + 2) + 2*Piaa*x0*(-SG(x0 + x2) + 1)**2*(-x0 + x1 - x2 + 1)/(-2*x0 - 2*x2 + 2)**2 - 2*Piaa*x0*(-SG(x0 + x2) + 1)*(-x0 + x1 - x2 + 1)*Subs(Derivative(SG(_xi_1), _xi_1), (_xi_1,), (x0 + x2,))/(-2*x0 - 2*x2 + 2) + 2*Piaa*x1*x2*(-Sg(x0 + x2) + 1)**2/(-2*x0 - 2*x2 + 2)**2 - 2*Piaa*x1*x2*(-Sg(x0 + x2) + 1)*Subs(Derivative(Sg(_xi_1), _xi_1), (_xi_1,), (x0 + x2,))/(-2*x0 - 2*x2 + 2) - Piaa*x1*(-SG(x0 + x2) + 1)**2/(-x0 - x2 + 1) + Piaa*x1*(-SG(x0 + x2) + 1)**2*(-x0 + x1 - x2 + 1)/(-x0 - x2 + 1)**2 - 2*Piaa*x1*(-SG(x0 + x2) + 1)*(-x0 + x1 - x2 + 1)*Subs(Derivative(SG(_xi_1), _xi_1), (_xi_1,), (x0 + x2,))/(-x0 - x2 + 1) - Piaa*x1*(-Sg(x0 + x2) + 1)**2/(-x0 - x2 + 1) + Piaa*x1*(-Sg(x0 + x2) + 1)**2*(-x0 - x1 - x2 + 1)/(-x0 - x2 + 1)**2 - 2*Piaa*x1*(-Sg(x0 + x2) + 1)*(-x0 - x1 - x2 + 1)*Subs(Derivative(Sg(_xi_1), _xi_1), (_xi_1,), (x0 + x2,))/(-x0 - x2 + 1) + Piaa*(-SG(x0 + x2) + 1)**2*(-x0 + x1 - x2 + 1)/(-2*x0 - 2*x2 + 2))/(2*PiAA*(2*Piaa*((x0 + x1)*(-SG(x0 + x2) + 1)**2 + (-Sg(x0 + x2) + 1)**2*(-x0 - x1 + 1)) + (2*PiAa + 2*PiaA)*((x0 + x1)*(-SG(x0 + x2) + 1)*SG(x0 + x2) + (-Sg(x0 + x2) + 1)*(-x0 - x1 + 1)*Sg(x0 + x2)) + (x0 + x1)*SG(x0 + x2)**2 + (-x0 - x1 + 1)*Sg(x0 + x2)**2)) + (-2*Piaa*(-2*(x0 + x1)*(-SG(x0 + x2) + 1)*Subs(Derivative(SG(_xi_1), _xi_1), (_xi_1,), (x0 + x2,)) + (-SG(x0 + x2) + 1)**2 - (-Sg(x0 + x2) + 1)**2 - 2*(-Sg(x0 + x2) + 1)*(-x0 - x1 + 1)*Subs(Derivative(Sg(_xi_1), _xi_1), (_xi_1,), (x0 + x2,))) - (2*PiAa + 2*PiaA)*((x0 + x1)*(-SG(x0 + x2) + 1)*Subs(Derivative(SG(_xi_1), _xi_1), (_xi_1,), (x0 + x2,)) - (x0 + x1)*SG(x0 + x2)*Subs(Derivative(SG(_xi_1), _xi_1), (_xi_1,), (x0 + x2,)) + (-SG(x0 + x2) + 1)*SG(x0 + x2) + (-Sg(x0 + x2) + 1)*(-x0 - x1 + 1)*Subs(Derivative(Sg(_xi_1), _xi_1), (_xi_1,), (x0 + x2,)) - (-Sg(x0 + x2) + 1)*Sg(x0 + x2) - (-x0 - x1 + 1)*Sg(x0 + x2)*Subs(Derivative(Sg(_xi_1), _xi_1), (_xi_1,), (x0 + x2,))) - 2*(x0 + x1)*SG(x0 + x2)*Subs(Derivative(SG(_xi_1), _xi_1), (_xi_1,), (x0 + x2,)) - 2*(-x0 - x1 + 1)*Sg(x0 + x2)*Subs(Derivative(Sg(_xi_1), _xi_1), (_xi_1,), (x0 + x2,)) - SG(x0 + x2)**2 + Sg(x0 + x2)**2)*(PiAA*x0*(-x0 - x1 - x2 + 1)*Sg(x0 + x2)**2/(2*x0 + 2*x2) + PiAA*x1*(2*x0 + x2)*SG(x0 + x2)**2/(2*x0 + 2*x2) + PiAa*x0*(-Sg(x0 + x2) + 1)*(-x0 - x1 - x2 + 1)*Sg(x0 + x2)/(2*x0 + 2*x2) + PiAa*x1*(2*x0 + x2)*(-SG(x0 + x2) + 1)*SG(x0 + x2)/(2*x0 + 2*x2) + PiaA*x0*(-SG(x0 + x2) + 1)*(-x0 + x1 - x2 + 1)*SG(x0 + x2)/(-2*x0 - 2*x2 + 2) + PiaA*x1*x2*(-Sg(x0 + x2) + 1)*Sg(x0 + x2)/(-2*x0 - 2*x2 + 2) + PiaA*x1*(-SG(x0 + x2) + 1)*(-x0 + x1 - x2 + 1)*SG(x0 + x2)/(-x0 - x2 + 1) + PiaA*x1*(-Sg(x0 + x2) + 1)*(-x0 - x1 - x2 + 1)*Sg(x0 + x2)/(-x0 - x2 + 1) + Piaa*x0*(-SG(x0 + x2) + 1)**2*(-x0 + x1 - x2 + 1)/(-2*x0 - 2*x2 + 2) + Piaa*x1*x2*(-Sg(x0 + x2) + 1)**2/(-2*x0 - 2*x2 + 2) + Piaa*x1*(-SG(x0 + x2) + 1)**2*(-x0 + x1 - x2 + 1)/(-x0 - x2 + 1) + Piaa*x1*(-Sg(x0 + x2) + 1)**2*(-x0 - x1 - x2 + 1)/(-x0 - x2 + 1))/(2*PiAA*(2*Piaa*((x0 + x1)*(-SG(x0 + x2) + 1)**2 + (-Sg(x0 + x2) + 1)**2*(-x0 - x1 + 1)) + (2*PiAa + 2*PiaA)*((x0 + x1)*(-SG(x0 + x2) + 1)*SG(x0 + x2) + (-Sg(x0 + x2) + 1)*(-x0 - x1 + 1)*Sg(x0 + x2)) + (x0 + x1)*SG(x0 + x2)**2 + (-x0 - x1 + 1)*Sg(x0 + x2)**2)**2), -1 + (-PiAA*x0*Sg(x0 + x2)**2/(2*x0 + 2*x2) + PiAA*(2*x0 + x2)*SG(x0 + x2)**2/(2*x0 + 2*x2) - PiAa*x0*(-Sg(x0 + x2) + 1)*Sg(x0 + x2)/(2*x0 + 2*x2) + PiAa*(2*x0 + x2)*(-SG(x0 + x2) + 1)*SG(x0 + x2)/(2*x0 + 2*x2) + PiaA*x0*(-SG(x0 + x2) + 1)*SG(x0 + x2)/(-2*x0 - 2*x2 + 2) + PiaA*x1*(-SG(x0 + x2) + 1)*SG(x0 + x2)/(-x0 - x2 + 1) - PiaA*x1*(-Sg(x0 + x2) + 1)*Sg(x0 + x2)/(-x0 - x2 + 1) + PiaA*x2*(-Sg(x0 + x2) + 1)*Sg(x0 + x2)/(-2*x0 - 2*x2 + 2) + PiaA*(-SG(x0 + x2) + 1)*(-x0 + x1 - x2 + 1)*SG(x0 + x2)/(-x0 - x2 + 1) + PiaA*(-Sg(x0 + x2) + 1)*(-x0 - x1 - x2 + 1)*Sg(x0 + x2)/(-x0 - x2 + 1) + Piaa*x0*(-SG(x0 + x2) + 1)**2/(-2*x0 - 2*x2 + 2) + Piaa*x1*(-SG(x0 + x2) + 1)**2/(-x0 - x2 + 1) - Piaa*x1*(-Sg(x0 + x2) + 1)**2/(-x0 - x2 + 1) + Piaa*x2*(-Sg(x0 + x2) + 1)**2/(-2*x0 - 2*x2 + 2) + Piaa*(-SG(x0 + x2) + 1)**2*(-x0 + x1 - x2 + 1)/(-x0 - x2 + 1) + Piaa*(-Sg(x0 + x2) + 1)**2*(-x0 - x1 - x2 + 1)/(-x0 - x2 + 1))/(2*PiAA*(2*Piaa*((x0 + x1)*(-SG(x0 + x2) + 1)**2 + (-Sg(x0 + x2) + 1)**2*(-x0 - x1 + 1)) + (2*PiAa + 2*PiaA)*((x0 + x1)*(-SG(x0 + x2) + 1)*SG(x0 + x2) + (-Sg(x0 + x2) + 1)*(-x0 - x1 + 1)*Sg(x0 + x2)) + (x0 + x1)*SG(x0 + x2)**2 + (-x0 - x1 + 1)*Sg(x0 + x2)**2)) + (-2*Piaa*((-SG(x0 + x2) + 1)**2 - (-Sg(x0 + x2) + 1)**2) - (2*PiAa + 2*PiaA)*((-SG(x0 + x2) + 1)*SG(x0 + x2) - (-Sg(x0 + x2) + 1)*Sg(x0 + x2)) - SG(x0 + x2)**2 + Sg(x0 + x2)**2)*(PiAA*x0*(-x0 - x1 - x2 + 1)*Sg(x0 + x2)**2/(2*x0 + 2*x2) + PiAA*x1*(2*x0 + x2)*SG(x0 + x2)**2/(2*x0 + 2*x2) + PiAa*x0*(-Sg(x0 + x2) + 1)*(-x0 - x1 - x2 + 1)*Sg(x0 + x2)/(2*x0 + 2*x2) + PiAa*x1*(2*x0 + x2)*(-SG(x0 + x2) + 1)*SG(x0 + x2)/(2*x0 + 2*x2) + PiaA*x0*(-SG(x0 + x2) + 1)*(-x0 + x1 - x2 + 1)*SG(x0 + x2)/(-2*x0 - 2*x2 + 2) + PiaA*x1*x2*(-Sg(x0 + x2) + 1)*Sg(x0 + x2)/(-2*x0 - 2*x2 + 2) + PiaA*x1*(-SG(x0 + x2) + 1)*(-x0 + x1 - x2 + 1)*SG(x0 + x2)/(-x0 - x2 + 1) + PiaA*x1*(-Sg(x0 + x2) + 1)*(-x0 - x1 - x2 + 1)*Sg(x0 + x2)/(-x0 - x2 + 1) + Piaa*x0*(-SG(x0 + x2) + 1)**2*(-x0 + x1 - x2 + 1)/(-2*x0 - 2*x2 + 2) + Piaa*x1*x2*(-Sg(x0 + x2) + 1)**2/(-2*x0 - 2*x2 + 2) + Piaa*x1*(-SG(x0 + x2) + 1)**2*(-x0 + x1 - x2 + 1)/(-x0 - x2 + 1) + Piaa*x1*(-Sg(x0 + x2) + 1)**2*(-x0 - x1 - x2 + 1)/(-x0 - x2 + 1))/(2*PiAA*(2*Piaa*((x0 + x1)*(-SG(x0 + x2) + 1)**2 + (-Sg(x0 + x2) + 1)**2*(-x0 - x1 + 1)) + (2*PiAa + 2*PiaA)*((x0 + x1)*(-SG(x0 + x2) + 1)*SG(x0 + x2) + (-Sg(x0 + x2) + 1)*(-x0 - x1 + 1)*Sg(x0 + x2)) + (x0 + x1)*SG(x0 + x2)**2 + (-x0 - x1 + 1)*Sg(x0 + x2)**2)**2),                                                                                                                                                                                                                                                       (2*PiAA*x0*(-x0 - x1 - x2 + 1)*Sg(x0 + x2)*Subs(Derivative(Sg(_xi_1), _xi_1), (_xi_1,), (x0 + x2,))/(2*x0 + 2*x2) - PiAA*x0*Sg(x0 + x2)**2/(2*x0 + 2*x2) - 2*PiAA*x0*(-x0 - x1 - x2 + 1)*Sg(x0 + x2)**2/(2*x0 + 2*x2)**2 + 2*PiAA*x1*(2*x0 + x2)*SG(x0 + x2)*Subs(Derivative(SG(_xi_1), _xi_1), (_xi_1,), (x0 + x2,))/(2*x0 + 2*x2) - 2*PiAA*x1*(2*x0 + x2)*SG(x0 + x2)**2/(2*x0 + 2*x2)**2 + PiAA*x1*SG(x0 + x2)**2/(2*x0 + 2*x2) + PiAa*x0*(-Sg(x0 + x2) + 1)*(-x0 - x1 - x2 + 1)*Subs(Derivative(Sg(_xi_1), _xi_1), (_xi_1,), (x0 + x2,))/(2*x0 + 2*x2) - PiAa*x0*(-Sg(x0 + x2) + 1)*Sg(x0 + x2)/(2*x0 + 2*x2) - PiAa*x0*(-x0 - x1 - x2 + 1)*Sg(x0 + x2)*Subs(Derivative(Sg(_xi_1), _xi_1), (_xi_1,), (x0 + x2,))/(2*x0 + 2*x2) - 2*PiAa*x0*(-Sg(x0 + x2) + 1)*(-x0 - x1 - x2 + 1)*Sg(x0 + x2)/(2*x0 + 2*x2)**2 + PiAa*x1*(2*x0 + x2)*(-SG(x0 + x2) + 1)*Subs(Derivative(SG(_xi_1), _xi_1), (_xi_1,), (x0 + x2,))/(2*x0 + 2*x2) - PiAa*x1*(2*x0 + x2)*SG(x0 + x2)*Subs(Derivative(SG(_xi_1), _xi_1), (_xi_1,), (x0 + x2,))/(2*x0 + 2*x2) - 2*PiAa*x1*(2*x0 + x2)*(-SG(x0 + x2) + 1)*SG(x0 + x2)/(2*x0 + 2*x2)**2 + PiAa*x1*(-SG(x0 + x2) + 1)*SG(x0 + x2)/(2*x0 + 2*x2) + PiaA*x0*(-SG(x0 + x2) + 1)*(-x0 + x1 - x2 + 1)*Subs(Derivative(SG(_xi_1), _xi_1), (_xi_1,), (x0 + x2,))/(-2*x0 - 2*x2 + 2) - PiaA*x0*(-SG(x0 + x2) + 1)*SG(x0 + x2)/(-2*x0 - 2*x2 + 2) + 2*PiaA*x0*(-SG(x0 + x2) + 1)*(-x0 + x1 - x2 + 1)*SG(x0 + x2)/(-2*x0 - 2*x2 + 2)**2 - PiaA*x0*(-x0 + x1 - x2 + 1)*SG(x0 + x2)*Subs(Derivative(SG(_xi_1), _xi_1), (_xi_1,), (x0 + x2,))/(-2*x0 - 2*x2 + 2) + PiaA*x1*x2*(-Sg(x0 + x2) + 1)*Subs(Derivative(Sg(_xi_1), _xi_1), (_xi_1,), (x0 + x2,))/(-2*x0 - 2*x2 + 2) + 2*PiaA*x1*x2*(-Sg(x0 + x2) + 1)*Sg(x0 + x2)/(-2*x0 - 2*x2 + 2)**2 - PiaA*x1*x2*Sg(x0 + x2)*Subs(Derivative(Sg(_xi_1), _xi_1), (_xi_1,), (x0 + x2,))/(-2*x0 - 2*x2 + 2) + PiaA*x1*(-SG(x0 + x2) + 1)*(-x0 + x1 - x2 + 1)*Subs(Derivative(SG(_xi_1), _xi_1), (_xi_1,), (x0 + x2,))/(-x0 - x2 + 1) - PiaA*x1*(-SG(x0 + x2) + 1)*SG(x0 + x2)/(-x0 - x2 + 1) + PiaA*x1*(-SG(x0 + x2) + 1)*(-x0 + x1 - x2 + 1)*SG(x0 + x2)/(-x0 - x2 + 1)**2 + PiaA*x1*(-Sg(x0 + x2) + 1)*(-x0 - x1 - x2 + 1)*Subs(Derivative(Sg(_xi_1), _xi_1), (_xi_1,), (x0 + x2,))/(-x0 - x2 + 1) - PiaA*x1*(-Sg(x0 + x2) + 1)*Sg(x0 + x2)/(-x0 - x2 + 1) + PiaA*x1*(-Sg(x0 + x2) + 1)*(-x0 - x1 - x2 + 1)*Sg(x0 + x2)/(-x0 - x2 + 1)**2 + PiaA*x1*(-Sg(x0 + x2) + 1)*Sg(x0 + x2)/(-2*x0 - 2*x2 + 2) - PiaA*x1*(-x0 - x1 - x2 + 1)*Sg(x0 + x2)*Subs(Derivative(Sg(_xi_1), _xi_1), (_xi_1,), (x0 + x2,))/(-x0 - x2 + 1) - PiaA*x1*(-x0 + x1 - x2 + 1)*SG(x0 + x2)*Subs(Derivative(SG(_xi_1), _xi_1), (_xi_1,), (x0 + x2,))/(-x0 - x2 + 1) - Piaa*x0*(-SG(x0 + x2) + 1)**2/(-2*x0 - 2*x2 + 2) + 2*Piaa*x0*(-SG(x0 + x2) + 1)**2*(-x0 + x1 - x2 + 1)/(-2*x0 - 2*x2 + 2)**2 - 2*Piaa*x0*(-SG(x0 + x2) + 1)*(-x0 + x1 - x2 + 1)*Subs(Derivative(SG(_xi_1), _xi_1), (_xi_1,), (x0 + x2,))/(-2*x0 - 2*x2 + 2) + 2*Piaa*x1*x2*(-Sg(x0 + x2) + 1)**2/(-2*x0 - 2*x2 + 2)**2 - 2*Piaa*x1*x2*(-Sg(x0 + x2) + 1)*Subs(Derivative(Sg(_xi_1), _xi_1), (_xi_1,), (x0 + x2,))/(-2*x0 - 2*x2 + 2) - Piaa*x1*(-SG(x0 + x2) + 1)**2/(-x0 - x2 + 1) + Piaa*x1*(-SG(x0 + x2) + 1)**2*(-x0 + x1 - x2 + 1)/(-x0 - x2 + 1)**2 - 2*Piaa*x1*(-SG(x0 + x2) + 1)*(-x0 + x1 - x2 + 1)*Subs(Derivative(SG(_xi_1), _xi_1), (_xi_1,), (x0 + x2,))/(-x0 - x2 + 1) - Piaa*x1*(-Sg(x0 + x2) + 1)**2/(-x0 - x2 + 1) + Piaa*x1*(-Sg(x0 + x2) + 1)**2*(-x0 - x1 - x2 + 1)/(-x0 - x2 + 1)**2 + Piaa*x1*(-Sg(x0 + x2) + 1)**2/(-2*x0 - 2*x2 + 2) - 2*Piaa*x1*(-Sg(x0 + x2) + 1)*(-x0 - x1 - x2 + 1)*Subs(Derivative(Sg(_xi_1), _xi_1), (_xi_1,), (x0 + x2,))/(-x0 - x2 + 1))/(2*PiAA*(2*Piaa*((x0 + x1)*(-SG(x0 + x2) + 1)**2 + (-Sg(x0 + x2) + 1)**2*(-x0 - x1 + 1)) + (2*PiAa + 2*PiaA)*((x0 + x1)*(-SG(x0 + x2) + 1)*SG(x0 + x2) + (-Sg(x0 + x2) + 1)*(-x0 - x1 + 1)*Sg(x0 + x2)) + (x0 + x1)*SG(x0 + x2)**2 + (-x0 - x1 + 1)*Sg(x0 + x2)**2)) + (-2*Piaa*(-2*(x0 + x1)*(-SG(x0 + x2) + 1)*Subs(Derivative(SG(_xi_1), _xi_1), (_xi_1,), (x0 + x2,)) - 2*(-Sg(x0 + x2) + 1)*(-x0 - x1 + 1)*Subs(Derivative(Sg(_xi_1), _xi_1), (_xi_1,), (x0 + x2,))) - (2*PiAa + 2*PiaA)*((x0 + x1)*(-SG(x0 + x2) + 1)*Subs(Derivative(SG(_xi_1), _xi_1), (_xi_1,), (x0 + x2,)) - (x0 + x1)*SG(x0 + x2)*Subs(Derivative(SG(_xi_1), _xi_1), (_xi_1,), (x0 + x2,)) + (-Sg(x0 + x2) + 1)*(-x0 - x1 + 1)*Subs(Derivative(Sg(_xi_1), _xi_1), (_xi_1,), (x0 + x2,)) - (-x0 - x1 + 1)*Sg(x0 + x2)*Subs(Derivative(Sg(_xi_1), _xi_1), (_xi_1,), (x0 + x2,))) - 2*(x0 + x1)*SG(x0 + x2)*Subs(Derivative(SG(_xi_1), _xi_1), (_xi_1,), (x0 + x2,)) - 2*(-x0 - x1 + 1)*Sg(x0 + x2)*Subs(Derivative(Sg(_xi_1), _xi_1), (_xi_1,), (x0 + x2,)))*(PiAA*x0*(-x0 - x1 - x2 + 1)*Sg(x0 + x2)**2/(2*x0 + 2*x2) + PiAA*x1*(2*x0 + x2)*SG(x0 + x2)**2/(2*x0 + 2*x2) + PiAa*x0*(-Sg(x0 + x2) + 1)*(-x0 - x1 - x2 + 1)*Sg(x0 + x2)/(2*x0 + 2*x2) + PiAa*x1*(2*x0 + x2)*(-SG(x0 + x2) + 1)*SG(x0 + x2)/(2*x0 + 2*x2) + PiaA*x0*(-SG(x0 + x2) + 1)*(-x0 + x1 - x2 + 1)*SG(x0 + x2)/(-2*x0 - 2*x2 + 2) + PiaA*x1*x2*(-Sg(x0 + x2) + 1)*Sg(x0 + x2)/(-2*x0 - 2*x2 + 2) + PiaA*x1*(-SG(x0 + x2) + 1)*(-x0 + x1 - x2 + 1)*SG(x0 + x2)/(-x0 - x2 + 1) + PiaA*x1*(-Sg(x0 + x2) + 1)*(-x0 - x1 - x2 + 1)*Sg(x0 + x2)/(-x0 - x2 + 1) + Piaa*x0*(-SG(x0 + x2) + 1)**2*(-x0 + x1 - x2 + 1)/(-2*x0 - 2*x2 + 2) + Piaa*x1*x2*(-Sg(x0 + x2) + 1)**2/(-2*x0 - 2*x2 + 2) + Piaa*x1*(-SG(x0 + x2) + 1)**2*(-x0 + x1 - x2 + 1)/(-x0 - x2 + 1) + Piaa*x1*(-Sg(x0 + x2) + 1)**2*(-x0 - x1 - x2 + 1)/(-x0 - x2 + 1))/(2*PiAA*(2*Piaa*((x0 + x1)*(-SG(x0 + x2) + 1)**2 + (-Sg(x0 + x2) + 1)**2*(-x0 - x1 + 1)) + (2*PiAa + 2*PiaA)*((x0 + x1)*(-SG(x0 + x2) + 1)*SG(x0 + x2) + (-Sg(x0 + x2) + 1)*(-x0 - x1 + 1)*Sg(x0 + x2)) + (x0 + x1)*SG(x0 + x2)**2 + (-x0 - x1 + 1)*Sg(x0 + x2)**2)**2)],\n",
       "[                                                                                                                                           (2*PiAA*x0*x2*SG(x0 + x2)*Subs(Derivative(SG(_xi_1), _xi_1), (_xi_1,), (x0 + x2,))/(x0 + x2) - PiAA*x0*x2*SG(x0 + x2)**2/(x0 + x2)**2 + 2*PiAA*x1*x2*SG(x0 + x2)*Subs(Derivative(SG(_xi_1), _xi_1), (_xi_1,), (x0 + x2,))/(2*x0 + 2*x2) - 2*PiAA*x1*x2*SG(x0 + x2)**2/(2*x0 + 2*x2)**2 + 2*PiAA*x2*(x0 + 2*x2)*Sg(x0 + x2)*Subs(Derivative(Sg(_xi_1), _xi_1), (_xi_1,), (x0 + x2,))/(x0 + x2) + PiAA*x2*SG(x0 + x2)**2/(x0 + x2) + PiAA*x2*Sg(x0 + x2)**2/(x0 + x2) - PiAA*x2*(x0 + 2*x2)*Sg(x0 + x2)**2/(x0 + x2)**2 + 2*PiAA*(x0 + 2*x2)*(-x0 - x1 - x2 + 1)*Sg(x0 + x2)*Subs(Derivative(Sg(_xi_1), _xi_1), (_xi_1,), (x0 + x2,))/(2*x0 + 2*x2) - PiAA*(x0 + 2*x2)*Sg(x0 + x2)**2/(2*x0 + 2*x2) - 2*PiAA*(x0 + 2*x2)*(-x0 - x1 - x2 + 1)*Sg(x0 + x2)**2/(2*x0 + 2*x2)**2 + PiAA*(-x0 - x1 - x2 + 1)*Sg(x0 + x2)**2/(2*x0 + 2*x2) + PiAa*x0*x2*(-SG(x0 + x2) + 1)*Subs(Derivative(SG(_xi_1), _xi_1), (_xi_1,), (x0 + x2,))/(x0 + x2) - PiAa*x0*x2*SG(x0 + x2)*Subs(Derivative(SG(_xi_1), _xi_1), (_xi_1,), (x0 + x2,))/(x0 + x2) - PiAa*x0*x2*(-SG(x0 + x2) + 1)*SG(x0 + x2)/(x0 + x2)**2 + PiAa*x1*x2*(-SG(x0 + x2) + 1)*Subs(Derivative(SG(_xi_1), _xi_1), (_xi_1,), (x0 + x2,))/(2*x0 + 2*x2) - PiAa*x1*x2*SG(x0 + x2)*Subs(Derivative(SG(_xi_1), _xi_1), (_xi_1,), (x0 + x2,))/(2*x0 + 2*x2) - 2*PiAa*x1*x2*(-SG(x0 + x2) + 1)*SG(x0 + x2)/(2*x0 + 2*x2)**2 + PiAa*x2*(x0 + 2*x2)*(-Sg(x0 + x2) + 1)*Subs(Derivative(Sg(_xi_1), _xi_1), (_xi_1,), (x0 + x2,))/(x0 + x2) - PiAa*x2*(x0 + 2*x2)*Sg(x0 + x2)*Subs(Derivative(Sg(_xi_1), _xi_1), (_xi_1,), (x0 + x2,))/(x0 + x2) + PiAa*x2*(-SG(x0 + x2) + 1)*SG(x0 + x2)/(x0 + x2) + PiAa*x2*(-Sg(x0 + x2) + 1)*Sg(x0 + x2)/(x0 + x2) - PiAa*x2*(x0 + 2*x2)*(-Sg(x0 + x2) + 1)*Sg(x0 + x2)/(x0 + x2)**2 + PiAa*(x0 + 2*x2)*(-Sg(x0 + x2) + 1)*(-x0 - x1 - x2 + 1)*Subs(Derivative(Sg(_xi_1), _xi_1), (_xi_1,), (x0 + x2,))/(2*x0 + 2*x2) - PiAa*(x0 + 2*x2)*(-Sg(x0 + x2) + 1)*Sg(x0 + x2)/(2*x0 + 2*x2) - PiAa*(x0 + 2*x2)*(-x0 - x1 - x2 + 1)*Sg(x0 + x2)*Subs(Derivative(Sg(_xi_1), _xi_1), (_xi_1,), (x0 + x2,))/(2*x0 + 2*x2) - 2*PiAa*(x0 + 2*x2)*(-Sg(x0 + x2) + 1)*(-x0 - x1 - x2 + 1)*Sg(x0 + x2)/(2*x0 + 2*x2)**2 + PiAa*(-Sg(x0 + x2) + 1)*(-x0 - x1 - x2 + 1)*Sg(x0 + x2)/(2*x0 + 2*x2) + PiaA*x0*(-SG(x0 + x2) + 1)*(-x0 - x1 - x2 + 1)*Subs(Derivative(SG(_xi_1), _xi_1), (_xi_1,), (x0 + x2,))/(-2*x0 - 2*x2 + 2) - PiaA*x0*(-SG(x0 + x2) + 1)*SG(x0 + x2)/(-2*x0 - 2*x2 + 2) + 2*PiaA*x0*(-SG(x0 + x2) + 1)*(-x0 - x1 - x2 + 1)*SG(x0 + x2)/(-2*x0 - 2*x2 + 2)**2 - PiaA*x0*(-x0 - x1 - x2 + 1)*SG(x0 + x2)*Subs(Derivative(SG(_xi_1), _xi_1), (_xi_1,), (x0 + x2,))/(-2*x0 - 2*x2 + 2) + PiaA*x2*(-Sg(x0 + x2) + 1)*(-2*x0 - x1 - 2*x2 + 2)*Subs(Derivative(Sg(_xi_1), _xi_1), (_xi_1,), (x0 + x2,))/(-2*x0 - 2*x2 + 2) - 2*PiaA*x2*(-Sg(x0 + x2) + 1)*Sg(x0 + x2)/(-2*x0 - 2*x2 + 2) + 2*PiaA*x2*(-Sg(x0 + x2) + 1)*(-2*x0 - x1 - 2*x2 + 2)*Sg(x0 + x2)/(-2*x0 - 2*x2 + 2)**2 - PiaA*x2*(-2*x0 - x1 - 2*x2 + 2)*Sg(x0 + x2)*Subs(Derivative(Sg(_xi_1), _xi_1), (_xi_1,), (x0 + x2,))/(-2*x0 - 2*x2 + 2) + PiaA*(-SG(x0 + x2) + 1)*(-x0 - x1 - x2 + 1)*SG(x0 + x2)/(-2*x0 - 2*x2 + 2) - Piaa*x0*(-SG(x0 + x2) + 1)**2/(-2*x0 - 2*x2 + 2) + 2*Piaa*x0*(-SG(x0 + x2) + 1)**2*(-x0 - x1 - x2 + 1)/(-2*x0 - 2*x2 + 2)**2 - 2*Piaa*x0*(-SG(x0 + x2) + 1)*(-x0 - x1 - x2 + 1)*Subs(Derivative(SG(_xi_1), _xi_1), (_xi_1,), (x0 + x2,))/(-2*x0 - 2*x2 + 2) - 2*Piaa*x2*(-Sg(x0 + x2) + 1)**2/(-2*x0 - 2*x2 + 2) + 2*Piaa*x2*(-Sg(x0 + x2) + 1)**2*(-2*x0 - x1 - 2*x2 + 2)/(-2*x0 - 2*x2 + 2)**2 - 2*Piaa*x2*(-Sg(x0 + x2) + 1)*(-2*x0 - x1 - 2*x2 + 2)*Subs(Derivative(Sg(_xi_1), _xi_1), (_xi_1,), (x0 + x2,))/(-2*x0 - 2*x2 + 2) + Piaa*(-SG(x0 + x2) + 1)**2*(-x0 - x1 - x2 + 1)/(-2*x0 - 2*x2 + 2))/(2*PiAA*(2*Piaa*((x0 + x1)*(-SG(x0 + x2) + 1)**2 + (-Sg(x0 + x2) + 1)**2*(-x0 - x1 + 1)) + (2*PiAa + 2*PiaA)*((x0 + x1)*(-SG(x0 + x2) + 1)*SG(x0 + x2) + (-Sg(x0 + x2) + 1)*(-x0 - x1 + 1)*Sg(x0 + x2)) + (x0 + x1)*SG(x0 + x2)**2 + (-x0 - x1 + 1)*Sg(x0 + x2)**2)) + (-2*Piaa*(-2*(x0 + x1)*(-SG(x0 + x2) + 1)*Subs(Derivative(SG(_xi_1), _xi_1), (_xi_1,), (x0 + x2,)) + (-SG(x0 + x2) + 1)**2 - (-Sg(x0 + x2) + 1)**2 - 2*(-Sg(x0 + x2) + 1)*(-x0 - x1 + 1)*Subs(Derivative(Sg(_xi_1), _xi_1), (_xi_1,), (x0 + x2,))) - (2*PiAa + 2*PiaA)*((x0 + x1)*(-SG(x0 + x2) + 1)*Subs(Derivative(SG(_xi_1), _xi_1), (_xi_1,), (x0 + x2,)) - (x0 + x1)*SG(x0 + x2)*Subs(Derivative(SG(_xi_1), _xi_1), (_xi_1,), (x0 + x2,)) + (-SG(x0 + x2) + 1)*SG(x0 + x2) + (-Sg(x0 + x2) + 1)*(-x0 - x1 + 1)*Subs(Derivative(Sg(_xi_1), _xi_1), (_xi_1,), (x0 + x2,)) - (-Sg(x0 + x2) + 1)*Sg(x0 + x2) - (-x0 - x1 + 1)*Sg(x0 + x2)*Subs(Derivative(Sg(_xi_1), _xi_1), (_xi_1,), (x0 + x2,))) - 2*(x0 + x1)*SG(x0 + x2)*Subs(Derivative(SG(_xi_1), _xi_1), (_xi_1,), (x0 + x2,)) - 2*(-x0 - x1 + 1)*Sg(x0 + x2)*Subs(Derivative(Sg(_xi_1), _xi_1), (_xi_1,), (x0 + x2,)) - SG(x0 + x2)**2 + Sg(x0 + x2)**2)*(PiAA*x0*x2*SG(x0 + x2)**2/(x0 + x2) + PiAA*x1*x2*SG(x0 + x2)**2/(2*x0 + 2*x2) + PiAA*x2*(x0 + 2*x2)*Sg(x0 + x2)**2/(x0 + x2) + PiAA*(x0 + 2*x2)*(-x0 - x1 - x2 + 1)*Sg(x0 + x2)**2/(2*x0 + 2*x2) + PiAa*x0*x2*(-SG(x0 + x2) + 1)*SG(x0 + x2)/(x0 + x2) + PiAa*x1*x2*(-SG(x0 + x2) + 1)*SG(x0 + x2)/(2*x0 + 2*x2) + PiAa*x2*(x0 + 2*x2)*(-Sg(x0 + x2) + 1)*Sg(x0 + x2)/(x0 + x2) + PiAa*(x0 + 2*x2)*(-Sg(x0 + x2) + 1)*(-x0 - x1 - x2 + 1)*Sg(x0 + x2)/(2*x0 + 2*x2) + PiaA*x0*(-SG(x0 + x2) + 1)*(-x0 - x1 - x2 + 1)*SG(x0 + x2)/(-2*x0 - 2*x2 + 2) + PiaA*x2*(-Sg(x0 + x2) + 1)*(-2*x0 - x1 - 2*x2 + 2)*Sg(x0 + x2)/(-2*x0 - 2*x2 + 2) + Piaa*x0*(-SG(x0 + x2) + 1)**2*(-x0 - x1 - x2 + 1)/(-2*x0 - 2*x2 + 2) + Piaa*x2*(-Sg(x0 + x2) + 1)**2*(-2*x0 - x1 - 2*x2 + 2)/(-2*x0 - 2*x2 + 2))/(2*PiAA*(2*Piaa*((x0 + x1)*(-SG(x0 + x2) + 1)**2 + (-Sg(x0 + x2) + 1)**2*(-x0 - x1 + 1)) + (2*PiAa + 2*PiaA)*((x0 + x1)*(-SG(x0 + x2) + 1)*SG(x0 + x2) + (-Sg(x0 + x2) + 1)*(-x0 - x1 + 1)*Sg(x0 + x2)) + (x0 + x1)*SG(x0 + x2)**2 + (-x0 - x1 + 1)*Sg(x0 + x2)**2)**2),                                                                                                                                                                                                                                                                                                                                                                                                                                                                                                                                                 (PiAA*x2*SG(x0 + x2)**2/(2*x0 + 2*x2) - PiAA*(x0 + 2*x2)*Sg(x0 + x2)**2/(2*x0 + 2*x2) + PiAa*x2*(-SG(x0 + x2) + 1)*SG(x0 + x2)/(2*x0 + 2*x2) - PiAa*(x0 + 2*x2)*(-Sg(x0 + x2) + 1)*Sg(x0 + x2)/(2*x0 + 2*x2) - PiaA*x0*(-SG(x0 + x2) + 1)*SG(x0 + x2)/(-2*x0 - 2*x2 + 2) - PiaA*x2*(-Sg(x0 + x2) + 1)*Sg(x0 + x2)/(-2*x0 - 2*x2 + 2) - Piaa*x0*(-SG(x0 + x2) + 1)**2/(-2*x0 - 2*x2 + 2) - Piaa*x2*(-Sg(x0 + x2) + 1)**2/(-2*x0 - 2*x2 + 2))/(2*PiAA*(2*Piaa*((x0 + x1)*(-SG(x0 + x2) + 1)**2 + (-Sg(x0 + x2) + 1)**2*(-x0 - x1 + 1)) + (2*PiAa + 2*PiaA)*((x0 + x1)*(-SG(x0 + x2) + 1)*SG(x0 + x2) + (-Sg(x0 + x2) + 1)*(-x0 - x1 + 1)*Sg(x0 + x2)) + (x0 + x1)*SG(x0 + x2)**2 + (-x0 - x1 + 1)*Sg(x0 + x2)**2)) + (-2*Piaa*((-SG(x0 + x2) + 1)**2 - (-Sg(x0 + x2) + 1)**2) - (2*PiAa + 2*PiaA)*((-SG(x0 + x2) + 1)*SG(x0 + x2) - (-Sg(x0 + x2) + 1)*Sg(x0 + x2)) - SG(x0 + x2)**2 + Sg(x0 + x2)**2)*(PiAA*x0*x2*SG(x0 + x2)**2/(x0 + x2) + PiAA*x1*x2*SG(x0 + x2)**2/(2*x0 + 2*x2) + PiAA*x2*(x0 + 2*x2)*Sg(x0 + x2)**2/(x0 + x2) + PiAA*(x0 + 2*x2)*(-x0 - x1 - x2 + 1)*Sg(x0 + x2)**2/(2*x0 + 2*x2) + PiAa*x0*x2*(-SG(x0 + x2) + 1)*SG(x0 + x2)/(x0 + x2) + PiAa*x1*x2*(-SG(x0 + x2) + 1)*SG(x0 + x2)/(2*x0 + 2*x2) + PiAa*x2*(x0 + 2*x2)*(-Sg(x0 + x2) + 1)*Sg(x0 + x2)/(x0 + x2) + PiAa*(x0 + 2*x2)*(-Sg(x0 + x2) + 1)*(-x0 - x1 - x2 + 1)*Sg(x0 + x2)/(2*x0 + 2*x2) + PiaA*x0*(-SG(x0 + x2) + 1)*(-x0 - x1 - x2 + 1)*SG(x0 + x2)/(-2*x0 - 2*x2 + 2) + PiaA*x2*(-Sg(x0 + x2) + 1)*(-2*x0 - x1 - 2*x2 + 2)*Sg(x0 + x2)/(-2*x0 - 2*x2 + 2) + Piaa*x0*(-SG(x0 + x2) + 1)**2*(-x0 - x1 - x2 + 1)/(-2*x0 - 2*x2 + 2) + Piaa*x2*(-Sg(x0 + x2) + 1)**2*(-2*x0 - x1 - 2*x2 + 2)/(-2*x0 - 2*x2 + 2))/(2*PiAA*(2*Piaa*((x0 + x1)*(-SG(x0 + x2) + 1)**2 + (-Sg(x0 + x2) + 1)**2*(-x0 - x1 + 1)) + (2*PiAa + 2*PiaA)*((x0 + x1)*(-SG(x0 + x2) + 1)*SG(x0 + x2) + (-Sg(x0 + x2) + 1)*(-x0 - x1 + 1)*Sg(x0 + x2)) + (x0 + x1)*SG(x0 + x2)**2 + (-x0 - x1 + 1)*Sg(x0 + x2)**2)**2), -1 + (2*PiAA*x0*x2*SG(x0 + x2)*Subs(Derivative(SG(_xi_1), _xi_1), (_xi_1,), (x0 + x2,))/(x0 + x2) - PiAA*x0*x2*SG(x0 + x2)**2/(x0 + x2)**2 + PiAA*x0*SG(x0 + x2)**2/(x0 + x2) + 2*PiAA*x1*x2*SG(x0 + x2)*Subs(Derivative(SG(_xi_1), _xi_1), (_xi_1,), (x0 + x2,))/(2*x0 + 2*x2) - 2*PiAA*x1*x2*SG(x0 + x2)**2/(2*x0 + 2*x2)**2 + PiAA*x1*SG(x0 + x2)**2/(2*x0 + 2*x2) + 2*PiAA*x2*(x0 + 2*x2)*Sg(x0 + x2)*Subs(Derivative(Sg(_xi_1), _xi_1), (_xi_1,), (x0 + x2,))/(x0 + x2) + 2*PiAA*x2*Sg(x0 + x2)**2/(x0 + x2) - PiAA*x2*(x0 + 2*x2)*Sg(x0 + x2)**2/(x0 + x2)**2 + 2*PiAA*(x0 + 2*x2)*(-x0 - x1 - x2 + 1)*Sg(x0 + x2)*Subs(Derivative(Sg(_xi_1), _xi_1), (_xi_1,), (x0 + x2,))/(2*x0 + 2*x2) - PiAA*(x0 + 2*x2)*Sg(x0 + x2)**2/(2*x0 + 2*x2) - 2*PiAA*(x0 + 2*x2)*(-x0 - x1 - x2 + 1)*Sg(x0 + x2)**2/(2*x0 + 2*x2)**2 + 2*PiAA*(-x0 - x1 - x2 + 1)*Sg(x0 + x2)**2/(2*x0 + 2*x2) + PiAA*(x0 + 2*x2)*Sg(x0 + x2)**2/(x0 + x2) + PiAa*x0*x2*(-SG(x0 + x2) + 1)*Subs(Derivative(SG(_xi_1), _xi_1), (_xi_1,), (x0 + x2,))/(x0 + x2) - PiAa*x0*x2*SG(x0 + x2)*Subs(Derivative(SG(_xi_1), _xi_1), (_xi_1,), (x0 + x2,))/(x0 + x2) - PiAa*x0*x2*(-SG(x0 + x2) + 1)*SG(x0 + x2)/(x0 + x2)**2 + PiAa*x0*(-SG(x0 + x2) + 1)*SG(x0 + x2)/(x0 + x2) + PiAa*x1*x2*(-SG(x0 + x2) + 1)*Subs(Derivative(SG(_xi_1), _xi_1), (_xi_1,), (x0 + x2,))/(2*x0 + 2*x2) - PiAa*x1*x2*SG(x0 + x2)*Subs(Derivative(SG(_xi_1), _xi_1), (_xi_1,), (x0 + x2,))/(2*x0 + 2*x2) - 2*PiAa*x1*x2*(-SG(x0 + x2) + 1)*SG(x0 + x2)/(2*x0 + 2*x2)**2 + PiAa*x1*(-SG(x0 + x2) + 1)*SG(x0 + x2)/(2*x0 + 2*x2) + PiAa*x2*(x0 + 2*x2)*(-Sg(x0 + x2) + 1)*Subs(Derivative(Sg(_xi_1), _xi_1), (_xi_1,), (x0 + x2,))/(x0 + x2) - PiAa*x2*(x0 + 2*x2)*Sg(x0 + x2)*Subs(Derivative(Sg(_xi_1), _xi_1), (_xi_1,), (x0 + x2,))/(x0 + x2) + 2*PiAa*x2*(-Sg(x0 + x2) + 1)*Sg(x0 + x2)/(x0 + x2) - PiAa*x2*(x0 + 2*x2)*(-Sg(x0 + x2) + 1)*Sg(x0 + x2)/(x0 + x2)**2 + PiAa*(x0 + 2*x2)*(-Sg(x0 + x2) + 1)*(-x0 - x1 - x2 + 1)*Subs(Derivative(Sg(_xi_1), _xi_1), (_xi_1,), (x0 + x2,))/(2*x0 + 2*x2) - PiAa*(x0 + 2*x2)*(-Sg(x0 + x2) + 1)*Sg(x0 + x2)/(2*x0 + 2*x2) - PiAa*(x0 + 2*x2)*(-x0 - x1 - x2 + 1)*Sg(x0 + x2)*Subs(Derivative(Sg(_xi_1), _xi_1), (_xi_1,), (x0 + x2,))/(2*x0 + 2*x2) - 2*PiAa*(x0 + 2*x2)*(-Sg(x0 + x2) + 1)*(-x0 - x1 - x2 + 1)*Sg(x0 + x2)/(2*x0 + 2*x2)**2 + 2*PiAa*(-Sg(x0 + x2) + 1)*(-x0 - x1 - x2 + 1)*Sg(x0 + x2)/(2*x0 + 2*x2) + PiAa*(x0 + 2*x2)*(-Sg(x0 + x2) + 1)*Sg(x0 + x2)/(x0 + x2) + PiaA*x0*(-SG(x0 + x2) + 1)*(-x0 - x1 - x2 + 1)*Subs(Derivative(SG(_xi_1), _xi_1), (_xi_1,), (x0 + x2,))/(-2*x0 - 2*x2 + 2) - PiaA*x0*(-SG(x0 + x2) + 1)*SG(x0 + x2)/(-2*x0 - 2*x2 + 2) + 2*PiaA*x0*(-SG(x0 + x2) + 1)*(-x0 - x1 - x2 + 1)*SG(x0 + x2)/(-2*x0 - 2*x2 + 2)**2 - PiaA*x0*(-x0 - x1 - x2 + 1)*SG(x0 + x2)*Subs(Derivative(SG(_xi_1), _xi_1), (_xi_1,), (x0 + x2,))/(-2*x0 - 2*x2 + 2) + PiaA*x2*(-Sg(x0 + x2) + 1)*(-2*x0 - x1 - 2*x2 + 2)*Subs(Derivative(Sg(_xi_1), _xi_1), (_xi_1,), (x0 + x2,))/(-2*x0 - 2*x2 + 2) - 2*PiaA*x2*(-Sg(x0 + x2) + 1)*Sg(x0 + x2)/(-2*x0 - 2*x2 + 2) + 2*PiaA*x2*(-Sg(x0 + x2) + 1)*(-2*x0 - x1 - 2*x2 + 2)*Sg(x0 + x2)/(-2*x0 - 2*x2 + 2)**2 - PiaA*x2*(-2*x0 - x1 - 2*x2 + 2)*Sg(x0 + x2)*Subs(Derivative(Sg(_xi_1), _xi_1), (_xi_1,), (x0 + x2,))/(-2*x0 - 2*x2 + 2) + PiaA*(-Sg(x0 + x2) + 1)*(-2*x0 - x1 - 2*x2 + 2)*Sg(x0 + x2)/(-2*x0 - 2*x2 + 2) - Piaa*x0*(-SG(x0 + x2) + 1)**2/(-2*x0 - 2*x2 + 2) + 2*Piaa*x0*(-SG(x0 + x2) + 1)**2*(-x0 - x1 - x2 + 1)/(-2*x0 - 2*x2 + 2)**2 - 2*Piaa*x0*(-SG(x0 + x2) + 1)*(-x0 - x1 - x2 + 1)*Subs(Derivative(SG(_xi_1), _xi_1), (_xi_1,), (x0 + x2,))/(-2*x0 - 2*x2 + 2) - 2*Piaa*x2*(-Sg(x0 + x2) + 1)**2/(-2*x0 - 2*x2 + 2) + 2*Piaa*x2*(-Sg(x0 + x2) + 1)**2*(-2*x0 - x1 - 2*x2 + 2)/(-2*x0 - 2*x2 + 2)**2 - 2*Piaa*x2*(-Sg(x0 + x2) + 1)*(-2*x0 - x1 - 2*x2 + 2)*Subs(Derivative(Sg(_xi_1), _xi_1), (_xi_1,), (x0 + x2,))/(-2*x0 - 2*x2 + 2) + Piaa*(-Sg(x0 + x2) + 1)**2*(-2*x0 - x1 - 2*x2 + 2)/(-2*x0 - 2*x2 + 2))/(2*PiAA*(2*Piaa*((x0 + x1)*(-SG(x0 + x2) + 1)**2 + (-Sg(x0 + x2) + 1)**2*(-x0 - x1 + 1)) + (2*PiAa + 2*PiaA)*((x0 + x1)*(-SG(x0 + x2) + 1)*SG(x0 + x2) + (-Sg(x0 + x2) + 1)*(-x0 - x1 + 1)*Sg(x0 + x2)) + (x0 + x1)*SG(x0 + x2)**2 + (-x0 - x1 + 1)*Sg(x0 + x2)**2)) + (-2*Piaa*(-2*(x0 + x1)*(-SG(x0 + x2) + 1)*Subs(Derivative(SG(_xi_1), _xi_1), (_xi_1,), (x0 + x2,)) - 2*(-Sg(x0 + x2) + 1)*(-x0 - x1 + 1)*Subs(Derivative(Sg(_xi_1), _xi_1), (_xi_1,), (x0 + x2,))) - (2*PiAa + 2*PiaA)*((x0 + x1)*(-SG(x0 + x2) + 1)*Subs(Derivative(SG(_xi_1), _xi_1), (_xi_1,), (x0 + x2,)) - (x0 + x1)*SG(x0 + x2)*Subs(Derivative(SG(_xi_1), _xi_1), (_xi_1,), (x0 + x2,)) + (-Sg(x0 + x2) + 1)*(-x0 - x1 + 1)*Subs(Derivative(Sg(_xi_1), _xi_1), (_xi_1,), (x0 + x2,)) - (-x0 - x1 + 1)*Sg(x0 + x2)*Subs(Derivative(Sg(_xi_1), _xi_1), (_xi_1,), (x0 + x2,))) - 2*(x0 + x1)*SG(x0 + x2)*Subs(Derivative(SG(_xi_1), _xi_1), (_xi_1,), (x0 + x2,)) - 2*(-x0 - x1 + 1)*Sg(x0 + x2)*Subs(Derivative(Sg(_xi_1), _xi_1), (_xi_1,), (x0 + x2,)))*(PiAA*x0*x2*SG(x0 + x2)**2/(x0 + x2) + PiAA*x1*x2*SG(x0 + x2)**2/(2*x0 + 2*x2) + PiAA*x2*(x0 + 2*x2)*Sg(x0 + x2)**2/(x0 + x2) + PiAA*(x0 + 2*x2)*(-x0 - x1 - x2 + 1)*Sg(x0 + x2)**2/(2*x0 + 2*x2) + PiAa*x0*x2*(-SG(x0 + x2) + 1)*SG(x0 + x2)/(x0 + x2) + PiAa*x1*x2*(-SG(x0 + x2) + 1)*SG(x0 + x2)/(2*x0 + 2*x2) + PiAa*x2*(x0 + 2*x2)*(-Sg(x0 + x2) + 1)*Sg(x0 + x2)/(x0 + x2) + PiAa*(x0 + 2*x2)*(-Sg(x0 + x2) + 1)*(-x0 - x1 - x2 + 1)*Sg(x0 + x2)/(2*x0 + 2*x2) + PiaA*x0*(-SG(x0 + x2) + 1)*(-x0 - x1 - x2 + 1)*SG(x0 + x2)/(-2*x0 - 2*x2 + 2) + PiaA*x2*(-Sg(x0 + x2) + 1)*(-2*x0 - x1 - 2*x2 + 2)*Sg(x0 + x2)/(-2*x0 - 2*x2 + 2) + Piaa*x0*(-SG(x0 + x2) + 1)**2*(-x0 - x1 - x2 + 1)/(-2*x0 - 2*x2 + 2) + Piaa*x2*(-Sg(x0 + x2) + 1)**2*(-2*x0 - x1 - 2*x2 + 2)/(-2*x0 - 2*x2 + 2))/(2*PiAA*(2*Piaa*((x0 + x1)*(-SG(x0 + x2) + 1)**2 + (-Sg(x0 + x2) + 1)**2*(-x0 - x1 + 1)) + (2*PiAa + 2*PiaA)*((x0 + x1)*(-SG(x0 + x2) + 1)*SG(x0 + x2) + (-Sg(x0 + x2) + 1)*(-x0 - x1 + 1)*Sg(x0 + x2)) + (x0 + x1)*SG(x0 + x2)**2 + (-x0 - x1 + 1)*Sg(x0 + x2)**2)**2)]])"
      ]
     },
     "execution_count": 20,
     "metadata": {},
     "output_type": "execute_result"
    }
   ],
   "source": [
    "rhs_jac"
   ]
  },
  {
   "cell_type": "code",
   "execution_count": 21,
   "metadata": {
    "collapsed": true
   },
   "outputs": [],
   "source": [
    "evaluated_jac = sym.zeros(3, 3)"
   ]
  },
  {
   "cell_type": "code",
   "execution_count": 22,
   "metadata": {
    "collapsed": false
   },
   "outputs": [],
   "source": [
    "evaluated_jac[0, 0] = rhs_jac.subs({x0: 1, x1: 0, x2: 0})[0, 0]"
   ]
  },
  {
   "cell_type": "code",
   "execution_count": 23,
   "metadata": {
    "collapsed": false
   },
   "outputs": [],
   "source": [
    "evaluated_jac[0, 1] = sym.limit(rhs_jac.subs({x1: 0, x2: 0})[0, 1], x0, 1)"
   ]
  },
  {
   "cell_type": "code",
   "execution_count": 24,
   "metadata": {
    "collapsed": false
   },
   "outputs": [],
   "source": [
    "evaluated_jac[0, 2] = rhs_jac.subs({x0: 1, x1: 0, x2: 0})[0, 2]"
   ]
  },
  {
   "cell_type": "code",
   "execution_count": 25,
   "metadata": {
    "collapsed": false
   },
   "outputs": [],
   "source": [
    "evaluated_jac[1, 0] = rhs_jac.subs({x0: 1, x1: 0, x2: 0})[1, 0]"
   ]
  },
  {
   "cell_type": "code",
   "execution_count": 26,
   "metadata": {
    "collapsed": false
   },
   "outputs": [],
   "source": [
    "evaluated_jac[1, 1] = sym.limit(rhs_jac.subs({x1: 0, x2: 0})[1, 1], x0, 1)"
   ]
  },
  {
   "cell_type": "code",
   "execution_count": 27,
   "metadata": {
    "collapsed": false
   },
   "outputs": [],
   "source": [
    "evaluated_jac[1, 2] = rhs_jac.subs({x0: 1, x1: 0, x2: 0})[1, 2]"
   ]
  },
  {
   "cell_type": "code",
   "execution_count": 28,
   "metadata": {
    "collapsed": false
   },
   "outputs": [],
   "source": [
    "evaluated_jac[2, 0] = rhs_jac.subs({x0: 1, x1: 0, x2: 0})[2, 0]"
   ]
  },
  {
   "cell_type": "code",
   "execution_count": 29,
   "metadata": {
    "collapsed": false
   },
   "outputs": [],
   "source": [
    "evaluated_jac[2, 1] = sym.limit(rhs_jac.subs({x1: 0, x2: 0})[2, 1], x0, 1)"
   ]
  },
  {
   "cell_type": "code",
   "execution_count": 30,
   "metadata": {
    "collapsed": false
   },
   "outputs": [],
   "source": [
    "evaluated_jac[2, 2] = rhs_jac.subs({x0: 1, x1: 0, x2: 0})[2, 2]"
   ]
  },
  {
   "cell_type": "code",
   "execution_count": 31,
   "metadata": {
    "collapsed": false
   },
   "outputs": [
    {
     "data": {
      "text/plain": [
       "Matrix([\n",
       "[(2*PiAa + 2*PiaA)*Subs(Derivative(SG(_xi_1), _xi_1), (_xi_1,), (1,)) - 2*Subs(Derivative(SG(_xi_1), _xi_1), (_xi_1,), (1,)) - 1 + (4*PiAA*Subs(Derivative(SG(_xi_1), _xi_1), (_xi_1,), (1,)) + 3*PiAA/2 - 2*PiAa*Subs(Derivative(SG(_xi_1), _xi_1), (_xi_1,), (1,)) - PiaA*Subs(Derivative(SG(_xi_1), _xi_1), (_xi_1,), (1,))/2)/(2*PiAA),    (PiAA + PiaA*Subs(Derivative(SG(_xi_1), _xi_1), (_xi_1,), (1,)))/(4*PiAA), (2*PiAa + 2*PiaA)*Subs(Derivative(SG(_xi_1), _xi_1), (_xi_1,), (1,)) - 2*Subs(Derivative(SG(_xi_1), _xi_1), (_xi_1,), (1,)) + (4*PiAA*Subs(Derivative(SG(_xi_1), _xi_1), (_xi_1,), (1,)) - PiAA/2 - 2*PiAa*Subs(Derivative(SG(_xi_1), _xi_1), (_xi_1,), (1,)) - PiaA*Subs(Derivative(SG(_xi_1), _xi_1), (_xi_1,), (1,))/2)/(2*PiAA)],\n",
       "[                                                                                                                                                                                                                                                           (-PiAA/2 - PiaA*Subs(Derivative(SG(_xi_1), _xi_1), (_xi_1,), (1,))/2)/(2*PiAA), -(3*PiAA - PiaA*Subs(Derivative(SG(_xi_1), _xi_1), (_xi_1,), (1,)))/(4*PiAA),                                                                                                                                                                                                                                                      (-PiAA/2 - PiaA*Subs(Derivative(SG(_xi_1), _xi_1), (_xi_1,), (1,))/2)/(2*PiAA)],\n",
       "[                                                                                                                                                                                                                                                           (-PiAA/2 - PiaA*Subs(Derivative(SG(_xi_1), _xi_1), (_xi_1,), (1,))/2)/(2*PiAA),   -(PiAA + PiaA*Subs(Derivative(SG(_xi_1), _xi_1), (_xi_1,), (1,)))/(4*PiAA),                                                                                                                                                                                                                                                -1 + (3*PiAA/2 - PiaA*Subs(Derivative(SG(_xi_1), _xi_1), (_xi_1,), (1,))/2)/(2*PiAA)]])"
      ]
     },
     "execution_count": 31,
     "metadata": {},
     "output_type": "execute_result"
    }
   ],
   "source": [
    "evaluated_jac"
   ]
  },
  {
   "cell_type": "code",
   "execution_count": 32,
   "metadata": {
    "collapsed": false
   },
   "outputs": [],
   "source": [
    "char_poly = evaluated_jac.charpoly()"
   ]
  },
  {
   "cell_type": "code",
   "execution_count": 33,
   "metadata": {
    "collapsed": false
   },
   "outputs": [
    {
     "data": {
      "text/plain": [
       "[1,\n",
       " (-8*PiAA*PiAa*Subs(Derivative(SG(_xi_1), _xi_1), (_xi_1,), (1,)) - 8*PiAA*PiaA*Subs(Derivative(SG(_xi_1), _xi_1), (_xi_1,), (1,)) + 5*PiAA + 4*PiAa*Subs(Derivative(SG(_xi_1), _xi_1), (_xi_1,), (1,)) + PiaA*Subs(Derivative(SG(_xi_1), _xi_1), (_xi_1,), (1,)))/(4*PiAA),\n",
       " (-12*PiAA**2*PiAa*Subs(Derivative(SG(_xi_1), _xi_1), (_xi_1,), (1,)) - 12*PiAA**2*PiaA*Subs(Derivative(SG(_xi_1), _xi_1), (_xi_1,), (1,)) + 3*PiAA**2 + 4*PiAA*PiAa*PiaA*Subs(Derivative(SG(_xi_1), _xi_1), (_xi_1,), (1,))**2 + 6*PiAA*PiAa*Subs(Derivative(SG(_xi_1), _xi_1), (_xi_1,), (1,)) + 4*PiAA*PiaA**2*Subs(Derivative(SG(_xi_1), _xi_1), (_xi_1,), (1,))**2 + 2*PiAA*PiaA*Subs(Derivative(SG(_xi_1), _xi_1), (_xi_1,), (1,)) - 2*PiAa*PiaA*Subs(Derivative(SG(_xi_1), _xi_1), (_xi_1,), (1,))**2 - PiaA**2*Subs(Derivative(SG(_xi_1), _xi_1), (_xi_1,), (1,))**2)/(8*PiAA**2),\n",
       " 0]"
      ]
     },
     "execution_count": 33,
     "metadata": {},
     "output_type": "execute_result"
    }
   ],
   "source": [
    "char_poly.all_coeffs()"
   ]
  },
  {
   "cell_type": "markdown",
   "metadata": {},
   "source": [
    "When do the roots of a third order polynomial have real negative parts?"
   ]
  },
  {
   "cell_type": "code",
   "execution_count": 146,
   "metadata": {
    "collapsed": false
   },
   "outputs": [
    {
     "data": {
      "text/plain": [
       "4"
      ]
     },
     "execution_count": 146,
     "metadata": {},
     "output_type": "execute_result"
    }
   ],
   "source": [
    "len(char_poly.all_coeffs())"
   ]
  },
  {
   "cell_type": "code",
   "execution_count": 34,
   "metadata": {
    "collapsed": false
   },
   "outputs": [],
   "source": [
    "a3, a2, a1, a0 = char_poly.all_coeffs()"
   ]
  },
  {
   "cell_type": "code",
   "execution_count": 35,
   "metadata": {
    "collapsed": false
   },
   "outputs": [
    {
     "data": {
      "text/plain": [
       "{0: 1,\n",
       " (8*PiAA*PiAa*Subs(Derivative(SG(_xi_1), _xi_1), (_xi_1,), (1,)) + 8*PiAA*PiaA*Subs(Derivative(SG(_xi_1), _xi_1), (_xi_1,), (1,)) - 5*PiAA - 4*PiAa*Subs(Derivative(SG(_xi_1), _xi_1), (_xi_1,), (1,)) - PiaA*Subs(Derivative(SG(_xi_1), _xi_1), (_xi_1,), (1,)))/(8*PiAA) + sqrt(PiAA**2*(8*PiAA*PiAa*Subs(Derivative(SG(_xi_1), _xi_1), (_xi_1,), (1,)) + 8*PiAA*PiaA*Subs(Derivative(SG(_xi_1), _xi_1), (_xi_1,), (1,)) + PiAA - 4*PiAa*Subs(Derivative(SG(_xi_1), _xi_1), (_xi_1,), (1,)) - 3*PiaA*Subs(Derivative(SG(_xi_1), _xi_1), (_xi_1,), (1,)))**2)/(8*PiAA**2): 1,\n",
       " (8*PiAA*PiAa*Subs(Derivative(SG(_xi_1), _xi_1), (_xi_1,), (1,)) + 8*PiAA*PiaA*Subs(Derivative(SG(_xi_1), _xi_1), (_xi_1,), (1,)) - 5*PiAA - 4*PiAa*Subs(Derivative(SG(_xi_1), _xi_1), (_xi_1,), (1,)) - PiaA*Subs(Derivative(SG(_xi_1), _xi_1), (_xi_1,), (1,)))/(8*PiAA) - sqrt(PiAA**2*(8*PiAA*PiAa*Subs(Derivative(SG(_xi_1), _xi_1), (_xi_1,), (1,)) + 8*PiAA*PiaA*Subs(Derivative(SG(_xi_1), _xi_1), (_xi_1,), (1,)) + PiAA - 4*PiAa*Subs(Derivative(SG(_xi_1), _xi_1), (_xi_1,), (1,)) - 3*PiaA*Subs(Derivative(SG(_xi_1), _xi_1), (_xi_1,), (1,)))**2)/(8*PiAA**2): 1}"
      ]
     },
     "execution_count": 35,
     "metadata": {},
     "output_type": "execute_result"
    }
   ],
   "source": [
    "evaluated_jac.eigenvals()"
   ]
  },
  {
   "cell_type": "code",
   "execution_count": 180,
   "metadata": {
    "collapsed": false
   },
   "outputs": [],
   "source": [
    "eigen_vals = list(evaluated_jac.eigenvals())"
   ]
  },
  {
   "cell_type": "code",
   "execution_count": 183,
   "metadata": {
    "collapsed": false
   },
   "outputs": [
    {
     "data": {
      "text/plain": [
       "(8*PiAA*PiAa*Subs(Derivative(SG(_xi_1), _xi_1), (_xi_1,), (1,)) + 8*PiAA*PiaA*Subs(Derivative(SG(_xi_1), _xi_1), (_xi_1,), (1,)) - 5*PiAA - 4*PiAa*Subs(Derivative(SG(_xi_1), _xi_1), (_xi_1,), (1,)) - PiaA*Subs(Derivative(SG(_xi_1), _xi_1), (_xi_1,), (1,)))/(8*PiAA) - sqrt(PiAA**2*(8*PiAA*PiAa*Subs(Derivative(SG(_xi_1), _xi_1), (_xi_1,), (1,)) + 8*PiAA*PiaA*Subs(Derivative(SG(_xi_1), _xi_1), (_xi_1,), (1,)) + PiAA - 4*PiAa*Subs(Derivative(SG(_xi_1), _xi_1), (_xi_1,), (1,)) - 3*PiaA*Subs(Derivative(SG(_xi_1), _xi_1), (_xi_1,), (1,)))**2)/(8*PiAA**2)"
      ]
     },
     "execution_count": 183,
     "metadata": {},
     "output_type": "execute_result"
    }
   ],
   "source": [
    "eigen_vals[1]"
   ]
  },
  {
   "cell_type": "markdown",
   "metadata": {},
   "source": [
    "\\begin{align}\n",
    "    \\frac{(8\\Pi_{AA}\\Pi_{Aa}S_G'(1) + 8\\Pi_{AA}\\Pi_{aA}S_G'(1) - 5\\Pi_{AA} - 4\\Pi_{Aa}S_G'(1) - \\Pi_{aA}S_G'(1))}{(8\\Pi_{AA})} - \\frac{\\sqrt{\\Pi_{AA}^2(8\\Pi_{AA}\\Pi_{Aa}S_G'(1) + 8\\Pi_{AA}\\Pi_{aA}S_G'(1) + \\Pi_{AA} - 4\\Pi_{Aa}S_G'(1) - 3\\Pi_{aA}S_G'(1))^2}}{8\\Pi_{AA}^2} < 0 \\\\\n",
    "    \\frac{(8\\Pi_{AA}\\Pi_{Aa}S_G'(1) + 8\\Pi_{AA}\\Pi_{aA}S_G'(1) - 5\\Pi_{AA} - 4\\Pi_{Aa}S_G'(1) - \\Pi_{aA}S_G'(1))}{(8\\Pi_{AA})} - \\frac{\\Pi_{AA}(8\\Pi_{AA}\\Pi_{Aa}S_G'(1) + 8\\Pi_{AA}\\Pi_{aA}S_G'(1) + \\Pi_{AA} - 4\\Pi_{Aa}S_G'(1) - 3\\Pi_{aA}S_G'(1))}{8\\Pi_{AA}^2} < 0 \\\\\n",
    "    \\frac{8\\Pi_{AA}\\Pi_{Aa}S_G'(1) + 8\\Pi_{AA}\\Pi_{aA}S_G'(1) - 5\\Pi_{AA} - 4\\Pi_{Aa}S_G'(1) - \\Pi_{aA}S_G'(1)}{8\\Pi_{AA}} - \\frac{8\\Pi_{AA}\\Pi_{Aa}S_G'(1) + 8\\Pi_{AA}\\Pi_{aA}S_G'(1) + \\Pi_{AA} - 4\\Pi_{Aa}S_G'(1) - 3\\Pi_{aA}S_G'(1)}{8\\Pi_{AA}} < 0 \\\\\n",
    "    8\\Pi_{AA}\\Pi_{Aa}S_G'(1) + 8\\Pi_{AA}\\Pi_{aA}S_G'(1) - 5\\Pi_{AA} - 4\\Pi_{Aa}S_G'(1) - \\Pi_{aA}S_G'(1) - \\bigg[8\\Pi_{AA}\\Pi_{Aa}S_G'(1) + 8\\Pi_{AA}\\Pi_{aA}S_G'(1) + \\Pi_{AA} - 4\\Pi_{Aa}S_G'(1) - 3\\Pi_{aA}S_G'(1)\\bigg] < 0 \\\\\n",
    "    8\\Pi_{AA}\\Pi_{Aa}S_G'(1) + 8\\Pi_{AA}\\Pi_{aA}S_G'(1) - 5\\Pi_{AA} - 4\\Pi_{Aa}S_G'(1) - \\Pi_{aA}S_G'(1) - 8\\Pi_{AA}\\Pi_{Aa}S_G'(1) - 8\\Pi_{AA}\\Pi_{aA}S_G'(1) - \\Pi_{AA} + 4\\Pi_{Aa}S_G'(1) + 3\\Pi_{aA}S_G'(1) < 0 \\\\\n",
    "    - 3\\Pi_{AA} + \\Pi_{aA}S_G'(1) < 0 \\\\\n",
    "    S_G'(1) < \\frac{3\\Pi_{AA}}{\\Pi_{aA}}\n",
    "\\end{align}"
   ]
  },
  {
   "cell_type": "markdown",
   "metadata": {},
   "source": [
    "\\begin{align}\n",
    "    8\\Pi_{AA}\\Pi_{Aa}S_G'(1) + 8\\Pi_{AA}\\Pi_{aA}S_G'(1) - 5\\Pi_{AA} - 4\\Pi_{Aa}S_G'(1) - \\Pi_{aA}S_G'(1) + 8\\Pi_{AA}\\Pi_{Aa}S_G'(1) + 8\\Pi_{AA}\\Pi_{aA}S_G'(1) + \\Pi_{AA} - 4\\Pi_{Aa}S_G'(1) - 3\\Pi_{aA}S_G'(1) < 0 \\\\\n",
    "    16\\Pi_{AA}\\Pi_{Aa}S_G'(1) + 16\\Pi_{AA}\\Pi_{aA}S_G'(1) - 4\\Pi_{AA} - 8\\Pi_{Aa}S_G'(1) - 4\\Pi_{aA}S_G'(1) < 0 \\\\\n",
    "    4\\Pi_{AA}\\Pi_{Aa}S_G'(1) + 4\\Pi_{AA}\\Pi_{aA}S_G'(1) - \\Pi_{AA} - 2\\Pi_{Aa}S_G'(1) - \\Pi_{aA}S_G'(1) < 0 \\\\\n",
    "    \\bigg[4\\Pi_{AA}(\\Pi_{Aa} + \\Pi_{aA}) - (2\\Pi_{Aa} + \\Pi_{aA})\\bigg]S_G'(1) < \\Pi_{AA} \\\\\n",
    "    S_G'(1) < \\frac{\\Pi_{AA}}{4\\Pi_{AA}(\\Pi_{Aa} + \\Pi_{aA}) - (2\\Pi_{Aa} + \\Pi_{aA})} \\\\\n",
    "\\end{align}"
   ]
  },
  {
   "cell_type": "markdown",
   "metadata": {},
   "source": [
    "1. Check stability of gA and Ga equilibria...\n",
    "2. Characterization of pure $\\gamma$ and mixed $\\alpha$"
   ]
  },
  {
   "cell_type": "code",
   "execution_count": 36,
   "metadata": {
    "collapsed": false
   },
   "outputs": [
    {
     "data": {
      "text/plain": [
       "nan"
      ]
     },
     "execution_count": 36,
     "metadata": {},
     "output_type": "execute_result"
    }
   ],
   "source": [
    "evaluated_jac = sym.zeros(3, 3)\n",
    "rhs_jac.subs({x0: 0, x1: 0, x2: 0})[0, 0]"
   ]
  },
  {
   "cell_type": "code",
   "execution_count": 58,
   "metadata": {
    "collapsed": false
   },
   "outputs": [],
   "source": [
    "simplifed_rhs = rhs.subs({x1: 1 - x0, x2: 0})"
   ]
  },
  {
   "cell_type": "code",
   "execution_count": 59,
   "metadata": {
    "collapsed": false
   },
   "outputs": [
    {
     "data": {
      "text/plain": [
       "Matrix([\n",
       "[                        -x0 + (2*PiAA*x0*SG(x0)**2 + PiAA*(-x0 + 1)*SG(x0)**2 + 2*PiAa*x0*(-SG(x0) + 1)*SG(x0) + PiAa*(-x0 + 1)*(-SG(x0) + 1)*SG(x0) + PiaA*x0*(-SG(x0) + 1)*SG(x0) + Piaa*x0*(-SG(x0) + 1)**2)/(2*PiAA*(2*Piaa*(-SG(x0) + 1)**2 + (2*PiAa + 2*PiaA)*(-SG(x0) + 1)*SG(x0) + SG(x0)**2))],\n",
       "[x0 - 1 + (PiAA*(-x0 + 1)*SG(x0)**2 + PiAa*(-x0 + 1)*(-SG(x0) + 1)*SG(x0) + PiaA*x0*(-SG(x0) + 1)*SG(x0) + PiaA*(-2*x0 + 2)*(-SG(x0) + 1)*SG(x0) + Piaa*x0*(-SG(x0) + 1)**2 + Piaa*(-2*x0 + 2)*(-SG(x0) + 1)**2)/(2*PiAA*(2*Piaa*(-SG(x0) + 1)**2 + (2*PiAa + 2*PiaA)*(-SG(x0) + 1)*SG(x0) + SG(x0)**2))],\n",
       "[                                                                                                                                                                                                                                                                                                      0]])"
      ]
     },
     "execution_count": 59,
     "metadata": {},
     "output_type": "execute_result"
    }
   ],
   "source": [
    "simplifed_rhs"
   ]
  },
  {
   "cell_type": "markdown",
   "metadata": {},
   "source": [
    "We think that the above should simplify to zero when summed..."
   ]
  },
  {
   "cell_type": "code",
   "execution_count": null,
   "metadata": {
    "collapsed": true
   },
   "outputs": [],
   "source": []
  },
  {
   "cell_type": "code",
   "execution_count": 51,
   "metadata": {
    "collapsed": false
   },
   "outputs": [
    {
     "data": {
      "text/plain": [
       "(PiAA*x0*SG(x0)**2 - PiAA*(x0 - 1)*SG(x0)**2 - PiAA*(2*Piaa*(SG(x0) - 1)**2 - 2*(PiAa + PiaA)*(SG(x0) - 1)*SG(x0) + SG(x0)**2) - PiAa*x0*(SG(x0) - 1)*SG(x0) + PiAa*(x0 - 1)*(SG(x0) - 1)*SG(x0) - PiaA*x0*(SG(x0) - 1)*SG(x0) + PiaA*(x0 - 1)*(SG(x0) - 1)*SG(x0) + Piaa*x0*(SG(x0) - 1)**2 - Piaa*(x0 - 1)*(SG(x0) - 1)**2)/(PiAA*(2*Piaa*(SG(x0) - 1)**2 - 2*(PiAa + PiaA)*(SG(x0) - 1)*SG(x0) + SG(x0)**2))"
      ]
     },
     "execution_count": 51,
     "metadata": {},
     "output_type": "execute_result"
    }
   ],
   "source": [
    "(simplifed_rhs[0] + simplifed_rhs[1]).simplify()"
   ]
  },
  {
   "cell_type": "code",
   "execution_count": 42,
   "metadata": {
    "collapsed": false
   },
   "outputs": [
    {
     "data": {
      "text/plain": [
       "Matrix([\n",
       "[                                                                                             -1 + (4*PiAA*x0*SG(x0)*Subs(Derivative(SG(_xi_1), _xi_1), (_xi_1,), (x0,)) + 2*PiAA*(-x0 + 1)*SG(x0)*Subs(Derivative(SG(_xi_1), _xi_1), (_xi_1,), (x0,)) + 2*PiAA*SG(x0)**2 - PiAA*Sg(x0)**2/2 + 2*PiAa*x0*(-SG(x0) + 1)*Subs(Derivative(SG(_xi_1), _xi_1), (_xi_1,), (x0,)) - 2*PiAa*x0*SG(x0)*Subs(Derivative(SG(_xi_1), _xi_1), (_xi_1,), (x0,)) + PiAa*(-x0 + 1)*(-SG(x0) + 1)*Subs(Derivative(SG(_xi_1), _xi_1), (_xi_1,), (x0,)) - PiAa*(-x0 + 1)*SG(x0)*Subs(Derivative(SG(_xi_1), _xi_1), (_xi_1,), (x0,)) + 2*PiAa*(-SG(x0) + 1)*SG(x0) - PiAa*(-Sg(x0) + 1)*Sg(x0)/2 + PiaA*x0*(-SG(x0) + 1)*Subs(Derivative(SG(_xi_1), _xi_1), (_xi_1,), (x0,)) - PiaA*x0*SG(x0)*Subs(Derivative(SG(_xi_1), _xi_1), (_xi_1,), (x0,)) + PiaA*x0*(-SG(x0) + 1)*SG(x0)/(-2*x0 + 2) + PiaA*(-SG(x0) + 1)*SG(x0) - 2*Piaa*x0*(-SG(x0) + 1)*Subs(Derivative(SG(_xi_1), _xi_1), (_xi_1,), (x0,)) + Piaa*x0*(-SG(x0) + 1)**2/(-2*x0 + 2) + Piaa*(-SG(x0) + 1)**2)/(2*PiAA*(2*Piaa*(-SG(x0) + 1)**2 + (2*PiAa + 2*PiaA)*(-SG(x0) + 1)*SG(x0) + SG(x0)**2)) + (-2*Piaa*((-SG(x0) + 1)**2 - 2*(-SG(x0) + 1)*Subs(Derivative(SG(_xi_1), _xi_1), (_xi_1,), (x0,)) - (-Sg(x0) + 1)**2) - (2*PiAa + 2*PiaA)*((-SG(x0) + 1)*SG(x0) + (-SG(x0) + 1)*Subs(Derivative(SG(_xi_1), _xi_1), (_xi_1,), (x0,)) - (-Sg(x0) + 1)*Sg(x0) - SG(x0)*Subs(Derivative(SG(_xi_1), _xi_1), (_xi_1,), (x0,))) - SG(x0)**2 - 2*SG(x0)*Subs(Derivative(SG(_xi_1), _xi_1), (_xi_1,), (x0,)) + Sg(x0)**2)*(2*PiAA*x0*SG(x0)**2 + PiAA*(-x0 + 1)*SG(x0)**2 + 2*PiAa*x0*(-SG(x0) + 1)*SG(x0) + PiAa*(-x0 + 1)*(-SG(x0) + 1)*SG(x0) + PiaA*x0*(-SG(x0) + 1)*SG(x0) + Piaa*x0*(-SG(x0) + 1)**2)/(2*PiAA*(2*Piaa*(-SG(x0) + 1)**2 + (2*PiAa + 2*PiaA)*(-SG(x0) + 1)*SG(x0) + SG(x0)**2)**2),                                                                                                                                                                                                                                   (PiAA*SG(x0)**2 - PiAA*Sg(x0)**2/2 + PiAa*(-SG(x0) + 1)*SG(x0) - PiAa*(-Sg(x0) + 1)*Sg(x0)/2 + PiaA*x0*(-SG(x0) + 1)*SG(x0)/(-2*x0 + 2) + Piaa*x0*(-SG(x0) + 1)**2/(-2*x0 + 2))/(2*PiAA*(2*Piaa*(-SG(x0) + 1)**2 + (2*PiAa + 2*PiaA)*(-SG(x0) + 1)*SG(x0) + SG(x0)**2)) + (-2*Piaa*((-SG(x0) + 1)**2 - (-Sg(x0) + 1)**2) - (2*PiAa + 2*PiaA)*((-SG(x0) + 1)*SG(x0) - (-Sg(x0) + 1)*Sg(x0)) - SG(x0)**2 + Sg(x0)**2)*(2*PiAA*x0*SG(x0)**2 + PiAA*(-x0 + 1)*SG(x0)**2 + 2*PiAa*x0*(-SG(x0) + 1)*SG(x0) + PiAa*(-x0 + 1)*(-SG(x0) + 1)*SG(x0) + PiaA*x0*(-SG(x0) + 1)*SG(x0) + Piaa*x0*(-SG(x0) + 1)**2)/(2*PiAA*(2*Piaa*(-SG(x0) + 1)**2 + (2*PiAa + 2*PiaA)*(-SG(x0) + 1)*SG(x0) + SG(x0)**2)**2),                                                                                                                                                                                                               (4*PiAA*x0*SG(x0)*Subs(Derivative(SG(_xi_1), _xi_1), (_xi_1,), (x0,)) + 2*PiAA*(-x0 + 1)*SG(x0)*Subs(Derivative(SG(_xi_1), _xi_1), (_xi_1,), (x0,)) - PiAA*SG(x0)**2 + PiAA*Sg(x0)**2/2 - PiAA*(-x0 + 1)*SG(x0)**2/(2*x0) + 2*PiAa*x0*(-SG(x0) + 1)*Subs(Derivative(SG(_xi_1), _xi_1), (_xi_1,), (x0,)) - 2*PiAa*x0*SG(x0)*Subs(Derivative(SG(_xi_1), _xi_1), (_xi_1,), (x0,)) + PiAa*(-x0 + 1)*(-SG(x0) + 1)*Subs(Derivative(SG(_xi_1), _xi_1), (_xi_1,), (x0,)) - PiAa*(-x0 + 1)*SG(x0)*Subs(Derivative(SG(_xi_1), _xi_1), (_xi_1,), (x0,)) - PiAa*(-SG(x0) + 1)*SG(x0) + PiAa*(-Sg(x0) + 1)*Sg(x0)/2 - PiAa*(-x0 + 1)*(-SG(x0) + 1)*SG(x0)/(2*x0) + PiaA*x0*(-SG(x0) + 1)*Subs(Derivative(SG(_xi_1), _xi_1), (_xi_1,), (x0,)) - PiaA*x0*SG(x0)*Subs(Derivative(SG(_xi_1), _xi_1), (_xi_1,), (x0,)) + PiaA*x0*(-SG(x0) + 1)*SG(x0)/(-2*x0 + 2) + PiaA*(-x0 + 1)*(-Sg(x0) + 1)*Sg(x0)/(-2*x0 + 2) - 2*Piaa*x0*(-SG(x0) + 1)*Subs(Derivative(SG(_xi_1), _xi_1), (_xi_1,), (x0,)) + Piaa*x0*(-SG(x0) + 1)**2/(-2*x0 + 2) + Piaa*(-x0 + 1)*(-Sg(x0) + 1)**2/(-2*x0 + 2))/(2*PiAA*(2*Piaa*(-SG(x0) + 1)**2 + (2*PiAa + 2*PiaA)*(-SG(x0) + 1)*SG(x0) + SG(x0)**2)) + (4*Piaa*(-SG(x0) + 1)*Subs(Derivative(SG(_xi_1), _xi_1), (_xi_1,), (x0,)) - (2*PiAa + 2*PiaA)*((-SG(x0) + 1)*Subs(Derivative(SG(_xi_1), _xi_1), (_xi_1,), (x0,)) - SG(x0)*Subs(Derivative(SG(_xi_1), _xi_1), (_xi_1,), (x0,))) - 2*SG(x0)*Subs(Derivative(SG(_xi_1), _xi_1), (_xi_1,), (x0,)))*(2*PiAA*x0*SG(x0)**2 + PiAA*(-x0 + 1)*SG(x0)**2 + 2*PiAa*x0*(-SG(x0) + 1)*SG(x0) + PiAa*(-x0 + 1)*(-SG(x0) + 1)*SG(x0) + PiaA*x0*(-SG(x0) + 1)*SG(x0) + Piaa*x0*(-SG(x0) + 1)**2)/(2*PiAA*(2*Piaa*(-SG(x0) + 1)**2 + (2*PiAa + 2*PiaA)*(-SG(x0) + 1)*SG(x0) + SG(x0)**2)**2)],\n",
       "[(2*PiAA*(-x0 + 1)*SG(x0)*Subs(Derivative(SG(_xi_1), _xi_1), (_xi_1,), (x0,)) - PiAA*Sg(x0)**2/2 + PiAa*(-x0 + 1)*(-SG(x0) + 1)*Subs(Derivative(SG(_xi_1), _xi_1), (_xi_1,), (x0,)) - PiAa*(-x0 + 1)*SG(x0)*Subs(Derivative(SG(_xi_1), _xi_1), (_xi_1,), (x0,)) - PiAa*(-Sg(x0) + 1)*Sg(x0)/2 + PiaA*x0*(-SG(x0) + 1)*Subs(Derivative(SG(_xi_1), _xi_1), (_xi_1,), (x0,)) - PiaA*x0*SG(x0)*Subs(Derivative(SG(_xi_1), _xi_1), (_xi_1,), (x0,)) + PiaA*x0*(-SG(x0) + 1)*SG(x0)/(-2*x0 + 2) + PiaA*(-2*x0 + 2)*(-SG(x0) + 1)*Subs(Derivative(SG(_xi_1), _xi_1), (_xi_1,), (x0,)) - PiaA*(-2*x0 + 2)*SG(x0)*Subs(Derivative(SG(_xi_1), _xi_1), (_xi_1,), (x0,)) + PiaA*(-2*x0 + 2)*(-SG(x0) + 1)*SG(x0)/(-x0 + 1) - PiaA*(-Sg(x0) + 1)*Sg(x0) - 2*Piaa*x0*(-SG(x0) + 1)*Subs(Derivative(SG(_xi_1), _xi_1), (_xi_1,), (x0,)) + Piaa*x0*(-SG(x0) + 1)**2/(-2*x0 + 2) - 2*Piaa*(-2*x0 + 2)*(-SG(x0) + 1)*Subs(Derivative(SG(_xi_1), _xi_1), (_xi_1,), (x0,)) + Piaa*(-2*x0 + 2)*(-SG(x0) + 1)**2/(-x0 + 1) - Piaa*(-Sg(x0) + 1)**2)/(2*PiAA*(2*Piaa*(-SG(x0) + 1)**2 + (2*PiAa + 2*PiaA)*(-SG(x0) + 1)*SG(x0) + SG(x0)**2)) + (-2*Piaa*((-SG(x0) + 1)**2 - 2*(-SG(x0) + 1)*Subs(Derivative(SG(_xi_1), _xi_1), (_xi_1,), (x0,)) - (-Sg(x0) + 1)**2) - (2*PiAa + 2*PiaA)*((-SG(x0) + 1)*SG(x0) + (-SG(x0) + 1)*Subs(Derivative(SG(_xi_1), _xi_1), (_xi_1,), (x0,)) - (-Sg(x0) + 1)*Sg(x0) - SG(x0)*Subs(Derivative(SG(_xi_1), _xi_1), (_xi_1,), (x0,))) - SG(x0)**2 - 2*SG(x0)*Subs(Derivative(SG(_xi_1), _xi_1), (_xi_1,), (x0,)) + Sg(x0)**2)*(PiAA*(-x0 + 1)*SG(x0)**2 + PiAa*(-x0 + 1)*(-SG(x0) + 1)*SG(x0) + PiaA*x0*(-SG(x0) + 1)*SG(x0) + PiaA*(-2*x0 + 2)*(-SG(x0) + 1)*SG(x0) + Piaa*x0*(-SG(x0) + 1)**2 + Piaa*(-2*x0 + 2)*(-SG(x0) + 1)**2)/(2*PiAA*(2*Piaa*(-SG(x0) + 1)**2 + (2*PiAa + 2*PiaA)*(-SG(x0) + 1)*SG(x0) + SG(x0)**2)**2), -1 + (PiAA*SG(x0)**2 - PiAA*Sg(x0)**2/2 + PiAa*(-SG(x0) + 1)*SG(x0) - PiAa*(-Sg(x0) + 1)*Sg(x0)/2 + PiaA*x0*(-SG(x0) + 1)*SG(x0)/(-2*x0 + 2) + PiaA*(-2*x0 + 2)*(-SG(x0) + 1)*SG(x0)/(-x0 + 1) + PiaA*(-SG(x0) + 1)*SG(x0) - PiaA*(-Sg(x0) + 1)*Sg(x0) + Piaa*x0*(-SG(x0) + 1)**2/(-2*x0 + 2) + Piaa*(-2*x0 + 2)*(-SG(x0) + 1)**2/(-x0 + 1) + Piaa*(-SG(x0) + 1)**2 - Piaa*(-Sg(x0) + 1)**2)/(2*PiAA*(2*Piaa*(-SG(x0) + 1)**2 + (2*PiAa + 2*PiaA)*(-SG(x0) + 1)*SG(x0) + SG(x0)**2)) + (-2*Piaa*((-SG(x0) + 1)**2 - (-Sg(x0) + 1)**2) - (2*PiAa + 2*PiaA)*((-SG(x0) + 1)*SG(x0) - (-Sg(x0) + 1)*Sg(x0)) - SG(x0)**2 + Sg(x0)**2)*(PiAA*(-x0 + 1)*SG(x0)**2 + PiAa*(-x0 + 1)*(-SG(x0) + 1)*SG(x0) + PiaA*x0*(-SG(x0) + 1)*SG(x0) + PiaA*(-2*x0 + 2)*(-SG(x0) + 1)*SG(x0) + Piaa*x0*(-SG(x0) + 1)**2 + Piaa*(-2*x0 + 2)*(-SG(x0) + 1)**2)/(2*PiAA*(2*Piaa*(-SG(x0) + 1)**2 + (2*PiAa + 2*PiaA)*(-SG(x0) + 1)*SG(x0) + SG(x0)**2)**2), (2*PiAA*(-x0 + 1)*SG(x0)*Subs(Derivative(SG(_xi_1), _xi_1), (_xi_1,), (x0,)) - PiAA*Sg(x0)**2/2 - PiAA*(-x0 + 1)*SG(x0)**2/(2*x0) + PiAa*(-x0 + 1)*(-SG(x0) + 1)*Subs(Derivative(SG(_xi_1), _xi_1), (_xi_1,), (x0,)) - PiAa*(-x0 + 1)*SG(x0)*Subs(Derivative(SG(_xi_1), _xi_1), (_xi_1,), (x0,)) - PiAa*(-Sg(x0) + 1)*Sg(x0)/2 - PiAa*(-x0 + 1)*(-SG(x0) + 1)*SG(x0)/(2*x0) + PiaA*x0*(-SG(x0) + 1)*Subs(Derivative(SG(_xi_1), _xi_1), (_xi_1,), (x0,)) - PiaA*x0*SG(x0)*Subs(Derivative(SG(_xi_1), _xi_1), (_xi_1,), (x0,)) + PiaA*x0*(-SG(x0) + 1)*SG(x0)/(-2*x0 + 2) + PiaA*(-2*x0 + 2)*(-SG(x0) + 1)*Subs(Derivative(SG(_xi_1), _xi_1), (_xi_1,), (x0,)) - PiaA*(-2*x0 + 2)*SG(x0)*Subs(Derivative(SG(_xi_1), _xi_1), (_xi_1,), (x0,)) + PiaA*(-2*x0 + 2)*(-SG(x0) + 1)*SG(x0)/(-x0 + 1) - PiaA*(-SG(x0) + 1)*SG(x0) - PiaA*(-Sg(x0) + 1)*Sg(x0) + PiaA*(-x0 + 1)*(-Sg(x0) + 1)*Sg(x0)/(-2*x0 + 2) - 2*Piaa*x0*(-SG(x0) + 1)*Subs(Derivative(SG(_xi_1), _xi_1), (_xi_1,), (x0,)) + Piaa*x0*(-SG(x0) + 1)**2/(-2*x0 + 2) - 2*Piaa*(-2*x0 + 2)*(-SG(x0) + 1)*Subs(Derivative(SG(_xi_1), _xi_1), (_xi_1,), (x0,)) + Piaa*(-2*x0 + 2)*(-SG(x0) + 1)**2/(-x0 + 1) - Piaa*(-SG(x0) + 1)**2 - Piaa*(-Sg(x0) + 1)**2 + Piaa*(-x0 + 1)*(-Sg(x0) + 1)**2/(-2*x0 + 2))/(2*PiAA*(2*Piaa*(-SG(x0) + 1)**2 + (2*PiAa + 2*PiaA)*(-SG(x0) + 1)*SG(x0) + SG(x0)**2)) + (4*Piaa*(-SG(x0) + 1)*Subs(Derivative(SG(_xi_1), _xi_1), (_xi_1,), (x0,)) - (2*PiAa + 2*PiaA)*((-SG(x0) + 1)*Subs(Derivative(SG(_xi_1), _xi_1), (_xi_1,), (x0,)) - SG(x0)*Subs(Derivative(SG(_xi_1), _xi_1), (_xi_1,), (x0,))) - 2*SG(x0)*Subs(Derivative(SG(_xi_1), _xi_1), (_xi_1,), (x0,)))*(PiAA*(-x0 + 1)*SG(x0)**2 + PiAa*(-x0 + 1)*(-SG(x0) + 1)*SG(x0) + PiaA*x0*(-SG(x0) + 1)*SG(x0) + PiaA*(-2*x0 + 2)*(-SG(x0) + 1)*SG(x0) + Piaa*x0*(-SG(x0) + 1)**2 + Piaa*(-2*x0 + 2)*(-SG(x0) + 1)**2)/(2*PiAA*(2*Piaa*(-SG(x0) + 1)**2 + (2*PiAa + 2*PiaA)*(-SG(x0) + 1)*SG(x0) + SG(x0)**2)**2)],\n",
       "[                                                                                                                                                                                                                                                                                                                                                                                                                                                                                                                                                                                                                                                                                                                                                                                                                                                                                                                                                                                                                                                                                                                                                                                                                                                                                                                                                                                                                                                                                                                                                                                                             (-PiAA*Sg(x0)**2/2 - PiAa*(-Sg(x0) + 1)*Sg(x0)/2 - PiaA*x0*(-SG(x0) + 1)*SG(x0)/(-2*x0 + 2) - Piaa*x0*(-SG(x0) + 1)**2/(-2*x0 + 2))/(2*PiAA*(2*Piaa*(-SG(x0) + 1)**2 + (2*PiAa + 2*PiaA)*(-SG(x0) + 1)*SG(x0) + SG(x0)**2)),                                                                                                                                                                                                                                                                                                                                                                                                                                                                                                                                                                                                                                                                                                        (-PiAA*Sg(x0)**2/2 - PiAa*(-Sg(x0) + 1)*Sg(x0)/2 - PiaA*x0*(-SG(x0) + 1)*SG(x0)/(-2*x0 + 2) - Piaa*x0*(-SG(x0) + 1)**2/(-2*x0 + 2))/(2*PiAA*(2*Piaa*(-SG(x0) + 1)**2 + (2*PiAa + 2*PiaA)*(-SG(x0) + 1)*SG(x0) + SG(x0)**2)),                                                                                                                                                                                                                                                                                                                                                                                                                                                                                                                                                                                                                                                                                                                                                                                                                                                                                                                                                                                                                                                                                                                                                                                                                                                                                                                                                                                                                                                                                                -1 + (PiAA*SG(x0)**2 + PiAA*Sg(x0)**2/2 + PiAA*(-x0 + 1)*SG(x0)**2/(2*x0) + PiAa*(-SG(x0) + 1)*SG(x0) + PiAa*(-Sg(x0) + 1)*Sg(x0)/2 + PiAa*(-x0 + 1)*(-SG(x0) + 1)*SG(x0)/(2*x0) - PiaA*x0*(-SG(x0) + 1)*SG(x0)/(-2*x0 + 2) + PiaA*(-x0 + 1)*(-Sg(x0) + 1)*Sg(x0)/(-2*x0 + 2) - Piaa*x0*(-SG(x0) + 1)**2/(-2*x0 + 2) + Piaa*(-x0 + 1)*(-Sg(x0) + 1)**2/(-2*x0 + 2))/(2*PiAA*(2*Piaa*(-SG(x0) + 1)**2 + (2*PiAa + 2*PiaA)*(-SG(x0) + 1)*SG(x0) + SG(x0)**2))]])"
      ]
     },
     "execution_count": 42,
     "metadata": {},
     "output_type": "execute_result"
    }
   ],
   "source": [
    "rhs_jac.subs({x1: 1 - x0, x2: 0})"
   ]
  },
  {
   "cell_type": "code",
   "execution_count": 43,
   "metadata": {
    "collapsed": true
   },
   "outputs": [],
   "source": [
    "simplified_jac = rhs_jac.subs({x1: 1 - x0, x2: 0})"
   ]
  },
  {
   "cell_type": "code",
   "execution_count": 44,
   "metadata": {
    "collapsed": false
   },
   "outputs": [
    {
     "ename": "KeyboardInterrupt",
     "evalue": "",
     "output_type": "error",
     "traceback": [
      "\u001b[0;31m---------------------------------------------------------------------------\u001b[0m",
      "\u001b[0;31mKeyboardInterrupt\u001b[0m                         Traceback (most recent call last)",
      "\u001b[0;32m<ipython-input-44-47ca8e701034>\u001b[0m in \u001b[0;36m<module>\u001b[0;34m()\u001b[0m\n\u001b[0;32m----> 1\u001b[0;31m \u001b[0msimplified_jac\u001b[0m\u001b[0;34m.\u001b[0m\u001b[0meigenvals\u001b[0m\u001b[0;34m(\u001b[0m\u001b[0;34m)\u001b[0m\u001b[0;34m\u001b[0m\u001b[0m\n\u001b[0m",
      "\u001b[0;32m/Users/drpugh/anaconda/lib/python3.4/site-packages/sympy/matrices/matrices.py\u001b[0m in \u001b[0;36meigenvals\u001b[0;34m(self, **flags)\u001b[0m\n\u001b[1;32m   2951\u001b[0m \u001b[0;34m\u001b[0m\u001b[0m\n\u001b[1;32m   2952\u001b[0m         \u001b[0mflags\u001b[0m\u001b[0;34m.\u001b[0m\u001b[0mpop\u001b[0m\u001b[0;34m(\u001b[0m\u001b[0;34m'simplify'\u001b[0m\u001b[0;34m,\u001b[0m \u001b[0;32mNone\u001b[0m\u001b[0;34m)\u001b[0m  \u001b[0;31m# pop unsupported flag\u001b[0m\u001b[0;34m\u001b[0m\u001b[0m\n\u001b[0;32m-> 2953\u001b[0;31m         \u001b[0;32mreturn\u001b[0m \u001b[0mself\u001b[0m\u001b[0;34m.\u001b[0m\u001b[0mberkowitz_eigenvals\u001b[0m\u001b[0;34m(\u001b[0m\u001b[0;34m**\u001b[0m\u001b[0mflags\u001b[0m\u001b[0;34m)\u001b[0m\u001b[0;34m\u001b[0m\u001b[0m\n\u001b[0m\u001b[1;32m   2954\u001b[0m \u001b[0;34m\u001b[0m\u001b[0m\n\u001b[1;32m   2955\u001b[0m     \u001b[0;32mdef\u001b[0m \u001b[0meigenvects\u001b[0m\u001b[0;34m(\u001b[0m\u001b[0mself\u001b[0m\u001b[0;34m,\u001b[0m \u001b[0;34m**\u001b[0m\u001b[0mflags\u001b[0m\u001b[0;34m)\u001b[0m\u001b[0;34m:\u001b[0m\u001b[0;34m\u001b[0m\u001b[0m\n",
      "\u001b[0;32m/Users/drpugh/anaconda/lib/python3.4/site-packages/sympy/matrices/matrices.py\u001b[0m in \u001b[0;36mberkowitz_eigenvals\u001b[0;34m(self, **flags)\u001b[0m\n\u001b[1;32m   2933\u001b[0m         \u001b[0mberkowitz\u001b[0m\u001b[0;34m\u001b[0m\u001b[0m\n\u001b[1;32m   2934\u001b[0m         \"\"\"\n\u001b[0;32m-> 2935\u001b[0;31m         \u001b[0;32mreturn\u001b[0m \u001b[0mroots\u001b[0m\u001b[0;34m(\u001b[0m\u001b[0mself\u001b[0m\u001b[0;34m.\u001b[0m\u001b[0mberkowitz_charpoly\u001b[0m\u001b[0;34m(\u001b[0m\u001b[0mDummy\u001b[0m\u001b[0;34m(\u001b[0m\u001b[0;34m'x'\u001b[0m\u001b[0;34m)\u001b[0m\u001b[0;34m)\u001b[0m\u001b[0;34m,\u001b[0m \u001b[0;34m**\u001b[0m\u001b[0mflags\u001b[0m\u001b[0;34m)\u001b[0m\u001b[0;34m\u001b[0m\u001b[0m\n\u001b[0m\u001b[1;32m   2936\u001b[0m \u001b[0;34m\u001b[0m\u001b[0m\n\u001b[1;32m   2937\u001b[0m     \u001b[0;32mdef\u001b[0m \u001b[0meigenvals\u001b[0m\u001b[0;34m(\u001b[0m\u001b[0mself\u001b[0m\u001b[0;34m,\u001b[0m \u001b[0;34m**\u001b[0m\u001b[0mflags\u001b[0m\u001b[0;34m)\u001b[0m\u001b[0;34m:\u001b[0m\u001b[0;34m\u001b[0m\u001b[0m\n",
      "\u001b[0;32m/Users/drpugh/anaconda/lib/python3.4/site-packages/sympy/matrices/matrices.py\u001b[0m in \u001b[0;36mberkowitz_charpoly\u001b[0;34m(self, x, simplify)\u001b[0m\n\u001b[1;32m   2921\u001b[0m         \u001b[0mberkowitz\u001b[0m\u001b[0;34m\u001b[0m\u001b[0m\n\u001b[1;32m   2922\u001b[0m         \"\"\"\n\u001b[0;32m-> 2923\u001b[0;31m         \u001b[0;32mreturn\u001b[0m \u001b[0mPurePoly\u001b[0m\u001b[0;34m(\u001b[0m\u001b[0mlist\u001b[0m\u001b[0;34m(\u001b[0m\u001b[0mmap\u001b[0m\u001b[0;34m(\u001b[0m\u001b[0msimplify\u001b[0m\u001b[0;34m,\u001b[0m \u001b[0mself\u001b[0m\u001b[0;34m.\u001b[0m\u001b[0mberkowitz\u001b[0m\u001b[0;34m(\u001b[0m\u001b[0;34m)\u001b[0m\u001b[0;34m[\u001b[0m\u001b[0;34m-\u001b[0m\u001b[0;36m1\u001b[0m\u001b[0;34m]\u001b[0m\u001b[0;34m)\u001b[0m\u001b[0;34m)\u001b[0m\u001b[0;34m,\u001b[0m \u001b[0mx\u001b[0m\u001b[0;34m)\u001b[0m\u001b[0;34m\u001b[0m\u001b[0m\n\u001b[0m\u001b[1;32m   2924\u001b[0m \u001b[0;34m\u001b[0m\u001b[0m\n\u001b[1;32m   2925\u001b[0m     \u001b[0mcharpoly\u001b[0m \u001b[0;34m=\u001b[0m \u001b[0mberkowitz_charpoly\u001b[0m\u001b[0;34m\u001b[0m\u001b[0m\n",
      "\u001b[0;32m/Users/drpugh/anaconda/lib/python3.4/site-packages/sympy/simplify/simplify.py\u001b[0m in \u001b[0;36msimplify\u001b[0;34m(expr, ratio, measure, fu)\u001b[0m\n\u001b[1;32m   3704\u001b[0m     \u001b[0mexpr\u001b[0m \u001b[0;34m=\u001b[0m \u001b[0mbottom_up\u001b[0m\u001b[0;34m(\u001b[0m\u001b[0mexpr\u001b[0m\u001b[0;34m,\u001b[0m \u001b[0;32mlambda\u001b[0m \u001b[0mw\u001b[0m\u001b[0;34m:\u001b[0m \u001b[0mw\u001b[0m\u001b[0;34m.\u001b[0m\u001b[0mnormal\u001b[0m\u001b[0;34m(\u001b[0m\u001b[0;34m)\u001b[0m\u001b[0;34m)\u001b[0m\u001b[0;34m\u001b[0m\u001b[0m\n\u001b[1;32m   3705\u001b[0m     \u001b[0mexpr\u001b[0m \u001b[0;34m=\u001b[0m \u001b[0mMul\u001b[0m\u001b[0;34m(\u001b[0m\u001b[0;34m*\u001b[0m\u001b[0mpowsimp\u001b[0m\u001b[0;34m(\u001b[0m\u001b[0mexpr\u001b[0m\u001b[0;34m)\u001b[0m\u001b[0;34m.\u001b[0m\u001b[0mas_content_primitive\u001b[0m\u001b[0;34m(\u001b[0m\u001b[0;34m)\u001b[0m\u001b[0;34m)\u001b[0m\u001b[0;34m\u001b[0m\u001b[0m\n\u001b[0;32m-> 3706\u001b[0;31m     \u001b[0m_e\u001b[0m \u001b[0;34m=\u001b[0m \u001b[0mcancel\u001b[0m\u001b[0;34m(\u001b[0m\u001b[0mexpr\u001b[0m\u001b[0;34m)\u001b[0m\u001b[0;34m\u001b[0m\u001b[0m\n\u001b[0m\u001b[1;32m   3707\u001b[0m     \u001b[0mexpr1\u001b[0m \u001b[0;34m=\u001b[0m \u001b[0mshorter\u001b[0m\u001b[0;34m(\u001b[0m\u001b[0m_e\u001b[0m\u001b[0;34m,\u001b[0m \u001b[0m_mexpand\u001b[0m\u001b[0;34m(\u001b[0m\u001b[0m_e\u001b[0m\u001b[0;34m)\u001b[0m\u001b[0;34m.\u001b[0m\u001b[0mcancel\u001b[0m\u001b[0;34m(\u001b[0m\u001b[0;34m)\u001b[0m\u001b[0;34m)\u001b[0m  \u001b[0;31m# issue 6829\u001b[0m\u001b[0;34m\u001b[0m\u001b[0m\n\u001b[1;32m   3708\u001b[0m     \u001b[0mexpr2\u001b[0m \u001b[0;34m=\u001b[0m \u001b[0mshorter\u001b[0m\u001b[0;34m(\u001b[0m\u001b[0mtogether\u001b[0m\u001b[0;34m(\u001b[0m\u001b[0mexpr\u001b[0m\u001b[0;34m,\u001b[0m \u001b[0mdeep\u001b[0m\u001b[0;34m=\u001b[0m\u001b[0;32mTrue\u001b[0m\u001b[0;34m)\u001b[0m\u001b[0;34m,\u001b[0m \u001b[0mtogether\u001b[0m\u001b[0;34m(\u001b[0m\u001b[0mexpr1\u001b[0m\u001b[0;34m,\u001b[0m \u001b[0mdeep\u001b[0m\u001b[0;34m=\u001b[0m\u001b[0;32mTrue\u001b[0m\u001b[0;34m)\u001b[0m\u001b[0;34m)\u001b[0m\u001b[0;34m\u001b[0m\u001b[0m\n",
      "\u001b[0;32m/Users/drpugh/anaconda/lib/python3.4/site-packages/sympy/polys/polytools.py\u001b[0m in \u001b[0;36mcancel\u001b[0;34m(f, *gens, **args)\u001b[0m\n\u001b[1;32m   6228\u001b[0m \u001b[0;34m\u001b[0m\u001b[0m\n\u001b[1;32m   6229\u001b[0m     \u001b[0;32mtry\u001b[0m\u001b[0;34m:\u001b[0m\u001b[0;34m\u001b[0m\u001b[0m\n\u001b[0;32m-> 6230\u001b[0;31m         \u001b[0;34m(\u001b[0m\u001b[0mF\u001b[0m\u001b[0;34m,\u001b[0m \u001b[0mG\u001b[0m\u001b[0;34m)\u001b[0m\u001b[0;34m,\u001b[0m \u001b[0mopt\u001b[0m \u001b[0;34m=\u001b[0m \u001b[0mparallel_poly_from_expr\u001b[0m\u001b[0;34m(\u001b[0m\u001b[0;34m(\u001b[0m\u001b[0mp\u001b[0m\u001b[0;34m,\u001b[0m \u001b[0mq\u001b[0m\u001b[0;34m)\u001b[0m\u001b[0;34m,\u001b[0m \u001b[0;34m*\u001b[0m\u001b[0mgens\u001b[0m\u001b[0;34m,\u001b[0m \u001b[0;34m**\u001b[0m\u001b[0margs\u001b[0m\u001b[0;34m)\u001b[0m\u001b[0;34m\u001b[0m\u001b[0m\n\u001b[0m\u001b[1;32m   6231\u001b[0m     \u001b[0;32mexcept\u001b[0m \u001b[0mPolificationFailed\u001b[0m\u001b[0;34m:\u001b[0m\u001b[0;34m\u001b[0m\u001b[0m\n\u001b[1;32m   6232\u001b[0m         \u001b[0;32mif\u001b[0m \u001b[0;32mnot\u001b[0m \u001b[0misinstance\u001b[0m\u001b[0;34m(\u001b[0m\u001b[0mf\u001b[0m\u001b[0;34m,\u001b[0m \u001b[0;34m(\u001b[0m\u001b[0mtuple\u001b[0m\u001b[0;34m,\u001b[0m \u001b[0mTuple\u001b[0m\u001b[0;34m)\u001b[0m\u001b[0;34m)\u001b[0m\u001b[0;34m:\u001b[0m\u001b[0;34m\u001b[0m\u001b[0m\n",
      "\u001b[0;32m/Users/drpugh/anaconda/lib/python3.4/site-packages/sympy/polys/polytools.py\u001b[0m in \u001b[0;36mparallel_poly_from_expr\u001b[0;34m(exprs, *gens, **args)\u001b[0m\n\u001b[1;32m   4123\u001b[0m     \u001b[0;34m\"\"\"Construct polynomials from expressions. \"\"\"\u001b[0m\u001b[0;34m\u001b[0m\u001b[0m\n\u001b[1;32m   4124\u001b[0m     \u001b[0mopt\u001b[0m \u001b[0;34m=\u001b[0m \u001b[0moptions\u001b[0m\u001b[0;34m.\u001b[0m\u001b[0mbuild_options\u001b[0m\u001b[0;34m(\u001b[0m\u001b[0mgens\u001b[0m\u001b[0;34m,\u001b[0m \u001b[0margs\u001b[0m\u001b[0;34m)\u001b[0m\u001b[0;34m\u001b[0m\u001b[0m\n\u001b[0;32m-> 4125\u001b[0;31m     \u001b[0;32mreturn\u001b[0m \u001b[0m_parallel_poly_from_expr\u001b[0m\u001b[0;34m(\u001b[0m\u001b[0mexprs\u001b[0m\u001b[0;34m,\u001b[0m \u001b[0mopt\u001b[0m\u001b[0;34m)\u001b[0m\u001b[0;34m\u001b[0m\u001b[0m\n\u001b[0m\u001b[1;32m   4126\u001b[0m \u001b[0;34m\u001b[0m\u001b[0m\n\u001b[1;32m   4127\u001b[0m \u001b[0;34m\u001b[0m\u001b[0m\n",
      "\u001b[0;32m/Users/drpugh/anaconda/lib/python3.4/site-packages/sympy/polys/polytools.py\u001b[0m in \u001b[0;36m_parallel_poly_from_expr\u001b[0;34m(exprs, opt)\u001b[0m\n\u001b[1;32m   4160\u001b[0m \u001b[0;34m\u001b[0m\u001b[0m\n\u001b[1;32m   4161\u001b[0m                 \u001b[0;32mif\u001b[0m \u001b[0mopt\u001b[0m\u001b[0;34m.\u001b[0m\u001b[0mexpand\u001b[0m\u001b[0;34m:\u001b[0m\u001b[0;34m\u001b[0m\u001b[0m\n\u001b[0;32m-> 4162\u001b[0;31m                     \u001b[0mexpr\u001b[0m \u001b[0;34m=\u001b[0m \u001b[0mexpr\u001b[0m\u001b[0;34m.\u001b[0m\u001b[0mexpand\u001b[0m\u001b[0;34m(\u001b[0m\u001b[0;34m)\u001b[0m\u001b[0;34m\u001b[0m\u001b[0m\n\u001b[0m\u001b[1;32m   4163\u001b[0m         \u001b[0;32melse\u001b[0m\u001b[0;34m:\u001b[0m\u001b[0;34m\u001b[0m\u001b[0m\n\u001b[1;32m   4164\u001b[0m             \u001b[0mfailed\u001b[0m \u001b[0;34m=\u001b[0m \u001b[0;32mTrue\u001b[0m\u001b[0;34m\u001b[0m\u001b[0m\n",
      "\u001b[0;32m/Users/drpugh/anaconda/lib/python3.4/site-packages/sympy/core/expr.py\u001b[0m in \u001b[0;36mexpand\u001b[0;34m(self, deep, modulus, power_base, power_exp, mul, log, multinomial, basic, **hints)\u001b[0m\n\u001b[1;32m   2869\u001b[0m             \u001b[0;32mif\u001b[0m \u001b[0muse_hint\u001b[0m\u001b[0;34m:\u001b[0m\u001b[0;34m\u001b[0m\u001b[0m\n\u001b[1;32m   2870\u001b[0m                 \u001b[0mhint\u001b[0m \u001b[0;34m=\u001b[0m \u001b[0;34m'_eval_expand_'\u001b[0m \u001b[0;34m+\u001b[0m \u001b[0mhint\u001b[0m\u001b[0;34m\u001b[0m\u001b[0m\n\u001b[0;32m-> 2871\u001b[0;31m                 \u001b[0mexpr\u001b[0m\u001b[0;34m,\u001b[0m \u001b[0mhit\u001b[0m \u001b[0;34m=\u001b[0m \u001b[0mExpr\u001b[0m\u001b[0;34m.\u001b[0m\u001b[0m_expand_hint\u001b[0m\u001b[0;34m(\u001b[0m\u001b[0mexpr\u001b[0m\u001b[0;34m,\u001b[0m \u001b[0mhint\u001b[0m\u001b[0;34m,\u001b[0m \u001b[0mdeep\u001b[0m\u001b[0;34m=\u001b[0m\u001b[0mdeep\u001b[0m\u001b[0;34m,\u001b[0m \u001b[0;34m**\u001b[0m\u001b[0mhints\u001b[0m\u001b[0;34m)\u001b[0m\u001b[0;34m\u001b[0m\u001b[0m\n\u001b[0m\u001b[1;32m   2872\u001b[0m \u001b[0;34m\u001b[0m\u001b[0m\n\u001b[1;32m   2873\u001b[0m         \u001b[0;32mwhile\u001b[0m \u001b[0;32mTrue\u001b[0m\u001b[0;34m:\u001b[0m\u001b[0;34m\u001b[0m\u001b[0m\n",
      "\u001b[0;32m/Users/drpugh/anaconda/lib/python3.4/site-packages/sympy/core/expr.py\u001b[0m in \u001b[0;36m_expand_hint\u001b[0;34m(expr, hint, deep, **hints)\u001b[0m\n\u001b[1;32m   2802\u001b[0m             \u001b[0msargs\u001b[0m \u001b[0;34m=\u001b[0m \u001b[0;34m[\u001b[0m\u001b[0;34m]\u001b[0m\u001b[0;34m\u001b[0m\u001b[0m\n\u001b[1;32m   2803\u001b[0m             \u001b[0;32mfor\u001b[0m \u001b[0marg\u001b[0m \u001b[0;32min\u001b[0m \u001b[0mexpr\u001b[0m\u001b[0;34m.\u001b[0m\u001b[0margs\u001b[0m\u001b[0;34m:\u001b[0m\u001b[0;34m\u001b[0m\u001b[0m\n\u001b[0;32m-> 2804\u001b[0;31m                 \u001b[0marg\u001b[0m\u001b[0;34m,\u001b[0m \u001b[0marghit\u001b[0m \u001b[0;34m=\u001b[0m \u001b[0mExpr\u001b[0m\u001b[0;34m.\u001b[0m\u001b[0m_expand_hint\u001b[0m\u001b[0;34m(\u001b[0m\u001b[0marg\u001b[0m\u001b[0;34m,\u001b[0m \u001b[0mhint\u001b[0m\u001b[0;34m,\u001b[0m \u001b[0;34m**\u001b[0m\u001b[0mhints\u001b[0m\u001b[0;34m)\u001b[0m\u001b[0;34m\u001b[0m\u001b[0m\n\u001b[0m\u001b[1;32m   2805\u001b[0m                 \u001b[0mhit\u001b[0m \u001b[0;34m|=\u001b[0m \u001b[0marghit\u001b[0m\u001b[0;34m\u001b[0m\u001b[0m\n\u001b[1;32m   2806\u001b[0m                 \u001b[0msargs\u001b[0m\u001b[0;34m.\u001b[0m\u001b[0mappend\u001b[0m\u001b[0;34m(\u001b[0m\u001b[0marg\u001b[0m\u001b[0;34m)\u001b[0m\u001b[0;34m\u001b[0m\u001b[0m\n",
      "\u001b[0;32m/Users/drpugh/anaconda/lib/python3.4/site-packages/sympy/core/expr.py\u001b[0m in \u001b[0;36m_expand_hint\u001b[0;34m(expr, hint, deep, **hints)\u001b[0m\n\u001b[1;32m   2810\u001b[0m \u001b[0;34m\u001b[0m\u001b[0m\n\u001b[1;32m   2811\u001b[0m         \u001b[0;32mif\u001b[0m \u001b[0mhasattr\u001b[0m\u001b[0;34m(\u001b[0m\u001b[0mexpr\u001b[0m\u001b[0;34m,\u001b[0m \u001b[0mhint\u001b[0m\u001b[0;34m)\u001b[0m\u001b[0;34m:\u001b[0m\u001b[0;34m\u001b[0m\u001b[0m\n\u001b[0;32m-> 2812\u001b[0;31m             \u001b[0mnewexpr\u001b[0m \u001b[0;34m=\u001b[0m \u001b[0mgetattr\u001b[0m\u001b[0;34m(\u001b[0m\u001b[0mexpr\u001b[0m\u001b[0;34m,\u001b[0m \u001b[0mhint\u001b[0m\u001b[0;34m)\u001b[0m\u001b[0;34m(\u001b[0m\u001b[0;34m**\u001b[0m\u001b[0mhints\u001b[0m\u001b[0;34m)\u001b[0m\u001b[0;34m\u001b[0m\u001b[0m\n\u001b[0m\u001b[1;32m   2813\u001b[0m             \u001b[0;32mif\u001b[0m \u001b[0mnewexpr\u001b[0m \u001b[0;34m!=\u001b[0m \u001b[0mexpr\u001b[0m\u001b[0;34m:\u001b[0m\u001b[0;34m\u001b[0m\u001b[0m\n\u001b[1;32m   2814\u001b[0m                 \u001b[0;32mreturn\u001b[0m \u001b[0;34m(\u001b[0m\u001b[0mnewexpr\u001b[0m\u001b[0;34m,\u001b[0m \u001b[0;32mTrue\u001b[0m\u001b[0;34m)\u001b[0m\u001b[0;34m\u001b[0m\u001b[0m\n",
      "\u001b[0;32m/Users/drpugh/anaconda/lib/python3.4/site-packages/sympy/core/mul.py\u001b[0m in \u001b[0;36m_eval_expand_mul\u001b[0;34m(self, **hints)\u001b[0m\n\u001b[1;32m    776\u001b[0m             \u001b[0mplain\u001b[0m \u001b[0;34m=\u001b[0m \u001b[0mself\u001b[0m\u001b[0;34m.\u001b[0m\u001b[0mfunc\u001b[0m\u001b[0;34m(\u001b[0m\u001b[0;34m*\u001b[0m\u001b[0mplain\u001b[0m\u001b[0;34m)\u001b[0m\u001b[0;34m\u001b[0m\u001b[0m\n\u001b[1;32m    777\u001b[0m             \u001b[0;32mif\u001b[0m \u001b[0msums\u001b[0m\u001b[0;34m:\u001b[0m\u001b[0;34m\u001b[0m\u001b[0m\n\u001b[0;32m--> 778\u001b[0;31m                 \u001b[0mterms\u001b[0m \u001b[0;34m=\u001b[0m \u001b[0mself\u001b[0m\u001b[0;34m.\u001b[0m\u001b[0mfunc\u001b[0m\u001b[0;34m.\u001b[0m\u001b[0m_expandsums\u001b[0m\u001b[0;34m(\u001b[0m\u001b[0msums\u001b[0m\u001b[0;34m)\u001b[0m\u001b[0;34m\u001b[0m\u001b[0m\n\u001b[0m\u001b[1;32m    779\u001b[0m                 \u001b[0margs\u001b[0m \u001b[0;34m=\u001b[0m \u001b[0;34m[\u001b[0m\u001b[0;34m]\u001b[0m\u001b[0;34m\u001b[0m\u001b[0m\n\u001b[1;32m    780\u001b[0m                 \u001b[0;32mfor\u001b[0m \u001b[0mterm\u001b[0m \u001b[0;32min\u001b[0m \u001b[0mterms\u001b[0m\u001b[0;34m:\u001b[0m\u001b[0;34m\u001b[0m\u001b[0m\n",
      "\u001b[0;32m/Users/drpugh/anaconda/lib/python3.4/site-packages/sympy/core/mul.py\u001b[0m in \u001b[0;36m_expandsums\u001b[0;34m(sums)\u001b[0m\n\u001b[1;32m    742\u001b[0m         \u001b[0mright\u001b[0m \u001b[0;34m=\u001b[0m \u001b[0mMul\u001b[0m\u001b[0;34m.\u001b[0m\u001b[0m_expandsums\u001b[0m\u001b[0;34m(\u001b[0m\u001b[0msums\u001b[0m\u001b[0;34m[\u001b[0m\u001b[0mL\u001b[0m\u001b[0;34m//\u001b[0m\u001b[0;36m2\u001b[0m\u001b[0;34m:\u001b[0m\u001b[0;34m]\u001b[0m\u001b[0;34m)\u001b[0m\u001b[0;34m\u001b[0m\u001b[0m\n\u001b[1;32m    743\u001b[0m \u001b[0;34m\u001b[0m\u001b[0m\n\u001b[0;32m--> 744\u001b[0;31m         \u001b[0mterms\u001b[0m \u001b[0;34m=\u001b[0m \u001b[0;34m[\u001b[0m\u001b[0mMul\u001b[0m\u001b[0;34m(\u001b[0m\u001b[0ma\u001b[0m\u001b[0;34m,\u001b[0m \u001b[0mb\u001b[0m\u001b[0;34m)\u001b[0m \u001b[0;32mfor\u001b[0m \u001b[0ma\u001b[0m \u001b[0;32min\u001b[0m \u001b[0mleft\u001b[0m \u001b[0;32mfor\u001b[0m \u001b[0mb\u001b[0m \u001b[0;32min\u001b[0m \u001b[0mright\u001b[0m\u001b[0;34m]\u001b[0m\u001b[0;34m\u001b[0m\u001b[0m\n\u001b[0m\u001b[1;32m    745\u001b[0m         \u001b[0madded\u001b[0m \u001b[0;34m=\u001b[0m \u001b[0mAdd\u001b[0m\u001b[0;34m(\u001b[0m\u001b[0;34m*\u001b[0m\u001b[0mterms\u001b[0m\u001b[0;34m)\u001b[0m\u001b[0;34m\u001b[0m\u001b[0m\n\u001b[1;32m    746\u001b[0m         \u001b[0;32mreturn\u001b[0m \u001b[0mAdd\u001b[0m\u001b[0;34m.\u001b[0m\u001b[0mmake_args\u001b[0m\u001b[0;34m(\u001b[0m\u001b[0madded\u001b[0m\u001b[0;34m)\u001b[0m  \u001b[0;31m# it may have collapsed down to one term\u001b[0m\u001b[0;34m\u001b[0m\u001b[0m\n",
      "\u001b[0;32m/Users/drpugh/anaconda/lib/python3.4/site-packages/sympy/core/mul.py\u001b[0m in \u001b[0;36m<listcomp>\u001b[0;34m(.0)\u001b[0m\n\u001b[1;32m    742\u001b[0m         \u001b[0mright\u001b[0m \u001b[0;34m=\u001b[0m \u001b[0mMul\u001b[0m\u001b[0;34m.\u001b[0m\u001b[0m_expandsums\u001b[0m\u001b[0;34m(\u001b[0m\u001b[0msums\u001b[0m\u001b[0;34m[\u001b[0m\u001b[0mL\u001b[0m\u001b[0;34m//\u001b[0m\u001b[0;36m2\u001b[0m\u001b[0;34m:\u001b[0m\u001b[0;34m]\u001b[0m\u001b[0;34m)\u001b[0m\u001b[0;34m\u001b[0m\u001b[0m\n\u001b[1;32m    743\u001b[0m \u001b[0;34m\u001b[0m\u001b[0m\n\u001b[0;32m--> 744\u001b[0;31m         \u001b[0mterms\u001b[0m \u001b[0;34m=\u001b[0m \u001b[0;34m[\u001b[0m\u001b[0mMul\u001b[0m\u001b[0;34m(\u001b[0m\u001b[0ma\u001b[0m\u001b[0;34m,\u001b[0m \u001b[0mb\u001b[0m\u001b[0;34m)\u001b[0m \u001b[0;32mfor\u001b[0m \u001b[0ma\u001b[0m \u001b[0;32min\u001b[0m \u001b[0mleft\u001b[0m \u001b[0;32mfor\u001b[0m \u001b[0mb\u001b[0m \u001b[0;32min\u001b[0m \u001b[0mright\u001b[0m\u001b[0;34m]\u001b[0m\u001b[0;34m\u001b[0m\u001b[0m\n\u001b[0m\u001b[1;32m    745\u001b[0m         \u001b[0madded\u001b[0m \u001b[0;34m=\u001b[0m \u001b[0mAdd\u001b[0m\u001b[0;34m(\u001b[0m\u001b[0;34m*\u001b[0m\u001b[0mterms\u001b[0m\u001b[0;34m)\u001b[0m\u001b[0;34m\u001b[0m\u001b[0m\n\u001b[1;32m    746\u001b[0m         \u001b[0;32mreturn\u001b[0m \u001b[0mAdd\u001b[0m\u001b[0;34m.\u001b[0m\u001b[0mmake_args\u001b[0m\u001b[0;34m(\u001b[0m\u001b[0madded\u001b[0m\u001b[0;34m)\u001b[0m  \u001b[0;31m# it may have collapsed down to one term\u001b[0m\u001b[0;34m\u001b[0m\u001b[0m\n",
      "\u001b[0;32m/Users/drpugh/anaconda/lib/python3.4/site-packages/sympy/core/operations.py\u001b[0m in \u001b[0;36m__new__\u001b[0;34m(cls, *args, **options)\u001b[0m\n\u001b[1;32m     39\u001b[0m             \u001b[0;32mreturn\u001b[0m \u001b[0margs\u001b[0m\u001b[0;34m[\u001b[0m\u001b[0;36m0\u001b[0m\u001b[0;34m]\u001b[0m\u001b[0;34m\u001b[0m\u001b[0m\n\u001b[1;32m     40\u001b[0m \u001b[0;34m\u001b[0m\u001b[0m\n\u001b[0;32m---> 41\u001b[0;31m         \u001b[0mc_part\u001b[0m\u001b[0;34m,\u001b[0m \u001b[0mnc_part\u001b[0m\u001b[0;34m,\u001b[0m \u001b[0morder_symbols\u001b[0m \u001b[0;34m=\u001b[0m \u001b[0mcls\u001b[0m\u001b[0;34m.\u001b[0m\u001b[0mflatten\u001b[0m\u001b[0;34m(\u001b[0m\u001b[0margs\u001b[0m\u001b[0;34m)\u001b[0m\u001b[0;34m\u001b[0m\u001b[0m\n\u001b[0m\u001b[1;32m     42\u001b[0m         \u001b[0mis_commutative\u001b[0m \u001b[0;34m=\u001b[0m \u001b[0;32mnot\u001b[0m \u001b[0mnc_part\u001b[0m\u001b[0;34m\u001b[0m\u001b[0m\n\u001b[1;32m     43\u001b[0m         \u001b[0mobj\u001b[0m \u001b[0;34m=\u001b[0m \u001b[0mcls\u001b[0m\u001b[0;34m.\u001b[0m\u001b[0m_from_args\u001b[0m\u001b[0;34m(\u001b[0m\u001b[0mc_part\u001b[0m \u001b[0;34m+\u001b[0m \u001b[0mnc_part\u001b[0m\u001b[0;34m,\u001b[0m \u001b[0mis_commutative\u001b[0m\u001b[0;34m)\u001b[0m\u001b[0;34m\u001b[0m\u001b[0m\n",
      "\u001b[0;32m/Users/drpugh/anaconda/lib/python3.4/site-packages/sympy/core/mul.py\u001b[0m in \u001b[0;36mflatten\u001b[0;34m(cls, seq)\u001b[0m\n\u001b[1;32m    566\u001b[0m \u001b[0;34m\u001b[0m\u001b[0m\n\u001b[1;32m    567\u001b[0m         \u001b[0;31m# order commutative part canonically\u001b[0m\u001b[0;34m\u001b[0m\u001b[0;34m\u001b[0m\u001b[0m\n\u001b[0;32m--> 568\u001b[0;31m         \u001b[0m_mulsort\u001b[0m\u001b[0;34m(\u001b[0m\u001b[0mc_part\u001b[0m\u001b[0;34m)\u001b[0m\u001b[0;34m\u001b[0m\u001b[0m\n\u001b[0m\u001b[1;32m    569\u001b[0m \u001b[0;34m\u001b[0m\u001b[0m\n\u001b[1;32m    570\u001b[0m         \u001b[0;31m# current code expects coeff to be always in slot-0\u001b[0m\u001b[0;34m\u001b[0m\u001b[0;34m\u001b[0m\u001b[0m\n",
      "\u001b[0;32m/Users/drpugh/anaconda/lib/python3.4/site-packages/sympy/core/mul.py\u001b[0m in \u001b[0;36m_mulsort\u001b[0;34m(args)\u001b[0m\n\u001b[1;32m     30\u001b[0m \u001b[0;32mdef\u001b[0m \u001b[0m_mulsort\u001b[0m\u001b[0;34m(\u001b[0m\u001b[0margs\u001b[0m\u001b[0;34m)\u001b[0m\u001b[0;34m:\u001b[0m\u001b[0;34m\u001b[0m\u001b[0m\n\u001b[1;32m     31\u001b[0m     \u001b[0;31m# in-place sorting of args\u001b[0m\u001b[0;34m\u001b[0m\u001b[0;34m\u001b[0m\u001b[0m\n\u001b[0;32m---> 32\u001b[0;31m     \u001b[0margs\u001b[0m\u001b[0;34m.\u001b[0m\u001b[0msort\u001b[0m\u001b[0;34m(\u001b[0m\u001b[0mkey\u001b[0m\u001b[0;34m=\u001b[0m\u001b[0m_args_sortkey\u001b[0m\u001b[0;34m)\u001b[0m\u001b[0;34m\u001b[0m\u001b[0m\n\u001b[0m\u001b[1;32m     33\u001b[0m \u001b[0;34m\u001b[0m\u001b[0m\n\u001b[1;32m     34\u001b[0m \u001b[0;34m\u001b[0m\u001b[0m\n",
      "\u001b[0;32m/Users/drpugh/anaconda/lib/python3.4/site-packages/sympy/core/basic.py\u001b[0m in \u001b[0;36mcompare\u001b[0;34m(self, other)\u001b[0m\n\u001b[1;32m    180\u001b[0m         \u001b[0;31m#\u001b[0m\u001b[0;34m\u001b[0m\u001b[0;34m\u001b[0m\u001b[0m\n\u001b[1;32m    181\u001b[0m         \u001b[0mst\u001b[0m \u001b[0;34m=\u001b[0m \u001b[0mself\u001b[0m\u001b[0;34m.\u001b[0m\u001b[0m_hashable_content\u001b[0m\u001b[0;34m(\u001b[0m\u001b[0;34m)\u001b[0m\u001b[0;34m\u001b[0m\u001b[0m\n\u001b[0;32m--> 182\u001b[0;31m         \u001b[0mot\u001b[0m \u001b[0;34m=\u001b[0m \u001b[0mother\u001b[0m\u001b[0;34m.\u001b[0m\u001b[0m_hashable_content\u001b[0m\u001b[0;34m(\u001b[0m\u001b[0;34m)\u001b[0m\u001b[0;34m\u001b[0m\u001b[0m\n\u001b[0m\u001b[1;32m    183\u001b[0m         \u001b[0mc\u001b[0m \u001b[0;34m=\u001b[0m \u001b[0;34m(\u001b[0m\u001b[0mlen\u001b[0m\u001b[0;34m(\u001b[0m\u001b[0mst\u001b[0m\u001b[0;34m)\u001b[0m \u001b[0;34m>\u001b[0m \u001b[0mlen\u001b[0m\u001b[0;34m(\u001b[0m\u001b[0mot\u001b[0m\u001b[0;34m)\u001b[0m\u001b[0;34m)\u001b[0m \u001b[0;34m-\u001b[0m \u001b[0;34m(\u001b[0m\u001b[0mlen\u001b[0m\u001b[0;34m(\u001b[0m\u001b[0mst\u001b[0m\u001b[0;34m)\u001b[0m \u001b[0;34m<\u001b[0m \u001b[0mlen\u001b[0m\u001b[0;34m(\u001b[0m\u001b[0mot\u001b[0m\u001b[0;34m)\u001b[0m\u001b[0;34m)\u001b[0m\u001b[0;34m\u001b[0m\u001b[0m\n\u001b[1;32m    184\u001b[0m         \u001b[0;32mif\u001b[0m \u001b[0mc\u001b[0m\u001b[0;34m:\u001b[0m\u001b[0;34m\u001b[0m\u001b[0m\n",
      "\u001b[0;32m/Users/drpugh/anaconda/lib/python3.4/site-packages/sympy/core/symbol.py\u001b[0m in \u001b[0;36m_hashable_content\u001b[0;34m(self)\u001b[0m\n\u001b[1;32m    123\u001b[0m \u001b[0;34m\u001b[0m\u001b[0m\n\u001b[1;32m    124\u001b[0m     \u001b[0;32mdef\u001b[0m \u001b[0m_hashable_content\u001b[0m\u001b[0;34m(\u001b[0m\u001b[0mself\u001b[0m\u001b[0;34m)\u001b[0m\u001b[0;34m:\u001b[0m\u001b[0;34m\u001b[0m\u001b[0m\n\u001b[0;32m--> 125\u001b[0;31m         \u001b[0;32mreturn\u001b[0m \u001b[0;34m(\u001b[0m\u001b[0mself\u001b[0m\u001b[0;34m.\u001b[0m\u001b[0mname\u001b[0m\u001b[0;34m,\u001b[0m\u001b[0;34m)\u001b[0m \u001b[0;34m+\u001b[0m \u001b[0mtuple\u001b[0m\u001b[0;34m(\u001b[0m\u001b[0msorted\u001b[0m\u001b[0;34m(\u001b[0m\u001b[0mself\u001b[0m\u001b[0;34m.\u001b[0m\u001b[0massumptions0\u001b[0m\u001b[0;34m.\u001b[0m\u001b[0mitems\u001b[0m\u001b[0;34m(\u001b[0m\u001b[0;34m)\u001b[0m\u001b[0;34m)\u001b[0m\u001b[0;34m)\u001b[0m\u001b[0;34m\u001b[0m\u001b[0m\n\u001b[0m\u001b[1;32m    126\u001b[0m \u001b[0;34m\u001b[0m\u001b[0m\n\u001b[1;32m    127\u001b[0m     \u001b[0;34m@\u001b[0m\u001b[0mproperty\u001b[0m\u001b[0;34m\u001b[0m\u001b[0m\n",
      "\u001b[0;32m/Users/drpugh/anaconda/lib/python3.4/site-packages/sympy/core/symbol.py\u001b[0m in \u001b[0;36massumptions0\u001b[0;34m(self)\u001b[0m\n\u001b[1;32m    128\u001b[0m     \u001b[0;32mdef\u001b[0m \u001b[0massumptions0\u001b[0m\u001b[0;34m(\u001b[0m\u001b[0mself\u001b[0m\u001b[0;34m)\u001b[0m\u001b[0;34m:\u001b[0m\u001b[0;34m\u001b[0m\u001b[0m\n\u001b[1;32m    129\u001b[0m         return dict((key, value) for key, value\n\u001b[0;32m--> 130\u001b[0;31m                 in self._assumptions.items() if value is not None)\n\u001b[0m\u001b[1;32m    131\u001b[0m \u001b[0;34m\u001b[0m\u001b[0m\n\u001b[1;32m    132\u001b[0m     \u001b[0;34m@\u001b[0m\u001b[0mcacheit\u001b[0m\u001b[0;34m\u001b[0m\u001b[0m\n",
      "\u001b[0;32m/Users/drpugh/anaconda/lib/python3.4/site-packages/sympy/core/symbol.py\u001b[0m in \u001b[0;36m<genexpr>\u001b[0;34m(.0)\u001b[0m\n\u001b[1;32m    127\u001b[0m     \u001b[0;34m@\u001b[0m\u001b[0mproperty\u001b[0m\u001b[0;34m\u001b[0m\u001b[0m\n\u001b[1;32m    128\u001b[0m     \u001b[0;32mdef\u001b[0m \u001b[0massumptions0\u001b[0m\u001b[0;34m(\u001b[0m\u001b[0mself\u001b[0m\u001b[0;34m)\u001b[0m\u001b[0;34m:\u001b[0m\u001b[0;34m\u001b[0m\u001b[0m\n\u001b[0;32m--> 129\u001b[0;31m         return dict((key, value) for key, value\n\u001b[0m\u001b[1;32m    130\u001b[0m                 in self._assumptions.items() if value is not None)\n\u001b[1;32m    131\u001b[0m \u001b[0;34m\u001b[0m\u001b[0m\n",
      "\u001b[0;31mKeyboardInterrupt\u001b[0m: "
     ]
    }
   ],
   "source": [
    "simplified_jac.eigenvals()"
   ]
  },
  {
   "cell_type": "code",
   "execution_count": null,
   "metadata": {
    "collapsed": true
   },
   "outputs": [],
   "source": []
  },
  {
   "cell_type": "code",
   "execution_count": null,
   "metadata": {
    "collapsed": true
   },
   "outputs": [],
   "source": []
  },
  {
   "cell_type": "code",
   "execution_count": null,
   "metadata": {
    "collapsed": true
   },
   "outputs": [],
   "source": []
  },
  {
   "cell_type": "code",
   "execution_count": null,
   "metadata": {
    "collapsed": true
   },
   "outputs": [],
   "source": []
  },
  {
   "cell_type": "code",
   "execution_count": 37,
   "metadata": {
    "collapsed": false
   },
   "outputs": [
    {
     "data": {
      "text/plain": [
       "(-4*PiAA*(x0 - 1)*(2*Piaa*(x0*(SG(x0) - 1)**2 - (x0 - 1)*(Sg(x0) - 1)**2) + x0*SG(x0)**2 - 2*(PiAa + PiaA)*(x0*(SG(x0) - 1)*SG(x0) - (x0 - 1)*(Sg(x0) - 1)*Sg(x0)) - (x0 - 1)*Sg(x0)**2)**3 - (x0 - 1)*(2*Piaa*(x0*(SG(x0) - 1)**2 + (-x0 + 1)*(Sg(x0) - 1)**2) + x0*SG(x0)**2 - 2*(PiAa + PiaA)*(x0*(SG(x0) - 1)*SG(x0) - (x0 - 1)*(Sg(x0) - 1)*Sg(x0)) + (-x0 + 1)*Sg(x0)**2)*(2*Piaa*(2*x0*(SG(x0) - 1)*Subs(Derivative(SG(_xi_1), _xi_1), (_xi_1,), (x0,)) - 2*(x0 - 1)*(Sg(x0) - 1)*Subs(Derivative(Sg(_xi_1), _xi_1), (_xi_1,), (x0,)) + (SG(x0) - 1)**2 - (Sg(x0) - 1)**2) + 2*x0*SG(x0)*Subs(Derivative(SG(_xi_1), _xi_1), (_xi_1,), (x0,)) - 2*(PiAa + PiaA)*(x0*(SG(x0) - 1)*Subs(Derivative(SG(_xi_1), _xi_1), (_xi_1,), (x0,)) + x0*SG(x0)*Subs(Derivative(SG(_xi_1), _xi_1), (_xi_1,), (x0,)) - (x0 - 1)*(Sg(x0) - 1)*Subs(Derivative(Sg(_xi_1), _xi_1), (_xi_1,), (x0,)) - (x0 - 1)*Sg(x0)*Subs(Derivative(Sg(_xi_1), _xi_1), (_xi_1,), (x0,)) + (SG(x0) - 1)*SG(x0) - (Sg(x0) - 1)*Sg(x0)) - 2*(x0 - 1)*Sg(x0)*Subs(Derivative(Sg(_xi_1), _xi_1), (_xi_1,), (x0,)) + SG(x0)**2 - Sg(x0)**2)*(4*PiAA*x0*SG(x0)**2 - PiAA*(x0 - 1)*Sg(x0)**2 - 4*PiAa*x0*(SG(x0) - 1)*SG(x0) + PiAa*(x0 - 1)*(Sg(x0) - 1)*Sg(x0) - PiaA*x0*(SG(x0) - 1)*SG(x0) + Piaa*x0*(SG(x0) - 1)**2) + (2*Piaa*(x0*(SG(x0) - 1)**2 - (x0 - 1)*(Sg(x0) - 1)**2) + x0*SG(x0)**2 - 2*(PiAa + PiaA)*(x0*(SG(x0) - 1)*SG(x0) - (x0 - 1)*(Sg(x0) - 1)*Sg(x0)) - (x0 - 1)*Sg(x0)**2)**2*(-PiaA*x0*(x0 - 1)*(SG(x0) - 1)*Subs(Derivative(SG(_xi_1), _xi_1), (_xi_1,), (x0,)) - PiaA*x0*(x0 - 1)*SG(x0)*Subs(Derivative(SG(_xi_1), _xi_1), (_xi_1,), (x0,)) - PiaA*x0*(SG(x0) - 1)*SG(x0) - PiaA*(x0 - 1)*(SG(x0) - 1)*SG(x0) + 2*Piaa*x0*(x0 - 1)*(SG(x0) - 1)*Subs(Derivative(SG(_xi_1), _xi_1), (_xi_1,), (x0,)) + Piaa*x0*(SG(x0) - 1)**2 + Piaa*(x0 - 1)*(SG(x0) - 1)**2 - x0*(-PiaA*SG(x0) + Piaa*(SG(x0) - 1))*(SG(x0) - 1) + (x0 - 1)*(8*PiAA*x0*SG(x0)*Subs(Derivative(SG(_xi_1), _xi_1), (_xi_1,), (x0,)) - 2*PiAA*(x0 - 1)*Sg(x0)*Subs(Derivative(Sg(_xi_1), _xi_1), (_xi_1,), (x0,)) + 4*PiAA*SG(x0)**2 - PiAA*Sg(x0)**2 - 4*PiAa*x0*(SG(x0) - 1)*Subs(Derivative(SG(_xi_1), _xi_1), (_xi_1,), (x0,)) - 4*PiAa*x0*SG(x0)*Subs(Derivative(SG(_xi_1), _xi_1), (_xi_1,), (x0,)) + PiAa*(x0 - 1)*(Sg(x0) - 1)*Subs(Derivative(Sg(_xi_1), _xi_1), (_xi_1,), (x0,)) + PiAa*(x0 - 1)*Sg(x0)*Subs(Derivative(Sg(_xi_1), _xi_1), (_xi_1,), (x0,)) - 4*PiAa*(SG(x0) - 1)*SG(x0) + PiAa*(Sg(x0) - 1)*Sg(x0))))/(4*PiAA*(x0 - 1)*(2*Piaa*(x0*(SG(x0) - 1)**2 - (x0 - 1)*(Sg(x0) - 1)**2) + x0*SG(x0)**2 - 2*(PiAa + PiaA)*(x0*(SG(x0) - 1)*SG(x0) - (x0 - 1)*(Sg(x0) - 1)*Sg(x0)) - (x0 - 1)*Sg(x0)**2)**3)"
      ]
     },
     "execution_count": 37,
     "metadata": {},
     "output_type": "execute_result"
    }
   ],
   "source": [
    "rhs_jac.subs({x1: 0, x2: 0})[0, 0].simplify()"
   ]
  },
  {
   "cell_type": "code",
   "execution_count": 190,
   "metadata": {
    "collapsed": false
   },
   "outputs": [
    {
     "ename": "NotImplementedError",
     "evalue": "Don't know how to calculate the mrv of 'Subs(Derivative(Sg(_xi_1), _xi_1), (_xi_1,), (1/_p,))'",
     "output_type": "error",
     "traceback": [
      "\u001b[0;31m---------------------------------------------------------------------------\u001b[0m",
      "\u001b[0;31mNotImplementedError\u001b[0m                       Traceback (most recent call last)",
      "\u001b[0;32m<ipython-input-190-d410b4b871ff>\u001b[0m in \u001b[0;36m<module>\u001b[0;34m()\u001b[0m\n\u001b[0;32m----> 1\u001b[0;31m \u001b[0msym\u001b[0m\u001b[0;34m.\u001b[0m\u001b[0mlimit\u001b[0m\u001b[0;34m(\u001b[0m\u001b[0mrhs_jac\u001b[0m\u001b[0;34m.\u001b[0m\u001b[0msubs\u001b[0m\u001b[0;34m(\u001b[0m\u001b[0;34m{\u001b[0m\u001b[0mx1\u001b[0m\u001b[0;34m:\u001b[0m \u001b[0;36m0\u001b[0m\u001b[0;34m,\u001b[0m \u001b[0mx2\u001b[0m\u001b[0;34m:\u001b[0m \u001b[0;36m0\u001b[0m\u001b[0;34m}\u001b[0m\u001b[0;34m)\u001b[0m\u001b[0;34m[\u001b[0m\u001b[0;36m0\u001b[0m\u001b[0;34m,\u001b[0m \u001b[0;36m0\u001b[0m\u001b[0;34m]\u001b[0m\u001b[0;34m,\u001b[0m \u001b[0mx0\u001b[0m\u001b[0;34m,\u001b[0m \u001b[0;36m0\u001b[0m\u001b[0;34m)\u001b[0m\u001b[0;34m\u001b[0m\u001b[0m\n\u001b[0m",
      "\u001b[0;32m/Users/drpugh/anaconda/lib/python3.4/site-packages/sympy/series/limits.py\u001b[0m in \u001b[0;36mlimit\u001b[0;34m(e, z, z0, dir)\u001b[0m\n\u001b[1;32m     40\u001b[0m     \"\"\"\n\u001b[1;32m     41\u001b[0m \u001b[0;34m\u001b[0m\u001b[0m\n\u001b[0;32m---> 42\u001b[0;31m     \u001b[0;32mreturn\u001b[0m \u001b[0mLimit\u001b[0m\u001b[0;34m(\u001b[0m\u001b[0me\u001b[0m\u001b[0;34m,\u001b[0m \u001b[0mz\u001b[0m\u001b[0;34m,\u001b[0m \u001b[0mz0\u001b[0m\u001b[0;34m,\u001b[0m \u001b[0mdir\u001b[0m\u001b[0;34m)\u001b[0m\u001b[0;34m.\u001b[0m\u001b[0mdoit\u001b[0m\u001b[0;34m(\u001b[0m\u001b[0mdeep\u001b[0m\u001b[0;34m=\u001b[0m\u001b[0;32mFalse\u001b[0m\u001b[0;34m)\u001b[0m\u001b[0;34m\u001b[0m\u001b[0m\n\u001b[0m\u001b[1;32m     43\u001b[0m \u001b[0;34m\u001b[0m\u001b[0m\n\u001b[1;32m     44\u001b[0m \u001b[0;34m\u001b[0m\u001b[0m\n",
      "\u001b[0;32m/Users/drpugh/anaconda/lib/python3.4/site-packages/sympy/series/limits.py\u001b[0m in \u001b[0;36mdoit\u001b[0;34m(self, **hints)\u001b[0m\n\u001b[1;32m    155\u001b[0m \u001b[0;34m\u001b[0m\u001b[0m\n\u001b[1;32m    156\u001b[0m         \u001b[0;32mtry\u001b[0m\u001b[0;34m:\u001b[0m\u001b[0;34m\u001b[0m\u001b[0m\n\u001b[0;32m--> 157\u001b[0;31m             \u001b[0mr\u001b[0m \u001b[0;34m=\u001b[0m \u001b[0mgruntz\u001b[0m\u001b[0;34m(\u001b[0m\u001b[0me\u001b[0m\u001b[0;34m,\u001b[0m \u001b[0mz\u001b[0m\u001b[0;34m,\u001b[0m \u001b[0mz0\u001b[0m\u001b[0;34m,\u001b[0m \u001b[0mdir\u001b[0m\u001b[0;34m)\u001b[0m\u001b[0;34m\u001b[0m\u001b[0m\n\u001b[0m\u001b[1;32m    158\u001b[0m             \u001b[0;32mif\u001b[0m \u001b[0mr\u001b[0m \u001b[0;32mis\u001b[0m \u001b[0mS\u001b[0m\u001b[0;34m.\u001b[0m\u001b[0mNaN\u001b[0m\u001b[0;34m:\u001b[0m\u001b[0;34m\u001b[0m\u001b[0m\n\u001b[1;32m    159\u001b[0m                 \u001b[0;32mraise\u001b[0m \u001b[0mPoleError\u001b[0m\u001b[0;34m(\u001b[0m\u001b[0;34m)\u001b[0m\u001b[0;34m\u001b[0m\u001b[0m\n",
      "\u001b[0;32m/Users/drpugh/anaconda/lib/python3.4/site-packages/sympy/series/gruntz.py\u001b[0m in \u001b[0;36mgruntz\u001b[0;34m(e, z, z0, dir)\u001b[0m\n\u001b[1;32m    649\u001b[0m         \u001b[0;32melse\u001b[0m\u001b[0;34m:\u001b[0m\u001b[0;34m\u001b[0m\u001b[0m\n\u001b[1;32m    650\u001b[0m             \u001b[0;32mraise\u001b[0m \u001b[0mNotImplementedError\u001b[0m\u001b[0;34m(\u001b[0m\u001b[0;34m\"dir must be '+' or '-'\"\u001b[0m\u001b[0;34m)\u001b[0m\u001b[0;34m\u001b[0m\u001b[0m\n\u001b[0;32m--> 651\u001b[0;31m         \u001b[0mr\u001b[0m \u001b[0;34m=\u001b[0m \u001b[0mlimitinf\u001b[0m\u001b[0;34m(\u001b[0m\u001b[0me0\u001b[0m\u001b[0;34m,\u001b[0m \u001b[0mz\u001b[0m\u001b[0;34m)\u001b[0m\u001b[0;34m\u001b[0m\u001b[0m\n\u001b[0m\u001b[1;32m    652\u001b[0m \u001b[0;34m\u001b[0m\u001b[0m\n\u001b[1;32m    653\u001b[0m     \u001b[0;31m# This is a bit of a heuristic for nice results... we always rewrite\u001b[0m\u001b[0;34m\u001b[0m\u001b[0;34m\u001b[0m\u001b[0m\n",
      "\u001b[0;32m/Users/drpugh/anaconda/lib/python3.4/site-packages/sympy/series/gruntz.py\u001b[0m in \u001b[0;36mlimitinf\u001b[0;34m(e, x)\u001b[0m\n\u001b[1;32m    422\u001b[0m         \u001b[0me\u001b[0m \u001b[0;34m=\u001b[0m \u001b[0me\u001b[0m\u001b[0;34m.\u001b[0m\u001b[0msubs\u001b[0m\u001b[0;34m(\u001b[0m\u001b[0mx\u001b[0m\u001b[0;34m,\u001b[0m \u001b[0mp\u001b[0m\u001b[0;34m)\u001b[0m\u001b[0;34m\u001b[0m\u001b[0m\n\u001b[1;32m    423\u001b[0m         \u001b[0mx\u001b[0m \u001b[0;34m=\u001b[0m \u001b[0mp\u001b[0m\u001b[0;34m\u001b[0m\u001b[0m\n\u001b[0;32m--> 424\u001b[0;31m     \u001b[0mc0\u001b[0m\u001b[0;34m,\u001b[0m \u001b[0me0\u001b[0m \u001b[0;34m=\u001b[0m \u001b[0mmrv_leadterm\u001b[0m\u001b[0;34m(\u001b[0m\u001b[0me\u001b[0m\u001b[0;34m,\u001b[0m \u001b[0mx\u001b[0m\u001b[0;34m)\u001b[0m\u001b[0;34m\u001b[0m\u001b[0m\n\u001b[0m\u001b[1;32m    425\u001b[0m     \u001b[0msig\u001b[0m \u001b[0;34m=\u001b[0m \u001b[0msign\u001b[0m\u001b[0;34m(\u001b[0m\u001b[0me0\u001b[0m\u001b[0;34m,\u001b[0m \u001b[0mx\u001b[0m\u001b[0;34m)\u001b[0m\u001b[0;34m\u001b[0m\u001b[0m\n\u001b[1;32m    426\u001b[0m     \u001b[0;32mif\u001b[0m \u001b[0msig\u001b[0m \u001b[0;34m==\u001b[0m \u001b[0;36m1\u001b[0m\u001b[0;34m:\u001b[0m\u001b[0;34m\u001b[0m\u001b[0m\n",
      "\u001b[0;32m/Users/drpugh/anaconda/lib/python3.4/site-packages/sympy/series/gruntz.py\u001b[0m in \u001b[0;36mmrv_leadterm\u001b[0;34m(e, x)\u001b[0m\n\u001b[1;32m    478\u001b[0m         \u001b[0;32mreturn\u001b[0m \u001b[0;34m(\u001b[0m\u001b[0me\u001b[0m\u001b[0;34m,\u001b[0m \u001b[0mS\u001b[0m\u001b[0;34m.\u001b[0m\u001b[0mZero\u001b[0m\u001b[0;34m)\u001b[0m\u001b[0;34m\u001b[0m\u001b[0m\n\u001b[1;32m    479\u001b[0m     \u001b[0;32mif\u001b[0m \u001b[0mOmega\u001b[0m \u001b[0;34m==\u001b[0m \u001b[0mSubsSet\u001b[0m\u001b[0;34m(\u001b[0m\u001b[0;34m)\u001b[0m\u001b[0;34m:\u001b[0m\u001b[0;34m\u001b[0m\u001b[0m\n\u001b[0;32m--> 480\u001b[0;31m         \u001b[0mOmega\u001b[0m\u001b[0;34m,\u001b[0m \u001b[0mexps\u001b[0m \u001b[0;34m=\u001b[0m \u001b[0mmrv\u001b[0m\u001b[0;34m(\u001b[0m\u001b[0me\u001b[0m\u001b[0;34m,\u001b[0m \u001b[0mx\u001b[0m\u001b[0;34m)\u001b[0m\u001b[0;34m\u001b[0m\u001b[0m\n\u001b[0m\u001b[1;32m    481\u001b[0m     \u001b[0;32mif\u001b[0m \u001b[0;32mnot\u001b[0m \u001b[0mOmega\u001b[0m\u001b[0;34m:\u001b[0m\u001b[0;34m\u001b[0m\u001b[0m\n\u001b[1;32m    482\u001b[0m         \u001b[0;31m# e really does not depend on x after simplification\u001b[0m\u001b[0;34m\u001b[0m\u001b[0;34m\u001b[0m\u001b[0m\n",
      "\u001b[0;32m/Users/drpugh/anaconda/lib/python3.4/site-packages/sympy/series/gruntz.py\u001b[0m in \u001b[0;36mmrv\u001b[0;34m(e, x)\u001b[0m\n\u001b[1;32m    256\u001b[0m             \u001b[0;32mreturn\u001b[0m \u001b[0ms\u001b[0m\u001b[0;34m,\u001b[0m \u001b[0me\u001b[0m\u001b[0;34m.\u001b[0m\u001b[0mfunc\u001b[0m\u001b[0;34m(\u001b[0m\u001b[0mi\u001b[0m\u001b[0;34m,\u001b[0m \u001b[0mexpr\u001b[0m\u001b[0;34m)\u001b[0m\u001b[0;34m\u001b[0m\u001b[0m\n\u001b[1;32m    257\u001b[0m         \u001b[0ma\u001b[0m\u001b[0;34m,\u001b[0m \u001b[0mb\u001b[0m \u001b[0;34m=\u001b[0m \u001b[0md\u001b[0m\u001b[0;34m.\u001b[0m\u001b[0mas_two_terms\u001b[0m\u001b[0;34m(\u001b[0m\u001b[0;34m)\u001b[0m\u001b[0;34m\u001b[0m\u001b[0m\n\u001b[0;32m--> 258\u001b[0;31m         \u001b[0ms1\u001b[0m\u001b[0;34m,\u001b[0m \u001b[0me1\u001b[0m \u001b[0;34m=\u001b[0m \u001b[0mmrv\u001b[0m\u001b[0;34m(\u001b[0m\u001b[0ma\u001b[0m\u001b[0;34m,\u001b[0m \u001b[0mx\u001b[0m\u001b[0;34m)\u001b[0m\u001b[0;34m\u001b[0m\u001b[0m\n\u001b[0m\u001b[1;32m    259\u001b[0m         \u001b[0ms2\u001b[0m\u001b[0;34m,\u001b[0m \u001b[0me2\u001b[0m \u001b[0;34m=\u001b[0m \u001b[0mmrv\u001b[0m\u001b[0;34m(\u001b[0m\u001b[0mb\u001b[0m\u001b[0;34m,\u001b[0m \u001b[0mx\u001b[0m\u001b[0;34m)\u001b[0m\u001b[0;34m\u001b[0m\u001b[0m\n\u001b[1;32m    260\u001b[0m         \u001b[0;32mreturn\u001b[0m \u001b[0mmrv_max1\u001b[0m\u001b[0;34m(\u001b[0m\u001b[0ms1\u001b[0m\u001b[0;34m,\u001b[0m \u001b[0ms2\u001b[0m\u001b[0;34m,\u001b[0m \u001b[0me\u001b[0m\u001b[0;34m.\u001b[0m\u001b[0mfunc\u001b[0m\u001b[0;34m(\u001b[0m\u001b[0mi\u001b[0m\u001b[0;34m,\u001b[0m \u001b[0me1\u001b[0m\u001b[0;34m,\u001b[0m \u001b[0me2\u001b[0m\u001b[0;34m)\u001b[0m\u001b[0;34m,\u001b[0m \u001b[0mx\u001b[0m\u001b[0;34m)\u001b[0m\u001b[0;34m\u001b[0m\u001b[0m\n",
      "\u001b[0;32m/Users/drpugh/anaconda/lib/python3.4/site-packages/sympy/series/gruntz.py\u001b[0m in \u001b[0;36mmrv\u001b[0;34m(e, x)\u001b[0m\n\u001b[1;32m    257\u001b[0m         \u001b[0ma\u001b[0m\u001b[0;34m,\u001b[0m \u001b[0mb\u001b[0m \u001b[0;34m=\u001b[0m \u001b[0md\u001b[0m\u001b[0;34m.\u001b[0m\u001b[0mas_two_terms\u001b[0m\u001b[0;34m(\u001b[0m\u001b[0;34m)\u001b[0m\u001b[0;34m\u001b[0m\u001b[0m\n\u001b[1;32m    258\u001b[0m         \u001b[0ms1\u001b[0m\u001b[0;34m,\u001b[0m \u001b[0me1\u001b[0m \u001b[0;34m=\u001b[0m \u001b[0mmrv\u001b[0m\u001b[0;34m(\u001b[0m\u001b[0ma\u001b[0m\u001b[0;34m,\u001b[0m \u001b[0mx\u001b[0m\u001b[0;34m)\u001b[0m\u001b[0;34m\u001b[0m\u001b[0m\n\u001b[0;32m--> 259\u001b[0;31m         \u001b[0ms2\u001b[0m\u001b[0;34m,\u001b[0m \u001b[0me2\u001b[0m \u001b[0;34m=\u001b[0m \u001b[0mmrv\u001b[0m\u001b[0;34m(\u001b[0m\u001b[0mb\u001b[0m\u001b[0;34m,\u001b[0m \u001b[0mx\u001b[0m\u001b[0;34m)\u001b[0m\u001b[0;34m\u001b[0m\u001b[0m\n\u001b[0m\u001b[1;32m    260\u001b[0m         \u001b[0;32mreturn\u001b[0m \u001b[0mmrv_max1\u001b[0m\u001b[0;34m(\u001b[0m\u001b[0ms1\u001b[0m\u001b[0;34m,\u001b[0m \u001b[0ms2\u001b[0m\u001b[0;34m,\u001b[0m \u001b[0me\u001b[0m\u001b[0;34m.\u001b[0m\u001b[0mfunc\u001b[0m\u001b[0;34m(\u001b[0m\u001b[0mi\u001b[0m\u001b[0;34m,\u001b[0m \u001b[0me1\u001b[0m\u001b[0;34m,\u001b[0m \u001b[0me2\u001b[0m\u001b[0;34m)\u001b[0m\u001b[0;34m,\u001b[0m \u001b[0mx\u001b[0m\u001b[0;34m)\u001b[0m\u001b[0;34m\u001b[0m\u001b[0m\n\u001b[1;32m    261\u001b[0m     \u001b[0;32melif\u001b[0m \u001b[0me\u001b[0m\u001b[0;34m.\u001b[0m\u001b[0mis_Pow\u001b[0m\u001b[0;34m:\u001b[0m\u001b[0;34m\u001b[0m\u001b[0m\n",
      "\u001b[0;32m/Users/drpugh/anaconda/lib/python3.4/site-packages/sympy/series/gruntz.py\u001b[0m in \u001b[0;36mmrv\u001b[0;34m(e, x)\u001b[0m\n\u001b[1;32m    257\u001b[0m         \u001b[0ma\u001b[0m\u001b[0;34m,\u001b[0m \u001b[0mb\u001b[0m \u001b[0;34m=\u001b[0m \u001b[0md\u001b[0m\u001b[0;34m.\u001b[0m\u001b[0mas_two_terms\u001b[0m\u001b[0;34m(\u001b[0m\u001b[0;34m)\u001b[0m\u001b[0;34m\u001b[0m\u001b[0m\n\u001b[1;32m    258\u001b[0m         \u001b[0ms1\u001b[0m\u001b[0;34m,\u001b[0m \u001b[0me1\u001b[0m \u001b[0;34m=\u001b[0m \u001b[0mmrv\u001b[0m\u001b[0;34m(\u001b[0m\u001b[0ma\u001b[0m\u001b[0;34m,\u001b[0m \u001b[0mx\u001b[0m\u001b[0;34m)\u001b[0m\u001b[0;34m\u001b[0m\u001b[0m\n\u001b[0;32m--> 259\u001b[0;31m         \u001b[0ms2\u001b[0m\u001b[0;34m,\u001b[0m \u001b[0me2\u001b[0m \u001b[0;34m=\u001b[0m \u001b[0mmrv\u001b[0m\u001b[0;34m(\u001b[0m\u001b[0mb\u001b[0m\u001b[0;34m,\u001b[0m \u001b[0mx\u001b[0m\u001b[0;34m)\u001b[0m\u001b[0;34m\u001b[0m\u001b[0m\n\u001b[0m\u001b[1;32m    260\u001b[0m         \u001b[0;32mreturn\u001b[0m \u001b[0mmrv_max1\u001b[0m\u001b[0;34m(\u001b[0m\u001b[0ms1\u001b[0m\u001b[0;34m,\u001b[0m \u001b[0ms2\u001b[0m\u001b[0;34m,\u001b[0m \u001b[0me\u001b[0m\u001b[0;34m.\u001b[0m\u001b[0mfunc\u001b[0m\u001b[0;34m(\u001b[0m\u001b[0mi\u001b[0m\u001b[0;34m,\u001b[0m \u001b[0me1\u001b[0m\u001b[0;34m,\u001b[0m \u001b[0me2\u001b[0m\u001b[0;34m)\u001b[0m\u001b[0;34m,\u001b[0m \u001b[0mx\u001b[0m\u001b[0;34m)\u001b[0m\u001b[0;34m\u001b[0m\u001b[0m\n\u001b[1;32m    261\u001b[0m     \u001b[0;32melif\u001b[0m \u001b[0me\u001b[0m\u001b[0;34m.\u001b[0m\u001b[0mis_Pow\u001b[0m\u001b[0;34m:\u001b[0m\u001b[0;34m\u001b[0m\u001b[0m\n",
      "\u001b[0;32m/Users/drpugh/anaconda/lib/python3.4/site-packages/sympy/series/gruntz.py\u001b[0m in \u001b[0;36mmrv\u001b[0;34m(e, x)\u001b[0m\n\u001b[1;32m    257\u001b[0m         \u001b[0ma\u001b[0m\u001b[0;34m,\u001b[0m \u001b[0mb\u001b[0m \u001b[0;34m=\u001b[0m \u001b[0md\u001b[0m\u001b[0;34m.\u001b[0m\u001b[0mas_two_terms\u001b[0m\u001b[0;34m(\u001b[0m\u001b[0;34m)\u001b[0m\u001b[0;34m\u001b[0m\u001b[0m\n\u001b[1;32m    258\u001b[0m         \u001b[0ms1\u001b[0m\u001b[0;34m,\u001b[0m \u001b[0me1\u001b[0m \u001b[0;34m=\u001b[0m \u001b[0mmrv\u001b[0m\u001b[0;34m(\u001b[0m\u001b[0ma\u001b[0m\u001b[0;34m,\u001b[0m \u001b[0mx\u001b[0m\u001b[0;34m)\u001b[0m\u001b[0;34m\u001b[0m\u001b[0m\n\u001b[0;32m--> 259\u001b[0;31m         \u001b[0ms2\u001b[0m\u001b[0;34m,\u001b[0m \u001b[0me2\u001b[0m \u001b[0;34m=\u001b[0m \u001b[0mmrv\u001b[0m\u001b[0;34m(\u001b[0m\u001b[0mb\u001b[0m\u001b[0;34m,\u001b[0m \u001b[0mx\u001b[0m\u001b[0;34m)\u001b[0m\u001b[0;34m\u001b[0m\u001b[0m\n\u001b[0m\u001b[1;32m    260\u001b[0m         \u001b[0;32mreturn\u001b[0m \u001b[0mmrv_max1\u001b[0m\u001b[0;34m(\u001b[0m\u001b[0ms1\u001b[0m\u001b[0;34m,\u001b[0m \u001b[0ms2\u001b[0m\u001b[0;34m,\u001b[0m \u001b[0me\u001b[0m\u001b[0;34m.\u001b[0m\u001b[0mfunc\u001b[0m\u001b[0;34m(\u001b[0m\u001b[0mi\u001b[0m\u001b[0;34m,\u001b[0m \u001b[0me1\u001b[0m\u001b[0;34m,\u001b[0m \u001b[0me2\u001b[0m\u001b[0;34m)\u001b[0m\u001b[0;34m,\u001b[0m \u001b[0mx\u001b[0m\u001b[0;34m)\u001b[0m\u001b[0;34m\u001b[0m\u001b[0m\n\u001b[1;32m    261\u001b[0m     \u001b[0;32melif\u001b[0m \u001b[0me\u001b[0m\u001b[0;34m.\u001b[0m\u001b[0mis_Pow\u001b[0m\u001b[0;34m:\u001b[0m\u001b[0;34m\u001b[0m\u001b[0m\n",
      "\u001b[0;32m/Users/drpugh/anaconda/lib/python3.4/site-packages/sympy/series/gruntz.py\u001b[0m in \u001b[0;36mmrv\u001b[0;34m(e, x)\u001b[0m\n\u001b[1;32m    257\u001b[0m         \u001b[0ma\u001b[0m\u001b[0;34m,\u001b[0m \u001b[0mb\u001b[0m \u001b[0;34m=\u001b[0m \u001b[0md\u001b[0m\u001b[0;34m.\u001b[0m\u001b[0mas_two_terms\u001b[0m\u001b[0;34m(\u001b[0m\u001b[0;34m)\u001b[0m\u001b[0;34m\u001b[0m\u001b[0m\n\u001b[1;32m    258\u001b[0m         \u001b[0ms1\u001b[0m\u001b[0;34m,\u001b[0m \u001b[0me1\u001b[0m \u001b[0;34m=\u001b[0m \u001b[0mmrv\u001b[0m\u001b[0;34m(\u001b[0m\u001b[0ma\u001b[0m\u001b[0;34m,\u001b[0m \u001b[0mx\u001b[0m\u001b[0;34m)\u001b[0m\u001b[0;34m\u001b[0m\u001b[0m\n\u001b[0;32m--> 259\u001b[0;31m         \u001b[0ms2\u001b[0m\u001b[0;34m,\u001b[0m \u001b[0me2\u001b[0m \u001b[0;34m=\u001b[0m \u001b[0mmrv\u001b[0m\u001b[0;34m(\u001b[0m\u001b[0mb\u001b[0m\u001b[0;34m,\u001b[0m \u001b[0mx\u001b[0m\u001b[0;34m)\u001b[0m\u001b[0;34m\u001b[0m\u001b[0m\n\u001b[0m\u001b[1;32m    260\u001b[0m         \u001b[0;32mreturn\u001b[0m \u001b[0mmrv_max1\u001b[0m\u001b[0;34m(\u001b[0m\u001b[0ms1\u001b[0m\u001b[0;34m,\u001b[0m \u001b[0ms2\u001b[0m\u001b[0;34m,\u001b[0m \u001b[0me\u001b[0m\u001b[0;34m.\u001b[0m\u001b[0mfunc\u001b[0m\u001b[0;34m(\u001b[0m\u001b[0mi\u001b[0m\u001b[0;34m,\u001b[0m \u001b[0me1\u001b[0m\u001b[0;34m,\u001b[0m \u001b[0me2\u001b[0m\u001b[0;34m)\u001b[0m\u001b[0;34m,\u001b[0m \u001b[0mx\u001b[0m\u001b[0;34m)\u001b[0m\u001b[0;34m\u001b[0m\u001b[0m\n\u001b[1;32m    261\u001b[0m     \u001b[0;32melif\u001b[0m \u001b[0me\u001b[0m\u001b[0;34m.\u001b[0m\u001b[0mis_Pow\u001b[0m\u001b[0;34m:\u001b[0m\u001b[0;34m\u001b[0m\u001b[0m\n",
      "\u001b[0;32m/Users/drpugh/anaconda/lib/python3.4/site-packages/sympy/series/gruntz.py\u001b[0m in \u001b[0;36mmrv\u001b[0;34m(e, x)\u001b[0m\n\u001b[1;32m    257\u001b[0m         \u001b[0ma\u001b[0m\u001b[0;34m,\u001b[0m \u001b[0mb\u001b[0m \u001b[0;34m=\u001b[0m \u001b[0md\u001b[0m\u001b[0;34m.\u001b[0m\u001b[0mas_two_terms\u001b[0m\u001b[0;34m(\u001b[0m\u001b[0;34m)\u001b[0m\u001b[0;34m\u001b[0m\u001b[0m\n\u001b[1;32m    258\u001b[0m         \u001b[0ms1\u001b[0m\u001b[0;34m,\u001b[0m \u001b[0me1\u001b[0m \u001b[0;34m=\u001b[0m \u001b[0mmrv\u001b[0m\u001b[0;34m(\u001b[0m\u001b[0ma\u001b[0m\u001b[0;34m,\u001b[0m \u001b[0mx\u001b[0m\u001b[0;34m)\u001b[0m\u001b[0;34m\u001b[0m\u001b[0m\n\u001b[0;32m--> 259\u001b[0;31m         \u001b[0ms2\u001b[0m\u001b[0;34m,\u001b[0m \u001b[0me2\u001b[0m \u001b[0;34m=\u001b[0m \u001b[0mmrv\u001b[0m\u001b[0;34m(\u001b[0m\u001b[0mb\u001b[0m\u001b[0;34m,\u001b[0m \u001b[0mx\u001b[0m\u001b[0;34m)\u001b[0m\u001b[0;34m\u001b[0m\u001b[0m\n\u001b[0m\u001b[1;32m    260\u001b[0m         \u001b[0;32mreturn\u001b[0m \u001b[0mmrv_max1\u001b[0m\u001b[0;34m(\u001b[0m\u001b[0ms1\u001b[0m\u001b[0;34m,\u001b[0m \u001b[0ms2\u001b[0m\u001b[0;34m,\u001b[0m \u001b[0me\u001b[0m\u001b[0;34m.\u001b[0m\u001b[0mfunc\u001b[0m\u001b[0;34m(\u001b[0m\u001b[0mi\u001b[0m\u001b[0;34m,\u001b[0m \u001b[0me1\u001b[0m\u001b[0;34m,\u001b[0m \u001b[0me2\u001b[0m\u001b[0;34m)\u001b[0m\u001b[0;34m,\u001b[0m \u001b[0mx\u001b[0m\u001b[0;34m)\u001b[0m\u001b[0;34m\u001b[0m\u001b[0m\n\u001b[1;32m    261\u001b[0m     \u001b[0;32melif\u001b[0m \u001b[0me\u001b[0m\u001b[0;34m.\u001b[0m\u001b[0mis_Pow\u001b[0m\u001b[0;34m:\u001b[0m\u001b[0;34m\u001b[0m\u001b[0m\n",
      "\u001b[0;32m/Users/drpugh/anaconda/lib/python3.4/site-packages/sympy/series/gruntz.py\u001b[0m in \u001b[0;36mmrv\u001b[0;34m(e, x)\u001b[0m\n\u001b[1;32m    256\u001b[0m             \u001b[0;32mreturn\u001b[0m \u001b[0ms\u001b[0m\u001b[0;34m,\u001b[0m \u001b[0me\u001b[0m\u001b[0;34m.\u001b[0m\u001b[0mfunc\u001b[0m\u001b[0;34m(\u001b[0m\u001b[0mi\u001b[0m\u001b[0;34m,\u001b[0m \u001b[0mexpr\u001b[0m\u001b[0;34m)\u001b[0m\u001b[0;34m\u001b[0m\u001b[0m\n\u001b[1;32m    257\u001b[0m         \u001b[0ma\u001b[0m\u001b[0;34m,\u001b[0m \u001b[0mb\u001b[0m \u001b[0;34m=\u001b[0m \u001b[0md\u001b[0m\u001b[0;34m.\u001b[0m\u001b[0mas_two_terms\u001b[0m\u001b[0;34m(\u001b[0m\u001b[0;34m)\u001b[0m\u001b[0;34m\u001b[0m\u001b[0m\n\u001b[0;32m--> 258\u001b[0;31m         \u001b[0ms1\u001b[0m\u001b[0;34m,\u001b[0m \u001b[0me1\u001b[0m \u001b[0;34m=\u001b[0m \u001b[0mmrv\u001b[0m\u001b[0;34m(\u001b[0m\u001b[0ma\u001b[0m\u001b[0;34m,\u001b[0m \u001b[0mx\u001b[0m\u001b[0;34m)\u001b[0m\u001b[0;34m\u001b[0m\u001b[0m\n\u001b[0m\u001b[1;32m    259\u001b[0m         \u001b[0ms2\u001b[0m\u001b[0;34m,\u001b[0m \u001b[0me2\u001b[0m \u001b[0;34m=\u001b[0m \u001b[0mmrv\u001b[0m\u001b[0;34m(\u001b[0m\u001b[0mb\u001b[0m\u001b[0;34m,\u001b[0m \u001b[0mx\u001b[0m\u001b[0;34m)\u001b[0m\u001b[0;34m\u001b[0m\u001b[0m\n\u001b[1;32m    260\u001b[0m         \u001b[0;32mreturn\u001b[0m \u001b[0mmrv_max1\u001b[0m\u001b[0;34m(\u001b[0m\u001b[0ms1\u001b[0m\u001b[0;34m,\u001b[0m \u001b[0ms2\u001b[0m\u001b[0;34m,\u001b[0m \u001b[0me\u001b[0m\u001b[0;34m.\u001b[0m\u001b[0mfunc\u001b[0m\u001b[0;34m(\u001b[0m\u001b[0mi\u001b[0m\u001b[0;34m,\u001b[0m \u001b[0me1\u001b[0m\u001b[0;34m,\u001b[0m \u001b[0me2\u001b[0m\u001b[0;34m)\u001b[0m\u001b[0;34m,\u001b[0m \u001b[0mx\u001b[0m\u001b[0;34m)\u001b[0m\u001b[0;34m\u001b[0m\u001b[0m\n",
      "\u001b[0;32m/Users/drpugh/anaconda/lib/python3.4/site-packages/sympy/series/gruntz.py\u001b[0m in \u001b[0;36mmrv\u001b[0;34m(e, x)\u001b[0m\n\u001b[1;32m    257\u001b[0m         \u001b[0ma\u001b[0m\u001b[0;34m,\u001b[0m \u001b[0mb\u001b[0m \u001b[0;34m=\u001b[0m \u001b[0md\u001b[0m\u001b[0;34m.\u001b[0m\u001b[0mas_two_terms\u001b[0m\u001b[0;34m(\u001b[0m\u001b[0;34m)\u001b[0m\u001b[0;34m\u001b[0m\u001b[0m\n\u001b[1;32m    258\u001b[0m         \u001b[0ms1\u001b[0m\u001b[0;34m,\u001b[0m \u001b[0me1\u001b[0m \u001b[0;34m=\u001b[0m \u001b[0mmrv\u001b[0m\u001b[0;34m(\u001b[0m\u001b[0ma\u001b[0m\u001b[0;34m,\u001b[0m \u001b[0mx\u001b[0m\u001b[0;34m)\u001b[0m\u001b[0;34m\u001b[0m\u001b[0m\n\u001b[0;32m--> 259\u001b[0;31m         \u001b[0ms2\u001b[0m\u001b[0;34m,\u001b[0m \u001b[0me2\u001b[0m \u001b[0;34m=\u001b[0m \u001b[0mmrv\u001b[0m\u001b[0;34m(\u001b[0m\u001b[0mb\u001b[0m\u001b[0;34m,\u001b[0m \u001b[0mx\u001b[0m\u001b[0;34m)\u001b[0m\u001b[0;34m\u001b[0m\u001b[0m\n\u001b[0m\u001b[1;32m    260\u001b[0m         \u001b[0;32mreturn\u001b[0m \u001b[0mmrv_max1\u001b[0m\u001b[0;34m(\u001b[0m\u001b[0ms1\u001b[0m\u001b[0;34m,\u001b[0m \u001b[0ms2\u001b[0m\u001b[0;34m,\u001b[0m \u001b[0me\u001b[0m\u001b[0;34m.\u001b[0m\u001b[0mfunc\u001b[0m\u001b[0;34m(\u001b[0m\u001b[0mi\u001b[0m\u001b[0;34m,\u001b[0m \u001b[0me1\u001b[0m\u001b[0;34m,\u001b[0m \u001b[0me2\u001b[0m\u001b[0;34m)\u001b[0m\u001b[0;34m,\u001b[0m \u001b[0mx\u001b[0m\u001b[0;34m)\u001b[0m\u001b[0;34m\u001b[0m\u001b[0m\n\u001b[1;32m    261\u001b[0m     \u001b[0;32melif\u001b[0m \u001b[0me\u001b[0m\u001b[0;34m.\u001b[0m\u001b[0mis_Pow\u001b[0m\u001b[0;34m:\u001b[0m\u001b[0;34m\u001b[0m\u001b[0m\n",
      "\u001b[0;32m/Users/drpugh/anaconda/lib/python3.4/site-packages/sympy/series/gruntz.py\u001b[0m in \u001b[0;36mmrv\u001b[0;34m(e, x)\u001b[0m\n\u001b[1;32m    257\u001b[0m         \u001b[0ma\u001b[0m\u001b[0;34m,\u001b[0m \u001b[0mb\u001b[0m \u001b[0;34m=\u001b[0m \u001b[0md\u001b[0m\u001b[0;34m.\u001b[0m\u001b[0mas_two_terms\u001b[0m\u001b[0;34m(\u001b[0m\u001b[0;34m)\u001b[0m\u001b[0;34m\u001b[0m\u001b[0m\n\u001b[1;32m    258\u001b[0m         \u001b[0ms1\u001b[0m\u001b[0;34m,\u001b[0m \u001b[0me1\u001b[0m \u001b[0;34m=\u001b[0m \u001b[0mmrv\u001b[0m\u001b[0;34m(\u001b[0m\u001b[0ma\u001b[0m\u001b[0;34m,\u001b[0m \u001b[0mx\u001b[0m\u001b[0;34m)\u001b[0m\u001b[0;34m\u001b[0m\u001b[0m\n\u001b[0;32m--> 259\u001b[0;31m         \u001b[0ms2\u001b[0m\u001b[0;34m,\u001b[0m \u001b[0me2\u001b[0m \u001b[0;34m=\u001b[0m \u001b[0mmrv\u001b[0m\u001b[0;34m(\u001b[0m\u001b[0mb\u001b[0m\u001b[0;34m,\u001b[0m \u001b[0mx\u001b[0m\u001b[0;34m)\u001b[0m\u001b[0;34m\u001b[0m\u001b[0m\n\u001b[0m\u001b[1;32m    260\u001b[0m         \u001b[0;32mreturn\u001b[0m \u001b[0mmrv_max1\u001b[0m\u001b[0;34m(\u001b[0m\u001b[0ms1\u001b[0m\u001b[0;34m,\u001b[0m \u001b[0ms2\u001b[0m\u001b[0;34m,\u001b[0m \u001b[0me\u001b[0m\u001b[0;34m.\u001b[0m\u001b[0mfunc\u001b[0m\u001b[0;34m(\u001b[0m\u001b[0mi\u001b[0m\u001b[0;34m,\u001b[0m \u001b[0me1\u001b[0m\u001b[0;34m,\u001b[0m \u001b[0me2\u001b[0m\u001b[0;34m)\u001b[0m\u001b[0;34m,\u001b[0m \u001b[0mx\u001b[0m\u001b[0;34m)\u001b[0m\u001b[0;34m\u001b[0m\u001b[0m\n\u001b[1;32m    261\u001b[0m     \u001b[0;32melif\u001b[0m \u001b[0me\u001b[0m\u001b[0;34m.\u001b[0m\u001b[0mis_Pow\u001b[0m\u001b[0;34m:\u001b[0m\u001b[0;34m\u001b[0m\u001b[0m\n",
      "\u001b[0;32m/Users/drpugh/anaconda/lib/python3.4/site-packages/sympy/series/gruntz.py\u001b[0m in \u001b[0;36mmrv\u001b[0;34m(e, x)\u001b[0m\n\u001b[1;32m    303\u001b[0m         \u001b[0;32mreturn\u001b[0m \u001b[0mmrv\u001b[0m\u001b[0;34m(\u001b[0m\u001b[0me\u001b[0m\u001b[0;34m.\u001b[0m\u001b[0margs\u001b[0m\u001b[0;34m[\u001b[0m\u001b[0;36m0\u001b[0m\u001b[0;34m]\u001b[0m\u001b[0;34m,\u001b[0m \u001b[0mx\u001b[0m\u001b[0;34m)\u001b[0m\u001b[0;34m\u001b[0m\u001b[0m\n\u001b[1;32m    304\u001b[0m     raise NotImplementedError(\n\u001b[0;32m--> 305\u001b[0;31m         \"Don't know how to calculate the mrv of '%s'\" % e)\n\u001b[0m\u001b[1;32m    306\u001b[0m \u001b[0;34m\u001b[0m\u001b[0m\n\u001b[1;32m    307\u001b[0m \u001b[0;34m\u001b[0m\u001b[0m\n",
      "\u001b[0;31mNotImplementedError\u001b[0m: Don't know how to calculate the mrv of 'Subs(Derivative(Sg(_xi_1), _xi_1), (_xi_1,), (1/_p,))'"
     ]
    }
   ],
   "source": [
    "sym.limit(rhs_jac.subs({x1: 0, x2: 0})[0, 0], x0, 0)"
   ]
  },
  {
   "cell_type": "code",
   "execution_count": 185,
   "metadata": {
    "collapsed": false
   },
   "outputs": [
    {
     "data": {
      "text/plain": [
       "Matrix([\n",
       "[nan,               0,                                                                                   0],\n",
       "[nan, -1 + 1/(2*PiAA),                                                                                   0],\n",
       "[nan,               0, -1 + (PiAa*Subs(Derivative(Sg(_xi_1), _xi_1), (_xi_1,), (0,)) + Piaa)/(4*PiAA*Piaa)]])"
      ]
     },
     "execution_count": 185,
     "metadata": {},
     "output_type": "execute_result"
    }
   ],
   "source": [
    "rhs_jac.subs({x0: 0, x1: 0, x2: 0})"
   ]
  },
  {
   "cell_type": "code",
   "execution_count": 170,
   "metadata": {
    "collapsed": true
   },
   "outputs": [],
   "source": [
    "evaluated_jac.eigenvects?"
   ]
  },
  {
   "cell_type": "code",
   "execution_count": 169,
   "metadata": {
    "collapsed": false
   },
   "outputs": [
    {
     "data": {
      "text/plain": [
       "[(0, 1, [Matrix([\n",
       "   [(PiAA + PiaA*Subs(Derivative(SG(_xi_1), _xi_1), (_xi_1,), (1,)))*(-(-PiAA/2 - PiaA*Subs(Derivative(SG(_xi_1), _xi_1), (_xi_1,), (1,))/2)*((2*PiAa + 2*PiaA)*Subs(Derivative(SG(_xi_1), _xi_1), (_xi_1,), (1,)) - 2*Subs(Derivative(SG(_xi_1), _xi_1), (_xi_1,), (1,)) + (4*PiAA*Subs(Derivative(SG(_xi_1), _xi_1), (_xi_1,), (1,)) - PiAA/2 - 2*PiAa*Subs(Derivative(SG(_xi_1), _xi_1), (_xi_1,), (1,)) - PiaA*Subs(Derivative(SG(_xi_1), _xi_1), (_xi_1,), (1,))/2)/(2*PiAA))/(2*PiAA*(2*PiAa*Subs(Derivative(SG(_xi_1), _xi_1), (_xi_1,), (1,)) + 2*PiaA*Subs(Derivative(SG(_xi_1), _xi_1), (_xi_1,), (1,)) - 1/4 - PiAa*Subs(Derivative(SG(_xi_1), _xi_1), (_xi_1,), (1,))/PiAA - PiaA*Subs(Derivative(SG(_xi_1), _xi_1), (_xi_1,), (1,))/(4*PiAA))) + (-PiAA/2 - PiaA*Subs(Derivative(SG(_xi_1), _xi_1), (_xi_1,), (1,))/2)/(2*PiAA))*(PiAA*(-8*PiAa*Subs(Derivative(SG(_xi_1), _xi_1), (_xi_1,), (1,)) - 8*PiaA*Subs(Derivative(SG(_xi_1), _xi_1), (_xi_1,), (1,)) + 1) + 4*PiAa*Subs(Derivative(SG(_xi_1), _xi_1), (_xi_1,), (1,)) + PiaA*Subs(Derivative(SG(_xi_1), _xi_1), (_xi_1,), (1,)))/(((-3*PiAA + PiaA*Subs(Derivative(SG(_xi_1), _xi_1), (_xi_1,), (1,)))*(PiAA*(-8*PiAa*Subs(Derivative(SG(_xi_1), _xi_1), (_xi_1,), (1,)) - 8*PiaA*Subs(Derivative(SG(_xi_1), _xi_1), (_xi_1,), (1,)) + 1) + 4*PiAa*Subs(Derivative(SG(_xi_1), _xi_1), (_xi_1,), (1,)) + PiaA*Subs(Derivative(SG(_xi_1), _xi_1), (_xi_1,), (1,))) - (PiAA + PiaA*Subs(Derivative(SG(_xi_1), _xi_1), (_xi_1,), (1,)))**2)*(2*PiAa*Subs(Derivative(SG(_xi_1), _xi_1), (_xi_1,), (1,)) + 2*PiaA*Subs(Derivative(SG(_xi_1), _xi_1), (_xi_1,), (1,)) - 1/4 - PiAa*Subs(Derivative(SG(_xi_1), _xi_1), (_xi_1,), (1,))/PiAA - PiaA*Subs(Derivative(SG(_xi_1), _xi_1), (_xi_1,), (1,))/(4*PiAA))) - ((2*PiAa + 2*PiaA)*Subs(Derivative(SG(_xi_1), _xi_1), (_xi_1,), (1,)) - 2*Subs(Derivative(SG(_xi_1), _xi_1), (_xi_1,), (1,)) + (4*PiAA*Subs(Derivative(SG(_xi_1), _xi_1), (_xi_1,), (1,)) - PiAA/2 - 2*PiAa*Subs(Derivative(SG(_xi_1), _xi_1), (_xi_1,), (1,)) - PiaA*Subs(Derivative(SG(_xi_1), _xi_1), (_xi_1,), (1,))/2)/(2*PiAA))/(2*PiAa*Subs(Derivative(SG(_xi_1), _xi_1), (_xi_1,), (1,)) + 2*PiaA*Subs(Derivative(SG(_xi_1), _xi_1), (_xi_1,), (1,)) - 1/4 - PiAa*Subs(Derivative(SG(_xi_1), _xi_1), (_xi_1,), (1,))/PiAA - PiaA*Subs(Derivative(SG(_xi_1), _xi_1), (_xi_1,), (1,))/(4*PiAA))],\n",
       "   [                                                                                                                                                                                                                                                                                                                                                                                                                                                                                                                                                                                                                                                                                                                                                                                                                                                                                                                                   -4*PiAA*(-(-PiAA/2 - PiaA*Subs(Derivative(SG(_xi_1), _xi_1), (_xi_1,), (1,))/2)*((2*PiAa + 2*PiaA)*Subs(Derivative(SG(_xi_1), _xi_1), (_xi_1,), (1,)) - 2*Subs(Derivative(SG(_xi_1), _xi_1), (_xi_1,), (1,)) + (4*PiAA*Subs(Derivative(SG(_xi_1), _xi_1), (_xi_1,), (1,)) - PiAA/2 - 2*PiAa*Subs(Derivative(SG(_xi_1), _xi_1), (_xi_1,), (1,)) - PiaA*Subs(Derivative(SG(_xi_1), _xi_1), (_xi_1,), (1,))/2)/(2*PiAA))/(2*PiAA*(2*PiAa*Subs(Derivative(SG(_xi_1), _xi_1), (_xi_1,), (1,)) + 2*PiaA*Subs(Derivative(SG(_xi_1), _xi_1), (_xi_1,), (1,)) - 1/4 - PiAa*Subs(Derivative(SG(_xi_1), _xi_1), (_xi_1,), (1,))/PiAA - PiaA*Subs(Derivative(SG(_xi_1), _xi_1), (_xi_1,), (1,))/(4*PiAA))) + (-PiAA/2 - PiaA*Subs(Derivative(SG(_xi_1), _xi_1), (_xi_1,), (1,))/2)/(2*PiAA))*(PiAA*(-8*PiAa*Subs(Derivative(SG(_xi_1), _xi_1), (_xi_1,), (1,)) - 8*PiaA*Subs(Derivative(SG(_xi_1), _xi_1), (_xi_1,), (1,)) + 1) + 4*PiAa*Subs(Derivative(SG(_xi_1), _xi_1), (_xi_1,), (1,)) + PiaA*Subs(Derivative(SG(_xi_1), _xi_1), (_xi_1,), (1,)))/((-3*PiAA + PiaA*Subs(Derivative(SG(_xi_1), _xi_1), (_xi_1,), (1,)))*(PiAA*(-8*PiAa*Subs(Derivative(SG(_xi_1), _xi_1), (_xi_1,), (1,)) - 8*PiaA*Subs(Derivative(SG(_xi_1), _xi_1), (_xi_1,), (1,)) + 1) + 4*PiAa*Subs(Derivative(SG(_xi_1), _xi_1), (_xi_1,), (1,)) + PiaA*Subs(Derivative(SG(_xi_1), _xi_1), (_xi_1,), (1,))) - (PiAA + PiaA*Subs(Derivative(SG(_xi_1), _xi_1), (_xi_1,), (1,)))**2)],\n",
       "   [                                                                                                                                                                                                                                                                                                                                                                                                                                                                                                                                                                                                                                                                                                                                                                                                                                                                                                                                                                                                                                                                                                                                                                                                                                                                                                                                                                                                                                                                                                                                                                                                                                                                                                                                                                                                                                                                                                                                                                                                                                                                                                                                                                                                                                                                                                                                                                                  1]])]),\n",
       " ((8*PiAA*PiAa*Subs(Derivative(SG(_xi_1), _xi_1), (_xi_1,), (1,)) + 8*PiAA*PiaA*Subs(Derivative(SG(_xi_1), _xi_1), (_xi_1,), (1,)) - 5*PiAA - 4*PiAa*Subs(Derivative(SG(_xi_1), _xi_1), (_xi_1,), (1,)) - PiaA*Subs(Derivative(SG(_xi_1), _xi_1), (_xi_1,), (1,)))/(8*PiAA) - sqrt(PiAA**2*(8*PiAA*PiAa*Subs(Derivative(SG(_xi_1), _xi_1), (_xi_1,), (1,)) + 8*PiAA*PiaA*Subs(Derivative(SG(_xi_1), _xi_1), (_xi_1,), (1,)) + PiAA - 4*PiAa*Subs(Derivative(SG(_xi_1), _xi_1), (_xi_1,), (1,)) - 3*PiaA*Subs(Derivative(SG(_xi_1), _xi_1), (_xi_1,), (1,)))**2)/(8*PiAA**2),\n",
       "  1,\n",
       "  [Matrix([\n",
       "   [2*PiAA*(PiAA + PiaA*Subs(Derivative(SG(_xi_1), _xi_1), (_xi_1,), (1,)))*(-(-PiAA/2 - PiaA*Subs(Derivative(SG(_xi_1), _xi_1), (_xi_1,), (1,))/2)*((2*PiAa + 2*PiaA)*Subs(Derivative(SG(_xi_1), _xi_1), (_xi_1,), (1,)) - 2*Subs(Derivative(SG(_xi_1), _xi_1), (_xi_1,), (1,)) + (4*PiAA*Subs(Derivative(SG(_xi_1), _xi_1), (_xi_1,), (1,)) - PiAA/2 - 2*PiAa*Subs(Derivative(SG(_xi_1), _xi_1), (_xi_1,), (1,)) - PiaA*Subs(Derivative(SG(_xi_1), _xi_1), (_xi_1,), (1,))/2)/(2*PiAA))/(2*PiAA*(PiAa*Subs(Derivative(SG(_xi_1), _xi_1), (_xi_1,), (1,)) + PiaA*Subs(Derivative(SG(_xi_1), _xi_1), (_xi_1,), (1,)) + 3/8 - PiAa*Subs(Derivative(SG(_xi_1), _xi_1), (_xi_1,), (1,))/(2*PiAA) - PiaA*Subs(Derivative(SG(_xi_1), _xi_1), (_xi_1,), (1,))/(8*PiAA) + sqrt(PiAA**2*(8*PiAA*PiAa*Subs(Derivative(SG(_xi_1), _xi_1), (_xi_1,), (1,)) + 8*PiAA*PiaA*Subs(Derivative(SG(_xi_1), _xi_1), (_xi_1,), (1,)) + PiAA - 4*PiAa*Subs(Derivative(SG(_xi_1), _xi_1), (_xi_1,), (1,)) - 3*PiaA*Subs(Derivative(SG(_xi_1), _xi_1), (_xi_1,), (1,)))**2)/(8*PiAA**2))) + (-PiAA/2 - PiaA*Subs(Derivative(SG(_xi_1), _xi_1), (_xi_1,), (1,))/2)/(2*PiAA))*(PiAA**2*(8*PiAa*Subs(Derivative(SG(_xi_1), _xi_1), (_xi_1,), (1,)) + 8*PiaA*Subs(Derivative(SG(_xi_1), _xi_1), (_xi_1,), (1,)) + 3) - PiAA*(4*PiAa + PiaA)*Subs(Derivative(SG(_xi_1), _xi_1), (_xi_1,), (1,)) + sqrt(PiAA**2*(8*PiAA*PiAa*Subs(Derivative(SG(_xi_1), _xi_1), (_xi_1,), (1,)) + 8*PiAA*PiaA*Subs(Derivative(SG(_xi_1), _xi_1), (_xi_1,), (1,)) + PiAA - 4*PiAa*Subs(Derivative(SG(_xi_1), _xi_1), (_xi_1,), (1,)) - 3*PiaA*Subs(Derivative(SG(_xi_1), _xi_1), (_xi_1,), (1,)))**2))/((4*PiAA**2*(PiAA + PiaA*Subs(Derivative(SG(_xi_1), _xi_1), (_xi_1,), (1,)))**2 + PiAA*(PiAA**2*(8*PiAa*Subs(Derivative(SG(_xi_1), _xi_1), (_xi_1,), (1,)) + 8*PiaA*Subs(Derivative(SG(_xi_1), _xi_1), (_xi_1,), (1,)) + 3) - PiAA*(4*PiAa + PiaA)*Subs(Derivative(SG(_xi_1), _xi_1), (_xi_1,), (1,)) + sqrt(PiAA**2*(8*PiAA*PiAa*Subs(Derivative(SG(_xi_1), _xi_1), (_xi_1,), (1,)) + 8*PiAA*PiaA*Subs(Derivative(SG(_xi_1), _xi_1), (_xi_1,), (1,)) + PiAA - 4*PiAa*Subs(Derivative(SG(_xi_1), _xi_1), (_xi_1,), (1,)) - 3*PiaA*Subs(Derivative(SG(_xi_1), _xi_1), (_xi_1,), (1,)))**2))*(-8*PiAA*PiAa*Subs(Derivative(SG(_xi_1), _xi_1), (_xi_1,), (1,)) - 8*PiAA*PiaA*Subs(Derivative(SG(_xi_1), _xi_1), (_xi_1,), (1,)) - PiAA + 4*PiAa*Subs(Derivative(SG(_xi_1), _xi_1), (_xi_1,), (1,)) + 3*PiaA*Subs(Derivative(SG(_xi_1), _xi_1), (_xi_1,), (1,))) + sqrt(PiAA**2*(8*PiAA*PiAa*Subs(Derivative(SG(_xi_1), _xi_1), (_xi_1,), (1,)) + 8*PiAA*PiaA*Subs(Derivative(SG(_xi_1), _xi_1), (_xi_1,), (1,)) + PiAA - 4*PiAa*Subs(Derivative(SG(_xi_1), _xi_1), (_xi_1,), (1,)) - 3*PiaA*Subs(Derivative(SG(_xi_1), _xi_1), (_xi_1,), (1,)))**2)*(PiAA**2*(8*PiAa*Subs(Derivative(SG(_xi_1), _xi_1), (_xi_1,), (1,)) + 8*PiaA*Subs(Derivative(SG(_xi_1), _xi_1), (_xi_1,), (1,)) + 3) - PiAA*(4*PiAa + PiaA)*Subs(Derivative(SG(_xi_1), _xi_1), (_xi_1,), (1,)) + sqrt(PiAA**2*(8*PiAA*PiAa*Subs(Derivative(SG(_xi_1), _xi_1), (_xi_1,), (1,)) + 8*PiAA*PiaA*Subs(Derivative(SG(_xi_1), _xi_1), (_xi_1,), (1,)) + PiAA - 4*PiAa*Subs(Derivative(SG(_xi_1), _xi_1), (_xi_1,), (1,)) - 3*PiaA*Subs(Derivative(SG(_xi_1), _xi_1), (_xi_1,), (1,)))**2)))*(PiAa*Subs(Derivative(SG(_xi_1), _xi_1), (_xi_1,), (1,)) + PiaA*Subs(Derivative(SG(_xi_1), _xi_1), (_xi_1,), (1,)) + 3/8 - PiAa*Subs(Derivative(SG(_xi_1), _xi_1), (_xi_1,), (1,))/(2*PiAA) - PiaA*Subs(Derivative(SG(_xi_1), _xi_1), (_xi_1,), (1,))/(8*PiAA) + sqrt(PiAA**2*(8*PiAA*PiAa*Subs(Derivative(SG(_xi_1), _xi_1), (_xi_1,), (1,)) + 8*PiAA*PiaA*Subs(Derivative(SG(_xi_1), _xi_1), (_xi_1,), (1,)) + PiAA - 4*PiAa*Subs(Derivative(SG(_xi_1), _xi_1), (_xi_1,), (1,)) - 3*PiaA*Subs(Derivative(SG(_xi_1), _xi_1), (_xi_1,), (1,)))**2)/(8*PiAA**2))) - ((2*PiAa + 2*PiaA)*Subs(Derivative(SG(_xi_1), _xi_1), (_xi_1,), (1,)) - 2*Subs(Derivative(SG(_xi_1), _xi_1), (_xi_1,), (1,)) + (4*PiAA*Subs(Derivative(SG(_xi_1), _xi_1), (_xi_1,), (1,)) - PiAA/2 - 2*PiAa*Subs(Derivative(SG(_xi_1), _xi_1), (_xi_1,), (1,)) - PiaA*Subs(Derivative(SG(_xi_1), _xi_1), (_xi_1,), (1,))/2)/(2*PiAA))/(PiAa*Subs(Derivative(SG(_xi_1), _xi_1), (_xi_1,), (1,)) + PiaA*Subs(Derivative(SG(_xi_1), _xi_1), (_xi_1,), (1,)) + 3/8 - PiAa*Subs(Derivative(SG(_xi_1), _xi_1), (_xi_1,), (1,))/(2*PiAA) - PiaA*Subs(Derivative(SG(_xi_1), _xi_1), (_xi_1,), (1,))/(8*PiAA) + sqrt(PiAA**2*(8*PiAA*PiAa*Subs(Derivative(SG(_xi_1), _xi_1), (_xi_1,), (1,)) + 8*PiAA*PiaA*Subs(Derivative(SG(_xi_1), _xi_1), (_xi_1,), (1,)) + PiAA - 4*PiAa*Subs(Derivative(SG(_xi_1), _xi_1), (_xi_1,), (1,)) - 3*PiaA*Subs(Derivative(SG(_xi_1), _xi_1), (_xi_1,), (1,)))**2)/(8*PiAA**2))],\n",
       "   [                                                                                                                                                                                                                                                                                                                                                                                                                                                                                                                                                                                                                                                                                                                                                                                                                                                                                                                                                                                                                                                                                                                                                                                                                                                                                                                                                                                                                                                                                                                                       -8*PiAA**2*(-(-PiAA/2 - PiaA*Subs(Derivative(SG(_xi_1), _xi_1), (_xi_1,), (1,))/2)*((2*PiAa + 2*PiaA)*Subs(Derivative(SG(_xi_1), _xi_1), (_xi_1,), (1,)) - 2*Subs(Derivative(SG(_xi_1), _xi_1), (_xi_1,), (1,)) + (4*PiAA*Subs(Derivative(SG(_xi_1), _xi_1), (_xi_1,), (1,)) - PiAA/2 - 2*PiAa*Subs(Derivative(SG(_xi_1), _xi_1), (_xi_1,), (1,)) - PiaA*Subs(Derivative(SG(_xi_1), _xi_1), (_xi_1,), (1,))/2)/(2*PiAA))/(2*PiAA*(PiAa*Subs(Derivative(SG(_xi_1), _xi_1), (_xi_1,), (1,)) + PiaA*Subs(Derivative(SG(_xi_1), _xi_1), (_xi_1,), (1,)) + 3/8 - PiAa*Subs(Derivative(SG(_xi_1), _xi_1), (_xi_1,), (1,))/(2*PiAA) - PiaA*Subs(Derivative(SG(_xi_1), _xi_1), (_xi_1,), (1,))/(8*PiAA) + sqrt(PiAA**2*(8*PiAA*PiAa*Subs(Derivative(SG(_xi_1), _xi_1), (_xi_1,), (1,)) + 8*PiAA*PiaA*Subs(Derivative(SG(_xi_1), _xi_1), (_xi_1,), (1,)) + PiAA - 4*PiAa*Subs(Derivative(SG(_xi_1), _xi_1), (_xi_1,), (1,)) - 3*PiaA*Subs(Derivative(SG(_xi_1), _xi_1), (_xi_1,), (1,)))**2)/(8*PiAA**2))) + (-PiAA/2 - PiaA*Subs(Derivative(SG(_xi_1), _xi_1), (_xi_1,), (1,))/2)/(2*PiAA))*(PiAA**2*(8*PiAa*Subs(Derivative(SG(_xi_1), _xi_1), (_xi_1,), (1,)) + 8*PiaA*Subs(Derivative(SG(_xi_1), _xi_1), (_xi_1,), (1,)) + 3) - PiAA*(4*PiAa + PiaA)*Subs(Derivative(SG(_xi_1), _xi_1), (_xi_1,), (1,)) + sqrt(PiAA**2*(8*PiAA*PiAa*Subs(Derivative(SG(_xi_1), _xi_1), (_xi_1,), (1,)) + 8*PiAA*PiaA*Subs(Derivative(SG(_xi_1), _xi_1), (_xi_1,), (1,)) + PiAA - 4*PiAa*Subs(Derivative(SG(_xi_1), _xi_1), (_xi_1,), (1,)) - 3*PiaA*Subs(Derivative(SG(_xi_1), _xi_1), (_xi_1,), (1,)))**2))/(4*PiAA**2*(PiAA + PiaA*Subs(Derivative(SG(_xi_1), _xi_1), (_xi_1,), (1,)))**2 + PiAA*(PiAA**2*(8*PiAa*Subs(Derivative(SG(_xi_1), _xi_1), (_xi_1,), (1,)) + 8*PiaA*Subs(Derivative(SG(_xi_1), _xi_1), (_xi_1,), (1,)) + 3) - PiAA*(4*PiAa + PiaA)*Subs(Derivative(SG(_xi_1), _xi_1), (_xi_1,), (1,)) + sqrt(PiAA**2*(8*PiAA*PiAa*Subs(Derivative(SG(_xi_1), _xi_1), (_xi_1,), (1,)) + 8*PiAA*PiaA*Subs(Derivative(SG(_xi_1), _xi_1), (_xi_1,), (1,)) + PiAA - 4*PiAa*Subs(Derivative(SG(_xi_1), _xi_1), (_xi_1,), (1,)) - 3*PiaA*Subs(Derivative(SG(_xi_1), _xi_1), (_xi_1,), (1,)))**2))*(-8*PiAA*PiAa*Subs(Derivative(SG(_xi_1), _xi_1), (_xi_1,), (1,)) - 8*PiAA*PiaA*Subs(Derivative(SG(_xi_1), _xi_1), (_xi_1,), (1,)) - PiAA + 4*PiAa*Subs(Derivative(SG(_xi_1), _xi_1), (_xi_1,), (1,)) + 3*PiaA*Subs(Derivative(SG(_xi_1), _xi_1), (_xi_1,), (1,))) + sqrt(PiAA**2*(8*PiAA*PiAa*Subs(Derivative(SG(_xi_1), _xi_1), (_xi_1,), (1,)) + 8*PiAA*PiaA*Subs(Derivative(SG(_xi_1), _xi_1), (_xi_1,), (1,)) + PiAA - 4*PiAa*Subs(Derivative(SG(_xi_1), _xi_1), (_xi_1,), (1,)) - 3*PiaA*Subs(Derivative(SG(_xi_1), _xi_1), (_xi_1,), (1,)))**2)*(PiAA**2*(8*PiAa*Subs(Derivative(SG(_xi_1), _xi_1), (_xi_1,), (1,)) + 8*PiaA*Subs(Derivative(SG(_xi_1), _xi_1), (_xi_1,), (1,)) + 3) - PiAA*(4*PiAa + PiaA)*Subs(Derivative(SG(_xi_1), _xi_1), (_xi_1,), (1,)) + sqrt(PiAA**2*(8*PiAA*PiAa*Subs(Derivative(SG(_xi_1), _xi_1), (_xi_1,), (1,)) + 8*PiAA*PiaA*Subs(Derivative(SG(_xi_1), _xi_1), (_xi_1,), (1,)) + PiAA - 4*PiAa*Subs(Derivative(SG(_xi_1), _xi_1), (_xi_1,), (1,)) - 3*PiaA*Subs(Derivative(SG(_xi_1), _xi_1), (_xi_1,), (1,)))**2)))],\n",
       "   [                                                                                                                                                                                                                                                                                                                                                                                                                                                                                                                                                                                                                                                                                                                                                                                                                                                                                                                                                                                                                                                                                                                                                                                                                                                                                                                                                                                                                                                                                                                                                                                                                                                                                                                                                                                                                                                                                                                                                                                                                                                                                                                                                                                                                                                                                                                                                                                                                                                                                                                                                                                                                                                                                                                                                                                                                                                                                                                                                                                                                                                                                                                                                                                                                                                                                                                                                                                                                                                                                                                                                                                                                                                                                                                                                                                                                                                                                                                                                                                                                                                                                                                                                                                                                                                                                                                                                                                                                                                                                                                                                                                                                                                                                                                                                                                  1]])]),\n",
       " ((8*PiAA*PiAa*Subs(Derivative(SG(_xi_1), _xi_1), (_xi_1,), (1,)) + 8*PiAA*PiaA*Subs(Derivative(SG(_xi_1), _xi_1), (_xi_1,), (1,)) - 5*PiAA - 4*PiAa*Subs(Derivative(SG(_xi_1), _xi_1), (_xi_1,), (1,)) - PiaA*Subs(Derivative(SG(_xi_1), _xi_1), (_xi_1,), (1,)))/(8*PiAA) + sqrt(PiAA**2*(8*PiAA*PiAa*Subs(Derivative(SG(_xi_1), _xi_1), (_xi_1,), (1,)) + 8*PiAA*PiaA*Subs(Derivative(SG(_xi_1), _xi_1), (_xi_1,), (1,)) + PiAA - 4*PiAa*Subs(Derivative(SG(_xi_1), _xi_1), (_xi_1,), (1,)) - 3*PiaA*Subs(Derivative(SG(_xi_1), _xi_1), (_xi_1,), (1,)))**2)/(8*PiAA**2),\n",
       "  1,\n",
       "  [Matrix([\n",
       "   [2*PiAA*(PiAA + PiaA*Subs(Derivative(SG(_xi_1), _xi_1), (_xi_1,), (1,)))*(-(-PiAA/2 - PiaA*Subs(Derivative(SG(_xi_1), _xi_1), (_xi_1,), (1,))/2)*((2*PiAa + 2*PiaA)*Subs(Derivative(SG(_xi_1), _xi_1), (_xi_1,), (1,)) - 2*Subs(Derivative(SG(_xi_1), _xi_1), (_xi_1,), (1,)) + (4*PiAA*Subs(Derivative(SG(_xi_1), _xi_1), (_xi_1,), (1,)) - PiAA/2 - 2*PiAa*Subs(Derivative(SG(_xi_1), _xi_1), (_xi_1,), (1,)) - PiaA*Subs(Derivative(SG(_xi_1), _xi_1), (_xi_1,), (1,))/2)/(2*PiAA))/(2*PiAA*(PiAa*Subs(Derivative(SG(_xi_1), _xi_1), (_xi_1,), (1,)) + PiaA*Subs(Derivative(SG(_xi_1), _xi_1), (_xi_1,), (1,)) + 3/8 - PiAa*Subs(Derivative(SG(_xi_1), _xi_1), (_xi_1,), (1,))/(2*PiAA) - PiaA*Subs(Derivative(SG(_xi_1), _xi_1), (_xi_1,), (1,))/(8*PiAA) - sqrt(PiAA**2*(8*PiAA*PiAa*Subs(Derivative(SG(_xi_1), _xi_1), (_xi_1,), (1,)) + 8*PiAA*PiaA*Subs(Derivative(SG(_xi_1), _xi_1), (_xi_1,), (1,)) + PiAA - 4*PiAa*Subs(Derivative(SG(_xi_1), _xi_1), (_xi_1,), (1,)) - 3*PiaA*Subs(Derivative(SG(_xi_1), _xi_1), (_xi_1,), (1,)))**2)/(8*PiAA**2))) + (-PiAA/2 - PiaA*Subs(Derivative(SG(_xi_1), _xi_1), (_xi_1,), (1,))/2)/(2*PiAA))*(PiAA**2*(8*PiAa*Subs(Derivative(SG(_xi_1), _xi_1), (_xi_1,), (1,)) + 8*PiaA*Subs(Derivative(SG(_xi_1), _xi_1), (_xi_1,), (1,)) + 3) - PiAA*(4*PiAa + PiaA)*Subs(Derivative(SG(_xi_1), _xi_1), (_xi_1,), (1,)) - sqrt(PiAA**2*(8*PiAA*PiAa*Subs(Derivative(SG(_xi_1), _xi_1), (_xi_1,), (1,)) + 8*PiAA*PiaA*Subs(Derivative(SG(_xi_1), _xi_1), (_xi_1,), (1,)) + PiAA - 4*PiAa*Subs(Derivative(SG(_xi_1), _xi_1), (_xi_1,), (1,)) - 3*PiaA*Subs(Derivative(SG(_xi_1), _xi_1), (_xi_1,), (1,)))**2))/((4*PiAA**2*(PiAA + PiaA*Subs(Derivative(SG(_xi_1), _xi_1), (_xi_1,), (1,)))**2 + PiAA*(PiAA**2*(8*PiAa*Subs(Derivative(SG(_xi_1), _xi_1), (_xi_1,), (1,)) + 8*PiaA*Subs(Derivative(SG(_xi_1), _xi_1), (_xi_1,), (1,)) + 3) - PiAA*(4*PiAa + PiaA)*Subs(Derivative(SG(_xi_1), _xi_1), (_xi_1,), (1,)) - sqrt(PiAA**2*(8*PiAA*PiAa*Subs(Derivative(SG(_xi_1), _xi_1), (_xi_1,), (1,)) + 8*PiAA*PiaA*Subs(Derivative(SG(_xi_1), _xi_1), (_xi_1,), (1,)) + PiAA - 4*PiAa*Subs(Derivative(SG(_xi_1), _xi_1), (_xi_1,), (1,)) - 3*PiaA*Subs(Derivative(SG(_xi_1), _xi_1), (_xi_1,), (1,)))**2))*(-8*PiAA*PiAa*Subs(Derivative(SG(_xi_1), _xi_1), (_xi_1,), (1,)) - 8*PiAA*PiaA*Subs(Derivative(SG(_xi_1), _xi_1), (_xi_1,), (1,)) - PiAA + 4*PiAa*Subs(Derivative(SG(_xi_1), _xi_1), (_xi_1,), (1,)) + 3*PiaA*Subs(Derivative(SG(_xi_1), _xi_1), (_xi_1,), (1,))) - sqrt(PiAA**2*(8*PiAA*PiAa*Subs(Derivative(SG(_xi_1), _xi_1), (_xi_1,), (1,)) + 8*PiAA*PiaA*Subs(Derivative(SG(_xi_1), _xi_1), (_xi_1,), (1,)) + PiAA - 4*PiAa*Subs(Derivative(SG(_xi_1), _xi_1), (_xi_1,), (1,)) - 3*PiaA*Subs(Derivative(SG(_xi_1), _xi_1), (_xi_1,), (1,)))**2)*(PiAA**2*(8*PiAa*Subs(Derivative(SG(_xi_1), _xi_1), (_xi_1,), (1,)) + 8*PiaA*Subs(Derivative(SG(_xi_1), _xi_1), (_xi_1,), (1,)) + 3) - PiAA*(4*PiAa + PiaA)*Subs(Derivative(SG(_xi_1), _xi_1), (_xi_1,), (1,)) - sqrt(PiAA**2*(8*PiAA*PiAa*Subs(Derivative(SG(_xi_1), _xi_1), (_xi_1,), (1,)) + 8*PiAA*PiaA*Subs(Derivative(SG(_xi_1), _xi_1), (_xi_1,), (1,)) + PiAA - 4*PiAa*Subs(Derivative(SG(_xi_1), _xi_1), (_xi_1,), (1,)) - 3*PiaA*Subs(Derivative(SG(_xi_1), _xi_1), (_xi_1,), (1,)))**2)))*(PiAa*Subs(Derivative(SG(_xi_1), _xi_1), (_xi_1,), (1,)) + PiaA*Subs(Derivative(SG(_xi_1), _xi_1), (_xi_1,), (1,)) + 3/8 - PiAa*Subs(Derivative(SG(_xi_1), _xi_1), (_xi_1,), (1,))/(2*PiAA) - PiaA*Subs(Derivative(SG(_xi_1), _xi_1), (_xi_1,), (1,))/(8*PiAA) - sqrt(PiAA**2*(8*PiAA*PiAa*Subs(Derivative(SG(_xi_1), _xi_1), (_xi_1,), (1,)) + 8*PiAA*PiaA*Subs(Derivative(SG(_xi_1), _xi_1), (_xi_1,), (1,)) + PiAA - 4*PiAa*Subs(Derivative(SG(_xi_1), _xi_1), (_xi_1,), (1,)) - 3*PiaA*Subs(Derivative(SG(_xi_1), _xi_1), (_xi_1,), (1,)))**2)/(8*PiAA**2))) - ((2*PiAa + 2*PiaA)*Subs(Derivative(SG(_xi_1), _xi_1), (_xi_1,), (1,)) - 2*Subs(Derivative(SG(_xi_1), _xi_1), (_xi_1,), (1,)) + (4*PiAA*Subs(Derivative(SG(_xi_1), _xi_1), (_xi_1,), (1,)) - PiAA/2 - 2*PiAa*Subs(Derivative(SG(_xi_1), _xi_1), (_xi_1,), (1,)) - PiaA*Subs(Derivative(SG(_xi_1), _xi_1), (_xi_1,), (1,))/2)/(2*PiAA))/(PiAa*Subs(Derivative(SG(_xi_1), _xi_1), (_xi_1,), (1,)) + PiaA*Subs(Derivative(SG(_xi_1), _xi_1), (_xi_1,), (1,)) + 3/8 - PiAa*Subs(Derivative(SG(_xi_1), _xi_1), (_xi_1,), (1,))/(2*PiAA) - PiaA*Subs(Derivative(SG(_xi_1), _xi_1), (_xi_1,), (1,))/(8*PiAA) - sqrt(PiAA**2*(8*PiAA*PiAa*Subs(Derivative(SG(_xi_1), _xi_1), (_xi_1,), (1,)) + 8*PiAA*PiaA*Subs(Derivative(SG(_xi_1), _xi_1), (_xi_1,), (1,)) + PiAA - 4*PiAa*Subs(Derivative(SG(_xi_1), _xi_1), (_xi_1,), (1,)) - 3*PiaA*Subs(Derivative(SG(_xi_1), _xi_1), (_xi_1,), (1,)))**2)/(8*PiAA**2))],\n",
       "   [                                                                                                                                                                                                                                                                                                                                                                                                                                                                                                                                                                                                                                                                                                                                                                                                                                                                                                                                                                                                                                                                                                                                                                                                                                                                                                                                                                                                                                                                                                                                       -8*PiAA**2*(-(-PiAA/2 - PiaA*Subs(Derivative(SG(_xi_1), _xi_1), (_xi_1,), (1,))/2)*((2*PiAa + 2*PiaA)*Subs(Derivative(SG(_xi_1), _xi_1), (_xi_1,), (1,)) - 2*Subs(Derivative(SG(_xi_1), _xi_1), (_xi_1,), (1,)) + (4*PiAA*Subs(Derivative(SG(_xi_1), _xi_1), (_xi_1,), (1,)) - PiAA/2 - 2*PiAa*Subs(Derivative(SG(_xi_1), _xi_1), (_xi_1,), (1,)) - PiaA*Subs(Derivative(SG(_xi_1), _xi_1), (_xi_1,), (1,))/2)/(2*PiAA))/(2*PiAA*(PiAa*Subs(Derivative(SG(_xi_1), _xi_1), (_xi_1,), (1,)) + PiaA*Subs(Derivative(SG(_xi_1), _xi_1), (_xi_1,), (1,)) + 3/8 - PiAa*Subs(Derivative(SG(_xi_1), _xi_1), (_xi_1,), (1,))/(2*PiAA) - PiaA*Subs(Derivative(SG(_xi_1), _xi_1), (_xi_1,), (1,))/(8*PiAA) - sqrt(PiAA**2*(8*PiAA*PiAa*Subs(Derivative(SG(_xi_1), _xi_1), (_xi_1,), (1,)) + 8*PiAA*PiaA*Subs(Derivative(SG(_xi_1), _xi_1), (_xi_1,), (1,)) + PiAA - 4*PiAa*Subs(Derivative(SG(_xi_1), _xi_1), (_xi_1,), (1,)) - 3*PiaA*Subs(Derivative(SG(_xi_1), _xi_1), (_xi_1,), (1,)))**2)/(8*PiAA**2))) + (-PiAA/2 - PiaA*Subs(Derivative(SG(_xi_1), _xi_1), (_xi_1,), (1,))/2)/(2*PiAA))*(PiAA**2*(8*PiAa*Subs(Derivative(SG(_xi_1), _xi_1), (_xi_1,), (1,)) + 8*PiaA*Subs(Derivative(SG(_xi_1), _xi_1), (_xi_1,), (1,)) + 3) - PiAA*(4*PiAa + PiaA)*Subs(Derivative(SG(_xi_1), _xi_1), (_xi_1,), (1,)) - sqrt(PiAA**2*(8*PiAA*PiAa*Subs(Derivative(SG(_xi_1), _xi_1), (_xi_1,), (1,)) + 8*PiAA*PiaA*Subs(Derivative(SG(_xi_1), _xi_1), (_xi_1,), (1,)) + PiAA - 4*PiAa*Subs(Derivative(SG(_xi_1), _xi_1), (_xi_1,), (1,)) - 3*PiaA*Subs(Derivative(SG(_xi_1), _xi_1), (_xi_1,), (1,)))**2))/(4*PiAA**2*(PiAA + PiaA*Subs(Derivative(SG(_xi_1), _xi_1), (_xi_1,), (1,)))**2 + PiAA*(PiAA**2*(8*PiAa*Subs(Derivative(SG(_xi_1), _xi_1), (_xi_1,), (1,)) + 8*PiaA*Subs(Derivative(SG(_xi_1), _xi_1), (_xi_1,), (1,)) + 3) - PiAA*(4*PiAa + PiaA)*Subs(Derivative(SG(_xi_1), _xi_1), (_xi_1,), (1,)) - sqrt(PiAA**2*(8*PiAA*PiAa*Subs(Derivative(SG(_xi_1), _xi_1), (_xi_1,), (1,)) + 8*PiAA*PiaA*Subs(Derivative(SG(_xi_1), _xi_1), (_xi_1,), (1,)) + PiAA - 4*PiAa*Subs(Derivative(SG(_xi_1), _xi_1), (_xi_1,), (1,)) - 3*PiaA*Subs(Derivative(SG(_xi_1), _xi_1), (_xi_1,), (1,)))**2))*(-8*PiAA*PiAa*Subs(Derivative(SG(_xi_1), _xi_1), (_xi_1,), (1,)) - 8*PiAA*PiaA*Subs(Derivative(SG(_xi_1), _xi_1), (_xi_1,), (1,)) - PiAA + 4*PiAa*Subs(Derivative(SG(_xi_1), _xi_1), (_xi_1,), (1,)) + 3*PiaA*Subs(Derivative(SG(_xi_1), _xi_1), (_xi_1,), (1,))) - sqrt(PiAA**2*(8*PiAA*PiAa*Subs(Derivative(SG(_xi_1), _xi_1), (_xi_1,), (1,)) + 8*PiAA*PiaA*Subs(Derivative(SG(_xi_1), _xi_1), (_xi_1,), (1,)) + PiAA - 4*PiAa*Subs(Derivative(SG(_xi_1), _xi_1), (_xi_1,), (1,)) - 3*PiaA*Subs(Derivative(SG(_xi_1), _xi_1), (_xi_1,), (1,)))**2)*(PiAA**2*(8*PiAa*Subs(Derivative(SG(_xi_1), _xi_1), (_xi_1,), (1,)) + 8*PiaA*Subs(Derivative(SG(_xi_1), _xi_1), (_xi_1,), (1,)) + 3) - PiAA*(4*PiAa + PiaA)*Subs(Derivative(SG(_xi_1), _xi_1), (_xi_1,), (1,)) - sqrt(PiAA**2*(8*PiAA*PiAa*Subs(Derivative(SG(_xi_1), _xi_1), (_xi_1,), (1,)) + 8*PiAA*PiaA*Subs(Derivative(SG(_xi_1), _xi_1), (_xi_1,), (1,)) + PiAA - 4*PiAa*Subs(Derivative(SG(_xi_1), _xi_1), (_xi_1,), (1,)) - 3*PiaA*Subs(Derivative(SG(_xi_1), _xi_1), (_xi_1,), (1,)))**2)))],\n",
       "   [                                                                                                                                                                                                                                                                                                                                                                                                                                                                                                                                                                                                                                                                                                                                                                                                                                                                                                                                                                                                                                                                                                                                                                                                                                                                                                                                                                                                                                                                                                                                                                                                                                                                                                                                                                                                                                                                                                                                                                                                                                                                                                                                                                                                                                                                                                                                                                                                                                                                                                                                                                                                                                                                                                                                                                                                                                                                                                                                                                                                                                                                                                                                                                                                                                                                                                                                                                                                                                                                                                                                                                                                                                                                                                                                                                                                                                                                                                                                                                                                                                                                                                                                                                                                                                                                                                                                                                                                                                                                                                                                                                                                                                                                                                                                                                                  1]])])]"
      ]
     },
     "execution_count": 169,
     "metadata": {},
     "output_type": "execute_result"
    }
   ],
   "source": [
    "evaluated_jac.eigenvects()"
   ]
  },
  {
   "cell_type": "code",
   "execution_count": null,
   "metadata": {
    "collapsed": true
   },
   "outputs": [],
   "source": [
    "(8*PiAA*PiAa*Subs(Derivative(SG(_xi_1), _xi_1), (_xi_1,), (1,)) + 8*PiAA*PiaA*Subs(Derivative(SG(_xi_1), _xi_1), (_xi_1,), (1,)) - 5*PiAA - 4*PiAa*Subs(Derivative(SG(_xi_1), _xi_1), (_xi_1,), (1,)) - PiaA*Subs(Derivative(SG(_xi_1), _xi_1), (_xi_1,), (1,)))/(8*PiAA) - sqrt(PiAA**2*(8*PiAA*PiAa*Subs(Derivative(SG(_xi_1), _xi_1), (_xi_1,), (1,)) + 8*PiAA*PiaA*Subs(Derivative(SG(_xi_1), _xi_1), (_xi_1,), (1,)) + PiAA - 4*PiAa*Subs(Derivative(SG(_xi_1), _xi_1), (_xi_1,), (1,)) - 3*PiaA*Subs(Derivative(SG(_xi_1), _xi_1), (_xi_1,), (1,)))**2)/(8*PiAA**2)"
   ]
  },
  {
   "cell_type": "code",
   "execution_count": 67,
   "metadata": {
    "collapsed": false
   },
   "outputs": [
    {
     "data": {
      "text/plain": [
       "-2 + 1/(2*PiAA) + (PiAa*Subs(Derivative(Sg(_xi_1), _xi_1), (_xi_1,), (0,)) + Piaa)/(4*PiAA*Piaa)"
      ]
     },
     "execution_count": 67,
     "metadata": {},
     "output_type": "execute_result"
    }
   ],
   "source": [
    "a.subs({'nan': 0}).trace()"
   ]
  },
  {
   "cell_type": "code",
   "execution_count": 66,
   "metadata": {
    "collapsed": false
   },
   "outputs": [
    {
     "data": {
      "text/plain": [
       "nan"
      ]
     },
     "execution_count": 66,
     "metadata": {},
     "output_type": "execute_result"
    }
   ],
   "source": [
    "a.trace()"
   ]
  },
  {
   "cell_type": "code",
   "execution_count": null,
   "metadata": {
    "collapsed": true
   },
   "outputs": [],
   "source": []
  }
 ],
 "metadata": {
  "kernelspec": {
   "display_name": "Python 3",
   "language": "python",
   "name": "python3"
  },
  "language_info": {
   "codemirror_mode": {
    "name": "ipython",
    "version": 3
   },
   "file_extension": ".py",
   "mimetype": "text/x-python",
   "name": "python",
   "nbconvert_exporter": "python",
   "pygments_lexer": "ipython3",
   "version": "3.4.3"
  }
 },
 "nbformat": 4,
 "nbformat_minor": 0
}
