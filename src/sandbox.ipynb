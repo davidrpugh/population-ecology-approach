{
 "cells": [
  {
   "cell_type": "code",
   "execution_count": 1,
   "metadata": {
    "collapsed": true
   },
   "outputs": [],
   "source": [
    "import sympy as sym"
   ]
  },
  {
   "cell_type": "markdown",
   "metadata": {},
   "source": [
    "# The model"
   ]
  },
  {
   "cell_type": "code",
   "execution_count": 306,
   "metadata": {
    "collapsed": true
   },
   "outputs": [],
   "source": [
    "class S(sym.Function):\n",
    "    \"\"\"Generic matching function\"\"\"\n",
    "    \n",
    "    is_real = True\n",
    "    \n",
    "    @classmethod\n",
    "    def eval(cls, x):\n",
    "        \"\"\"We require the S(0)=0 and S(1)=1\"\"\"\n",
    "        if x.is_Number and x is sym.S.Zero:\n",
    "            return sym.S.Zero\n",
    "        elif x.is_Number and x is sym.S.One:\n",
    "            return sym.S.One\n",
    "\n",
    "        \n",
    "class SG(S):\n",
    "    \"\"\"Matching function for G males.\"\"\"\n",
    "    \n",
    "\n",
    "class Sg(S):\n",
    "    \"\"\"Matching function for g males.\"\"\"\n"
   ]
  },
  {
   "cell_type": "code",
   "execution_count": 307,
   "metadata": {
    "collapsed": true
   },
   "outputs": [],
   "source": [
    "x0, x1, x2 = sym.symbols('x0, x1, x2')\n",
    "PiaA, PiAA, Piaa, PiAa = sym.symbols('PiaA, PiAA, Piaa, PiAa')"
   ]
  },
  {
   "cell_type": "code",
   "execution_count": 308,
   "metadata": {
    "collapsed": false
   },
   "outputs": [],
   "source": [
    "def N(x0, x1, x2, SG, Sg, PiaA, PiAA, Piaa, PiAa):\n",
    "    out = (\n",
    "           2 * PiAA *((x0 + x1) * SG(x0 + x2)**2 + (1 - (x0 + x1)) * Sg(x0 + x2)**2) +\n",
    "           2 * Piaa * ((x0 + x1) * (1 - SG(x0 + x2))**2 + (1 - (x0 + x1)) * (1 - Sg(x0 + x2))**2) +\n",
    "           2 * (PiAa + PiaA) * ((x0 + x1) * SG(x0 + x2) * (1 - SG(x0 + x2)) + (1 - (x0 + x1)) * Sg(x0 + x2) * (1 - Sg(x0 + x2)))\n",
    "          )\n",
    "    return out"
   ]
  },
  {
   "cell_type": "code",
   "execution_count": 309,
   "metadata": {
    "collapsed": true
   },
   "outputs": [],
   "source": [
    "def equation_motion_GA_share(x0, x1, x2, SG, Sg, PiaA, PiAA, Piaa, PiAa):\n",
    "    numerator = (\n",
    "                 x0 * SG(x0 + x2)**2 * (1) * x0 / (x0 + x2) * 2*PiAA +  # 2*PiAA\n",
    "                 x0 * SG(x0 + x2)**2 * (1/2) * x2 / (x0 + x2) * 2*PiAA + # 0\n",
    "\n",
    "                 x0 * (1 - SG(x0 + x2))**2 * (1/2) * x1 / (1 - x0 - x2) * 2*Piaa + # 0\n",
    "                 x0 * (1 - SG(x0 + x2))**2 * (1/4) * (1 - x0 - x1 - x2) / (1 - x0 - x2) * 2*Piaa + # 0\n",
    "\n",
    "                 x0 * 2 * SG(x0 + x2) * (1 - SG(x0 + x2)) * (1) * x0 / (x0 + x2) * PiAa + # 0\n",
    "                 x0 * 2 * SG(x0 + x2) * (1 - SG(x0 + x2)) * (1/2) * x2 / (x0 + x2) * PiAa + # 0\n",
    "                 x0 * 2 * SG(x0 + x2) * (1 - SG(x0 + x2)) * (1/2) * x1 / (1 - x0 - x2) * PiaA + # 0\n",
    "                 x0 * 2 * SG(x0 + x2) * (1 - SG(x0 + x2)) * (1/4) * (1 - x0 - x1 - x2) / (1 - x0 - x2) * PiaA + # 0\n",
    "\n",
    "                 x1 * SG(x0 + x2)**2 * (1/2) * x0 / (x0 + x2) * 2*PiAA + # 0\n",
    "                 x1 * SG(x0 + x2)**2 * (1/4) * x2 / (x0 + x2) * 2*PiAA + # 0\n",
    "\n",
    "                 x1 * (1 - SG(x0 + x2))**2 * (0) + # 0\n",
    "\n",
    "                 x1 * 2 * SG(x0 + x2) * (1 - SG(x0 + x2)) * (1/2) * x0 / (x0 + x2) * PiAa + # 0\n",
    "                 x1 * 2 * SG(x0 + x2) * (1 - SG(x0 + x2)) * (1/4) * x2 / (x0 + x2) * PiAa + # 0\n",
    "\n",
    "                 x2 * Sg(x0 + x2)**2 * (1/2) * x0 / (x0 + x2) * 2*PiAA + # 0\n",
    "\n",
    "                 x2 * (1 - Sg(x0 + x2))**2 * (1/4) * x1 / (1 - x0 - x2) * 2* Piaa + # 0\n",
    "\n",
    "                 x2 * 2 * Sg(x0 + x2) * (1 - Sg(x0 + x2)) * (1/2) * x0 / (x0 + x2) * PiAa + # 0\n",
    "                 x2 * 2 * Sg(x0 + x2) * (1 - Sg(x0 + x2)) * (1/4) * x1 / (1 - x0 - x2) * PiaA + # 0\n",
    "\n",
    "                 (1 - x0 - x1 - x2) * Sg(x0 + x2)**2 * (1/4) * x0 / (x0 + x2) * 2*PiAA + # 0\n",
    "\n",
    "                 (1 - x0 - x1 - x2) * (1 - Sg(x0 + x2))**2 * (0) + # 0\n",
    "\n",
    "                 (1 - x0 - x1 - x2) * 2 * Sg(x0 + x2) * (1 - Sg(x0 + x2)) * (1/4) * x0 / (x0 + x2) * PiAa # 0\n",
    "                 )\n",
    "\n",
    "    x0_dot = (numerator / N(x0, x1, x2, SG, Sg, PiaA, PiAA, Piaa, PiAa)) - x0\n",
    "    return x0_dot\n",
    "\n",
    "def equation_motion_Ga_share(x0, x1, x2, SG, Sg, PiaA, PiAA, Piaa, PiAa):\n",
    "    numerator = (\n",
    "                 x0 * SG(x0 + x2)**2 * (0) +\n",
    "\n",
    "                 x0 * (1 - SG(x0 + x2))**2 * (1/2) * x1 / (1 - x0 - x2) * 2*Piaa +\n",
    "                 x0 * (1 - SG(x0 + x2))**2 * (1/4) * (1 - x0 - x1 - x2) / (1 - x0 - x2) * 2*Piaa +\n",
    "\n",
    "                 x0 * 2 * SG(x0 + x2) * (1 - SG(x0 + x2)) * (1/2) * x1 / (1 - x0 - x2) * PiaA +\n",
    "                 x0 * 2 * SG(x0 + x2) * (1 - SG(x0 + x2)) * (1/4) * (1 - x0 - x1 - x2) / (1 - x0 - x2) * PiaA +\n",
    "\n",
    "                 x1 * SG(x0 + x2)**2 * (1/2) * x0 / (x0 + x2) * 2*PiAA +\n",
    "                 x1 * SG(x0 + x2)**2 * (1/4) * x2 / (x0 + x2) * 2*PiAA +\n",
    "\n",
    "                 x1 * (1 - SG(x0 + x2))**2 * (1) * x1 / (1 - x0 - x2) * 2*Piaa +\n",
    "                 x1 * (1 - SG(x0 + x2))**2 * (1/2) * (1 - x0 - x1 - x2) / (1 - x0 - x2) * 2*Piaa +\n",
    "\n",
    "                 x1 * 2 * SG(x0 + x2) * (1 - SG(x0 + x2)) * (1/2) * x0 / (x0 + x2) * PiAa +\n",
    "                 x1 * 2 * SG(x0 + x2) * (1 - SG(x0 + x2)) * (1/4) * x2 / (x0 + x2) * PiAa +\n",
    "                 x1 * 2 * SG(x0 + x2) * (1 - SG(x0 + x2)) * (1) * x1 / (1 - x0 - x2) * PiaA +\n",
    "                 x1 * 2 * SG(x0 + x2) * (1 - SG(x0 + x2)) * (1/2) * (1 - x0 - x1 - x2) / (1 - x0 - x2) * PiaA +\n",
    "\n",
    "                 x2 * Sg(x0 + x2)**2 * (0) +\n",
    "\n",
    "                 x2 * (1 - Sg(x0 + x2))**2 * (1/4) * x1 / (1 - x0 - x2) * 2*Piaa +\n",
    "\n",
    "                 x2 * 2 * Sg(x0 + x2) * (1 - Sg(x0 + x2)) * (1/4) * x1 / (1 - x0 - x2) * PiaA +\n",
    "\n",
    "                 (1 - x0 - x1 - x2) * Sg(x0 + x2)**2 * (1/4) * x0 / (x0 + x2) * 2*PiAA +\n",
    "\n",
    "                 (1 - x0 - x1 - x2) * (1 - Sg(x0 + x2))**2 * (1/2) * x1 / (1 - x0 - x2) * 2*Piaa +\n",
    "\n",
    "                 (1 - x0 - x1 - x2) * 2 * Sg(x0 + x2) * (1 - Sg(x0 + x2)) * (1/4) * x0 / (x0 + x2) * PiAa +\n",
    "                 (1 - x0 - x1 - x2) * 2 * Sg(x0 + x2) * (1 - Sg(x0 + x2)) * (1/2) * x1 / (1 - x0 - x2) * PiaA\n",
    "\n",
    "                 )\n",
    "\n",
    "    x1_dot = (numerator / N(x0, x1, x2, SG, Sg, PiaA, PiAA, Piaa, PiAa)) - x1\n",
    "    return x1_dot\n",
    "\n",
    "\n",
    "\n",
    "def equation_motion_gA_share(x0, x1, x2, SG, Sg, PiaA, PiAA, Piaa, PiAa):\n",
    "    numerator = (\n",
    "                 x0 * SG(x0 + x2)**2 * (1/2) * x2 / (x0 + x2) * 2*PiAA +\n",
    "\n",
    "                 x0 * (1 - SG(x0 + x2))**2 * (1/4) * (1 - x0 - x1 - x2) / (1 - x0 - x2) * 2*Piaa +\n",
    "\n",
    "                 x0 * 2 * SG(x0 + x2) * (1 - SG(x0 + x2)) * (1/2) * x2 / (x0 + x2) * PiAa +\n",
    "                 x0 * 2 * SG(x0 + x2) * (1 - SG(x0 + x2)) * (1/4) * (1 - x0 - x1 - x2) / (1 - x0 - x2) * PiaA +\n",
    "\n",
    "                 x1 * SG(x0 + x2)**2 * (1/4) * x2 / (x0 + x2) * 2*PiAA +\n",
    "\n",
    "                 x1 * (1 - SG(x0 + x2))**2 * (0) +\n",
    "\n",
    "                 x1 * 2 * SG(x0 + x2) * (1 - SG(x0 + x2)) * (1/4) * x2 / (x0 + x2) * PiAa +\n",
    "\n",
    "                 x2 * Sg(x0 + x2)**2 * (1/2) * x0 / (x0 + x2) * 2*PiAA +\n",
    "                 x2 * Sg(x0 + x2)**2 * (1) * x2 / (x0 + x2) * 2*PiAA +\n",
    "\n",
    "                 x2 * (1 - Sg(x0 + x2))**2 * (1/4) * x1 / (1 - x0 - x2) * 2*Piaa +\n",
    "                 x2 * (1 - Sg(x0 + x2))**2 * (1/2) * (1 - x0 - x1 - x2) / (1 - x0 - x2) * 2*Piaa +\n",
    "\n",
    "                 x2 * 2 * Sg(x0 + x2) * (1 - Sg(x0 + x2)) * (1/2) * x0 / (x0 + x2) * PiAa +\n",
    "                 x2 * 2 * Sg(x0 + x2) * (1 - Sg(x0 + x2)) * (1) * x2 / (x0 + x2) * PiAa +\n",
    "                 x2 * 2 * Sg(x0 + x2) * (1 - Sg(x0 + x2)) * (1/4) * x1 / (1 - x0 - x2) * PiaA +\n",
    "                 x2 * 2 * Sg(x0 + x2) * (1 - Sg(x0 + x2)) * (1/2) * (1 - x0 - x1 - x2) / (1 - x0 - x2) * PiaA +\n",
    "\n",
    "                 (1 - x0 - x1 - x2) * Sg(x0 + x2)**2 * (1/4) * x0 / (x0 + x2) * 2*PiAA +\n",
    "                 (1 - x0 - x1 - x2) * Sg(x0 + x2)**2 * (1/2) * x2 / (x0 + x2) * 2*PiAA +\n",
    "\n",
    "                 (1 - x0 - x1 - x2) * (1 - Sg(x0 + x2))**2 * (0) +\n",
    "\n",
    "                 (1 - x0 - x1 - x2) * 2 * Sg(x0 + x2) * (1 - Sg(x0 + x2)) * (1/4) * x0 / (x0 + x2) * PiAa +\n",
    "                 (1 - x0 - x1 - x2) * 2 * Sg(x0 + x2) * (1 - Sg(x0 + x2)) * (1/2) * x2 / (x0 + x2) * PiAa\n",
    "\n",
    "                 )\n",
    "\n",
    "    x2_dot = (numerator / N(x0, x1, x2, SG, Sg, PiaA, PiAA, Piaa, PiAa)) - x2\n",
    "    return x2_dot\n",
    "\n",
    "\n",
    "def equation_motion_ga_share(x0, x1, x2, SG, Sg, PiaA, PiAA, Piaa, PiAa):\n",
    "    numerator = (\n",
    "                 x0 * SG(x0 + x2)**2 * (0) +\n",
    "\n",
    "                 x0 * (1 - SG(x0 + x2))**2 * (1/4) * (1 - x0 - x1 - x2) / (1 - x0 - x2) * 2*Piaa +\n",
    "\n",
    "                 x0 * 2 * SG(x0 + x2) * (1 - SG(x0 + x2)) * (1/4) * (1 - x0 - x1 - x2) / (1 - x0 - x2) * PiaA +\n",
    "\n",
    "                 x1 * SG(x0 + x2)**2 * (1/4) * x2 / (x0 + x2) * 2*PiAA +\n",
    "\n",
    "                 x1 * (1 - SG(x0 + x2))**2 * (1/2) * (1 - x0 - x1 - x2) / (1 - x0 - x2) * 2*Piaa +\n",
    "\n",
    "                 x1 * 2 * SG(x0 + x2) * (1 - SG(x0 + x2)) * (1/4) * x2 / (x0 + x2) * PiAa +\n",
    "                 x1 * 2 * SG(x0 + x2) * (1 - SG(x0 + x2)) * (1/2) * (1 - x0 - x1 - x2) / (1 - x0 - x2) * PiaA +\n",
    "\n",
    "                 x2 * Sg(x0 + x2)**2 * (0) +\n",
    "\n",
    "                 x2 * (1 - Sg(x0 + x2))**2 * (1/4) * x1 / (1 - x0 - x2) * 2*Piaa +\n",
    "                 x2 * (1 - Sg(x0 + x2))**2 * (1/2) * (1 - x0 - x1 - x2) / (1 - x0 - x2) * 2*Piaa +\n",
    "\n",
    "                 x2 * 2 * Sg(x0 + x2) * (1 - Sg(x0 + x2)) * (1/4) * x1 / (1 - x0 - x2) * PiaA +\n",
    "                 x2 * 2 * Sg(x0 + x2) * (1 - Sg(x0 + x2)) * (1/2) * (1 - x0 - x1 - x2) / (1 - x0 - x2) * PiaA +\n",
    "\n",
    "                 (1 - x0 - x1 - x2) * Sg(x0 + x2)**2 * (1/4) * x0 / (x0 + x2) * 2*PiAA +\n",
    "                 (1 - x0 - x1 - x2) * Sg(x0 + x2)**2 * (1/2) * x2 / (x0 + x2) * 2*PiAA +\n",
    "\n",
    "                 (1 - x0 - x1 - x2) * (1 - Sg(x0 + x2))**2 * (1/2) * x1 / (1 - x0 - x2) * 2*Piaa +\n",
    "                 (1 - x0 - x1 - x2) * (1 - Sg(x0 + x2))**2 * (1) *(1 - x0 - x1 - x2) / (1 - x0 - x2) * 2*Piaa +\n",
    "\n",
    "                 (1 - x0 - x1 - x2) * 2 * Sg(x0 + x2) * (1 - Sg(x0 + x2)) * (1/4) * x0 / (x0 + x2) * PiAa +\n",
    "                 (1 - x0 - x1 - x2) * 2 * Sg(x0 + x2) * (1 - Sg(x0 + x2)) * (1/2) * x2 / (x0 + x2) * PiAa +\n",
    "                 (1 - x0 - x1 - x2) * 2 * Sg(x0 + x2) * (1 - Sg(x0 + x2)) * (1/2) * x1 / (1 - x0 - x2) * PiaA +\n",
    "                 (1 - x0 - x1 - x2) * 2 * Sg(x0 + x2) * (1 - Sg(x0 + x2)) * (1) * (1 - x0 - x1 - x2) / (1 - x0 - x2) * PiaA\n",
    "                 )\n",
    "\n",
    "    x3_dot = (numerator / N(x0, x1, x2, SG, Sg, PiaA, PiAA, Piaa, PiAa)) - (1 - x0 - x1 - x2)\n",
    "    return x3_dot\n"
   ]
  },
  {
   "cell_type": "markdown",
   "metadata": {},
   "source": [
    "## Tests!\n",
    "All of the following limits should exactly 0!"
   ]
  },
  {
   "cell_type": "code",
   "execution_count": 296,
   "metadata": {
    "collapsed": false
   },
   "outputs": [
    {
     "data": {
      "text/plain": [
       "0"
      ]
     },
     "execution_count": 296,
     "metadata": {},
     "output_type": "execute_result"
    }
   ],
   "source": [
    "sym.limit(equation_motion_GA_share(x0, 0, 0, SG, Sg, PiaA, PiAA, Piaa, PiAa), x0, 1)"
   ]
  },
  {
   "cell_type": "code",
   "execution_count": 297,
   "metadata": {
    "collapsed": false
   },
   "outputs": [
    {
     "data": {
      "text/plain": [
       "0"
      ]
     },
     "execution_count": 297,
     "metadata": {},
     "output_type": "execute_result"
    }
   ],
   "source": [
    "sym.limit(equation_motion_GA_share(x0, 0, 0, SG, Sg, PiaA, PiAA, Piaa, PiAa), x0, 0)"
   ]
  },
  {
   "cell_type": "code",
   "execution_count": 298,
   "metadata": {
    "collapsed": false
   },
   "outputs": [
    {
     "data": {
      "text/plain": [
       "0"
      ]
     },
     "execution_count": 298,
     "metadata": {},
     "output_type": "execute_result"
    }
   ],
   "source": [
    "sym.limit(equation_motion_Ga_share(x0, 0, 0, SG, Sg, PiaA, PiAA, Piaa, PiAa), x0, 1)"
   ]
  },
  {
   "cell_type": "code",
   "execution_count": 299,
   "metadata": {
    "collapsed": false
   },
   "outputs": [
    {
     "data": {
      "text/plain": [
       "0"
      ]
     },
     "execution_count": 299,
     "metadata": {},
     "output_type": "execute_result"
    }
   ],
   "source": [
    "sym.limit(equation_motion_Ga_share(x0, 0, 0, SG, Sg, PiaA, PiAA, Piaa, PiAa), x0, 0)"
   ]
  },
  {
   "cell_type": "code",
   "execution_count": 300,
   "metadata": {
    "collapsed": false
   },
   "outputs": [
    {
     "data": {
      "text/plain": [
       "0"
      ]
     },
     "execution_count": 300,
     "metadata": {},
     "output_type": "execute_result"
    }
   ],
   "source": [
    "sym.limit(equation_motion_gA_share(x0, 0, 0, SG, Sg, PiaA, PiAA, Piaa, PiAa), x0, 1)"
   ]
  },
  {
   "cell_type": "code",
   "execution_count": 301,
   "metadata": {
    "collapsed": false
   },
   "outputs": [
    {
     "data": {
      "text/plain": [
       "0"
      ]
     },
     "execution_count": 301,
     "metadata": {},
     "output_type": "execute_result"
    }
   ],
   "source": [
    "sym.limit(equation_motion_gA_share(x0, 0, 0, SG, Sg, PiaA, PiAA, Piaa, PiAa), x0, 0)"
   ]
  },
  {
   "cell_type": "code",
   "execution_count": 302,
   "metadata": {
    "collapsed": false
   },
   "outputs": [
    {
     "data": {
      "text/plain": [
       "0"
      ]
     },
     "execution_count": 302,
     "metadata": {},
     "output_type": "execute_result"
    }
   ],
   "source": [
    "sym.limit(equation_motion_ga_share(x0, 0, 0, SG, Sg, PiaA, PiAA, Piaa, PiAa), x0, 1)"
   ]
  },
  {
   "cell_type": "code",
   "execution_count": 303,
   "metadata": {
    "collapsed": false
   },
   "outputs": [
    {
     "data": {
      "text/plain": [
       "0"
      ]
     },
     "execution_count": 303,
     "metadata": {},
     "output_type": "execute_result"
    }
   ],
   "source": [
    "sym.limit(equation_motion_ga_share(x0, 0, 0, SG, Sg, PiaA, PiAA, Piaa, PiAa), x0, 0)"
   ]
  },
  {
   "cell_type": "markdown",
   "metadata": {},
   "source": [
    "The derivatives should sum to zero..."
   ]
  },
  {
   "cell_type": "code",
   "execution_count": 93,
   "metadata": {
    "collapsed": false
   },
   "outputs": [
    {
     "data": {
      "text/plain": [
       "0"
      ]
     },
     "execution_count": 93,
     "metadata": {},
     "output_type": "execute_result"
    }
   ],
   "source": [
    "(equation_motion_GA_share(x0, x1, x2, SG, Sg, PiaA, PiAA, Piaa, PiAa) +\n",
    " equation_motion_Ga_share(x0, x1, x2, SG, Sg, PiaA, PiAA, Piaa, PiAa) + \n",
    " equation_motion_gA_share(x0, x1, x2, SG, Sg, PiaA, PiAA, Piaa, PiAa) +\n",
    " equation_motion_ga_share(x0, x1, x2, SG, Sg, PiaA, PiAA, Piaa, PiAa)).simplify()"
   ]
  },
  {
   "cell_type": "markdown",
   "metadata": {},
   "source": [
    "# Stability analysis"
   ]
  },
  {
   "cell_type": "code",
   "execution_count": 310,
   "metadata": {
    "collapsed": true
   },
   "outputs": [],
   "source": [
    "rhs = sym.Matrix([equation_motion_GA_share(x0, x1, x2, SG, Sg, PiaA, PiAA, Piaa, PiAa),\n",
    "                  equation_motion_Ga_share(x0, x1, x2, SG, Sg, PiaA, PiAA, Piaa, PiAa),\n",
    "                  equation_motion_gA_share(x0, x1, x2, SG, Sg, PiaA, PiAA, Piaa, PiAa)])"
   ]
  },
  {
   "cell_type": "code",
   "execution_count": 311,
   "metadata": {
    "collapsed": false
   },
   "outputs": [],
   "source": [
    "rhs_jac = rhs.jacobian([x0, x1, x2])"
   ]
  },
  {
   "cell_type": "markdown",
   "metadata": {},
   "source": [
    "## GA corner equilibrium"
   ]
  },
  {
   "cell_type": "code",
   "execution_count": 249,
   "metadata": {
    "collapsed": false
   },
   "outputs": [],
   "source": [
    "evaluated_jac = sym.zeros(3, 3)\n",
    "\n",
    "for i in range(3):\n",
    "    for j in range(3):\n",
    "        tmp_expr = rhs_jac[i, j].subs({x0: 1, x1: 0, x2: 0})\n",
    "        if isinstance(tmp_expr, sym.numbers.NaN):\n",
    "            tmp_expr = sym.limit(rhs_jac[i, j].subs({x1: 0, x2: 0}), x0, 1)\n",
    "        evaluated_jac[i, j] = tmp_expr"
   ]
  },
  {
   "cell_type": "code",
   "execution_count": 250,
   "metadata": {
    "collapsed": false
   },
   "outputs": [
    {
     "data": {
      "text/plain": [
       "{0: 1,\n",
       " -(5*PiAA - 3*PiaA*Subs(Derivative(SG(_xi_1), _xi_1), (_xi_1,), (1,)))/(8*PiAA) - sqrt(PiAA**2*(PiAA + PiaA*Subs(Derivative(SG(_xi_1), _xi_1), (_xi_1,), (1,)))**2)/(8*PiAA**2): 1,\n",
       " -(5*PiAA - 3*PiaA*Subs(Derivative(SG(_xi_1), _xi_1), (_xi_1,), (1,)))/(8*PiAA) + sqrt(PiAA**2*(PiAA + PiaA*Subs(Derivative(SG(_xi_1), _xi_1), (_xi_1,), (1,)))**2)/(8*PiAA**2): 1}"
      ]
     },
     "execution_count": 250,
     "metadata": {},
     "output_type": "execute_result"
    }
   ],
   "source": [
    "evaluated_jac.eigenvals()"
   ]
  },
  {
   "cell_type": "markdown",
   "metadata": {},
   "source": [
    "Necessary conditions for stability are that both non-zero eigenvalues are strictly negative.  We can derive the following necessary conditions...\n",
    "\n",
    "\\begin{align}\n",
    "    -(5*PiAA - 3*PiaA*Subs(Derivative(SG(_xi_1), _xi_1), (_xi_1,), (1,)))/(8*PiAA) - sqrt(PiAA**2*(PiAA + PiaA*Subs(Derivative(SG(_xi_1), _xi_1), (_xi_1,), (1,)))**2)/(8*PiAA**2) < 0 \\\\\n",
    "    \\frac{-(5*PiAA - 3*PiaA*SG'(1))}{8*PiAA} - \\frac{sqrt(PiAA^2*(PiAA + PiaA*SG'(1))^2)}{8*PiAA^2} < 0 \\\\\n",
    "    -(5*PiAA - 3*PiaA*SG'(1)) - \\frac{sqrt(PiAA^2*(PiAA + PiaA*SG'(1))^2)}{PiAA} < 0 \\\\\n",
    "    -(5*PiAA - 3*PiaA*SG'(1)) - \\frac{PiAA*(PiAA + PiaA*SG'(1))}{PiAA} < 0 \\\\\n",
    "    -(5*PiAA - 3*PiaA*SG'(1)) - (PiAA + PiaA*SG'(1)) < 0 \\\\\n",
    "    -5*PiAA + 3*PiaA*SG'(1) - PiAA - PiaA*SG'(1) < 0 \\\\\n",
    "    -6*PiAA + 2*PiaA*SG'(1) < 0 \\\\\n",
    "    \\Pi_{aA} SG'(1) < 3 \\Pi_{AA} \\\\\n",
    "    S_{G}'(1) < \\frac{3 \\Pi_{AA}}{\\Pi_{aA}}\n",
    "\\end{align}"
   ]
  },
  {
   "cell_type": "markdown",
   "metadata": {},
   "source": [
    "...and...\n",
    "\n",
    "\\begin{align}\n",
    "    \\frac{-(5*PiAA - 3*PiaA*SG'(1))}{8*PiAA} + \\frac{sqrt(PiAA^2*(PiAA + PiaA*SG'(1))^2)}{8*PiAA^2} < 0 \\\\\n",
    "    -(5*PiAA - 3*PiaA*SG'(1)) + \\frac{sqrt(PiAA^2*(PiAA + PiaA*SG'(1))^2)}{PiAA} < 0 \\\\\n",
    "    -(5*PiAA - 3*PiaA*SG'(1)) + \\frac{PiAA*(PiAA + PiaA*SG'(1))}{PiAA} < 0 \\\\\n",
    "    -(5*PiAA - 3*PiaA*SG'(1)) + (PiAA + PiaA*SG'(1)) < 0 \\\\\n",
    "    -5*PiAA + 3*PiaA*SG'(1) + PiAA + PiaA*SG'(1) < 0 \\\\\n",
    "    -4*PiAA + 4*PiaA*SG'(1) < 0 \\\\\n",
    "    S_G'(1) < \\frac{\\Pi_{AA}}{\\Pi_{aA}} < 1\n",
    "\\end{align}\n",
    "\n",
    "...note that the second condition implies the first.\n",
    "\n",
    "Note that, since one of the above eigenvalues is zero, the above conditions are actually necessary and *sufficient* for the stability of a mixed $\\gamma$ pure $\\alpha=A$ equilibrium. In order to work out sufficient conditions for the stability of a pure $GA$ equilibrium we need to resort to other methods."
   ]
  },
  {
   "cell_type": "markdown",
   "metadata": {},
   "source": [
    "## Ga corner equilbrium\n"
   ]
  },
  {
   "cell_type": "code",
   "execution_count": 341,
   "metadata": {
    "collapsed": false
   },
   "outputs": [],
   "source": [
    "evaluated_jac = sym.zeros(3, 3)\n",
    "\n",
    "for i in range(3):\n",
    "    for j in range(3):\n",
    "        tmp_expr = rhs_jac[i, j].subs({x0: 0, x1: 1, x2: 0})\n",
    "        if isinstance(tmp_expr, sym.numbers.NaN):\n",
    "            tmp_expr = rhs_jac[i, j].subs({x0: 0, x1: 1}).simplify()\n",
    "            numer, denom = sym.fraction(tmp_expr)\n",
    "            evaluated_jac[i, j] = numer.diff(x2).subs({x2: 0}) / denom.diff(x2).subs({x2: 0})\n",
    "        else:\n",
    "            evaluated_jac[i, j] = tmp_expr"
   ]
  },
  {
   "cell_type": "code",
   "execution_count": 343,
   "metadata": {
    "collapsed": false
   },
   "outputs": [
    {
     "data": {
      "text/plain": [
       "{0: 1,\n",
       " (3*PiAa*Subs(Derivative(SG(_xi_1), _xi_1), (_xi_1,), (0,)) - 5*Piaa)/(8*Piaa) + sqrt(Piaa**2*(PiAa*Subs(Derivative(SG(_xi_1), _xi_1), (_xi_1,), (0,)) + Piaa)**2)/(8*Piaa**2): 1,\n",
       " (3*PiAa*Subs(Derivative(SG(_xi_1), _xi_1), (_xi_1,), (0,)) - 5*Piaa)/(8*Piaa) - sqrt(Piaa**2*(PiAa*Subs(Derivative(SG(_xi_1), _xi_1), (_xi_1,), (0,)) + Piaa)**2)/(8*Piaa**2): 1}"
      ]
     },
     "execution_count": 343,
     "metadata": {},
     "output_type": "execute_result"
    }
   ],
   "source": [
    "evaluated_jac.eigenvals()"
   ]
  },
  {
   "cell_type": "markdown",
   "metadata": {},
   "source": [
    "Necessary conditions for stability are that both non-zero eigenvalues are strictly negative.  We can derive the following necessary conditions...\n",
    "\n",
    "\\begin{align}\n",
    "    (3*PiAa*Subs(Derivative(SG(_xi_1), _xi_1), (_xi_1,), (0,)) - 5*Piaa)/(8*Piaa) + sqrt(Piaa**2*(PiAa*Subs(Derivative(SG(_xi_1), _xi_1), (_xi_1,), (0,)) + Piaa)**2)/(8*Piaa**2) < 0 \\\\\n",
    "    (3*PiAa*Subs(Derivative(SG(_xi_1), _xi_1), (_xi_1,), (0,)) - 5*Piaa) + sqrt(Piaa**2*(PiAa*Subs(Derivative(SG(_xi_1), _xi_1), (_xi_1,), (0,)) + Piaa)**2)/(Piaa) < 0 \\\\\n",
    "    (3*PiAa*Subs(Derivative(SG(_xi_1), _xi_1), (_xi_1,), (0,)) - 5*Piaa) + (Piaa*(PiAa*Subs(Derivative(SG(_xi_1), _xi_1), (_xi_1,), (0,)) + Piaa))/(Piaa) < 0 \\\\\n",
    "    3*PiAa*Subs(Derivative(SG(_xi_1), _xi_1), (_xi_1,), (0,)) - 5*Piaa + PiAa*Subs(Derivative(SG(_xi_1), _xi_1), (_xi_1,), (0,)) + Piaa < 0 \\\\\n",
    "    4*PiAa*Subs(Derivative(SG(_xi_1), _xi_1), (_xi_1,), (0,)) - 4*Piaa < 0 \\\\\n",
    "    PiAa*Subs(Derivative(SG(_xi_1), _xi_1), (_xi_1,), (0,)) < Piaa \\\\\n",
    "    S'_{G}(0) < \\frac{\\Pi_{aa}}{\\Pi_{Aa}}\n",
    "\\end{align}\n",
    "\n",
    "...and...\n",
    "\n",
    "\\begin{align}\n",
    "    (3*PiAa*Subs(Derivative(SG(_xi_1), _xi_1), (_xi_1,), (0,)) - 5*Piaa)/(8*Piaa) - sqrt(Piaa**2*(PiAa*Subs(Derivative(SG(_xi_1), _xi_1), (_xi_1,), (0,)) + Piaa)**2)/(8*Piaa**2) < 0 \\\\\n",
    "    (3*PiAa*Subs(Derivative(SG(_xi_1), _xi_1), (_xi_1,), (0,)) - 5*Piaa) - sqrt(Piaa**2*(PiAa*Subs(Derivative(SG(_xi_1), _xi_1), (_xi_1,), (0,)) + Piaa)**2)/(Piaa) < 0 \\\\\n",
    "    (3*PiAa*Subs(Derivative(SG(_xi_1), _xi_1), (_xi_1,), (0,)) - 5*Piaa) - (Piaa*(PiAa*Subs(Derivative(SG(_xi_1), _xi_1), (_xi_1,), (0,)) + Piaa))/(Piaa) < 0 \\\\\n",
    "    3*PiAa*Subs(Derivative(SG(_xi_1), _xi_1), (_xi_1,), (0,)) - 5*Piaa - PiAa*Subs(Derivative(SG(_xi_1), _xi_1), (_xi_1,), (0,)) - Piaa < 0 \\\\\n",
    "    2*PiAa*Subs(Derivative(SG(_xi_1), _xi_1), (_xi_1,), (0,)) - 6*Piaa < 0 \\\\\n",
    "    2PiAa*Subs(Derivative(SG(_xi_1), _xi_1), (_xi_1,), (0,)) < 6*Piaa \\\\\n",
    "    S'_{G}(0) < \\frac{3\\Pi_{aa}}{\\Pi_{Aa}}\n",
    "\\end{align}\n",
    "\n",
    "...note that the first inequality above implies the second.\n",
    "\n",
    "Note that, since one of the above eigenvalues is zero, the above conditions are actually necessary and *sufficient* for the stability of a mixed $\\gamma$ pure $\\alpha=a$ equilibrium. In order to work out sufficient conditions for the stability of a pure $Ga$ equilibrium we need to resort to other methods."
   ]
  },
  {
   "cell_type": "markdown",
   "metadata": {},
   "source": [
    "## gA corner equilbrium"
   ]
  },
  {
   "cell_type": "code",
   "execution_count": 233,
   "metadata": {
    "collapsed": false
   },
   "outputs": [],
   "source": [
    "evaluated_jac = sym.zeros(3, 3)\n",
    "\n",
    "for i in range(3):\n",
    "    for j in range(3):\n",
    "        tmp_expr = rhs_jac[i, j].subs({x0: 0, x1: 0, x2: 1})\n",
    "        if isinstance(tmp_expr, sym.numbers.NaN):\n",
    "            tmp_expr = sym.limit(rhs_jac[i, j].subs({x0: 0, x1: 0}), x2, 1)\n",
    "        evaluated_jac[i, j] = tmp_expr"
   ]
  },
  {
   "cell_type": "code",
   "execution_count": 242,
   "metadata": {
    "collapsed": false
   },
   "outputs": [
    {
     "data": {
      "text/plain": [
       "{0: 1,\n",
       " -(5*PiAA - 3*PiaA*Subs(Derivative(Sg(_xi_1), _xi_1), (_xi_1,), (1,)))/(8*PiAA) - sqrt(PiAA**2*(PiAA + PiaA*Subs(Derivative(Sg(_xi_1), _xi_1), (_xi_1,), (1,)))**2)/(8*PiAA**2): 1,\n",
       " -(5*PiAA - 3*PiaA*Subs(Derivative(Sg(_xi_1), _xi_1), (_xi_1,), (1,)))/(8*PiAA) + sqrt(PiAA**2*(PiAA + PiaA*Subs(Derivative(Sg(_xi_1), _xi_1), (_xi_1,), (1,)))**2)/(8*PiAA**2): 1}"
      ]
     },
     "execution_count": 242,
     "metadata": {},
     "output_type": "execute_result"
    }
   ],
   "source": [
    "evaluated_jac.eigenvals()"
   ]
  },
  {
   "cell_type": "markdown",
   "metadata": {},
   "source": [
    "Necessary conditions for stability are that both non-zero eigenvalues are strictly negative. This implies the following set of conditions...\n",
    "\n",
    "\\begin{align}\n",
    "    S_{g}'(1) < \\frac{3 \\Pi_{AA}}{\\Pi_{aA}}\n",
    "\\end{align}\n",
    "\n",
    "\\begin{align}\n",
    "    S_{g}'(1) < \\frac{\\Pi_{AA}}{\\Pi_{aA}} < 1\n",
    "\\end{align}\n",
    "\n",
    "...note that this second condition is always violated because $S_g'(1) > 1$ for any \"sensible\" function $S_g$.  Therefore, since at least one eigenvalue is strictly positive, a pure $gA$ equilibrium is never stable."
   ]
  },
  {
   "cell_type": "markdown",
   "metadata": {},
   "source": [
    "## ga corner equilbrium\n",
    "\n",
    "Still have issues trying to evaluate the appropriate limits..."
   ]
  },
  {
   "cell_type": "code",
   "execution_count": 344,
   "metadata": {
    "collapsed": false
   },
   "outputs": [],
   "source": [
    "evaluated_jac = sym.zeros(3, 3)\n",
    "\n",
    "for i in range(3):\n",
    "    for j in range(3):\n",
    "        tmp_expr = rhs_jac[i, j].subs({x0: 0, x1: 0, x2: 0})\n",
    "        if isinstance(tmp_expr, sym.numbers.NaN):\n",
    "            tmp_expr = rhs_jac[i, j].subs({x0: 0, x1: 0}).simplify()\n",
    "            numer, denom = sym.fraction(tmp_expr)\n",
    "            evaluated_jac[i, j] = numer.diff(x2).subs({x2: 0}) / denom.diff(x2).subs({x2: 0})\n",
    "        else:\n",
    "            evaluated_jac[i, j] = tmp_expr"
   ]
  },
  {
   "cell_type": "code",
   "execution_count": 346,
   "metadata": {
    "collapsed": false
   },
   "outputs": [
    {
     "data": {
      "text/plain": [
       "{0: 1,\n",
       " (3*PiAa*Subs(Derivative(Sg(_xi_1), _xi_1), (_xi_1,), (0,)) - 5*Piaa)/(8*Piaa) + sqrt(Piaa**2*(PiAa*Subs(Derivative(Sg(_xi_1), _xi_1), (_xi_1,), (0,)) + Piaa)**2)/(8*Piaa**2): 1,\n",
       " (3*PiAa*Subs(Derivative(Sg(_xi_1), _xi_1), (_xi_1,), (0,)) - 5*Piaa)/(8*Piaa) - sqrt(Piaa**2*(PiAa*Subs(Derivative(Sg(_xi_1), _xi_1), (_xi_1,), (0,)) + Piaa)**2)/(8*Piaa**2): 1}"
      ]
     },
     "execution_count": 346,
     "metadata": {},
     "output_type": "execute_result"
    }
   ],
   "source": [
    "evaluated_jac.eigenvals()"
   ]
  },
  {
   "cell_type": "markdown",
   "metadata": {},
   "source": [
    "Necessary conditions for stability are that both non-zero eigenvalues are strictly negative.  We can derive the following necessary conditions...\n",
    "\n",
    "\\begin{align}\n",
    "    (3*PiAa*Subs(Derivative(Sg(_xi_1), _xi_1), (_xi_1,), (0,)) - 5*Piaa)/(8*Piaa) + sqrt(Piaa**2*(PiAa*Subs(Derivative(SG(_xi_1), _xi_1), (_xi_1,), (0,)) + Piaa)**2)/(8*Piaa**2) < 0 \\\\\n",
    "    (3*PiAa*Subs(Derivative(Sg(_xi_1), _xi_1), (_xi_1,), (0,)) - 5*Piaa) + sqrt(Piaa**2*(PiAa*Subs(Derivative(SG(_xi_1), _xi_1), (_xi_1,), (0,)) + Piaa)**2)/(Piaa) < 0 \\\\\n",
    "    (3*PiAa*Subs(Derivative(Sg(_xi_1), _xi_1), (_xi_1,), (0,)) - 5*Piaa) + (Piaa*(PiAa*Subs(Derivative(SG(_xi_1), _xi_1), (_xi_1,), (0,)) + Piaa))/(Piaa) < 0 \\\\\n",
    "    3*PiAa*Subs(Derivative(Sg(_xi_1), _xi_1), (_xi_1,), (0,)) - 5*Piaa + PiAa*Subs(Derivative(SG(_xi_1), _xi_1), (_xi_1,), (0,)) + Piaa < 0 \\\\\n",
    "    4*PiAa*Subs(Derivative(Sg(_xi_1), _xi_1), (_xi_1,), (0,)) - 4*Piaa < 0 \\\\\n",
    "    PiAa*Subs(Derivative(Sg(_xi_1), _xi_1), (_xi_1,), (0,)) < Piaa \\\\\n",
    "    S'_{g}(0) < 1 < \\frac{\\Pi_{aa}}{\\Pi_{Aa}}\n",
    "\\end{align}\n",
    "\n",
    "...and...\n",
    "\n",
    "\\begin{align}\n",
    "    (3*PiAa*Subs(Derivative(Sg(_xi_1), _xi_1), (_xi_1,), (0,)) - 5*Piaa)/(8*Piaa) - sqrt(Piaa**2*(PiAa*Subs(Derivative(Sg(_xi_1), _xi_1), (_xi_1,), (0,)) + Piaa)**2)/(8*Piaa**2) < 0 \\\\\n",
    "    (3*PiAa*Subs(Derivative(Sg(_xi_1), _xi_1), (_xi_1,), (0,)) - 5*Piaa) - sqrt(Piaa**2*(PiAa*Subs(Derivative(Sg(_xi_1), _xi_1), (_xi_1,), (0,)) + Piaa)**2)/(Piaa) < 0 \\\\\n",
    "    (3*PiAa*Subs(Derivative(Sg(_xi_1), _xi_1), (_xi_1,), (0,)) - 5*Piaa) - (Piaa*(PiAa*Subs(Derivative(Sg(_xi_1), _xi_1), (_xi_1,), (0,)) + Piaa))/(Piaa) < 0 \\\\\n",
    "    3*PiAa*Subs(Derivative(Sg(_xi_1), _xi_1), (_xi_1,), (0,)) - 5*Piaa - PiAa*Subs(Derivative(Sg(_xi_1), _xi_1), (_xi_1,), (0,)) - Piaa < 0 \\\\\n",
    "    2*PiAa*Subs(Derivative(Sg(_xi_1), _xi_1), (_xi_1,), (0,)) - 6*Piaa < 0 \\\\\n",
    "    2PiAa*Subs(Derivative(Sg(_xi_1), _xi_1), (_xi_1,), (0,)) < 6*Piaa \\\\\n",
    "    S'_{g}(0) < \\frac{3\\Pi_{aa}}{\\Pi_{Aa}}\n",
    "\\end{align}\n",
    "\n",
    "...note that the first inequality above implies the second.\n",
    "\n",
    "Note that, since one of the above eigenvalues is zero, the above conditions are actually necessary and *sufficient* for the stability of a mixed $\\gamma$ pure $\\alpha=a$ equilibrium. In order to work out sufficient conditions for the stability of a pure $ga$ equilibrium we need to resort to other methods. Finally, note that the first condition above is always satisfied for any \"sensible\" function $S_g$.  Therefore, since at least one eigenvalue is strictly positive, a mixed $\\gamma$ pure $\\alpha=a$ equilibrium is always stable."
   ]
  },
  {
   "cell_type": "code",
   "execution_count": null,
   "metadata": {
    "collapsed": true
   },
   "outputs": [],
   "source": []
  }
 ],
 "metadata": {
  "kernelspec": {
   "display_name": "Python 3",
   "language": "python",
   "name": "python3"
  },
  "language_info": {
   "codemirror_mode": {
    "name": "ipython",
    "version": 3
   },
   "file_extension": ".py",
   "mimetype": "text/x-python",
   "name": "python",
   "nbconvert_exporter": "python",
   "pygments_lexer": "ipython3",
   "version": "3.4.3"
  }
 },
 "nbformat": 4,
 "nbformat_minor": 0
}
