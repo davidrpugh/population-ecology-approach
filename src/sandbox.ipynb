{
 "cells": [
  {
   "cell_type": "code",
   "execution_count": 1,
   "metadata": {
    "collapsed": true
   },
   "outputs": [],
   "source": [
    "import sympy as sym"
   ]
  },
  {
   "cell_type": "code",
   "execution_count": 2,
   "metadata": {
    "collapsed": true
   },
   "outputs": [],
   "source": [
    "class S(sym.Function):\n",
    "    \"\"\"Generic matching function\"\"\"\n",
    "    \n",
    "    is_real = True\n",
    "    \n",
    "    @classmethod\n",
    "    def eval(cls, x):\n",
    "        \"\"\"We require the S(0)=0 and S(1)=1\"\"\"\n",
    "        if x.is_Number and x is sym.S.Zero:\n",
    "            return sym.S.Zero\n",
    "        elif x.is_Number and x is sym.S.One:\n",
    "            return sym.S.One\n",
    "        \n",
    "class SG(S):\n",
    "    \"\"\"Matching function for G males.\"\"\"\n",
    "    \n",
    "class Sg(S):\n",
    "    \"\"\"Matching function for g males.\"\"\"\n"
   ]
  },
  {
   "cell_type": "code",
   "execution_count": 3,
   "metadata": {
    "collapsed": true
   },
   "outputs": [],
   "source": [
    "x0, x1, x2 = sym.symbols('x0, x1, x2')\n",
    "PiaA, PiAA, Piaa, PiAa = sym.symbols('PiaA, PiAA, Piaa, PiAa')"
   ]
  },
  {
   "cell_type": "code",
   "execution_count": 4,
   "metadata": {
    "collapsed": true
   },
   "outputs": [],
   "source": [
    "def N(x0, x1, x2, SG, Sg, PiaA, PiAA, Piaa, PiAa):\n",
    "    out = 2 * PiAA * (((x0 + x1) * SG(x0 + x2)**2+(1 - (x0 + x1)) * Sg(x0 + x2)**2) +\n",
    "                      2 * Piaa * ((x0 + x1) * (1 - SG(x0 + x2))**2 + (1 - (x0 + x1)) * (1 - Sg(x0 + x2))**2) +\n",
    "                      2 * (PiAa + PiaA) * ((x0 + x1) * SG(x0 + x2) * (1 - SG(x0 + x2)) + (1 - (x0 + x1)) * Sg(x0 + x2) * (1 - Sg(x0 + x2))))\n",
    "    return out"
   ]
  },
  {
   "cell_type": "code",
   "execution_count": null,
   "metadata": {
    "collapsed": true
   },
   "outputs": [],
   "source": [
    "def equation_motion_GA_share_v2(x0, x1, x2, SG, Sg, PiaA, PiAA, Piaa, PiAa):\n",
    "    numerator = (SG(x0 + x2)**2 * (PiAA * ((x0 * (2 * x0 + x2)) / (x0 + x2))) +   \n",
    "                 (1 - SG(x0 + x2))**2 * (Piaa * ((x0 * (1 + x1 - x0 - x2)) / (2 * (1 - x0 - x2)))) +\n",
    "                 SG(x0 + x2) * (1 - SG(x0 + x2)) * (PiAa * ((x0 * (2 * x0 + x2)) / (x0 + x2))) +\n",
    "                 SG(x0 + x2) * (1 - SG(x0 + x2)) * (PiaA * ((x0 * (1 + x1 - x0 - x2)) / (2 * (1 - x0 - x2)))) +\n",
    "                 SG(x0 + x2)**2 * (PiAA * ((x1 * (2 * x0 + x2)) / (2 * (x0 + x2)))) + \n",
    "                 SG(x0 + x2) * (1 - SG(x0 + x2)) * (PiAa * ((x1 * (2 * x0 + x2)) / (2 * (x0 + x2)))) +\n",
    "                 Sg(x0 + x2)**2 * (PiAA * ((x0 * x2) / (x0 + x2))) +\n",
    "                 (1 - Sg(x0 + x2))**2 * (Piaa * ((x1 * x2) / (2 * (1 - x0 - x2)))) +\n",
    "                 Sg(x0 + x2) * (1 - Sg(x0 + x2)) * (PiAa * ((x0 * x2) / (x0 + x2))) +\n",
    "                 Sg(x0 + x2) * (1 - Sg(x0 + x2)) * (PiaA * ((x1 * x2) / (2 * (1 - x0 - x2)))) +\n",
    "                 Sg(x0 + x2)**2 * (PiAA * ((x0 * (1 - x0 - x1 - x2)) / (2 * (x0 + x2)))) +\n",
    "                 Sg(x0 + x2) * (1 - Sg(x0 + x2)) * (PiAa * ((x0 * (1 - x0 - x1 - x2)) / (2 * (x0 + x2)))))  \n",
    "    x0_dot = (numerator / N(x0, x1, x2, SG, Sg, PiaA, PiAA, Piaa, PiAa)) - x0\n",
    "    return numerator #x0_dot\n"
   ]
  },
  {
   "cell_type": "code",
   "execution_count": 5,
   "metadata": {
    "collapsed": true
   },
   "outputs": [],
   "source": [
    "def equation_motion_GA_share(x0, x1, x2, SG, Sg, PiaA, PiAA, Piaa, PiAa):\n",
    "    numerator = (\n",
    "                 x0 * SG(x0 + x2)**2 * (1) * x0 / (x0 + x2) * 2*PiAA +\n",
    "                 x0 * SG(x0 + x2)**2 * (1/2) * x2 / (x0 + x2) * 2*PiAA +\n",
    "\n",
    "                 x0 * (1 - SG(x0 + x2))**2 * (1/2) * x1 / (1 - x0 - x2) * 2*Piaa +\n",
    "                 x0 * (1 - SG(x0 + x2))**2 * (1/4) * (1 - x0 - x1 - x2) / (1 - x0 - x2) * 2*Piaa +\n",
    "\n",
    "                 x0 * 2 * SG(x0 + x2) * (1 - SG(x0 + x2)) * (1) * x0 / (x0 + x2) * PiAa +\n",
    "                 x0 * 2 * SG(x0 + x2) * (1 - SG(x0 + x2)) * (1/2) * x2 / (x0 + x2) * PiAa +\n",
    "                 x0 * 2 * SG(x0 + x2) * (1 - SG(x0 + x2)) * (1/2) * x1 / (1 - x0 - x2) * PiaA +\n",
    "                 x0 * 2 * SG(x0 + x2) * (1 - SG(x0 + x2)) * (1/4) * (1 - x0 - x1 - x2) / (1 - x0 - x2) * PiaA +\n",
    "\n",
    "                 x1 * SG(x0 + x2)**2 * (1/2) * x0 / (x0 + x2) * 2*PiAA +\n",
    "                 x1 * SG(x0 + x2)**2 * (1/4) * x2 / (x0 + x2) * 2*PiAA +\n",
    "\n",
    "                 x1 * (1 - SG(x0 + x2))**2 * (0) +\n",
    "\n",
    "                 x1 * 2 * SG(x0 + x2) * (1 - SG(x0 + x2)) * (1/2) * x0 / (x0 + x2) * PiAa +\n",
    "                 x1 * 2 * SG(x0 + x2) * (1 - SG(x0 + x2)) * (1/4) * x2 / (x0 + x2) * PiAa +\n",
    "\n",
    "                 x2 * Sg(x0 + x2)**2 * (1/2) + x0 / (x0 + x2) * 2*PiAA +\n",
    "\n",
    "                 x2 * (1 - Sg(x0 + x2))**2 * (1/4) * x1 / (1 - x0 - x2) * 2* Piaa +\n",
    "\n",
    "                 x2 * 2 * Sg(x0 + x2) * (1 - Sg(x0 + x2)) * (1/2) * x0 / (x0 + x2) * PiAa +\n",
    "                 x2 * 2 * Sg(x0 + x2) * (1 - Sg(x0 + x2)) * (1/4) * x1 / (1 - x0 - x2) * PiaA +\n",
    "\n",
    "                 (1 - x0 - x1 - x2) * Sg(x0 + x2)**2 * (1/4) * x0 / (x0 + x2) * 2*PiAA +\n",
    "\n",
    "                 (1 - x0 - x1 - x2) * (1 - Sg(x0 + x2))**2 * (0) +\n",
    "\n",
    "                 (1 - x0 - x1 - x2) * 2 * Sg(x0 + x2) * (1 - Sg(x0 + x2)) * (1/4) * x0 / (x0 + x2) * PiAa\n",
    "                 )\n",
    "\n",
    "    x0_dot = (numerator / N(x0, x1, x2, SG, Sg, PiaA, PiAA, Piaa, PiAa)) - x0\n",
    "    return x0_dot\n",
    "\n",
    "def equation_motion_Ga_share(x0, x1, x2, SG, Sg, PiaA, PiAA, Piaa, PiAa):\n",
    "    numerator = (\n",
    "                 x0 * SG(x0 + x2)**2 * (0) +\n",
    "\n",
    "                 x0 * (1 - SG(x0 + x2))**2 * (1/2) * x1 / (1 - x0 - x2) * 2*Piaa +\n",
    "                 x0 * (1 - SG(x0 + x2))**2 * (1/4) * (1 - x0 - x1 - x2) / (1 - x0 - x2) * 2*Piaa +\n",
    "\n",
    "                 x0 * 2 * SG(x0 + x2) * (1 - SG(x0 + x2)) * (1/2) * x1 / (1 - x0 - x2) * PiaA +\n",
    "                 x0 * 2 * SG(x0 + x2) * (1 - SG(x0 + x2)) * (1/4) * (1 - x0 - x1 - x2) / (1 - x0 - x2) * PiaA +\n",
    "\n",
    "                 x1 * SG(x0 + x2)**2 * (1/2) * x0 / (x0 + x2) * 2*PiAA +\n",
    "                 x1 * SG(x0 + x2)**2 * (1/4) * x2 / (x0 + x2) * 2*PiAA +\n",
    "\n",
    "                 x1 * (1 - SG(x0 + x2))**2 * (1) * x1 / (1 - x0 - x2) * 2*Piaa +\n",
    "                 x1 * (1 - SG(x0 + x2))**2 * (1/2) * (1 - x0 - x1 - x2) / (1 - x0 - x2) * 2*Piaa +\n",
    "\n",
    "                 x1 * 2 * SG(x0 + x2) * (1 - SG(x0 + x2)) * (1/2) * x0 / (x0 + x2) * PiAa +\n",
    "                 x1 * 2 * SG(x0 + x2) * (1 - SG(x0 + x2)) * (1/4) * x2 / (x0 + x2) * PiAa +\n",
    "                 x1 * 2 * SG(x0 + x2) * (1 - SG(x0 + x2)) * (1) * x1 / (1 - x0 - x2) * PiaA +\n",
    "                 x1 * 2 * SG(x0 + x2) * (1 - SG(x0 + x2)) * (1/2) * (1 - x0 - x1 - x2) / (1 - x0 - x2) * PiaA +\n",
    "\n",
    "                 x2 * Sg(x0 + x2)**2 * (0) +\n",
    "\n",
    "                 x2 * (1 - Sg(x0 + x2))**2 * (1/4) * x1 / (1 - x0 - x2) * 2*Piaa +\n",
    "\n",
    "                 x2 * 2 * Sg(x0 + x2) * (1 - Sg(x0 + x2)) * (1/4) * x1 / (1 - x0 - x2) * PiaA +\n",
    "\n",
    "                 (1 - x0 - x1 - x2) * Sg(x0 + x2)**2 * (1/4) * x0 / (x0 + x2) * 2*PiAA +\n",
    "\n",
    "                 (1 - x0 - x1 - x2) * (1 - Sg(x0 + x2))**2 * (1/2) * x1 / (1 - x0 - x2) * 2*Piaa +\n",
    "\n",
    "                 (1 - x0 - x1 - x2) * 2 * Sg(x0 + x2) * (1 - Sg(x0 + x2)) * (1/4) * x0 / (x0 + x2) * PiAa +\n",
    "                 (1 - x0 - x1 - x2) * 2 * Sg(x0 + x2) * (1 - Sg(x0 + x2)) * (1/2) * x1 / (1 - x0 - x2) * PiaA\n",
    "\n",
    "                 )\n",
    "\n",
    "    x1_dot = (numerator / N(x0, x1, x2, SG, Sg, PiaA, PiAA, Piaa, PiAa)) - x1\n",
    "    return x1_dot\n",
    "\n",
    "\n",
    "\n",
    "def equation_motion_gA_share(x0, x1, x2, SG, Sg, PiaA, PiAA, Piaa, PiAa):\n",
    "    numerator = (\n",
    "                 x0 * SG(x0 + x2)**2 * (1/2) * x2 / (x0 + x2) * 2*PiAA +\n",
    "\n",
    "                 x0 * (1 - SG(x0 + x2))**2 * (1/4) * (1 - x0 - x1 - x2) / (1 - x0 - x2) * 2*Piaa +\n",
    "\n",
    "                 x0 * 2 * SG(x0 + x2) * (1 - SG(x0 + x2)) * (1/2) * x2 / (x0 + x2) * PiAa +\n",
    "                 x0 * 2 * SG(x0 + x2) * (1 - SG(x0 + x2)) * (1/4) * (1 - x0 - x1 - x2) / (1 - x0 - x2) * PiaA +\n",
    "\n",
    "                 x1 * SG(x0 + x2)**2 * (1/4) * x2 / (x0 + x2) * 2*PiAA +\n",
    "\n",
    "                 x1 * (1 - SG(x0 + x2))**2 * (0) +\n",
    "\n",
    "                 x1 * 2 * SG(x0 + x2) * (1 - SG(x0 + x2)) * (1/4) * x2 / (x0 + x2) * PiAa +\n",
    "\n",
    "                 x2 * Sg(x0 + x2)**2 * (1/2) + x0 / (x0 + x2) * 2*PiAA +\n",
    "                 x2 * Sg(x0 + x2)**2 * (1) + x2 / (x0 + x2) * 2*PiAA +\n",
    "\n",
    "                 x2 * (1 - Sg(x0 + x2))**2 * (1/4) * x1 / (1 - x0 - x2) * 2*Piaa +\n",
    "                 x2 * (1 - Sg(x0 + x2))**2 * (1/2) * (1 - x0 - x1 - x2) / (1 - x0 - x2) * 2*Piaa +\n",
    "\n",
    "                 x2 * 2 * Sg(x0 + x2) * (1 - Sg(x0 + x2)) * (1/2) * x0 / (x0 + x2) * PiAa +\n",
    "                 x2 * 2 * Sg(x0 + x2) * (1 - Sg(x0 + x2)) * (1) * x2 / (x0 + x2) * PiAa +\n",
    "                 x2 * 2 * Sg(x0 + x2) * (1 - Sg(x0 + x2)) * (1/4) * x1 / (1 - x0 - x2) * PiaA +\n",
    "                 x2 * 2 * Sg(x0 + x2) * (1 - Sg(x0 + x2)) * (1/2) * (1 - x0 - x1 - x2) / (1 - x0 - x2) * PiaA +\n",
    "\n",
    "                 (1 - x0 - x1 - x2) * Sg(x0 + x2)**2 * (1/4) * x0 / (x0 + x2) * 2*PiAA +\n",
    "                 (1 - x0 - x1 - x2) * Sg(x0 + x2)**2 * (1/2) * x2 / (x0 + x2) * 2*PiAA +\n",
    "\n",
    "                 (1 - x0 - x1 - x2) * (1 - Sg(x0 + x2))**2 * (0) +\n",
    "\n",
    "                 (1 - x0 - x1 - x2) * 2 * Sg(x0 + x2) * (1 - Sg(x0 + x2)) * (1/4) * x0 / (x0 + x2) * PiAa +\n",
    "                 (1 - x0 - x1 - x2) * 2 * Sg(x0 + x2) * (1 - Sg(x0 + x2)) * (1/2) * x2 / (x0 + x2) * PiAa\n",
    "\n",
    "                 )\n",
    "\n",
    "    x2_dot = (numerator / N(x0, x1, x2, SG, Sg, PiaA, PiAA, Piaa, PiAa)) - x2\n",
    "    return x2_dot\n",
    "\n",
    "\n",
    "def equation_motion_ga_share(x0, x1, x2, SG, Sg, PiaA, PiAA, Piaa, PiAa):\n",
    "    numerator = (\n",
    "                 x0 * SG(x0 + x2)**2 * (0) +\n",
    "\n",
    "                 x0 * (1 - SG(x0 + x2))**2 * (1/4) * (1 - x0 - x1 - x2) / (1 - x0 - x2) * 2*Piaa +\n",
    "\n",
    "                 x0 * 2 * SG(x0 + x2) * (1 - SG(x0 + x2)) * (1/4) * (1 - x0 - x1 - x2) / (1 - x0 - x2) * PiaA +\n",
    "\n",
    "                 x1 * SG(x0 + x2)**2 * (1/4) * x2 / (x0 + x2) * 2*PiAA +\n",
    "\n",
    "                 x1 * (1 - SG(x0 + x2))**2 * (1/2) * (1 - x0 - x1 - x2) / (1 - x0 - x2) * 2*Piaa +\n",
    "\n",
    "                 x1 * 2 * SG(x0 + x2) * (1 - SG(x0 + x2)) * (1/4) * x2 / (x0 + x2) * PiAa +\n",
    "                 x1 * 2 * SG(x0 + x2) * (1 - SG(x0 + x2)) * (1/2) * (1 - x0 - x1 - x2) / (1 - x0 - x2) * PiaA +\n",
    "\n",
    "                 x2 * Sg(x0 + x2)**2 * (0) +\n",
    "\n",
    "                 x2 * (1 - Sg(x0 + x2))**2 * (1/4) * x1 / (1 - x0 - x2) * 2*Piaa +\n",
    "                 x2 * (1 - Sg(x0 + x2))**2 * (1/2) * (1 - x0 - x1 - x2) / (1 - x0 - x2) * 2*Piaa +\n",
    "\n",
    "                 x2 * 2 * Sg(x0 + x2) * (1 - Sg(x0 + x2)) * (1/4) * x1 / (1 - x0 - x2) * PiaA +\n",
    "                 x2 * 2 * Sg(x0 + x2) * (1 - Sg(x0 + x2)) * (1/2) * (1 - x0 - x1 - x2) / (1 - x0 - x2) * PiaA +\n",
    "\n",
    "                 (1 - x0 - x1 - x2) * Sg(x0 + x2)**2 * (1/4) * x0 / (x0 + x2) * 2*PiAA +\n",
    "                 (1 - x0 - x1 - x2) * Sg(x0 + x2)**2 * (1/2) * x2 / (x0 + x2) * 2*PiAA +\n",
    "\n",
    "                 (1 - x0 - x1 - x2) * (1 - Sg(x0 + x2))**2 * (1/2) * x1 / (1 - x0 - x2) * 2*Piaa +\n",
    "                 (1 - x0 - x1 - x2) * (1 - Sg(x0 + x2))**2 * (1) *(1 - x0 - x1 - x2) / (1 - x0 - x2) * 2*Piaa +\n",
    "\n",
    "                 (1 - x0 - x1 - x2) * 2 * Sg(x0 + x2) * (1 - Sg(x0 + x2)) * (1/4) * x0 / (x0 + x2) * PiAa +\n",
    "                 (1 - x0 - x1 - x2) * 2 * Sg(x0 + x2) * (1 - Sg(x0 + x2)) * (1/2) * x2 / (x0 + x2) * PiAa +\n",
    "                 (1 - x0 - x1 - x2) * 2 * Sg(x0 + x2) * (1 - Sg(x0 + x2)) * (1/2) * x1 / (1 - x0 - x2) * PiaA +\n",
    "                 (1 - x0 - x1 - x2) * 2 * Sg(x0 + x2) * (1 - Sg(x0 + x2)) * (1) * (1 - x0 - x1 - x2) / (1 - x0 - x2) * PiaA\n",
    "                 )\n",
    "\n",
    "    x3_dot = (numerator / N(x0, x1, x2, SG, Sg, PiaA, PiAA, Piaa, PiAa)) - (1 - x0 - x1 - x2)\n",
    "    return x3_dot\n"
   ]
  },
  {
   "cell_type": "markdown",
   "metadata": {},
   "source": [
    "These limits should all be zero!"
   ]
  },
  {
   "cell_type": "code",
   "execution_count": 13,
   "metadata": {
    "collapsed": false
   },
   "outputs": [
    {
     "data": {
      "text/plain": [
       "1"
      ]
     },
     "execution_count": 13,
     "metadata": {},
     "output_type": "execute_result"
    }
   ],
   "source": [
    "sym.limit(equation_motion_GA_share(x0, 0, 0, SG, Sg, PiaA, PiAA, Piaa, PiAa), x0, 1)"
   ]
  },
  {
   "cell_type": "code",
   "execution_count": 14,
   "metadata": {
    "collapsed": false
   },
   "outputs": [
    {
     "data": {
      "text/plain": [
       "1/(2*Piaa)"
      ]
     },
     "execution_count": 14,
     "metadata": {},
     "output_type": "execute_result"
    }
   ],
   "source": [
    "sym.limit(equation_motion_GA_share(x0, 0, 0, SG, Sg, PiaA, PiAA, Piaa, PiAa), x0, 0)"
   ]
  },
  {
   "cell_type": "code",
   "execution_count": 15,
   "metadata": {
    "collapsed": false
   },
   "outputs": [
    {
     "data": {
      "text/plain": [
       "0"
      ]
     },
     "execution_count": 15,
     "metadata": {},
     "output_type": "execute_result"
    }
   ],
   "source": [
    "sym.limit(equation_motion_Ga_share(x0, 0, 0, SG, Sg, PiaA, PiAA, Piaa, PiAa), x0, 1)"
   ]
  },
  {
   "cell_type": "code",
   "execution_count": 16,
   "metadata": {
    "collapsed": false
   },
   "outputs": [
    {
     "data": {
      "text/plain": [
       "0"
      ]
     },
     "execution_count": 16,
     "metadata": {},
     "output_type": "execute_result"
    }
   ],
   "source": [
    "sym.limit(equation_motion_Ga_share(x0, 0, 0, SG, Sg, PiaA, PiAA, Piaa, PiAa), x0, 0)"
   ]
  },
  {
   "cell_type": "code",
   "execution_count": 17,
   "metadata": {
    "collapsed": false
   },
   "outputs": [
    {
     "data": {
      "text/plain": [
       "1"
      ]
     },
     "execution_count": 17,
     "metadata": {},
     "output_type": "execute_result"
    }
   ],
   "source": [
    "sym.limit(equation_motion_gA_share(x0, 0, 0, SG, Sg, PiaA, PiAA, Piaa, PiAa), x0, 1)"
   ]
  },
  {
   "cell_type": "code",
   "execution_count": 18,
   "metadata": {
    "collapsed": false
   },
   "outputs": [
    {
     "data": {
      "text/plain": [
       "1/(2*Piaa)"
      ]
     },
     "execution_count": 18,
     "metadata": {},
     "output_type": "execute_result"
    }
   ],
   "source": [
    "sym.limit(equation_motion_gA_share(x0, 0, 0, SG, Sg, PiaA, PiAA, Piaa, PiAa), x0, 0)"
   ]
  },
  {
   "cell_type": "code",
   "execution_count": 19,
   "metadata": {
    "collapsed": false
   },
   "outputs": [
    {
     "data": {
      "text/plain": [
       "0"
      ]
     },
     "execution_count": 19,
     "metadata": {},
     "output_type": "execute_result"
    }
   ],
   "source": [
    "sym.limit(equation_motion_ga_share(x0, 0, 0, SG, Sg, PiaA, PiAA, Piaa, PiAa), x0, 1)"
   ]
  },
  {
   "cell_type": "code",
   "execution_count": 20,
   "metadata": {
    "collapsed": false
   },
   "outputs": [
    {
     "data": {
      "text/plain": [
       "-1 + 1/(2*PiAA)"
      ]
     },
     "execution_count": 20,
     "metadata": {},
     "output_type": "execute_result"
    }
   ],
   "source": [
    "sym.limit(equation_motion_ga_share(x0, 0, 0, SG, Sg, PiaA, PiAA, Piaa, PiAa), x0, 0)"
   ]
  },
  {
   "cell_type": "code",
   "execution_count": null,
   "metadata": {
    "collapsed": true
   },
   "outputs": [],
   "source": []
  }
 ],
 "metadata": {
  "kernelspec": {
   "display_name": "Python 3",
   "language": "python",
   "name": "python3"
  },
  "language_info": {
   "codemirror_mode": {
    "name": "ipython",
    "version": 3
   },
   "file_extension": ".py",
   "mimetype": "text/x-python",
   "name": "python",
   "nbconvert_exporter": "python",
   "pygments_lexer": "ipython3",
   "version": "3.4.3"
  }
 },
 "nbformat": 4,
 "nbformat_minor": 0
}
